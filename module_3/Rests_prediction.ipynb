{
 "cells": [
  {
   "cell_type": "markdown",
   "metadata": {},
   "source": [
    "# Restaraunts Rating prediction"
   ]
  },
  {
   "cell_type": "markdown",
   "metadata": {},
   "source": [
    "Представьте, что вы работаете DS в компании TripAdvisor. Одна из проблем компании — это нечестные рестораны, которые накручивают себе рейтинг. Одним из способов нахождения таких ресторанов является построение модели, которая предсказывает рейтинг ресторана. Если предсказания модели сильно отличаются от фактического результата, то, возможно, ресторан играет нечестно, и его стоит проверить."
   ]
  },
  {
   "cell_type": "markdown",
   "metadata": {},
   "source": [
    "<img src=\"https://raw.githubusercontent.com/Deus99/skillfactory_rds/master/module_3/rest.jpg\"> "
   ]
  },
  {
   "cell_type": "markdown",
   "metadata": {},
   "source": [
    "# Библиотеки используемые в анализе"
   ]
  },
  {
   "cell_type": "code",
   "execution_count": 1,
   "metadata": {},
   "outputs": [],
   "source": [
    "import pandas as pd\n",
    "import numpy as np\n",
    "import matplotlib.pyplot as plt\n",
    "import seaborn as sns\n",
    "import re\n",
    "import warnings\n",
    "import requests\n",
    "import datetime as dt\n",
    "import sklearn\n",
    "import stanfordnlp\n",
    "import string\n",
    "\n",
    "from time import sleep\n",
    "from math import sqrt\n",
    "from math import exp\n",
    "from sklearn.model_selection import train_test_split\n",
    "from sklearn.ensemble import RandomForestRegressor\n",
    "from sklearn import metrics # инструменты для оценки точности модели"
   ]
  },
  {
   "cell_type": "code",
   "execution_count": 2,
   "metadata": {},
   "outputs": [],
   "source": [
    "pd.set_option('display.max_columns', 100)\n",
    "pd.set_option('display.max_rows', 100)\n",
    "pd.set_option('precision', 4)\n",
    "%matplotlib inline\n",
    "RANDOM_SEED = 42"
   ]
  },
  {
   "cell_type": "markdown",
   "metadata": {},
   "source": [
    "# Используемые функции"
   ]
  },
  {
   "cell_type": "markdown",
   "metadata": {},
   "source": [
    "### Классы"
   ]
  },
  {
   "cell_type": "code",
   "execution_count": 3,
   "metadata": {},
   "outputs": [],
   "source": [
    "class TripAdvisorParser:\n",
    "    \"\"\"Парсер для поиска пропущенных данных с сайта Tripadvisor.com\n",
    "    при создании класса передаем часть ссылки из столбца url_ta\n",
    "    после методов get_html(), prices_finder(), cuisine_finder()\n",
    "    можем получить значения цен и кухни для ДФ\n",
    "    price_range  - .price_range\n",
    "    cuisine_style - .cuisines - (прим. в виде строки)\n",
    "    \"\"\"\n",
    "    \n",
    "    def __init__(self, url):\n",
    "        self.url = 'http://www.tripadvisor.com' + url\n",
    "        self.html = self.get_html()\n",
    "        self.cuisines = ''\n",
    "        self.price_range = ''\n",
    "        \n",
    "    def get_html(self):\n",
    "        try:\n",
    "            result = requests.get(self.url)\n",
    "            result.raise_for_status()\n",
    "            return result.text\n",
    "        except(requests.RequestException, ValueError):\n",
    "            print('Server error')\n",
    "            return False\n",
    "    \n",
    "    def prices_finder(self):\n",
    "        pr = self.html.find(r'price_level')\n",
    "        if pr>0:\n",
    "            self.price_range = self.html[pr:pr+25].split(\":\")[1].split(',')[0].replace('\"','')\n",
    "    \n",
    "    def cuisine_finder(self):\n",
    "        cuisine_text = re.compile('cuisine\\\":\\[(.*?)\\]')\n",
    "        cuisine_name = re.findall(cuisine_text, self.html)\n",
    "        if len(cuisine_name)>0:\n",
    "            cuisine_name_list = re.compile('\\\"name\\\":\\\"[A-Za-z]*\\s?\\w*\\\"')\n",
    "            cuisines_raw = re.findall(cuisine_name_list, cuisine_name[0])\n",
    "            for cui in cuisines_raw:\n",
    "                if len(self.cuisines)>3:\n",
    "                    self.cuisines = self.cuisines + ', '\n",
    "                self.cuisines = self.cuisines + cui.split(':')[1].replace('\"','')\n"
   ]
  },
  {
   "cell_type": "code",
   "execution_count": 4,
   "metadata": {},
   "outputs": [],
   "source": [
    "class DataPrep:\n",
    "    \"\"\"\n",
    "    Подготовка данных для прогноза. Создает из датафрейма с текстовыми значениями\n",
    "    кодированные (типа get_dummies), заполняет пропуски, удаляет лишние столбцы. \n",
    "    \"\"\"\n",
    "    \n",
    "    def __init__(self, df):\n",
    "        self.data = df.copy()\n",
    "        #self.columns = columns\n",
    "        self.data['res_id'] = self.data['res_id'] + '_' + self.data['city']\n",
    "        self.data = self.data.set_index('res_id')\n",
    "        self.MAX_WORDS = 5\n",
    "    \n",
    "    def fill_na(self):\n",
    "        self.data['numbs_reviews'].fillna(0, inplace = True)\n",
    "    \n",
    "    def city_dums(self):\n",
    "        self.data = pd.get_dummies(self.data, columns =['city'])\n",
    "    \n",
    "    def cuis_dums(self):\n",
    "        self.data['cuisine_style'] = self.data['cuisine_style'].str.split(', ')\n",
    "        self.allcous = self.data.explode('cuisine_style').dropna().groupby(\n",
    "            'cuisine_style')['rating'].agg(['std', 'count']).query(\n",
    "            'std < 0.5 & std > 0')['count'].nlargest(self.MAX_WORDS).reset_index()\n",
    "        self.allcous_list = self.allcous['cuisine_style'].to_list()\n",
    "        self.allcius_set = set(self.allcous_list)\n",
    "        self.data.loc[~self.data.cuisine_style.isna(), 'cuisine_style'] = self.data.loc[\n",
    "            ~self.data.cuisine_style.isna(), 'cuisine_style'].apply(\n",
    "            lambda x: set(x)&self.allcius_set).self.data.loc[~self.data.cuisine_style.isna(\n",
    "        ), 'cuisine_style'] = self.data.loc[~self.data.cuisine_style.isna(\n",
    "        ), 'cuisine_style'].apply(lambda x: list(x))\n",
    "        self.cuisines = self.data['cuisine_style'].explode()\n",
    "        self.cuisines = pd.get_dummies(self.cuisines, \n",
    "                                       columns = ['cuisine_style'], dummy_na=True)\n",
    "        self.cuisines = self.cuisines.groupby('res_id').sum()\n",
    "        self.data = self.data.join(self.cuisines)\n",
    "    \n",
    "    def nouns_add(self):\n",
    "        self.data['nouns'] = self.data['nouns'].str.split(' ')\n",
    "        self.allnouns = self.data.explode('nouns').dropna(\n",
    "        ).groupby('nouns')['rating'].agg(['std', 'count']).query(\n",
    "            'std < 0.5 & std > 0')['count'].nlargest(self.MAX_WORDS).reset_index()\n",
    "        self.allnouns_list = self.allnouns['nouns'].to_list()\n",
    "        for word in self.allnouns_list:\n",
    "            if len(word)<3: \n",
    "                self.allnouns_list.remove(word)\n",
    "        self.allnouns_set = set(self.allnouns_list)\n",
    "        self.data.loc[~self.data.nouns.isna(), 'nouns'] = self.data.loc[~self.data.nouns.isna(\n",
    "        ), 'nouns'].apply(lambda x: set(x)&self.allnouns_set)\n",
    "        self.data.loc[~self.data.nouns.isna(), 'nouns'] = self.data.loc[~self.data.nouns.isna(\n",
    "        ), 'nouns'].apply(lambda x: list(x))\n",
    "        self.nouns = self.data['nouns'].explode()\n",
    "        self.nouns = pd.get_dummies(self.nouns, columns=['nouns'], dummy_na = True, prefix='noun')\n",
    "        self.nouns = self.nouns.groupby('res_id').sum()\n",
    "        self.data = self.data.join(self.nouns)\n",
    "\n",
    "    def adjs_add(self):\n",
    "        self.data['adjs'] = self.data['adjs'].str.split(' ')\n",
    "        self.alladjs = self.data.explode('adjs').dropna().groupby('adjs')['rating'].agg(['std', 'count'])\\\n",
    "        .query('std < 0.5 & std > 0')['count'].nlargest(self.MAX_WORDS).reset_index()          \n",
    "        self.alladjs_list = self.alladjs['adjs'].to_list()\n",
    "        for word in self.alladjs_list:\n",
    "            if len(word)<3: \n",
    "                self.alladjs_list.remove(word)\n",
    "        self.alladjs_set = set(self.alladjs_list)\n",
    "        self.data.loc[~self.data.adjs.isna(), 'adjs'] = self.data.loc[~self.data.adjs.isna(\n",
    "        ), 'adjs'].apply(lambda x: set(x)&self.alladjs_set)\n",
    "        self.data.loc[~self.data.adjs.isna(), 'adjs'] = self.data.loc[~self.data.adjs.isna(\n",
    "        ), 'adjs'].apply(lambda x: list(x))\n",
    "        self.adjs = self.data['adjs'].explode()\n",
    "        self.adjs = pd.get_dummies(self.adjs, columns=['adjs'], dummy_na = True, prefix='adj')\n",
    "        self.adjs = self.adjs.groupby('res_id').sum()\n",
    "        self.data = self.data.join(self.adjs)\n",
    "        \n",
    "    def price_fill(self):\n",
    "        self.data.price_range = self.data.price_range.replace([\"$\",\"$$ - $$$\", \"$$$$\"],[1, 2, 3])\n",
    "        self.data.price_range.fillna(0, inplace=True)\n",
    "    \n",
    "    def drops(self):\n",
    "        self.data.drop(['id_ta', 'reviews', 'url_ta', 'words', 'date_prev', 'date_last',\n",
    "                        'cuisine_style', 'adjs', 'nouns'], axis =1, inplace = True)\n",
    "    \n",
    "    def prepare_all(self):\n",
    "        self.cuis_dums()\n",
    "        self.city_dums()\n",
    "        self.nouns_add()\n",
    "        self.adjs_add()\n",
    "        self.price_fill()\n",
    "        self.fill_na()\n",
    "        self.drops()\n",
    "        print(\"созданы get_dummies для городов\")\n",
    "        print(\"созданы get_dummies для видов кухни\")\n",
    "        print(\"созданы get_dummies для существительных и прилагательных\")\n",
    "        print(\"price_range приведен к числовому виду\")\n",
    "        print(\"остальные NaN заменены на 0\")\n",
    "        return self.data\n"
   ]
  },
  {
   "cell_type": "code",
   "execution_count": 5,
   "metadata": {},
   "outputs": [],
   "source": [
    "class ReviewsSplit():\n",
    "    \"\"\"\n",
    "    Класс и методы для подготовки столбца Reviews. \n",
    "    Разделение текста и даты по столбцам\n",
    "    Приведение столбца даты к формату dt и расчет timedelta\n",
    "    Разделение существительных и прилагательных, приведение к инфинитиву.\n",
    "    Заполнение пробелов в столбце cuisine_style и price_range на основе слов.\n",
    "    \"\"\"\n",
    "    \n",
    "    def __init__(self, df, column):\n",
    "        self.data = df.copy()\n",
    "        self.column = self.data[column]\n",
    "        self.cuisines = []\n",
    "        self.column = self.column.fillna('no')\n",
    "        self.column = self.column.apply(lambda x: x.lower())\n",
    "        word = re.compile('[a-zA-Z]+')\n",
    "        self.data['words'] = self.column.apply(lambda x: re.findall(word, x))\n",
    "    \n",
    "    def date_split(self):\n",
    "        date = re.compile('\\d{2}\\/\\d{2}\\/\\d{4}')\n",
    "        self.data[['date_last', 'date_prev']] = self.column.apply(\n",
    "            lambda x: re.findall(date, x)).apply(lambda x: pd.Series(str(x).split(', ')))\n",
    "        self.data['date_last'] = self.data['date_last'].apply(lambda x: str(x)[2:-1])\n",
    "        self.data['date_prev'] = self.data['date_prev'].apply(lambda x: str(x)[1:-2])\n",
    "        self.data['date_last'] = pd.to_datetime(self.data['date_last'])\n",
    "        self.data['date_prev'] = pd.to_datetime(self.data['date_prev'])\n",
    "        a = np.array(self.data['date_last'])\n",
    "        b = np.array(self.data['date_prev'])\n",
    "        c = np.array([a, b])\n",
    "        c.T.sort()\n",
    "        self.data['date_prev'] = c[0]\n",
    "        self.data['date_last'] = c[1]\n",
    "    \n",
    "    def words_split(self):\n",
    "        word = re.compile('[a-zA-Z]+')\n",
    "        self.data['words'] = self.column.apply(lambda x: re.findall(word, x))\n",
    "        self.data['words'] = self.data['words'].apply(lambda x: set(x))\n",
    "    \n",
    "    def cuisines_extra(self):\n",
    "        self.cuisines = self.data.dropna()['cuisine_style'].str.split(', ').explode().to_list()\n",
    "        self.cuisines = set(self.cuisines)\n",
    "        self.data['cuisine_extra'] = self.data['words'].apply(lambda x: x&self.cuisines)\n",
    "        self.data['cuisine_extra'] = self.data['cuisine_extra'].astype(str)\n",
    "        self.data['cuisine_extra'] = self.data['cuisine_extra'].replace('set()', np.nan)\n",
    "        self.data.loc[~self.data.cuisine_extra.isna(), 'cuisine_extra'] = self.data.loc[\n",
    "            ~self.data.cuisine_extra.isna(), 'cuisine_extra'].apply(\n",
    "            lambda x: str(x)[1:-1].replace(\"'\", \"\"))\n",
    "        self.data['cuisine_style'] = self.data['cuisine_style'].fillna(self.data['cuisine_extra'])\n",
    "        return self.cuisines\n",
    "    \n",
    "    def split_and_explode(self):\n",
    "        self.date_split()\n",
    "        self.words_split()\n",
    "        self.cuisines_extra()\n",
    "        return self.data\n",
    "    "
   ]
  },
  {
   "cell_type": "markdown",
   "metadata": {},
   "source": [
    "### Используемые функции"
   ]
  },
  {
   "cell_type": "code",
   "execution_count": 6,
   "metadata": {},
   "outputs": [],
   "source": [
    "def fill_ta(row):\n",
    "    \"\"\"Парсинга сайта TripAdvisor.com,\n",
    "    для поиска значений для кухни и цен.\n",
    "    \"\"\"\n",
    "    url_ta = row['url_ta']\n",
    "    data = TripAdvisorParser(url_ta)\n",
    "    data.get_html()\n",
    "    data.prices_finder()\n",
    "    data.cuisine_finder()\n",
    "    #print(data.cuisines)\n",
    "    #print(data.price_range)\n",
    "    #if row['cuisine_style'].isnull().values.any():\n",
    "    if data.cuisines != '':\n",
    "        row['cuisine_style'] = data.cuisines\n",
    "    #if row['price_range'].isnull().values.any():\n",
    "    if data.price_range != '':\n",
    "        row['price_range'] = data.price_range\n",
    "    sleep(0.25)\n",
    "    return row\n",
    "\n",
    "def parsed_to_file(df, filename):\n",
    "    \"\"\"\n",
    "    Загрузка файла с заполнеными пропусками с сайта TripAdvisor.com\n",
    "    или запуск парсинга. \n",
    "    Прим. Процесс парсинга занимает продолжительное время. \n",
    "    \"\"\"\n",
    "    filename = filename + '_parsed.csv'\n",
    "    try:\n",
    "        df = pd.read_csv(filename)\n",
    "    except (FileNotFoundError) :\n",
    "        print(\"Start parsing...\")        \n",
    "        rs_filter = df.cuisine_style.isna() | df.price_range.isna()\n",
    "        df.loc[rs_filter] = df.loc[rs_filter].apply(fill_ta, axis=1)\n",
    "        df.to_csv(filename, na_rep=\"\", index = False)\n",
    "    return df\n",
    "\n",
    "def words_select(row):\n",
    "    \"\"\"\n",
    "    Разбивает слова из отзыва на существительные и прилагательные.\n",
    "    Из прилагательных убирает название стилей кухни (напр. russian)\n",
    "    \"\"\"\n",
    "    nlp = stanfordnlp.Pipeline(use_gpu = True)\n",
    "    doc = nlp(row.words.translate(str.maketrans('', '', string.punctuation)))\n",
    "    adjs = ''\n",
    "    nouns = ''\n",
    "    if len(doc.sentences) > 0:\n",
    "        for word in doc.sentences[0].words:\n",
    "            if (word.upos == 'ADJ') and (word.lemma not in cuisines):\n",
    "                adjs = adjs + ' ' + word.lemma\n",
    "            if (word.upos == 'NOUN') and (word.lemma not in cuisines):\n",
    "                nouns = nouns + ' ' + word.lemma  \n",
    "    row['adjs']=str(adjs)\n",
    "    row['nouns']=str(nouns)\n",
    "    return row\n",
    "\n",
    "def data_add(df, column):\n",
    "    \"\"\"\n",
    "    Добавляет столбец из таблицы excel, которые загружены с сайта eurostat\n",
    "    название столбцы должно совпадать с названием файла. \n",
    "    Edinburg необходимо добавить вручную, Шотландии нет =(\n",
    "    \"\"\"\n",
    "    column = column\n",
    "    filename = str(column) +\".xls\"\n",
    "    \n",
    "    # написание городов отличается\n",
    "    cities_names={\n",
    "        'Milano': 'Milan',\n",
    "        'München': 'Munich',\n",
    "        'Porto': 'Oporto',\n",
    "        'Roma': 'Rome',\n",
    "        'Wien': 'Vienna',\n",
    "        'Warszawa': 'Warsaw',\n",
    "        'Zürich': 'Zurich',\n",
    "        'Praha': 'Prague',\n",
    "        'Greater Amsterdam': 'Amsterdam',\n",
    "        'Athina': 'Athens',\n",
    "        'Helsinki / Helsingfors': 'Helsinki',\n",
    "        'Genève': 'Geneva',\n",
    "        'Lisboa': 'Lisbon',\n",
    "        'Kraków': 'Krakow',\n",
    "        'København': 'Copenhagen'}\n",
    "    \n",
    "    data = pd.read_excel(filename, skiprows=8)\n",
    "    data.rename(columns = {'CITIES/TIME': 'city'}, inplace=True)\n",
    "    data['city'] = data['city'].str.replace(' \\(greater city\\)','')\n",
    "    data.drop_duplicates(subset=['city'], inplace = True)\n",
    "\n",
    "    # За основу берется 2018 год, пропуски заполняются из других столбцов с годами\n",
    "    years = data.columns\n",
    "    years = years.drop(['city', '2018']).to_list()\n",
    "    years.reverse()\n",
    "\n",
    "    for year in years:\n",
    "        data['2018'].fillna(data[year], inplace=True)\n",
    "\n",
    "    data.replace({'city': cities_names}, inplace=True)\n",
    "    data.drop(['2010','2011', '2012', '2013', '2014', '2015', \n",
    "                 '2016', '2017', '2019'], axis=1, inplace=True)\n",
    "    df = df.merge(data, how=\"left\")\n",
    "    df.rename(columns={'2018': column}, inplace=True)\n",
    "    df[column] = df[column].astype(int)\n",
    "    return df\n",
    "\n",
    "def iqr_test(column, lim_a, lim_b):\n",
    "    \"\"\"\n",
    "    Функция определения медианы, квантилей 25%/75% и \n",
    "    границы выбросов для данного сталбцы \n",
    "    lim_a lim_b - пределы для построенния гистограммы\n",
    "    \"\"\"\n",
    "    median = ms[column].median()\n",
    "    IQR = ms[column].quantile(0.75) - ms[column].quantile(0.25)\n",
    "    perc25 = ms[column].quantile(0.25)\n",
    "    perc75 = ms[column].quantile(0.75)\n",
    "    print('25-й перцентиль: {},'.format(perc25), \n",
    "          '75-й перцентиль: {},'.format(perc75), \n",
    "          \"IQR: {}, \".format(IQR),\n",
    "          \"Границы выбросов: [{f}, {l}].\"\n",
    "          .format(f=perc25 - 1.5*IQR, l=perc75 + 1.5*IQR))\n",
    "    ms[column].loc[ms[column].between(perc25 - 1.5*IQR, perc75 + 1.5*IQR)].\\\n",
    "    hist(bins=8, range=(lim_a, lim_b), label='IQR')\n",
    "\n",
    "def to_mill(value):\n",
    "    \"\"\"\n",
    "    Преобразует значения в миллионы и округляет\n",
    "    \"\"\"\n",
    "    value = round(value/10**6, 2)\n",
    "    return value\n",
    "\n",
    "def fill_dates(dataframe):\n",
    "    \"\"\"\n",
    "    Заполняет последний отзыв - предыдущим, если отзыв один\n",
    "    остальные заполняет средним\n",
    "    создает столбец date_last_delta - время отзыва относительно самого старого в ДФ.\n",
    "    \"\"\"\n",
    "    dataframe.date_last = dataframe.date_last.fillna(dataframe.date_prev)\n",
    "    dl_mean = dataframe['date_last'].mean()\n",
    "    dt_mean = dataframe['date_prev'].mean()\n",
    "    dataframe['date_last'] = dataframe['date_last'].fillna(dl_mean)\n",
    "    dataframe['date_prev'] = dataframe['date_prev'].fillna(dt_mean)\n",
    "    dataframe['timedelta'] = dataframe['date_last'] - dataframe['date_prev']\n",
    "    data_max = dataframe['date_last'].max()\n",
    "    dataframe['date_last_delta'] = data_max - dataframe['date_last']\n",
    "    dataframe['date_last_delta'].dt.days\n",
    "    dataframe['date_last_delta'] = dataframe['date_last_delta'].apply(lambda x: x.days)\n",
    "    dataframe['timedelta'] = dataframe['timedelta'].apply(lambda x: x.days)\n",
    "    return dataframe\n",
    "\n",
    "native_cousine = {'Amsterdam': 'dutch', 'Athens': 'greek', 'Barcelona': 'spanish', \n",
    "                  'Berlin': 'german', 'Brussels': 'belgian', 'Budapest': 'hungarian', \n",
    "                  'Copenhagen': 'danish', 'Dublin': 'irish', 'Edinburg': 'scottish', \n",
    "                  'Geneva': 'swiss', 'Hamburg': 'german', 'Krakow': 'polish', \n",
    "                  'Lisnon': 'portuguese', 'Ljubljana': 'slovenian', 'London': 'british',\n",
    "                  'Lyon': 'french', 'Madrid': 'spanish', 'Milan': 'italian', \n",
    "                  'Munich': 'german', 'Oporto': 'portuguese', 'Oslo': 'norwegian',\n",
    "                 'Paris': 'french', 'Prague': 'czech', 'Rome': 'italian',\n",
    "                 'Stockholm': 'swedish', 'Vienna': 'austrian', 'Warsaw': 'polish',\n",
    "                 'Zurich': 'swiss'}\n",
    "\n",
    "def native_fill(row):\n",
    "    \"\"\"\n",
    "    создает столбец для домашней кухни данной страны\n",
    "    \"\"\"\n",
    "    if str(row['native']) in str(row['cuisine_style']):\n",
    "        row['native_yn'] = 1\n",
    "    else:\n",
    "        row['native_yn'] = 0\n",
    "    return row"
   ]
  },
  {
   "cell_type": "markdown",
   "metadata": {},
   "source": [
    "## Функции для визуализации"
   ]
  },
  {
   "cell_type": "code",
   "execution_count": 7,
   "metadata": {},
   "outputs": [],
   "source": [
    "def viz_beforeafter(df, params):\n",
    "    \"\"\"\n",
    "    Сравнивает столбцы ДО/ПОСЛЕ в датафрейме, строит диаграмму\n",
    "    df - датафрейм\n",
    "    params - словарь параметров\n",
    "    {\n",
    "    'labels': список значение, можно заменить df.index(), \n",
    "    'col_bf': столбец с предыдущими значениями \n",
    "    'col_af': столбец с последними значениями\n",
    "    'ylab': подпись по оси Y\n",
    "    'title': название\n",
    "    }\n",
    "    \"\"\"\n",
    "    \n",
    "    plt.rcParams['font.size'] = 12\n",
    "    plt.rcParams['figure.figsize'] = (9,6)\n",
    "    labels = params['labels']\n",
    "    ta_before = df[params['col_bf']].to_list()\n",
    "    ta_after = df[params['col_af']].to_list()\n",
    "\n",
    "    x = np.arange(len(labels))  # the label locations\n",
    "    width = 0.35  # the width of the bars\n",
    "\n",
    "    fig, ax = plt.subplots()\n",
    "    rects1 = ax.bar(x - width/2, ta_before, width, label='before')\n",
    "    rects2 = ax.bar(x + width/2, ta_after, width, label='after')\n",
    "\n",
    "    # Add some text for labels, title and custom x-axis tick labels, etc.\n",
    "    ax.set_ylabel(params['ylab'])\n",
    "    ax.set_title(params['title'])\n",
    "    ax.set_ylim(0, 16000)\n",
    "    ax.set_xticks(x)\n",
    "    ax.set_xticklabels(labels)\n",
    "    ax.legend()\n",
    "    \n",
    "    def autolabel(rects):\n",
    "        \"\"\"Attach a text label above each bar in *rects*, displaying its height.\"\"\"\n",
    "        for rect in rects:\n",
    "            height = rect.get_height()\n",
    "            ax.annotate('{}'.format(height),\n",
    "                    xy=(rect.get_x() + rect.get_width() / 2, height),\n",
    "                    xytext=(0, 3),  # 3 points vertical offset\n",
    "                    textcoords=\"offset points\",\n",
    "                    ha='center', va='bottom')\n",
    "\n",
    "\n",
    "    autolabel(rects1)\n",
    "    autolabel(rects2)\n",
    "\n",
    "    fig.tight_layout()\n",
    "\n",
    "    plt.show()\n",
    "\n",
    "    \n",
    "def viz_gp(df, col_gp, col_arg, title, mill=False, rn=False):\n",
    "    \"\"\"\n",
    "    Группирует и показывает среднее значение\n",
    "    Преобразует в миллионы и округляет (по умолчанию - нет)\n",
    "    df - датафрейм, col_gp - столбец для группировки, col_arg - столбец с аргументами\n",
    "    mill - преобразовать в миллионы (False по умолчанию), \n",
    "    rn - округлить до 2х знаков (False по умолчанию)\n",
    "    \"\"\"\n",
    "    values_grp = df.groupby(col_gp)[col_arg].agg('mean').sort_values(ascending=True)\n",
    "    \n",
    "    if mill: values_grp = to_mill(values_grp)\n",
    "    if rn: values_grp = round(values_grp, 2)\n",
    "        \n",
    "    fig, ax = plt.subplots()\n",
    "    plt.figure \n",
    "    plt.rcParams['figure.figsize'] = (12,12)\n",
    "    \n",
    "    ax = values_grp.plot(kind='barh', title = title)\n",
    "    ax.set_xlim(0, values_grp.max()*1.15)\n",
    "    \n",
    "    for i, v in enumerate(values_grp):\n",
    "        plt.text(v, i, \" \"+str(v), va='center')\n",
    "    \n",
    "    plt.show()   \n",
    "    \n",
    "\n",
    "def viz_gph(df, col_gp, col_arg, title, sort_by_index = False, mill=False, rn=False, acc=2):\n",
    "    \"\"\"\n",
    "    Группирует и показывает среднее значение, вертикальные столбцы\n",
    "    Преобразует в миллионы и округляет (по умолчанию - нет)\n",
    "    df - датафрейм, col_gp - столбец для группировки, col_arg - столбец с аргументами\n",
    "    mill - преобразовать в миллионы (False по умолчанию), \n",
    "    rn - округлить до 2х знаков (False по умолчанию)\n",
    "    \"\"\"\n",
    "    values_grp = df.groupby(col_gp)[col_arg].agg('mean').sort_values(ascending=True)\n",
    "    \n",
    "    if sort_by_index: values_grp = values_grp.sort_index()\n",
    "    if mill: values_grp = to_mill(values_grp)\n",
    "    if rn: values_grp = round(values_grp, acc)\n",
    "    \n",
    "    fig, ax = plt.subplots()\n",
    "    plt.figure \n",
    "    plt.rcParams['figure.figsize'] = (12,12)\n",
    "    ax = values_grp.plot(kind='bar', title = title)\n",
    "    ax.set_ylim(0, values_grp.max()*1.15)\n",
    "    \n",
    "    for i, v in enumerate(values_grp):\n",
    "        plt.text(i, v+(values_grp.max()/100), \"\"+str(v), ha='center')\n",
    "    \n",
    "    plt.show()   \n",
    "\n",
    "    \n",
    "\n",
    "def viz_counter_barh(df, column, title, max_values=0):\n",
    "    \"\"\"\n",
    "    Визуализация количества значений в ДФ, Value_counts, \n",
    "    горизонтальные столбцы\n",
    "    df - датафрейм, column - столбец, title - подпись\n",
    "    max_values - максимальное количество значений для отображения, 0 - все\n",
    "    \"\"\"\n",
    "    if max_values >0:\n",
    "        col_values = df[column].value_counts().nlargest(max_values).sort_values(ascending=True)\n",
    "    else:\n",
    "        col_values = df[column].value_counts(ascending=True)\n",
    "    \n",
    "    fig, ax = plt.subplots()\n",
    "    plt.rcParams['figure.figsize'] = (12,12)\n",
    "    plt.figure \n",
    "    ax = col_values.plot(kind='barh', title = title)\n",
    "    ax.set_xlim(0, col_values.max()*1.15)\n",
    "    \n",
    "    for i, v in enumerate(col_values):\n",
    "        plt.text(v, i, \" \"+str(v), va='center')\n",
    "    \n",
    "    plt.show()\n",
    "\n",
    "def viz_counter_bar(df, column, title, max_values=0, sort_by_index=False, dollars=False):\n",
    "    \"\"\"\n",
    "    Визуализация количества значений в ДФ, Value_counts, \n",
    "    горизонтальные столбцы\n",
    "    df - датафрейм, column - столбец, title - подпись\n",
    "    max_values - максимальное количество значений для отображения, 0 - все\n",
    "    sort_by_index - сортирует по индексам, а не значениям\n",
    "    dollars - отображает подписи с $$ для price_range\n",
    "    \"\"\"\n",
    "    if max_values >0:\n",
    "        col_values = df[column].value_counts().nlargest(max_values).sort_values(ascending=True)\n",
    "    else:\n",
    "        col_values = df[column].value_counts(ascending=True)\n",
    "    \n",
    "    if sort_by_index: col_values = col_values.sort_index()\n",
    "    \n",
    "    fig, ax = plt.subplots()\n",
    "    plt.rcParams['figure.figsize'] = (10,10)\n",
    "    plt.figure \n",
    "    ax = col_values.plot(kind='bar', title = title)\n",
    "    \n",
    "    if dollars: ax.set_xticklabels(('\\$', '\\$\\$ - \\$\\$\\$', '\\$\\$\\$\\$'), rotation='horizontal')\n",
    "    \n",
    "    ax.set_ylim(0, col_values.max()*1.15)\n",
    "    for i, v in enumerate(col_values):\n",
    "        plt.text(i, v+(col_values.max()/100), \"\"+str(v), ha='center')\n",
    "    \n",
    "    plt.show()\n",
    "    \n",
    "    "
   ]
  },
  {
   "cell_type": "markdown",
   "metadata": {},
   "source": [
    "# Загрузка данных"
   ]
  },
  {
   "cell_type": "code",
   "execution_count": 8,
   "metadata": {},
   "outputs": [
    {
     "data": {
      "text/html": [
       "<div>\n",
       "<style scoped>\n",
       "    .dataframe tbody tr th:only-of-type {\n",
       "        vertical-align: middle;\n",
       "    }\n",
       "\n",
       "    .dataframe tbody tr th {\n",
       "        vertical-align: top;\n",
       "    }\n",
       "\n",
       "    .dataframe thead th {\n",
       "        text-align: right;\n",
       "    }\n",
       "</style>\n",
       "<table border=\"1\" class=\"dataframe\">\n",
       "  <thead>\n",
       "    <tr style=\"text-align: right;\">\n",
       "      <th></th>\n",
       "      <th>Restaurant_id</th>\n",
       "      <th>City</th>\n",
       "      <th>Cuisine Style</th>\n",
       "      <th>Ranking</th>\n",
       "      <th>Price Range</th>\n",
       "      <th>Number of Reviews</th>\n",
       "      <th>Reviews</th>\n",
       "      <th>URL_TA</th>\n",
       "      <th>ID_TA</th>\n",
       "    </tr>\n",
       "  </thead>\n",
       "  <tbody>\n",
       "    <tr>\n",
       "      <th>4206</th>\n",
       "      <td>id_4206</td>\n",
       "      <td>Munich</td>\n",
       "      <td>['Turkish']</td>\n",
       "      <td>1511.0</td>\n",
       "      <td>NaN</td>\n",
       "      <td>3.0</td>\n",
       "      <td>[[], []]</td>\n",
       "      <td>/Restaurant_Review-g187309-d4047682-Reviews-Al...</td>\n",
       "      <td>d4047682</td>\n",
       "    </tr>\n",
       "    <tr>\n",
       "      <th>7856</th>\n",
       "      <td>id_7856</td>\n",
       "      <td>Berlin</td>\n",
       "      <td>NaN</td>\n",
       "      <td>4047.0</td>\n",
       "      <td>NaN</td>\n",
       "      <td>4.0</td>\n",
       "      <td>[['Gets better and better!', 'Container coffee...</td>\n",
       "      <td>/Restaurant_Review-g187323-d8430358-Reviews-Ca...</td>\n",
       "      <td>d8430358</td>\n",
       "    </tr>\n",
       "    <tr>\n",
       "      <th>3577</th>\n",
       "      <td>id_3577</td>\n",
       "      <td>Rome</td>\n",
       "      <td>['American']</td>\n",
       "      <td>3441.0</td>\n",
       "      <td>NaN</td>\n",
       "      <td>37.0</td>\n",
       "      <td>[[], []]</td>\n",
       "      <td>/Restaurant_Review-g187791-d8751999-Reviews-Vt...</td>\n",
       "      <td>d8751999</td>\n",
       "    </tr>\n",
       "  </tbody>\n",
       "</table>\n",
       "</div>"
      ],
      "text/plain": [
       "     Restaurant_id    City Cuisine Style  Ranking Price Range  \\\n",
       "4206       id_4206  Munich   ['Turkish']   1511.0         NaN   \n",
       "7856       id_7856  Berlin           NaN   4047.0         NaN   \n",
       "3577       id_3577    Rome  ['American']   3441.0         NaN   \n",
       "\n",
       "      Number of Reviews                                            Reviews  \\\n",
       "4206                3.0                                           [[], []]   \n",
       "7856                4.0  [['Gets better and better!', 'Container coffee...   \n",
       "3577               37.0                                           [[], []]   \n",
       "\n",
       "                                                 URL_TA     ID_TA  \n",
       "4206  /Restaurant_Review-g187309-d4047682-Reviews-Al...  d4047682  \n",
       "7856  /Restaurant_Review-g187323-d8430358-Reviews-Ca...  d8430358  \n",
       "3577  /Restaurant_Review-g187791-d8751999-Reviews-Vt...  d8751999  "
      ]
     },
     "execution_count": 8,
     "metadata": {},
     "output_type": "execute_result"
    }
   ],
   "source": [
    "df = pd.read_csv(\"main_task.xls\")\n",
    "df_test = pd.read_csv(\"kaggle_task.csv\")\n",
    "df_test.sample(3)"
   ]
  },
  {
   "cell_type": "code",
   "execution_count": 9,
   "metadata": {},
   "outputs": [],
   "source": [
    "#Переименуем столбцы\n",
    "df.columns = ['res_id', 'city', 'cuisine_style', 'ranking', 'rating', \n",
    "              'price_range', 'numbs_reviews', 'reviews', 'url_ta', 'id_ta']\n",
    "df_test.columns = ['res_id', 'city', 'cuisine_style', 'ranking', \n",
    "              'price_range', 'numbs_reviews', 'reviews', 'url_ta', 'id_ta']"
   ]
  },
  {
   "cell_type": "markdown",
   "metadata": {},
   "source": [
    "## Оценка уникальных значений и типов переменных в датафрейме"
   ]
  },
  {
   "cell_type": "code",
   "execution_count": 10,
   "metadata": {},
   "outputs": [
    {
     "data": {
      "text/html": [
       "<div>\n",
       "<style scoped>\n",
       "    .dataframe tbody tr th:only-of-type {\n",
       "        vertical-align: middle;\n",
       "    }\n",
       "\n",
       "    .dataframe tbody tr th {\n",
       "        vertical-align: top;\n",
       "    }\n",
       "\n",
       "    .dataframe thead th {\n",
       "        text-align: right;\n",
       "    }\n",
       "</style>\n",
       "<table border=\"1\" class=\"dataframe\">\n",
       "  <thead>\n",
       "    <tr style=\"text-align: right;\">\n",
       "      <th></th>\n",
       "      <th>count</th>\n",
       "      <th>unique</th>\n",
       "      <th>top</th>\n",
       "      <th>freq</th>\n",
       "      <th>mean</th>\n",
       "      <th>std</th>\n",
       "      <th>min</th>\n",
       "      <th>25%</th>\n",
       "      <th>50%</th>\n",
       "      <th>75%</th>\n",
       "      <th>max</th>\n",
       "    </tr>\n",
       "  </thead>\n",
       "  <tbody>\n",
       "    <tr>\n",
       "      <th>res_id</th>\n",
       "      <td>40000</td>\n",
       "      <td>11909</td>\n",
       "      <td>id_871</td>\n",
       "      <td>18</td>\n",
       "      <td>NaN</td>\n",
       "      <td>NaN</td>\n",
       "      <td>NaN</td>\n",
       "      <td>NaN</td>\n",
       "      <td>NaN</td>\n",
       "      <td>NaN</td>\n",
       "      <td>NaN</td>\n",
       "    </tr>\n",
       "    <tr>\n",
       "      <th>city</th>\n",
       "      <td>40000</td>\n",
       "      <td>31</td>\n",
       "      <td>London</td>\n",
       "      <td>5757</td>\n",
       "      <td>NaN</td>\n",
       "      <td>NaN</td>\n",
       "      <td>NaN</td>\n",
       "      <td>NaN</td>\n",
       "      <td>NaN</td>\n",
       "      <td>NaN</td>\n",
       "      <td>NaN</td>\n",
       "    </tr>\n",
       "    <tr>\n",
       "      <th>cuisine_style</th>\n",
       "      <td>30717</td>\n",
       "      <td>9007</td>\n",
       "      <td>['Italian']</td>\n",
       "      <td>1032</td>\n",
       "      <td>NaN</td>\n",
       "      <td>NaN</td>\n",
       "      <td>NaN</td>\n",
       "      <td>NaN</td>\n",
       "      <td>NaN</td>\n",
       "      <td>NaN</td>\n",
       "      <td>NaN</td>\n",
       "    </tr>\n",
       "    <tr>\n",
       "      <th>ranking</th>\n",
       "      <td>4e+04</td>\n",
       "      <td>NaN</td>\n",
       "      <td>NaN</td>\n",
       "      <td>NaN</td>\n",
       "      <td>3676</td>\n",
       "      <td>3709</td>\n",
       "      <td>1</td>\n",
       "      <td>973</td>\n",
       "      <td>2285</td>\n",
       "      <td>5260</td>\n",
       "      <td>1.644e+04</td>\n",
       "    </tr>\n",
       "    <tr>\n",
       "      <th>rating</th>\n",
       "      <td>4e+04</td>\n",
       "      <td>NaN</td>\n",
       "      <td>NaN</td>\n",
       "      <td>NaN</td>\n",
       "      <td>3.993</td>\n",
       "      <td>0.6684</td>\n",
       "      <td>1</td>\n",
       "      <td>3.5</td>\n",
       "      <td>4</td>\n",
       "      <td>4.5</td>\n",
       "      <td>5</td>\n",
       "    </tr>\n",
       "    <tr>\n",
       "      <th>price_range</th>\n",
       "      <td>26114</td>\n",
       "      <td>3</td>\n",
       "      <td>$$ - $$$</td>\n",
       "      <td>18412</td>\n",
       "      <td>NaN</td>\n",
       "      <td>NaN</td>\n",
       "      <td>NaN</td>\n",
       "      <td>NaN</td>\n",
       "      <td>NaN</td>\n",
       "      <td>NaN</td>\n",
       "      <td>NaN</td>\n",
       "    </tr>\n",
       "    <tr>\n",
       "      <th>numbs_reviews</th>\n",
       "      <td>3.746e+04</td>\n",
       "      <td>NaN</td>\n",
       "      <td>NaN</td>\n",
       "      <td>NaN</td>\n",
       "      <td>124.8</td>\n",
       "      <td>295.7</td>\n",
       "      <td>2</td>\n",
       "      <td>9</td>\n",
       "      <td>33</td>\n",
       "      <td>115</td>\n",
       "      <td>9660</td>\n",
       "    </tr>\n",
       "    <tr>\n",
       "      <th>reviews</th>\n",
       "      <td>40000</td>\n",
       "      <td>33516</td>\n",
       "      <td>[[], []]</td>\n",
       "      <td>6471</td>\n",
       "      <td>NaN</td>\n",
       "      <td>NaN</td>\n",
       "      <td>NaN</td>\n",
       "      <td>NaN</td>\n",
       "      <td>NaN</td>\n",
       "      <td>NaN</td>\n",
       "      <td>NaN</td>\n",
       "    </tr>\n",
       "    <tr>\n",
       "      <th>url_ta</th>\n",
       "      <td>40000</td>\n",
       "      <td>39980</td>\n",
       "      <td>/Restaurant_Review-g187514-d7337366-Reviews-La...</td>\n",
       "      <td>2</td>\n",
       "      <td>NaN</td>\n",
       "      <td>NaN</td>\n",
       "      <td>NaN</td>\n",
       "      <td>NaN</td>\n",
       "      <td>NaN</td>\n",
       "      <td>NaN</td>\n",
       "      <td>NaN</td>\n",
       "    </tr>\n",
       "    <tr>\n",
       "      <th>id_ta</th>\n",
       "      <td>40000</td>\n",
       "      <td>39980</td>\n",
       "      <td>d793170</td>\n",
       "      <td>2</td>\n",
       "      <td>NaN</td>\n",
       "      <td>NaN</td>\n",
       "      <td>NaN</td>\n",
       "      <td>NaN</td>\n",
       "      <td>NaN</td>\n",
       "      <td>NaN</td>\n",
       "      <td>NaN</td>\n",
       "    </tr>\n",
       "  </tbody>\n",
       "</table>\n",
       "</div>"
      ],
      "text/plain": [
       "                   count unique  \\\n",
       "res_id             40000  11909   \n",
       "city               40000     31   \n",
       "cuisine_style      30717   9007   \n",
       "ranking            4e+04    NaN   \n",
       "rating             4e+04    NaN   \n",
       "price_range        26114      3   \n",
       "numbs_reviews  3.746e+04    NaN   \n",
       "reviews            40000  33516   \n",
       "url_ta             40000  39980   \n",
       "id_ta              40000  39980   \n",
       "\n",
       "                                                             top   freq  \\\n",
       "res_id                                                    id_871     18   \n",
       "city                                                      London   5757   \n",
       "cuisine_style                                        ['Italian']   1032   \n",
       "ranking                                                      NaN    NaN   \n",
       "rating                                                       NaN    NaN   \n",
       "price_range                                             $$ - $$$  18412   \n",
       "numbs_reviews                                                NaN    NaN   \n",
       "reviews                                                 [[], []]   6471   \n",
       "url_ta         /Restaurant_Review-g187514-d7337366-Reviews-La...      2   \n",
       "id_ta                                                    d793170      2   \n",
       "\n",
       "                mean     std  min  25%   50%   75%        max  \n",
       "res_id           NaN     NaN  NaN  NaN   NaN   NaN        NaN  \n",
       "city             NaN     NaN  NaN  NaN   NaN   NaN        NaN  \n",
       "cuisine_style    NaN     NaN  NaN  NaN   NaN   NaN        NaN  \n",
       "ranking         3676    3709    1  973  2285  5260  1.644e+04  \n",
       "rating         3.993  0.6684    1  3.5     4   4.5          5  \n",
       "price_range      NaN     NaN  NaN  NaN   NaN   NaN        NaN  \n",
       "numbs_reviews  124.8   295.7    2    9    33   115       9660  \n",
       "reviews          NaN     NaN  NaN  NaN   NaN   NaN        NaN  \n",
       "url_ta           NaN     NaN  NaN  NaN   NaN   NaN        NaN  \n",
       "id_ta            NaN     NaN  NaN  NaN   NaN   NaN        NaN  "
      ]
     },
     "execution_count": 10,
     "metadata": {},
     "output_type": "execute_result"
    }
   ],
   "source": [
    "df.describe(include='all').T"
   ]
  },
  {
   "cell_type": "markdown",
   "metadata": {},
   "source": [
    "Всего в датафрейме 40000 записей, пропуски в столбцах **Cuisine Style**, **Price Range**, **Number of Reviews**.   \n",
    "Остальные столбцы **Restaraunt_id, City, Ranking, Rating, Reviews, URL_TA, ID_TA** - без пропусков.   \n",
    "Рассмотрим столбцы подробней"
   ]
  },
  {
   "cell_type": "markdown",
   "metadata": {},
   "source": [
    "Три столбца являются *количественными* переменными:  \n",
    "**ranking** - место, которое занимает данный ресторан среди всех ресторанов своего города;  \n",
    "**rating** - рейтинг ресторана по данным TripAdvisor (именно это значение должна будет предсказывать модель);  \n",
    "**numbs_reviews** - количество отзывов о ресторане;  \n",
    "\n",
    "Категориальные (оценочные), 4 столбца:  \n",
    "**city** - город, в котором находится ресторан, всего 31 город, самый популярный - **London**   \n",
    "**couisine_style** - кухня или кухни, к которым можно отнести блюда, предлагаемые в ресторане. Самая распространенная - итальянская (*italian*)    \n",
    "**price_range** - диапазон цен в ресторане:  \\\\$  - низкая ценовая категория ,  \\\\$\\\\$ - \\\\$\\\\$\\\\$  - средняя ценовая категория, \\\\$\\\\$\\\\$\\\\$  - рестораны высокой кухни    \n",
    "**numbs_eviews** - количество отзывов о ресторане;\n",
    "\n",
    "Другие данные:  \n",
    "**res_id** — идентификационный номер ресторана / сети ресторанов;  \n",
    "**reviews** — данные о двух отзывах, которые отображаются на сайте ресторана;  \n",
    "**url_ta** — URL страницы ресторана на TripAdvisor;"
   ]
  },
  {
   "cell_type": "markdown",
   "metadata": {},
   "source": [
    "## Исправление пропусков в данных"
   ]
  },
  {
   "cell_type": "markdown",
   "metadata": {},
   "source": [
    "### Количество пропусков в колонках"
   ]
  },
  {
   "cell_type": "code",
   "execution_count": 11,
   "metadata": {},
   "outputs": [
    {
     "data": {
      "text/plain": [
       "res_id               0\n",
       "city                 0\n",
       "cuisine_style     9283\n",
       "ranking              0\n",
       "rating               0\n",
       "price_range      13886\n",
       "numbs_reviews     2543\n",
       "reviews              0\n",
       "url_ta               0\n",
       "id_ta                0\n",
       "dtype: int64"
      ]
     },
     "metadata": {},
     "output_type": "display_data"
    }
   ],
   "source": [
    "display(df.isnull().sum())\n",
    "ta_before = pd.DataFrame(df.isnull().sum()).rename(columns = {0: 'ta_before'}).query('ta_before>0')"
   ]
  },
  {
   "cell_type": "markdown",
   "metadata": {},
   "source": [
    "Больше всего пропусков в графе с ценами (почти треть), более 9000 значений в стлях кухни.  "
   ]
  },
  {
   "cell_type": "markdown",
   "metadata": {},
   "source": [
    "### Заполнение пропусков с сайта TripAdvisor.com"
   ]
  },
  {
   "cell_type": "markdown",
   "metadata": {},
   "source": [
    "В каждой строке датафрейма есть ссылка на ресторан, которую можно использовать для поиска нужных значений. Но стоит учесть, что данные могут устареть (например ресторан закрылся) или данных(оценок) еще недостаточно для данных о кухне или цене. "
   ]
  },
  {
   "cell_type": "code",
   "execution_count": 12,
   "metadata": {},
   "outputs": [],
   "source": [
    "# Загрузка пропущенных значений с сайта TripAdvisor.com\n",
    "df = parsed_to_file(df, 'main_task')\n",
    "df_test = parsed_to_file(df_test, 'kaggle_task')"
   ]
  },
  {
   "cell_type": "code",
   "execution_count": 13,
   "metadata": {},
   "outputs": [
    {
     "name": "stdout",
     "output_type": "stream",
     "text": [
      "<class 'pandas.core.frame.DataFrame'>\n",
      "RangeIndex: 40000 entries, 0 to 39999\n",
      "Data columns (total 10 columns):\n",
      " #   Column         Non-Null Count  Dtype  \n",
      "---  ------         --------------  -----  \n",
      " 0   res_id         40000 non-null  object \n",
      " 1   city           40000 non-null  object \n",
      " 2   cuisine_style  35286 non-null  object \n",
      " 3   ranking        40000 non-null  float64\n",
      " 4   rating         40000 non-null  float64\n",
      " 5   price_range    32520 non-null  object \n",
      " 6   numbs_reviews  37457 non-null  float64\n",
      " 7   reviews        40000 non-null  object \n",
      " 8   url_ta         40000 non-null  object \n",
      " 9   id_ta          40000 non-null  object \n",
      "dtypes: float64(3), object(7)\n",
      "memory usage: 3.1+ MB\n"
     ]
    }
   ],
   "source": [
    "df.info()"
   ]
  },
  {
   "cell_type": "code",
   "execution_count": 14,
   "metadata": {},
   "outputs": [],
   "source": [
    "#Исправим формат в столбце с кухней\n",
    "df.cuisine_style = df.cuisine_style.str.replace(\"'\",\"\")\n",
    "df.cuisine_style = df.cuisine_style.str.replace(\"[\",\"\")\n",
    "df.cuisine_style = df.cuisine_style.str.replace(\"]\",\"\")"
   ]
  },
  {
   "cell_type": "code",
   "execution_count": 15,
   "metadata": {},
   "outputs": [],
   "source": [
    "df_test.cuisine_style = df_test.cuisine_style.str.replace(\"'\",\"\")\n",
    "df_test.cuisine_style = df_test.cuisine_style.str.replace(\"[\",\"\")\n",
    "df_test.cuisine_style = df_test.cuisine_style.str.replace(\"]\",\"\")"
   ]
  },
  {
   "cell_type": "code",
   "execution_count": 16,
   "metadata": {},
   "outputs": [
    {
     "data": {
      "image/png": "[encoded data removed]",
      "text/plain": [
       "<Figure size 648x432 with 1 Axes>"
      ]
     },
     "metadata": {
      "needs_background": "light"
     },
     "output_type": "display_data"
    }
   ],
   "source": [
    "ta_after = pd.DataFrame(df.isnull().sum()).rename(columns = {0: 'ta_after'}).query('ta_after>0')\n",
    "ta_result = ta_before.join(ta_after)\n",
    "\n",
    "pars_nan={'labels': ta_result.index.to_list(), 'col_bf': 'ta_before', \n",
    "        'col_af': 'ta_after', 'ylab': 'количество пропусков', \n",
    "        'title': 'Пропуски до и после заполнения'}\n",
    "\n",
    "viz_beforeafter(ta_result, pars_nan)"
   ]
  },
  {
   "cell_type": "markdown",
   "metadata": {},
   "source": [
    "После парсинга сайта удалось заполнить около половины пропусков в столбцах **cuisine_style** и **price_range**. Еще часть пропусков можно заполнить если проанализировать текст отзывов, в которых упоминаются основные блюда, кухня или пищевые ограничения (вегетарианская, кошерная и др.) \n",
    "\n",
    "*Примечание* Заполнения пропусков средними и другими значения происходит во время подготовки датаферйма для обучения при помощи **DataPrep**"
   ]
  },
  {
   "cell_type": "code",
   "execution_count": 17,
   "metadata": {},
   "outputs": [
    {
     "data": {
      "text/html": [
       "<div>\n",
       "<style scoped>\n",
       "    .dataframe tbody tr th:only-of-type {\n",
       "        vertical-align: middle;\n",
       "    }\n",
       "\n",
       "    .dataframe tbody tr th {\n",
       "        vertical-align: top;\n",
       "    }\n",
       "\n",
       "    .dataframe thead th {\n",
       "        text-align: right;\n",
       "    }\n",
       "</style>\n",
       "<table border=\"1\" class=\"dataframe\">\n",
       "  <thead>\n",
       "    <tr style=\"text-align: right;\">\n",
       "      <th></th>\n",
       "      <th>res_id</th>\n",
       "      <th>city</th>\n",
       "      <th>cuisine_style</th>\n",
       "      <th>ranking</th>\n",
       "      <th>rating</th>\n",
       "      <th>price_range</th>\n",
       "      <th>numbs_reviews</th>\n",
       "      <th>reviews</th>\n",
       "      <th>url_ta</th>\n",
       "      <th>id_ta</th>\n",
       "    </tr>\n",
       "  </thead>\n",
       "  <tbody>\n",
       "    <tr>\n",
       "      <th>0</th>\n",
       "      <td>id_5569</td>\n",
       "      <td>Paris</td>\n",
       "      <td>european, french, international</td>\n",
       "      <td>5570.0</td>\n",
       "      <td>3.5</td>\n",
       "      <td>$$ - $$$</td>\n",
       "      <td>194.0</td>\n",
       "      <td>[['Good food at your doorstep', 'A good hotel ...</td>\n",
       "      <td>/Restaurant_Review-g187147-d1912643-Reviews-R_...</td>\n",
       "      <td>d1912643</td>\n",
       "    </tr>\n",
       "    <tr>\n",
       "      <th>1</th>\n",
       "      <td>id_1535</td>\n",
       "      <td>Stockholm</td>\n",
       "      <td>asian, nepali</td>\n",
       "      <td>1537.0</td>\n",
       "      <td>4.0</td>\n",
       "      <td>$$ - $$$</td>\n",
       "      <td>10.0</td>\n",
       "      <td>[['Unique cuisine', 'Delicious Nepalese food']...</td>\n",
       "      <td>/Restaurant_Review-g189852-d7992032-Reviews-Bu...</td>\n",
       "      <td>d7992032</td>\n",
       "    </tr>\n",
       "  </tbody>\n",
       "</table>\n",
       "</div>"
      ],
      "text/plain": [
       "    res_id       city                    cuisine_style  ranking  rating  \\\n",
       "0  id_5569      Paris  european, french, international   5570.0     3.5   \n",
       "1  id_1535  Stockholm                    asian, nepali   1537.0     4.0   \n",
       "\n",
       "  price_range  numbs_reviews  \\\n",
       "0    $$ - $$$          194.0   \n",
       "1    $$ - $$$           10.0   \n",
       "\n",
       "                                             reviews  \\\n",
       "0  [['Good food at your doorstep', 'A good hotel ...   \n",
       "1  [['Unique cuisine', 'Delicious Nepalese food']...   \n",
       "\n",
       "                                              url_ta     id_ta  \n",
       "0  /Restaurant_Review-g187147-d1912643-Reviews-R_...  d1912643  \n",
       "1  /Restaurant_Review-g189852-d7992032-Reviews-Bu...  d7992032  "
      ]
     },
     "execution_count": 17,
     "metadata": {},
     "output_type": "execute_result"
    }
   ],
   "source": [
    "df.head(2)"
   ]
  },
  {
   "cell_type": "markdown",
   "metadata": {},
   "source": [
    "# EDA - Разведывательный анализ данных"
   ]
  },
  {
   "cell_type": "markdown",
   "metadata": {},
   "source": [
    "## City - города, в которых находятся рестораны"
   ]
  },
  {
   "cell_type": "code",
   "execution_count": 19,
   "metadata": {},
   "outputs": [
    {
     "data": {
      "image/png": "[encoded data removed]",
      "text/plain": [
       "<Figure size 864x864 with 1 Axes>"
      ]
     },
     "metadata": {
      "needs_background": "light"
     },
     "output_type": "display_data"
    }
   ],
   "source": [
    "viz_counter_barh(df, 'city', 'Количество ресторанов в городе')"
   ]
  },
  {
   "cell_type": "markdown",
   "metadata": {},
   "source": [
    "### Население и туризм"
   ]
  },
  {
   "cell_type": "markdown",
   "metadata": {},
   "source": [
    "Добавив в наш датафрейм данные о населении и туризме с сайта eurostat. "
   ]
  },
  {
   "cell_type": "code",
   "execution_count": 20,
   "metadata": {},
   "outputs": [],
   "source": [
    "df = data_add(df, 'population')\n",
    "df = data_add(df, 'tourism')\n",
    "df_test = data_add(df_test, 'population')\n",
    "df_test = data_add(df_test, 'tourism')"
   ]
  },
  {
   "cell_type": "code",
   "execution_count": 21,
   "metadata": {},
   "outputs": [
    {
     "data": {
      "image/png": "[encoded data removed]",
      "text/plain": [
       "<Figure size 864x864 with 1 Axes>"
      ]
     },
     "metadata": {
      "needs_background": "light"
     },
     "output_type": "display_data"
    }
   ],
   "source": [
    "viz_gp(df, 'city', 'population', 'Население городов, млн. чел.', mill=True)"
   ]
  },
  {
   "cell_type": "code",
   "execution_count": 22,
   "metadata": {},
   "outputs": [
    {
     "data": {
      "image/png": "[encoded data removed]",
      "text/plain": [
       "<Figure size 864x864 with 1 Axes>"
      ]
     },
     "metadata": {
      "needs_background": "light"
     },
     "output_type": "display_data"
    }
   ],
   "source": [
    "viz_gp(df, 'city', 'tourism', 'Посещение городов туристами, млн. чел.', mill=True)"
   ]
  },
  {
   "cell_type": "markdown",
   "metadata": {},
   "source": [
    "Предсказуемая и логическая ситуация, в больших туристических городах больше всего ресторанов. "
   ]
  },
  {
   "cell_type": "code",
   "execution_count": 23,
   "metadata": {},
   "outputs": [
    {
     "data": {
      "image/png": "[encoded data removed]",
      "text/plain": [
       "<Figure size 864x864 with 1 Axes>"
      ]
     },
     "metadata": {
      "needs_background": "light"
     },
     "output_type": "display_data"
    }
   ],
   "source": [
    "viz_gp(df, 'city', 'rating', 'средний рейтинг ресторанов по городам', rn=True)"
   ]
  },
  {
   "cell_type": "markdown",
   "metadata": {},
   "source": [
    "По средней оценке можно выделить лидеров - Рим, Афины, Порту, Краков, Амстердам, Берлин.  \n",
    "Самые низкие оценки у городов Мадрид, Милан, Стокгольм, Осло, Париж. \n",
    "Города с большим турпотоком (Париж, Барселона) оказались ниже чем менее популярные (Порту, Афины, Краков). В таких городах (с большим кол-вом туристов) очень много так называемых - \"туристических ловушек\". Ресторанов с завышенными ценами и посредственным обслуживанием.  "
   ]
  },
  {
   "cell_type": "markdown",
   "metadata": {},
   "source": [
    "## Cuisine_style - кухни, и их особенности"
   ]
  },
  {
   "cell_type": "markdown",
   "metadata": {},
   "source": [
    "Для начала псомотрим, какие кухни (или ограничения) являются самыми распространненными. Согласно фильтру на сайте **TripAdvisor** есть разделения\n",
    "- на кухни: испанская, итальянская и пр.  \n",
    "- на кухни по региону: европейская, азиатская и пр.\n",
    "- ограничения по питания: кошерная пища, вегитарианская и пр.\n",
    "- тип заведения если это не ресторан: бар, паб, вииний бар"
   ]
  },
  {
   "cell_type": "code",
   "execution_count": 24,
   "metadata": {},
   "outputs": [
    {
     "name": "stdout",
     "output_type": "stream",
     "text": [
      "Всего представлено 141 видов кухонь\n"
     ]
    }
   ],
   "source": [
    "cuisines = list(df['cuisine_style'].str.split(\", \").explode().unique())\n",
    "print(\"Всего представлено {} видов кухонь\".format(len(cuisines)))"
   ]
  },
  {
   "cell_type": "code",
   "execution_count": 25,
   "metadata": {},
   "outputs": [
    {
     "data": {
      "image/png": "[encoded data removed]",
      "text/plain": [
       "<Figure size 864x864 with 1 Axes>"
      ]
     },
     "metadata": {
      "needs_background": "light"
     },
     "output_type": "display_data"
    }
   ],
   "source": [
    "cuisines_top = df.cuisine_style.str.split(', ').explode().reset_index()\n",
    "viz_counter_barh(cuisines_top, 'cuisine_style', \n",
    "                 'самые популярные кухни или \"ограничения\"', max_values=30)"
   ]
  },
  {
   "cell_type": "markdown",
   "metadata": {},
   "source": [
    "В изначальном датафрейме было 125 видов стилей кухни, после заполнения их стало 141!  \n",
    "Если судить по странам происхождения, то самые популярные: итальянская, французская, испанская, британская, японская, американская, китайская, португальская, индийская, немецая, тайская, греческая.   \n",
    "Очень выжным являются ограничения в питании, неудивительно, что на первом месте - блюда вегетарианской кухни. Также среди популярных есть веганская кухня, блюда без глютена, здоровая пища.  \n",
    "Отдельно стоит отметить, что не все заведения являются ресторанами. Также стоит отметить пабы, бары, кафе и даже винные бары, пиццерия, рестораны фастфуда.  \n",
    "И последнне на что стоит обратить внимание, региональные предпочтения: европейкая кухня, среднеземноморская, азиатская и др.\n"
   ]
  },
  {
   "cell_type": "code",
   "execution_count": 26,
   "metadata": {},
   "outputs": [],
   "source": [
    "# сделаем замены для удобства работы\n",
    "df['cuisine_style'] = df['cuisine_style'].str.replace('vegetarian friendly', 'vegetarian')\n",
    "df['cuisine_style'] = df['cuisine_style'].str.replace('vegan options', 'vegan')\n",
    "df['cuisine_style'] = df['cuisine_style'].str.replace('gluten free options', 'gluten')"
   ]
  },
  {
   "cell_type": "code",
   "execution_count": 27,
   "metadata": {},
   "outputs": [],
   "source": [
    "df_test['cuisine_style'] = df_test['cuisine_style'].str.replace('vegetarian friendly', 'vegetarian')\n",
    "df_test['cuisine_style'] = df_test['cuisine_style'].str.replace('vegan options', 'vegan')\n",
    "df_test['cuisine_style'] = df_test['cuisine_style'].str.replace('gluten free options', 'gluten')"
   ]
  },
  {
   "cell_type": "markdown",
   "metadata": {},
   "source": [
    "## Ranking - место ресторана по рейтингу. "
   ]
  },
  {
   "cell_type": "markdown",
   "metadata": {},
   "source": [
    "В каждом городе есть своя классификация ресторанов по популярности, места начинаются с 1го. **Ranking** - показывает это место. Первые места есть в каждом городе, но в больших городах может быть по 12-15 тыс. ресторанов, а в маленьких несколько сотен. "
   ]
  },
  {
   "cell_type": "code",
   "execution_count": 28,
   "metadata": {},
   "outputs": [
    {
     "data": {
      "text/plain": [
       "<matplotlib.axes._subplots.AxesSubplot at 0x292003bc208>"
      ]
     },
     "execution_count": 28,
     "metadata": {},
     "output_type": "execute_result"
    },
    {
     "data": {
      "image/png": "[encoded data removed]",
      "text/plain": [
       "<Figure size 720x504 with 1 Axes>"
      ]
     },
     "metadata": {
      "needs_background": "light"
     },
     "output_type": "display_data"
    }
   ],
   "source": [
    "plt.rcParams['figure.figsize'] = (10,7)\n",
    "df['ranking'].hist(bins=100)"
   ]
  },
  {
   "cell_type": "markdown",
   "metadata": {},
   "source": [
    "Много ресторанов, которые не дотягивают до 2500 места в своем городе. Посмотрим как выглядит разность оценок, в зависимости от места. Для этого посмотрим распределение оценок относительно рейтинга для разных городов, например оценок от 4 до 5 и для городов Лондон и Милан."
   ]
  },
  {
   "cell_type": "code",
   "execution_count": 29,
   "metadata": {},
   "outputs": [
    {
     "data": {
      "text/plain": [
       "<matplotlib.axes._subplots.AxesSubplot at 0x29200354848>"
      ]
     },
     "execution_count": 29,
     "metadata": {},
     "output_type": "execute_result"
    },
    {
     "data": {
      "image/png": "[encoded data removed]",
      "text/plain": [
       "<Figure size 720x504 with 1 Axes>"
      ]
     },
     "metadata": {
      "needs_background": "light"
     },
     "output_type": "display_data"
    }
   ],
   "source": [
    "df.query('city==\"London\"')['ranking'][df['rating'].between(4, 5)].hist(bins=25)"
   ]
  },
  {
   "cell_type": "code",
   "execution_count": 30,
   "metadata": {},
   "outputs": [
    {
     "data": {
      "text/plain": [
       "<matplotlib.axes._subplots.AxesSubplot at 0x292005d0808>"
      ]
     },
     "execution_count": 30,
     "metadata": {},
     "output_type": "execute_result"
    },
    {
     "data": {
      "image/png": "[encoded data removed]",
      "text/plain": [
       "<Figure size 720x504 with 1 Axes>"
      ]
     },
     "metadata": {
      "needs_background": "light"
     },
     "output_type": "display_data"
    }
   ],
   "source": [
    "df.query('city==\"Milan\"')['ranking'][df['rating'].between(4, 5)].hist(bins=25)"
   ]
  },
  {
   "cell_type": "markdown",
   "metadata": {},
   "source": [
    "Из диаграмм можно предположить, что распределение примерно одинаковое, в не зависимости от количества ресторанов (6000 и 16000). Зависимость скорее всего нелинейная. Поэтому желательно нормальзовать признак в зависимости от города, и возможно изменить зависимость (полином вместо линейной). "
   ]
  },
  {
   "cell_type": "markdown",
   "metadata": {},
   "source": [
    "## Rating - рейтинг ресторана"
   ]
  },
  {
   "cell_type": "markdown",
   "metadata": {},
   "source": [
    "**Rating** - рейтинг ресторана на сайте TripAdvidor. Рейтинг рассчитывается на основе отзывов пользователей, на который влияют количество отзывов, время последнего отзыва и др. признаки."
   ]
  },
  {
   "cell_type": "code",
   "execution_count": 31,
   "metadata": {},
   "outputs": [
    {
     "data": {
      "image/png": "[encoded data removed]",
      "text/plain": [
       "<Figure size 720x504 with 1 Axes>"
      ]
     },
     "metadata": {
      "needs_background": "light"
     },
     "output_type": "display_data"
    }
   ],
   "source": [
    "viz_counter_bar(df, 'rating', 'Количество ресторанов с разным рейтингом', sort_by_index=True)"
   ]
  },
  {
   "cell_type": "markdown",
   "metadata": {},
   "source": [
    "Итак, больше всего у нас \"хороших\" оценок - 4 и 4.5. Оценки 2,5 и меньше встречаются гораздо реже. Оценка 1.0 - примерно в 0,5% случаев, а оценка 1.5 еще реже. Стоит ли их учитывать? "
   ]
  },
  {
   "cell_type": "markdown",
   "metadata": {},
   "source": [
    "## Price Range - уровень цен"
   ]
  },
  {
   "cell_type": "markdown",
   "metadata": {},
   "source": [
    "Всего представлено 3 категории ресторанов по цене:\n",
    "- \\\\$ - дешевые рестораны  \n",
    "- \\\\$\\\\$ - \\\\$\\\\$\\\\$ - средняя ценовая категория  \n",
    "- \\\\$\\\\$\\\\$\\\\$  - дорогие рестораны\n",
    "\n",
    "Для начала посмотрим на количество."
   ]
  },
  {
   "cell_type": "code",
   "execution_count": 32,
   "metadata": {},
   "outputs": [
    {
     "data": {
      "image/png": "[encoded data removed]",
      "text/plain": [
       "<Figure size 720x720 with 1 Axes>"
      ]
     },
     "metadata": {
      "needs_background": "light"
     },
     "output_type": "display_data"
    }
   ],
   "source": [
    "prices = df.price_range.replace({'$':'1', '$$ - $$$': '2', '$$$$': '3'}).reset_index()\n",
    "viz_counter_bar(prices, 'price_range', \n",
    "                'Количество ресторанов с разными ценовыми категорями', \n",
    "                sort_by_index=True, dollars=True)"
   ]
  },
  {
   "cell_type": "markdown",
   "metadata": {},
   "source": [
    "Больше половины ресторанов средней ценовой категории \"\\\\$\\\\$-\\\\$\\\\$\\\\$\", меньше 5\\% от общего количества - дорогие рестораны."
   ]
  },
  {
   "cell_type": "markdown",
   "metadata": {},
   "source": [
    "## Number of reviews - количество отзывов"
   ]
  },
  {
   "cell_type": "code",
   "execution_count": 33,
   "metadata": {},
   "outputs": [
    {
     "data": {
      "text/plain": [
       "<matplotlib.axes._subplots.AxesSubplot at 0x2920003bb08>"
      ]
     },
     "execution_count": 33,
     "metadata": {},
     "output_type": "execute_result"
    },
    {
     "data": {
      "image/png": "[encoded data removed]",
      "text/plain": [
       "<Figure size 720x504 with 1 Axes>"
      ]
     },
     "metadata": {
      "needs_background": "light"
     },
     "output_type": "display_data"
    }
   ],
   "source": [
    "plt.rcParams['figure.figsize'] = (10,7)\n",
    "df['numbs_reviews'].hist(bins=20)"
   ]
  },
  {
   "cell_type": "markdown",
   "metadata": {},
   "source": [
    "Большинство ресторанов имеют очень мало отзывов. Минимальное - 2, максимальное - 9660, среднее около 125. "
   ]
  },
  {
   "cell_type": "code",
   "execution_count": 34,
   "metadata": {},
   "outputs": [
    {
     "data": {
      "text/plain": [
       "<matplotlib.axes._subplots.AxesSubplot at 0x2927d34ae48>"
      ]
     },
     "execution_count": 34,
     "metadata": {},
     "output_type": "execute_result"
    },
    {
     "data": {
      "image/png": "[encoded data removed]",
      "text/plain": [
       "<Figure size 720x504 with 1 Axes>"
      ]
     },
     "metadata": {
      "needs_background": "light"
     },
     "output_type": "display_data"
    }
   ],
   "source": [
    "df[(df.rating==5) & (df.numbs_reviews < df.numbs_reviews.quantile(0.9))].numbs_reviews.hist(bins=50)"
   ]
  },
  {
   "cell_type": "markdown",
   "metadata": {},
   "source": [
    "И как видно из диаграммы для того, в 90% случаев чтобы получить рейтинг - 5, не обязательно иметь тысячи отзывов, достаточно хорошо готовить и обслуживать. "
   ]
  },
  {
   "cell_type": "code",
   "execution_count": 35,
   "metadata": {},
   "outputs": [
    {
     "data": {
      "image/png": "[encoded data removed]",
      "text/plain": [
       "<Figure size 720x504 with 1 Axes>"
      ]
     },
     "metadata": {
      "needs_background": "light"
     },
     "output_type": "display_data"
    }
   ],
   "source": [
    "viz_gph(df, 'rating', 'numbs_reviews', 'Количество отзывов и рейтинг ресторана', \n",
    "        sort_by_index = True, rn=True, acc=0)"
   ]
  },
  {
   "cell_type": "markdown",
   "metadata": {},
   "source": [
    "Количество отзывов влияет на итоговую оценку (*прим. об этом написано на сайте TA*). Много отзывов у хороших ресторанов с рейтингом 4 и 4,5. И как не странно мало отзывов у ресторанов с рейтингом 5.   "
   ]
  },
  {
   "cell_type": "markdown",
   "metadata": {},
   "source": [
    "## Reviews - отзывы"
   ]
  },
  {
   "cell_type": "markdown",
   "metadata": {},
   "source": [
    "Отзывы можно разделить по времени, на положительные/отрицательные, а также можно найти информацию о кухне, блюдах и заполнить пропуски в данных."
   ]
  },
  {
   "cell_type": "markdown",
   "metadata": {},
   "source": [
    "При помощи данной функции разобьем отзывы на даты (последний и предпоследний отзывы), слова (без дубликатов). На отзыв (положительный или отрицательный) больше влияют существительные или качественные прилагательные: хороший, плохой, вкусный и пр.\n",
    "Анализом слов займемся ниже. "
   ]
  },
  {
   "cell_type": "code",
   "execution_count": 37,
   "metadata": {},
   "outputs": [],
   "source": [
    "# Разбиваем отзывы на столбцы с датами, ключевыми словами, выделяем упоминаем кухни в отзывах, немного заполняем пропуски. \n",
    "df = ReviewsSplit(df, 'reviews').split_and_explode()\n",
    "df_test = ReviewsSplit(df_test, 'reviews').split_and_explode()"
   ]
  },
  {
   "cell_type": "code",
   "execution_count": 38,
   "metadata": {},
   "outputs": [],
   "source": [
    "df = fill_dates(df)\n",
    "df_test = fill_dates(df_test)"
   ]
  },
  {
   "cell_type": "code",
   "execution_count": 39,
   "metadata": {},
   "outputs": [
    {
     "data": {
      "text/html": [
       "<div>\n",
       "<style scoped>\n",
       "    .dataframe tbody tr th:only-of-type {\n",
       "        vertical-align: middle;\n",
       "    }\n",
       "\n",
       "    .dataframe tbody tr th {\n",
       "        vertical-align: top;\n",
       "    }\n",
       "\n",
       "    .dataframe thead th {\n",
       "        text-align: right;\n",
       "    }\n",
       "</style>\n",
       "<table border=\"1\" class=\"dataframe\">\n",
       "  <thead>\n",
       "    <tr style=\"text-align: right;\">\n",
       "      <th></th>\n",
       "      <th>ranking</th>\n",
       "      <th>rating</th>\n",
       "      <th>numbs_reviews</th>\n",
       "      <th>population</th>\n",
       "      <th>tourism</th>\n",
       "      <th>timedelta</th>\n",
       "      <th>date_last_delta</th>\n",
       "    </tr>\n",
       "  </thead>\n",
       "  <tbody>\n",
       "    <tr>\n",
       "      <th>count</th>\n",
       "      <td>40000.0000</td>\n",
       "      <td>40000.0000</td>\n",
       "      <td>37457.0000</td>\n",
       "      <td>4.0000e+04</td>\n",
       "      <td>4.0000e+04</td>\n",
       "      <td>40000.0000</td>\n",
       "      <td>40000.0000</td>\n",
       "    </tr>\n",
       "    <tr>\n",
       "      <th>mean</th>\n",
       "      <td>3676.0285</td>\n",
       "      <td>3.9930</td>\n",
       "      <td>124.8255</td>\n",
       "      <td>3.6866e+06</td>\n",
       "      <td>2.1736e+07</td>\n",
       "      <td>122.3822</td>\n",
       "      <td>289.3069</td>\n",
       "    </tr>\n",
       "    <tr>\n",
       "      <th>std</th>\n",
       "      <td>3708.7496</td>\n",
       "      <td>0.6684</td>\n",
       "      <td>295.6664</td>\n",
       "      <td>3.5018e+06</td>\n",
       "      <td>1.8680e+07</td>\n",
       "      <td>193.4068</td>\n",
       "      <td>333.3994</td>\n",
       "    </tr>\n",
       "    <tr>\n",
       "      <th>min</th>\n",
       "      <td>1.0000</td>\n",
       "      <td>1.0000</td>\n",
       "      <td>2.0000</td>\n",
       "      <td>1.1523e+05</td>\n",
       "      <td>1.1390e+06</td>\n",
       "      <td>0.0000</td>\n",
       "      <td>0.0000</td>\n",
       "    </tr>\n",
       "    <tr>\n",
       "      <th>25%</th>\n",
       "      <td>973.0000</td>\n",
       "      <td>3.5000</td>\n",
       "      <td>9.0000</td>\n",
       "      <td>1.0747e+06</td>\n",
       "      <td>1.0348e+07</td>\n",
       "      <td>13.0000</td>\n",
       "      <td>91.0000</td>\n",
       "    </tr>\n",
       "    <tr>\n",
       "      <th>50%</th>\n",
       "      <td>2285.0000</td>\n",
       "      <td>4.0000</td>\n",
       "      <td>33.0000</td>\n",
       "      <td>1.7667e+06</td>\n",
       "      <td>1.9828e+07</td>\n",
       "      <td>76.0000</td>\n",
       "      <td>203.0000</td>\n",
       "    </tr>\n",
       "    <tr>\n",
       "      <th>75%</th>\n",
       "      <td>5260.0000</td>\n",
       "      <td>4.5000</td>\n",
       "      <td>115.0000</td>\n",
       "      <td>8.8665e+06</td>\n",
       "      <td>2.1434e+07</td>\n",
       "      <td>122.0000</td>\n",
       "      <td>289.0000</td>\n",
       "    </tr>\n",
       "    <tr>\n",
       "      <th>max</th>\n",
       "      <td>16444.0000</td>\n",
       "      <td>5.0000</td>\n",
       "      <td>9660.0000</td>\n",
       "      <td>9.8035e+06</td>\n",
       "      <td>6.7347e+07</td>\n",
       "      <td>3207.0000</td>\n",
       "      <td>5059.0000</td>\n",
       "    </tr>\n",
       "  </tbody>\n",
       "</table>\n",
       "</div>"
      ],
      "text/plain": [
       "          ranking      rating  numbs_reviews  population     tourism  \\\n",
       "count  40000.0000  40000.0000     37457.0000  4.0000e+04  4.0000e+04   \n",
       "mean    3676.0285      3.9930       124.8255  3.6866e+06  2.1736e+07   \n",
       "std     3708.7496      0.6684       295.6664  3.5018e+06  1.8680e+07   \n",
       "min        1.0000      1.0000         2.0000  1.1523e+05  1.1390e+06   \n",
       "25%      973.0000      3.5000         9.0000  1.0747e+06  1.0348e+07   \n",
       "50%     2285.0000      4.0000        33.0000  1.7667e+06  1.9828e+07   \n",
       "75%     5260.0000      4.5000       115.0000  8.8665e+06  2.1434e+07   \n",
       "max    16444.0000      5.0000      9660.0000  9.8035e+06  6.7347e+07   \n",
       "\n",
       "        timedelta  date_last_delta  \n",
       "count  40000.0000       40000.0000  \n",
       "mean     122.3822         289.3069  \n",
       "std      193.4068         333.3994  \n",
       "min        0.0000           0.0000  \n",
       "25%       13.0000          91.0000  \n",
       "50%       76.0000         203.0000  \n",
       "75%      122.0000         289.0000  \n",
       "max     3207.0000        5059.0000  "
      ]
     },
     "execution_count": 39,
     "metadata": {},
     "output_type": "execute_result"
    }
   ],
   "source": [
    "df.describe()"
   ]
  },
  {
   "cell_type": "code",
   "execution_count": 40,
   "metadata": {},
   "outputs": [
    {
     "data": {
      "text/plain": [
       "<matplotlib.axes._subplots.AxesSubplot at 0x29201da3d48>"
      ]
     },
     "execution_count": 40,
     "metadata": {},
     "output_type": "execute_result"
    },
    {
     "data": {
      "image/png": "[encoded data removed]",
      "text/plain": [
       "<Figure size 720x720 with 1 Axes>"
      ]
     },
     "metadata": {
      "needs_background": "light"
     },
     "output_type": "display_data"
    }
   ],
   "source": [
    "plt.rcParams['figure.figsize'] = (10,10)\n",
    "df['date_last'].hist(bins=80)"
   ]
  },
  {
   "cell_type": "markdown",
   "metadata": {},
   "source": [
    "Большинство отзывов приходится на 2017 год, самый первый из отзывов (последний) приходится на 2004 год. "
   ]
  },
  {
   "cell_type": "code",
   "execution_count": 41,
   "metadata": {},
   "outputs": [
    {
     "data": {
      "text/plain": [
       "<matplotlib.axes._subplots.AxesSubplot at 0x292013de548>"
      ]
     },
     "execution_count": 41,
     "metadata": {},
     "output_type": "execute_result"
    },
    {
     "data": {
      "image/png": "[encoded data removed]",
      "text/plain": [
       "<Figure size 720x720 with 1 Axes>"
      ]
     },
     "metadata": {
      "needs_background": "light"
     },
     "output_type": "display_data"
    }
   ],
   "source": [
    "plt.rcParams['figure.figsize'] = (10,10)\n",
    "df['timedelta'].hist(bins=100)"
   ]
  },
  {
   "cell_type": "code",
   "execution_count": 42,
   "metadata": {},
   "outputs": [
    {
     "data": {
      "text/plain": [
       "count    40000.0000\n",
       "mean       122.3822\n",
       "std        193.4068\n",
       "min          0.0000\n",
       "25%         13.0000\n",
       "50%         76.0000\n",
       "75%        122.0000\n",
       "max       3207.0000\n",
       "Name: timedelta, dtype: float64"
      ]
     },
     "execution_count": 42,
     "metadata": {},
     "output_type": "execute_result"
    }
   ],
   "source": [
    "df.timedelta.describe()"
   ]
  },
  {
   "cell_type": "code",
   "execution_count": 43,
   "metadata": {},
   "outputs": [
    {
     "data": {
      "text/plain": [
       "<matplotlib.axes._subplots.AxesSubplot at 0x292012f0e08>"
      ]
     },
     "execution_count": 43,
     "metadata": {},
     "output_type": "execute_result"
    },
    {
     "data": {
      "image/png": "[encoded data removed]",
      "text/plain": [
       "<Figure size 720x720 with 1 Axes>"
      ]
     },
     "metadata": {
      "needs_background": "light"
     },
     "output_type": "display_data"
    }
   ],
   "source": [
    "plt.rcParams['figure.figsize'] = (10,10)\n",
    "df_td = df.groupby('timedelta')['numbs_reviews'].mean().reset_index()\n",
    "df_td.groupby(df_td.index//10)['numbs_reviews'].mean().hist()"
   ]
  },
  {
   "cell_type": "markdown",
   "metadata": {},
   "source": [
    "Максимальное время между отзывами - 3207 дней! но больше половины времени между отзывами укладывается в 67 дней."
   ]
  },
  {
   "cell_type": "markdown",
   "metadata": {},
   "source": [
    "## Корреляционный анализ"
   ]
  },
  {
   "cell_type": "markdown",
   "metadata": {},
   "source": [
    "Вначале посмотрим столбцы датафрейма относительно друг друга и целевой переменной."
   ]
  },
  {
   "cell_type": "code",
   "execution_count": 44,
   "metadata": {},
   "outputs": [
    {
     "data": {
      "text/plain": [
       "<matplotlib.axes._subplots.AxesSubplot at 0x29201317f08>"
      ]
     },
     "execution_count": 44,
     "metadata": {},
     "output_type": "execute_result"
    },
    {
     "data": {
      "image/png": "[encoded data removed]",
      "text/plain": [
       "<Figure size 720x720 with 2 Axes>"
      ]
     },
     "metadata": {
      "needs_background": "light"
     },
     "output_type": "display_data"
    }
   ],
   "source": [
    "plt.rcParams['figure.figsize'] = (10,10)\n",
    "sns.heatmap(df.corr(), annot=True)"
   ]
  },
  {
   "cell_type": "markdown",
   "metadata": {},
   "source": [
    "Самая большая корреляция столбцы **rating** относитльно столбца **ranking**. Что объясняется самим значением столбцы **ranking** - место в рейтинге города. "
   ]
  },
  {
   "cell_type": "markdown",
   "metadata": {},
   "source": [
    "# FEATURE ENGEENERING "
   ]
  },
  {
   "cell_type": "markdown",
   "metadata": {},
   "source": [
    "Создадим новые признаки из текущих данных.  \n",
    "Признаки, которые уже добавлены: \n",
    "- Население  \n",
    "- количество туристов в год  \n",
    "- время последнего отзыва  \n",
    "- время между отзывами  \n",
    "  \n",
    "Признаки, которые создаем дополнительно\n",
    "- список слов (существительных и прилагательных) из отзывов. Выберем самые популярные\n",
    "- native(1/0) - является ли данная кухня национальной (испанская для Мадрида, Барселона; французская - для Парижа и т.д.)\n",
    "- плотность населения/турпотока на один ресторан\n",
    "- кодирование признаков (города, слова    *прим. get_dummies*)"
   ]
  },
  {
   "cell_type": "markdown",
   "metadata": {},
   "source": [
    "### Анализ отзывов, выбор слов"
   ]
  },
  {
   "cell_type": "markdown",
   "metadata": {},
   "source": [
    "Создаем список стилей кухни, для того, чтобы убрать повторы в списках слов."
   ]
  },
  {
   "cell_type": "code",
   "execution_count": 45,
   "metadata": {},
   "outputs": [],
   "source": [
    "cuisines = list(df['cuisine_style'].str.split(\", \").explode().unique())\n",
    "df.words = df.words.apply(lambda x: str(x)).replace('set()', np.nan)\n",
    "df_test.words = df_test.words.apply(lambda x: str(x)).replace('set()', np.nan)"
   ]
  },
  {
   "cell_type": "markdown",
   "metadata": {},
   "source": [
    "Запускаем функцию разделения слов (*или читаем разделенные списки из файла. Работа функции занимает продолжительное время - прим.* )  \n",
    "Выберем 5 слов, которые могут наиболее полно охарактеризовать отзыв.  \n",
    "  \n",
    "*прим. списки слов создаются при подготовке датафрейма*"
   ]
  },
  {
   "cell_type": "code",
   "execution_count": 46,
   "metadata": {},
   "outputs": [],
   "source": [
    "# считываем файл с разделенными словами или запускаем код ниже. \n",
    "df_nlp = pd.read_csv(\"data_nlp.csv\")[['adjs', 'nouns']]\n",
    "df_test_nlp = pd.read_csv(\"df_test_nlp.csv\")[['adjs', 'nouns']]\n",
    "\n",
    "#df[~df.words.isna()] = df[~df.words.isna()].apply(words_select, axis=1)"
   ]
  },
  {
   "cell_type": "code",
   "execution_count": 47,
   "metadata": {},
   "outputs": [],
   "source": [
    "df = df.join(df_nlp)\n",
    "df_test = df_test.join(df_test_nlp)"
   ]
  },
  {
   "cell_type": "markdown",
   "metadata": {},
   "source": [
    "Появилось 2 столбца 'adjs'/ 'nouns'  - для прилагательных и сущствительных. Из прилагательных убираем названия стилей кухни. "
   ]
  },
  {
   "cell_type": "code",
   "execution_count": 48,
   "metadata": {},
   "outputs": [
    {
     "data": {
      "text/html": [
       "<div>\n",
       "<style scoped>\n",
       "    .dataframe tbody tr th:only-of-type {\n",
       "        vertical-align: middle;\n",
       "    }\n",
       "\n",
       "    .dataframe tbody tr th {\n",
       "        vertical-align: top;\n",
       "    }\n",
       "\n",
       "    .dataframe thead th {\n",
       "        text-align: right;\n",
       "    }\n",
       "</style>\n",
       "<table border=\"1\" class=\"dataframe\">\n",
       "  <thead>\n",
       "    <tr style=\"text-align: right;\">\n",
       "      <th></th>\n",
       "      <th>res_id</th>\n",
       "      <th>city</th>\n",
       "      <th>cuisine_style</th>\n",
       "      <th>ranking</th>\n",
       "      <th>rating</th>\n",
       "      <th>price_range</th>\n",
       "      <th>numbs_reviews</th>\n",
       "      <th>reviews</th>\n",
       "      <th>url_ta</th>\n",
       "      <th>id_ta</th>\n",
       "      <th>population</th>\n",
       "      <th>tourism</th>\n",
       "      <th>words</th>\n",
       "      <th>date_last</th>\n",
       "      <th>date_prev</th>\n",
       "      <th>cuisine_extra</th>\n",
       "      <th>timedelta</th>\n",
       "      <th>date_last_delta</th>\n",
       "      <th>adjs</th>\n",
       "      <th>nouns</th>\n",
       "    </tr>\n",
       "  </thead>\n",
       "  <tbody>\n",
       "    <tr>\n",
       "      <th>9451</th>\n",
       "      <td>id_6449</td>\n",
       "      <td>Paris</td>\n",
       "      <td>french, european, healthy, fast food, soups, v...</td>\n",
       "      <td>6450.0</td>\n",
       "      <td>4.0</td>\n",
       "      <td>$</td>\n",
       "      <td>53.0</td>\n",
       "      <td>[['Nice little restaurant.', 'Perfect snack st...</td>\n",
       "      <td>/Restaurant_Review-g187147-d6687224-Reviews-Co...</td>\n",
       "      <td>d6687224</td>\n",
       "      <td>9803494</td>\n",
       "      <td>67346921</td>\n",
       "      <td>{'stop', 'restaurant', 'nice', 'little', 'snac...</td>\n",
       "      <td>2017-06-03</td>\n",
       "      <td>2017-05-25</td>\n",
       "      <td>NaN</td>\n",
       "      <td>9</td>\n",
       "      <td>268</td>\n",
       "      <td>perfect little nice</td>\n",
       "      <td>restaurant snack</td>\n",
       "    </tr>\n",
       "    <tr>\n",
       "      <th>5914</th>\n",
       "      <td>id_1874</td>\n",
       "      <td>Paris</td>\n",
       "      <td>french, vegetarian</td>\n",
       "      <td>1875.0</td>\n",
       "      <td>4.0</td>\n",
       "      <td>$$ - $$$</td>\n",
       "      <td>74.0</td>\n",
       "      <td>[['Great little spot....', 'Nice brasserie'], ...</td>\n",
       "      <td>/Restaurant_Review-g187147-d10784600-Reviews-L...</td>\n",
       "      <td>d10784600</td>\n",
       "      <td>9803494</td>\n",
       "      <td>67346921</td>\n",
       "      <td>{'great', 'nice', 'brasserie', 'little', 'spot'}</td>\n",
       "      <td>2017-12-01</td>\n",
       "      <td>2017-09-27</td>\n",
       "      <td>NaN</td>\n",
       "      <td>65</td>\n",
       "      <td>87</td>\n",
       "      <td>little great nice</td>\n",
       "      <td>brasserie spot</td>\n",
       "    </tr>\n",
       "  </tbody>\n",
       "</table>\n",
       "</div>"
      ],
      "text/plain": [
       "       res_id   city                                      cuisine_style  \\\n",
       "9451  id_6449  Paris  french, european, healthy, fast food, soups, v...   \n",
       "5914  id_1874  Paris                                 french, vegetarian   \n",
       "\n",
       "      ranking  rating price_range  numbs_reviews  \\\n",
       "9451   6450.0     4.0           $           53.0   \n",
       "5914   1875.0     4.0    $$ - $$$           74.0   \n",
       "\n",
       "                                                reviews  \\\n",
       "9451  [['Nice little restaurant.', 'Perfect snack st...   \n",
       "5914  [['Great little spot....', 'Nice brasserie'], ...   \n",
       "\n",
       "                                                 url_ta      id_ta  \\\n",
       "9451  /Restaurant_Review-g187147-d6687224-Reviews-Co...   d6687224   \n",
       "5914  /Restaurant_Review-g187147-d10784600-Reviews-L...  d10784600   \n",
       "\n",
       "      population   tourism                                              words  \\\n",
       "9451     9803494  67346921  {'stop', 'restaurant', 'nice', 'little', 'snac...   \n",
       "5914     9803494  67346921   {'great', 'nice', 'brasserie', 'little', 'spot'}   \n",
       "\n",
       "      date_last  date_prev cuisine_extra  timedelta  date_last_delta  \\\n",
       "9451 2017-06-03 2017-05-25           NaN          9              268   \n",
       "5914 2017-12-01 2017-09-27           NaN         65               87   \n",
       "\n",
       "                      adjs              nouns  \n",
       "9451   perfect little nice   restaurant snack  \n",
       "5914     little great nice     brasserie spot  "
      ]
     },
     "execution_count": 48,
     "metadata": {},
     "output_type": "execute_result"
    }
   ],
   "source": [
    "df.sample(2)"
   ]
  },
  {
   "cell_type": "markdown",
   "metadata": {},
   "source": [
    "### Создание домашней кухни для данной страны/города "
   ]
  },
  {
   "cell_type": "code",
   "execution_count": 50,
   "metadata": {},
   "outputs": [],
   "source": [
    "df['native'] = df.city.map(native_cousine)\n",
    "df = df.apply(native_fill, axis=1)\n",
    "df_test['native'] = df_test.city.map(native_cousine)\n",
    "df_test = df_test.apply(native_fill, axis=1)\n",
    "df.drop('native', axis=1, inplace=True)\n",
    "df_test.drop('native', axis=1, inplace=True)"
   ]
  },
  {
   "cell_type": "markdown",
   "metadata": {},
   "source": [
    "### Создание плотности населения и турпотока на один ресторан."
   ]
  },
  {
   "cell_type": "code",
   "execution_count": 51,
   "metadata": {},
   "outputs": [],
   "source": [
    "# Считаем максимальное количество ресторанов в городе, но не суммой, а номером места из ranking (т.к. много пропущено)\n",
    "restorans_max = df.groupby('city')['ranking'].max().to_dict()"
   ]
  },
  {
   "cell_type": "code",
   "execution_count": 52,
   "metadata": {},
   "outputs": [],
   "source": [
    "df['max_rest']=df['city'].map(restorans_max)\n",
    "df_test['max_rest']=df_test['city'].map(restorans_max)"
   ]
  },
  {
   "cell_type": "code",
   "execution_count": 53,
   "metadata": {},
   "outputs": [],
   "source": [
    "df['rests_plotn'] = df['population'] / df['max_rest']\n",
    "df['tourist_plotn'] = df['tourism'] / df['max_rest']\n",
    "df_test['rests_plotn'] = df_test['population'] / df_test['max_rest']\n",
    "df_test['tourist_plotn'] = df_test['tourism'] / df_test['max_rest']\n",
    "df.drop('max_rest', axis=1, inplace=True)\n",
    "df_test.drop('max_rest', axis=1, inplace=True)"
   ]
  },
  {
   "cell_type": "markdown",
   "metadata": {},
   "source": [
    "### Нормализация ranking"
   ]
  },
  {
   "cell_type": "markdown",
   "metadata": {},
   "source": [
    "В разных городах разное количество ресторанов, и в большом городе может быть 50-100 ресторанов с высоким рейтингом, в маленьком может быть в 10 раз меньше. Поэтому 50е место в разных городах может нести разную оценку. Приведем столбец **ranking** к максимальному значению ~100"
   ]
  },
  {
   "cell_type": "code",
   "execution_count": 54,
   "metadata": {},
   "outputs": [],
   "source": [
    "restorans_max = df.append(df_test, sort=False).groupby('city')['ranking'].max().to_dict()\n",
    "\n",
    "df['max_rest']=df['city'].map(restorans_max)\n",
    "df['ranking'] = (df['ranking'] *100 / df['max_rest']) + 1\n",
    "df['ranking'] = round(df['ranking'], 1)\n",
    "df = df.drop(['max_rest'],axis=1)\n",
    "\n",
    "df_test['max_rest']=df_test['city'].map(restorans_max)\n",
    "df_test['ranking'] = (df_test['ranking'] *100 / df_test['max_rest']) + 1\n",
    "df_test['ranking'] = round(df_test['ranking'], 1)\n",
    "df_test = df_test.drop(['max_rest'],axis=1)"
   ]
  },
  {
   "cell_type": "markdown",
   "metadata": {},
   "source": [
    "### Объеденим датафреймов df и df_test"
   ]
  },
  {
   "cell_type": "code",
   "execution_count": 55,
   "metadata": {},
   "outputs": [],
   "source": [
    "df.drop(['cuisine_extra'], axis=1, inplace=True)\n",
    "df_test.drop(['cuisine_extra'], axis=1, inplace=True)\n",
    "\n",
    "df['sample'] = 1\n",
    "df_test['sample'] = 0\n",
    "df_test['rating'] = 0\n",
    "data = df.append(df_test, sort=False).reset_index(drop=True)"
   ]
  },
  {
   "cell_type": "markdown",
   "metadata": {},
   "source": [
    "# DATA Prerocessing - подготовка данных"
   ]
  },
  {
   "cell_type": "code",
   "execution_count": 56,
   "metadata": {},
   "outputs": [
    {
     "name": "stdout",
     "output_type": "stream",
     "text": [
      "<class 'pandas.core.frame.DataFrame'>\n",
      "RangeIndex: 50000 entries, 0 to 49999\n",
      "Data columns (total 23 columns):\n",
      " #   Column           Non-Null Count  Dtype         \n",
      "---  ------           --------------  -----         \n",
      " 0   res_id           50000 non-null  object        \n",
      " 1   city             50000 non-null  object        \n",
      " 2   cuisine_style    44692 non-null  object        \n",
      " 3   ranking          50000 non-null  float64       \n",
      " 4   rating           50000 non-null  float64       \n",
      " 5   price_range      40706 non-null  object        \n",
      " 6   numbs_reviews    46800 non-null  float64       \n",
      " 7   reviews          49998 non-null  object        \n",
      " 8   url_ta           50000 non-null  object        \n",
      " 9   id_ta            50000 non-null  object        \n",
      " 10  population       50000 non-null  int64         \n",
      " 11  tourism          50000 non-null  int64         \n",
      " 12  words            41881 non-null  object        \n",
      " 13  date_last        50000 non-null  datetime64[ns]\n",
      " 14  date_prev        50000 non-null  datetime64[ns]\n",
      " 15  timedelta        50000 non-null  int64         \n",
      " 16  date_last_delta  50000 non-null  int64         \n",
      " 17  adjs             39049 non-null  object        \n",
      " 18  nouns            40267 non-null  object        \n",
      " 19  native_yn        50000 non-null  int64         \n",
      " 20  rests_plotn      50000 non-null  float64       \n",
      " 21  tourist_plotn    50000 non-null  float64       \n",
      " 22  sample           50000 non-null  int64         \n",
      "dtypes: datetime64[ns](2), float64(5), int64(6), object(10)\n",
      "memory usage: 8.8+ MB\n"
     ]
    }
   ],
   "source": [
    "data.info()"
   ]
  },
  {
   "cell_type": "markdown",
   "metadata": {},
   "source": [
    "В функции ниже происходит подготовка данных для модели.  \n",
    "* Создание get_dummies для столбца city\n",
    "* Создание get_dummies для столбцы слов \n",
    "* Заполнение пробелов с столбцах средним\n",
    "* Приведение столбцы price_range к числовому виду"
   ]
  },
  {
   "cell_type": "markdown",
   "metadata": {},
   "source": [
    "*Примечание. после расчета MAE  - кухни, и слова были убраны из подгтовки*"
   ]
  },
  {
   "cell_type": "code",
   "execution_count": 57,
   "metadata": {},
   "outputs": [],
   "source": [
    "data_all = DataPrep(data)\n",
    "#data.cuis_dums()\n",
    "#data_all.nouns_add()\n",
    "#data_all.adjs_add()\n",
    "data_all.city_dums()\n",
    "data_all.price_fill()\n",
    "data_all.fill_na()\n",
    "data_all.drops()\n",
    "data_all = data_all.data"
   ]
  },
  {
   "cell_type": "code",
   "execution_count": 58,
   "metadata": {},
   "outputs": [
    {
     "data": {
      "text/html": [
       "<div>\n",
       "<style scoped>\n",
       "    .dataframe tbody tr th:only-of-type {\n",
       "        vertical-align: middle;\n",
       "    }\n",
       "\n",
       "    .dataframe tbody tr th {\n",
       "        vertical-align: top;\n",
       "    }\n",
       "\n",
       "    .dataframe thead th {\n",
       "        text-align: right;\n",
       "    }\n",
       "</style>\n",
       "<table border=\"1\" class=\"dataframe\">\n",
       "  <thead>\n",
       "    <tr style=\"text-align: right;\">\n",
       "      <th></th>\n",
       "      <th>ranking</th>\n",
       "      <th>rating</th>\n",
       "      <th>price_range</th>\n",
       "      <th>numbs_reviews</th>\n",
       "      <th>population</th>\n",
       "      <th>tourism</th>\n",
       "      <th>timedelta</th>\n",
       "      <th>date_last_delta</th>\n",
       "      <th>native_yn</th>\n",
       "      <th>rests_plotn</th>\n",
       "      <th>tourist_plotn</th>\n",
       "      <th>sample</th>\n",
       "      <th>city_Amsterdam</th>\n",
       "      <th>city_Athens</th>\n",
       "      <th>city_Barcelona</th>\n",
       "      <th>city_Berlin</th>\n",
       "      <th>city_Bratislava</th>\n",
       "      <th>city_Brussels</th>\n",
       "      <th>city_Budapest</th>\n",
       "      <th>city_Copenhagen</th>\n",
       "      <th>city_Dublin</th>\n",
       "      <th>city_Edinburgh</th>\n",
       "      <th>city_Geneva</th>\n",
       "      <th>city_Hamburg</th>\n",
       "      <th>city_Helsinki</th>\n",
       "      <th>city_Krakow</th>\n",
       "      <th>city_Lisbon</th>\n",
       "      <th>city_Ljubljana</th>\n",
       "      <th>city_London</th>\n",
       "      <th>city_Luxembourg</th>\n",
       "      <th>city_Lyon</th>\n",
       "      <th>city_Madrid</th>\n",
       "      <th>city_Milan</th>\n",
       "      <th>city_Munich</th>\n",
       "      <th>city_Oporto</th>\n",
       "      <th>city_Oslo</th>\n",
       "      <th>city_Paris</th>\n",
       "      <th>city_Prague</th>\n",
       "      <th>city_Rome</th>\n",
       "      <th>city_Stockholm</th>\n",
       "      <th>city_Vienna</th>\n",
       "      <th>city_Warsaw</th>\n",
       "      <th>city_Zurich</th>\n",
       "    </tr>\n",
       "    <tr>\n",
       "      <th>res_id</th>\n",
       "      <th></th>\n",
       "      <th></th>\n",
       "      <th></th>\n",
       "      <th></th>\n",
       "      <th></th>\n",
       "      <th></th>\n",
       "      <th></th>\n",
       "      <th></th>\n",
       "      <th></th>\n",
       "      <th></th>\n",
       "      <th></th>\n",
       "      <th></th>\n",
       "      <th></th>\n",
       "      <th></th>\n",
       "      <th></th>\n",
       "      <th></th>\n",
       "      <th></th>\n",
       "      <th></th>\n",
       "      <th></th>\n",
       "      <th></th>\n",
       "      <th></th>\n",
       "      <th></th>\n",
       "      <th></th>\n",
       "      <th></th>\n",
       "      <th></th>\n",
       "      <th></th>\n",
       "      <th></th>\n",
       "      <th></th>\n",
       "      <th></th>\n",
       "      <th></th>\n",
       "      <th></th>\n",
       "      <th></th>\n",
       "      <th></th>\n",
       "      <th></th>\n",
       "      <th></th>\n",
       "      <th></th>\n",
       "      <th></th>\n",
       "      <th></th>\n",
       "      <th></th>\n",
       "      <th></th>\n",
       "      <th></th>\n",
       "      <th></th>\n",
       "      <th></th>\n",
       "    </tr>\n",
       "  </thead>\n",
       "  <tbody>\n",
       "    <tr>\n",
       "      <th>id_2536_Rome</th>\n",
       "      <td>43.7</td>\n",
       "      <td>4.5</td>\n",
       "      <td>1.0</td>\n",
       "      <td>75.0</td>\n",
       "      <td>2872800</td>\n",
       "      <td>28992098</td>\n",
       "      <td>74</td>\n",
       "      <td>67</td>\n",
       "      <td>1</td>\n",
       "      <td>483.1483</td>\n",
       "      <td>4875.8994</td>\n",
       "      <td>1</td>\n",
       "      <td>0</td>\n",
       "      <td>0</td>\n",
       "      <td>0</td>\n",
       "      <td>0</td>\n",
       "      <td>0</td>\n",
       "      <td>0</td>\n",
       "      <td>0</td>\n",
       "      <td>0</td>\n",
       "      <td>0</td>\n",
       "      <td>0</td>\n",
       "      <td>0</td>\n",
       "      <td>0</td>\n",
       "      <td>0</td>\n",
       "      <td>0</td>\n",
       "      <td>0</td>\n",
       "      <td>0</td>\n",
       "      <td>0</td>\n",
       "      <td>0</td>\n",
       "      <td>0</td>\n",
       "      <td>0</td>\n",
       "      <td>0</td>\n",
       "      <td>0</td>\n",
       "      <td>0</td>\n",
       "      <td>0</td>\n",
       "      <td>0</td>\n",
       "      <td>0</td>\n",
       "      <td>1</td>\n",
       "      <td>0</td>\n",
       "      <td>0</td>\n",
       "      <td>0</td>\n",
       "      <td>0</td>\n",
       "    </tr>\n",
       "    <tr>\n",
       "      <th>id_1292_Edinburgh</th>\n",
       "      <td>74.2</td>\n",
       "      <td>4.0</td>\n",
       "      <td>2.0</td>\n",
       "      <td>73.0</td>\n",
       "      <td>488100</td>\n",
       "      <td>4014000</td>\n",
       "      <td>112</td>\n",
       "      <td>210</td>\n",
       "      <td>0</td>\n",
       "      <td>276.3873</td>\n",
       "      <td>2272.9332</td>\n",
       "      <td>1</td>\n",
       "      <td>0</td>\n",
       "      <td>0</td>\n",
       "      <td>0</td>\n",
       "      <td>0</td>\n",
       "      <td>0</td>\n",
       "      <td>0</td>\n",
       "      <td>0</td>\n",
       "      <td>0</td>\n",
       "      <td>0</td>\n",
       "      <td>1</td>\n",
       "      <td>0</td>\n",
       "      <td>0</td>\n",
       "      <td>0</td>\n",
       "      <td>0</td>\n",
       "      <td>0</td>\n",
       "      <td>0</td>\n",
       "      <td>0</td>\n",
       "      <td>0</td>\n",
       "      <td>0</td>\n",
       "      <td>0</td>\n",
       "      <td>0</td>\n",
       "      <td>0</td>\n",
       "      <td>0</td>\n",
       "      <td>0</td>\n",
       "      <td>0</td>\n",
       "      <td>0</td>\n",
       "      <td>0</td>\n",
       "      <td>0</td>\n",
       "      <td>0</td>\n",
       "      <td>0</td>\n",
       "      <td>0</td>\n",
       "    </tr>\n",
       "    <tr>\n",
       "      <th>id_3406_Paris</th>\n",
       "      <td>45.8</td>\n",
       "      <td>0.0</td>\n",
       "      <td>0.0</td>\n",
       "      <td>15.0</td>\n",
       "      <td>9803494</td>\n",
       "      <td>67346921</td>\n",
       "      <td>160</td>\n",
       "      <td>590</td>\n",
       "      <td>0</td>\n",
       "      <td>700.9505</td>\n",
       "      <td>4815.3097</td>\n",
       "      <td>0</td>\n",
       "      <td>0</td>\n",
       "      <td>0</td>\n",
       "      <td>0</td>\n",
       "      <td>0</td>\n",
       "      <td>0</td>\n",
       "      <td>0</td>\n",
       "      <td>0</td>\n",
       "      <td>0</td>\n",
       "      <td>0</td>\n",
       "      <td>0</td>\n",
       "      <td>0</td>\n",
       "      <td>0</td>\n",
       "      <td>0</td>\n",
       "      <td>0</td>\n",
       "      <td>0</td>\n",
       "      <td>0</td>\n",
       "      <td>0</td>\n",
       "      <td>0</td>\n",
       "      <td>0</td>\n",
       "      <td>0</td>\n",
       "      <td>0</td>\n",
       "      <td>0</td>\n",
       "      <td>0</td>\n",
       "      <td>0</td>\n",
       "      <td>1</td>\n",
       "      <td>0</td>\n",
       "      <td>0</td>\n",
       "      <td>0</td>\n",
       "      <td>0</td>\n",
       "      <td>0</td>\n",
       "      <td>0</td>\n",
       "    </tr>\n",
       "  </tbody>\n",
       "</table>\n",
       "</div>"
      ],
      "text/plain": [
       "                   ranking  rating  price_range  numbs_reviews  population  \\\n",
       "res_id                                                                       \n",
       "id_2536_Rome          43.7     4.5          1.0           75.0     2872800   \n",
       "id_1292_Edinburgh     74.2     4.0          2.0           73.0      488100   \n",
       "id_3406_Paris         45.8     0.0          0.0           15.0     9803494   \n",
       "\n",
       "                    tourism  timedelta  date_last_delta  native_yn  \\\n",
       "res_id                                                               \n",
       "id_2536_Rome       28992098         74               67          1   \n",
       "id_1292_Edinburgh   4014000        112              210          0   \n",
       "id_3406_Paris      67346921        160              590          0   \n",
       "\n",
       "                   rests_plotn  tourist_plotn  sample  city_Amsterdam  \\\n",
       "res_id                                                                  \n",
       "id_2536_Rome          483.1483      4875.8994       1               0   \n",
       "id_1292_Edinburgh     276.3873      2272.9332       1               0   \n",
       "id_3406_Paris         700.9505      4815.3097       0               0   \n",
       "\n",
       "                   city_Athens  city_Barcelona  city_Berlin  city_Bratislava  \\\n",
       "res_id                                                                         \n",
       "id_2536_Rome                 0               0            0                0   \n",
       "id_1292_Edinburgh            0               0            0                0   \n",
       "id_3406_Paris                0               0            0                0   \n",
       "\n",
       "                   city_Brussels  city_Budapest  city_Copenhagen  city_Dublin  \\\n",
       "res_id                                                                          \n",
       "id_2536_Rome                   0              0                0            0   \n",
       "id_1292_Edinburgh              0              0                0            0   \n",
       "id_3406_Paris                  0              0                0            0   \n",
       "\n",
       "                   city_Edinburgh  city_Geneva  city_Hamburg  city_Helsinki  \\\n",
       "res_id                                                                        \n",
       "id_2536_Rome                    0            0             0              0   \n",
       "id_1292_Edinburgh               1            0             0              0   \n",
       "id_3406_Paris                   0            0             0              0   \n",
       "\n",
       "                   city_Krakow  city_Lisbon  city_Ljubljana  city_London  \\\n",
       "res_id                                                                     \n",
       "id_2536_Rome                 0            0               0            0   \n",
       "id_1292_Edinburgh            0            0               0            0   \n",
       "id_3406_Paris                0            0               0            0   \n",
       "\n",
       "                   city_Luxembourg  city_Lyon  city_Madrid  city_Milan  \\\n",
       "res_id                                                                   \n",
       "id_2536_Rome                     0          0            0           0   \n",
       "id_1292_Edinburgh                0          0            0           0   \n",
       "id_3406_Paris                    0          0            0           0   \n",
       "\n",
       "                   city_Munich  city_Oporto  city_Oslo  city_Paris  \\\n",
       "res_id                                                               \n",
       "id_2536_Rome                 0            0          0           0   \n",
       "id_1292_Edinburgh            0            0          0           0   \n",
       "id_3406_Paris                0            0          0           1   \n",
       "\n",
       "                   city_Prague  city_Rome  city_Stockholm  city_Vienna  \\\n",
       "res_id                                                                   \n",
       "id_2536_Rome                 0          1               0            0   \n",
       "id_1292_Edinburgh            0          0               0            0   \n",
       "id_3406_Paris                0          0               0            0   \n",
       "\n",
       "                   city_Warsaw  city_Zurich  \n",
       "res_id                                       \n",
       "id_2536_Rome                 0            0  \n",
       "id_1292_Edinburgh            0            0  \n",
       "id_3406_Paris                0            0  "
      ]
     },
     "execution_count": 58,
     "metadata": {},
     "output_type": "execute_result"
    }
   ],
   "source": [
    "data_all.sample(3)"
   ]
  },
  {
   "cell_type": "code",
   "execution_count": 60,
   "metadata": {},
   "outputs": [],
   "source": [
    "train_data = data_all.query('sample == 1').drop(['sample'], axis=1)\n",
    "test_data = data_all.query('sample == 0').drop(['sample'], axis=1)"
   ]
  },
  {
   "cell_type": "code",
   "execution_count": 61,
   "metadata": {},
   "outputs": [
    {
     "name": "stderr",
     "output_type": "stream",
     "text": [
      "[Parallel(n_jobs=1)]: Using backend SequentialBackend with 1 concurrent workers.\n",
      "[Parallel(n_jobs=1)]: Done 100 out of 100 | elapsed:   35.4s finished\n",
      "[Parallel(n_jobs=1)]: Using backend SequentialBackend with 1 concurrent workers.\n",
      "[Parallel(n_jobs=1)]: Done 100 out of 100 | elapsed:    0.4s finished\n"
     ]
    }
   ],
   "source": [
    "# Х - данные с информацией о ресторанах, у - целевая переменная (рейтинги ресторанов)\n",
    "X = train_data.drop(['rating'], axis = 1)\n",
    "y = train_data['rating'].values\n",
    "\n",
    "X_train, X_test, y_train, y_test = train_test_split(X, y, test_size=0.25, random_state = RANDOM_SEED)\n",
    "# Создаём модель\n",
    "regr = RandomForestRegressor(n_estimators=100, verbose=1, n_jobs=1, random_state=RANDOM_SEED)\n",
    "\n",
    "# Обучаем модель на тестовом наборе данных\n",
    "regr.fit(X_train, y_train)\n",
    "\n",
    "# Используем обученную модель для предсказания рейтинга ресторанов в тестовой выборке.\n",
    "# Предсказанные значения записываем в переменную y_pred\n",
    "y_pred = regr.predict(X_test)\n",
    "y_pred = np.round(y_pred*2,0)/2"
   ]
  },
  {
   "cell_type": "code",
   "execution_count": 63,
   "metadata": {},
   "outputs": [
    {
     "name": "stdout",
     "output_type": "stream",
     "text": [
      "MAE: 0.17005\n"
     ]
    },
    {
     "data": {
      "text/plain": [
       "<matplotlib.axes._subplots.AxesSubplot at 0x29207de8348>"
      ]
     },
     "execution_count": 63,
     "metadata": {},
     "output_type": "execute_result"
    },
    {
     "data": {
      "image/png": "[encoded data removed]",
      "text/plain": [
       "<Figure size 720x720 with 1 Axes>"
      ]
     },
     "metadata": {
      "needs_background": "light"
     },
     "output_type": "display_data"
    }
   ],
   "source": [
    "print('MAE:', metrics.mean_absolute_error(y_test, y_pred))\n",
    "feat_importances = pd.Series(regr.feature_importances_, index=X.columns)\n",
    "plt.figure(figsize=(10,10))\n",
    "feat_importances.sort_values(ascending=False).nlargest(10).plot(kind='barh')"
   ]
  },
  {
   "cell_type": "markdown",
   "metadata": {},
   "source": [
    "# KAGGLE"
   ]
  },
  {
   "cell_type": "code",
   "execution_count": 64,
   "metadata": {},
   "outputs": [
    {
     "data": {
      "text/html": [
       "<div>\n",
       "<style scoped>\n",
       "    .dataframe tbody tr th:only-of-type {\n",
       "        vertical-align: middle;\n",
       "    }\n",
       "\n",
       "    .dataframe tbody tr th {\n",
       "        vertical-align: top;\n",
       "    }\n",
       "\n",
       "    .dataframe thead th {\n",
       "        text-align: right;\n",
       "    }\n",
       "</style>\n",
       "<table border=\"1\" class=\"dataframe\">\n",
       "  <thead>\n",
       "    <tr style=\"text-align: right;\">\n",
       "      <th></th>\n",
       "      <th>ranking</th>\n",
       "      <th>rating</th>\n",
       "      <th>price_range</th>\n",
       "      <th>numbs_reviews</th>\n",
       "      <th>population</th>\n",
       "      <th>tourism</th>\n",
       "      <th>timedelta</th>\n",
       "      <th>date_last_delta</th>\n",
       "      <th>native_yn</th>\n",
       "      <th>rests_plotn</th>\n",
       "      <th>tourist_plotn</th>\n",
       "      <th>city_Amsterdam</th>\n",
       "      <th>city_Athens</th>\n",
       "      <th>city_Barcelona</th>\n",
       "      <th>city_Berlin</th>\n",
       "      <th>city_Bratislava</th>\n",
       "      <th>city_Brussels</th>\n",
       "      <th>city_Budapest</th>\n",
       "      <th>city_Copenhagen</th>\n",
       "      <th>city_Dublin</th>\n",
       "      <th>city_Edinburgh</th>\n",
       "      <th>city_Geneva</th>\n",
       "      <th>city_Hamburg</th>\n",
       "      <th>city_Helsinki</th>\n",
       "      <th>city_Krakow</th>\n",
       "      <th>city_Lisbon</th>\n",
       "      <th>city_Ljubljana</th>\n",
       "      <th>city_London</th>\n",
       "      <th>city_Luxembourg</th>\n",
       "      <th>city_Lyon</th>\n",
       "      <th>city_Madrid</th>\n",
       "      <th>city_Milan</th>\n",
       "      <th>city_Munich</th>\n",
       "      <th>city_Oporto</th>\n",
       "      <th>city_Oslo</th>\n",
       "      <th>city_Paris</th>\n",
       "      <th>city_Prague</th>\n",
       "      <th>city_Rome</th>\n",
       "      <th>city_Stockholm</th>\n",
       "      <th>city_Vienna</th>\n",
       "      <th>city_Warsaw</th>\n",
       "      <th>city_Zurich</th>\n",
       "    </tr>\n",
       "    <tr>\n",
       "      <th>res_id</th>\n",
       "      <th></th>\n",
       "      <th></th>\n",
       "      <th></th>\n",
       "      <th></th>\n",
       "      <th></th>\n",
       "      <th></th>\n",
       "      <th></th>\n",
       "      <th></th>\n",
       "      <th></th>\n",
       "      <th></th>\n",
       "      <th></th>\n",
       "      <th></th>\n",
       "      <th></th>\n",
       "      <th></th>\n",
       "      <th></th>\n",
       "      <th></th>\n",
       "      <th></th>\n",
       "      <th></th>\n",
       "      <th></th>\n",
       "      <th></th>\n",
       "      <th></th>\n",
       "      <th></th>\n",
       "      <th></th>\n",
       "      <th></th>\n",
       "      <th></th>\n",
       "      <th></th>\n",
       "      <th></th>\n",
       "      <th></th>\n",
       "      <th></th>\n",
       "      <th></th>\n",
       "      <th></th>\n",
       "      <th></th>\n",
       "      <th></th>\n",
       "      <th></th>\n",
       "      <th></th>\n",
       "      <th></th>\n",
       "      <th></th>\n",
       "      <th></th>\n",
       "      <th></th>\n",
       "      <th></th>\n",
       "      <th></th>\n",
       "      <th></th>\n",
       "    </tr>\n",
       "  </thead>\n",
       "  <tbody>\n",
       "    <tr>\n",
       "      <th>id_2534_Paris</th>\n",
       "      <td>61.8</td>\n",
       "      <td>0.0</td>\n",
       "      <td>1.0</td>\n",
       "      <td>9.0</td>\n",
       "      <td>9803494</td>\n",
       "      <td>67346921</td>\n",
       "      <td>0</td>\n",
       "      <td>858</td>\n",
       "      <td>0</td>\n",
       "      <td>700.9505</td>\n",
       "      <td>4815.3097</td>\n",
       "      <td>0</td>\n",
       "      <td>0</td>\n",
       "      <td>0</td>\n",
       "      <td>0</td>\n",
       "      <td>0</td>\n",
       "      <td>0</td>\n",
       "      <td>0</td>\n",
       "      <td>0</td>\n",
       "      <td>0</td>\n",
       "      <td>0</td>\n",
       "      <td>0</td>\n",
       "      <td>0</td>\n",
       "      <td>0</td>\n",
       "      <td>0</td>\n",
       "      <td>0</td>\n",
       "      <td>0</td>\n",
       "      <td>0</td>\n",
       "      <td>0</td>\n",
       "      <td>0</td>\n",
       "      <td>0</td>\n",
       "      <td>0</td>\n",
       "      <td>0</td>\n",
       "      <td>0</td>\n",
       "      <td>0</td>\n",
       "      <td>1</td>\n",
       "      <td>0</td>\n",
       "      <td>0</td>\n",
       "      <td>0</td>\n",
       "      <td>0</td>\n",
       "      <td>0</td>\n",
       "      <td>0</td>\n",
       "    </tr>\n",
       "    <tr>\n",
       "      <th>id_9645_Budapest</th>\n",
       "      <td>1.5</td>\n",
       "      <td>0.0</td>\n",
       "      <td>2.0</td>\n",
       "      <td>387.0</td>\n",
       "      <td>1749734</td>\n",
       "      <td>10347717</td>\n",
       "      <td>1</td>\n",
       "      <td>50</td>\n",
       "      <td>0</td>\n",
       "      <td>717.6924</td>\n",
       "      <td>4244.3466</td>\n",
       "      <td>0</td>\n",
       "      <td>0</td>\n",
       "      <td>0</td>\n",
       "      <td>0</td>\n",
       "      <td>0</td>\n",
       "      <td>0</td>\n",
       "      <td>1</td>\n",
       "      <td>0</td>\n",
       "      <td>0</td>\n",
       "      <td>0</td>\n",
       "      <td>0</td>\n",
       "      <td>0</td>\n",
       "      <td>0</td>\n",
       "      <td>0</td>\n",
       "      <td>0</td>\n",
       "      <td>0</td>\n",
       "      <td>0</td>\n",
       "      <td>0</td>\n",
       "      <td>0</td>\n",
       "      <td>0</td>\n",
       "      <td>0</td>\n",
       "      <td>0</td>\n",
       "      <td>0</td>\n",
       "      <td>0</td>\n",
       "      <td>0</td>\n",
       "      <td>0</td>\n",
       "      <td>0</td>\n",
       "      <td>0</td>\n",
       "      <td>0</td>\n",
       "      <td>0</td>\n",
       "      <td>0</td>\n",
       "    </tr>\n",
       "    <tr>\n",
       "      <th>id_1700_Amsterdam</th>\n",
       "      <td>48.0</td>\n",
       "      <td>0.0</td>\n",
       "      <td>1.0</td>\n",
       "      <td>11.0</td>\n",
       "      <td>960402</td>\n",
       "      <td>12538000</td>\n",
       "      <td>4</td>\n",
       "      <td>183</td>\n",
       "      <td>0</td>\n",
       "      <td>295.5993</td>\n",
       "      <td>3859.0335</td>\n",
       "      <td>1</td>\n",
       "      <td>0</td>\n",
       "      <td>0</td>\n",
       "      <td>0</td>\n",
       "      <td>0</td>\n",
       "      <td>0</td>\n",
       "      <td>0</td>\n",
       "      <td>0</td>\n",
       "      <td>0</td>\n",
       "      <td>0</td>\n",
       "      <td>0</td>\n",
       "      <td>0</td>\n",
       "      <td>0</td>\n",
       "      <td>0</td>\n",
       "      <td>0</td>\n",
       "      <td>0</td>\n",
       "      <td>0</td>\n",
       "      <td>0</td>\n",
       "      <td>0</td>\n",
       "      <td>0</td>\n",
       "      <td>0</td>\n",
       "      <td>0</td>\n",
       "      <td>0</td>\n",
       "      <td>0</td>\n",
       "      <td>0</td>\n",
       "      <td>0</td>\n",
       "      <td>0</td>\n",
       "      <td>0</td>\n",
       "      <td>0</td>\n",
       "      <td>0</td>\n",
       "      <td>0</td>\n",
       "    </tr>\n",
       "    <tr>\n",
       "      <th>id_1070_Berlin</th>\n",
       "      <td>26.3</td>\n",
       "      <td>0.0</td>\n",
       "      <td>2.0</td>\n",
       "      <td>25.0</td>\n",
       "      <td>3613495</td>\n",
       "      <td>31150090</td>\n",
       "      <td>885</td>\n",
       "      <td>213</td>\n",
       "      <td>0</td>\n",
       "      <td>567.0896</td>\n",
       "      <td>4888.5891</td>\n",
       "      <td>0</td>\n",
       "      <td>0</td>\n",
       "      <td>0</td>\n",
       "      <td>1</td>\n",
       "      <td>0</td>\n",
       "      <td>0</td>\n",
       "      <td>0</td>\n",
       "      <td>0</td>\n",
       "      <td>0</td>\n",
       "      <td>0</td>\n",
       "      <td>0</td>\n",
       "      <td>0</td>\n",
       "      <td>0</td>\n",
       "      <td>0</td>\n",
       "      <td>0</td>\n",
       "      <td>0</td>\n",
       "      <td>0</td>\n",
       "      <td>0</td>\n",
       "      <td>0</td>\n",
       "      <td>0</td>\n",
       "      <td>0</td>\n",
       "      <td>0</td>\n",
       "      <td>0</td>\n",
       "      <td>0</td>\n",
       "      <td>0</td>\n",
       "      <td>0</td>\n",
       "      <td>0</td>\n",
       "      <td>0</td>\n",
       "      <td>0</td>\n",
       "      <td>0</td>\n",
       "      <td>0</td>\n",
       "    </tr>\n",
       "    <tr>\n",
       "      <th>id_15_Paris</th>\n",
       "      <td>93.2</td>\n",
       "      <td>0.0</td>\n",
       "      <td>1.0</td>\n",
       "      <td>39.0</td>\n",
       "      <td>9803494</td>\n",
       "      <td>67346921</td>\n",
       "      <td>50</td>\n",
       "      <td>421</td>\n",
       "      <td>0</td>\n",
       "      <td>700.9505</td>\n",
       "      <td>4815.3097</td>\n",
       "      <td>0</td>\n",
       "      <td>0</td>\n",
       "      <td>0</td>\n",
       "      <td>0</td>\n",
       "      <td>0</td>\n",
       "      <td>0</td>\n",
       "      <td>0</td>\n",
       "      <td>0</td>\n",
       "      <td>0</td>\n",
       "      <td>0</td>\n",
       "      <td>0</td>\n",
       "      <td>0</td>\n",
       "      <td>0</td>\n",
       "      <td>0</td>\n",
       "      <td>0</td>\n",
       "      <td>0</td>\n",
       "      <td>0</td>\n",
       "      <td>0</td>\n",
       "      <td>0</td>\n",
       "      <td>0</td>\n",
       "      <td>0</td>\n",
       "      <td>0</td>\n",
       "      <td>0</td>\n",
       "      <td>0</td>\n",
       "      <td>1</td>\n",
       "      <td>0</td>\n",
       "      <td>0</td>\n",
       "      <td>0</td>\n",
       "      <td>0</td>\n",
       "      <td>0</td>\n",
       "      <td>0</td>\n",
       "    </tr>\n",
       "  </tbody>\n",
       "</table>\n",
       "</div>"
      ],
      "text/plain": [
       "                   ranking  rating  price_range  numbs_reviews  population  \\\n",
       "res_id                                                                       \n",
       "id_2534_Paris         61.8     0.0          1.0            9.0     9803494   \n",
       "id_9645_Budapest       1.5     0.0          2.0          387.0     1749734   \n",
       "id_1700_Amsterdam     48.0     0.0          1.0           11.0      960402   \n",
       "id_1070_Berlin        26.3     0.0          2.0           25.0     3613495   \n",
       "id_15_Paris           93.2     0.0          1.0           39.0     9803494   \n",
       "\n",
       "                    tourism  timedelta  date_last_delta  native_yn  \\\n",
       "res_id                                                               \n",
       "id_2534_Paris      67346921          0              858          0   \n",
       "id_9645_Budapest   10347717          1               50          0   \n",
       "id_1700_Amsterdam  12538000          4              183          0   \n",
       "id_1070_Berlin     31150090        885              213          0   \n",
       "id_15_Paris        67346921         50              421          0   \n",
       "\n",
       "                   rests_plotn  tourist_plotn  city_Amsterdam  city_Athens  \\\n",
       "res_id                                                                       \n",
       "id_2534_Paris         700.9505      4815.3097               0            0   \n",
       "id_9645_Budapest      717.6924      4244.3466               0            0   \n",
       "id_1700_Amsterdam     295.5993      3859.0335               1            0   \n",
       "id_1070_Berlin        567.0896      4888.5891               0            0   \n",
       "id_15_Paris           700.9505      4815.3097               0            0   \n",
       "\n",
       "                   city_Barcelona  city_Berlin  city_Bratislava  \\\n",
       "res_id                                                            \n",
       "id_2534_Paris                   0            0                0   \n",
       "id_9645_Budapest                0            0                0   \n",
       "id_1700_Amsterdam               0            0                0   \n",
       "id_1070_Berlin                  0            1                0   \n",
       "id_15_Paris                     0            0                0   \n",
       "\n",
       "                   city_Brussels  city_Budapest  city_Copenhagen  city_Dublin  \\\n",
       "res_id                                                                          \n",
       "id_2534_Paris                  0              0                0            0   \n",
       "id_9645_Budapest               0              1                0            0   \n",
       "id_1700_Amsterdam              0              0                0            0   \n",
       "id_1070_Berlin                 0              0                0            0   \n",
       "id_15_Paris                    0              0                0            0   \n",
       "\n",
       "                   city_Edinburgh  city_Geneva  city_Hamburg  city_Helsinki  \\\n",
       "res_id                                                                        \n",
       "id_2534_Paris                   0            0             0              0   \n",
       "id_9645_Budapest                0            0             0              0   \n",
       "id_1700_Amsterdam               0            0             0              0   \n",
       "id_1070_Berlin                  0            0             0              0   \n",
       "id_15_Paris                     0            0             0              0   \n",
       "\n",
       "                   city_Krakow  city_Lisbon  city_Ljubljana  city_London  \\\n",
       "res_id                                                                     \n",
       "id_2534_Paris                0            0               0            0   \n",
       "id_9645_Budapest             0            0               0            0   \n",
       "id_1700_Amsterdam            0            0               0            0   \n",
       "id_1070_Berlin               0            0               0            0   \n",
       "id_15_Paris                  0            0               0            0   \n",
       "\n",
       "                   city_Luxembourg  city_Lyon  city_Madrid  city_Milan  \\\n",
       "res_id                                                                   \n",
       "id_2534_Paris                    0          0            0           0   \n",
       "id_9645_Budapest                 0          0            0           0   \n",
       "id_1700_Amsterdam                0          0            0           0   \n",
       "id_1070_Berlin                   0          0            0           0   \n",
       "id_15_Paris                      0          0            0           0   \n",
       "\n",
       "                   city_Munich  city_Oporto  city_Oslo  city_Paris  \\\n",
       "res_id                                                               \n",
       "id_2534_Paris                0            0          0           1   \n",
       "id_9645_Budapest             0            0          0           0   \n",
       "id_1700_Amsterdam            0            0          0           0   \n",
       "id_1070_Berlin               0            0          0           0   \n",
       "id_15_Paris                  0            0          0           1   \n",
       "\n",
       "                   city_Prague  city_Rome  city_Stockholm  city_Vienna  \\\n",
       "res_id                                                                   \n",
       "id_2534_Paris                0          0               0            0   \n",
       "id_9645_Budapest             0          0               0            0   \n",
       "id_1700_Amsterdam            0          0               0            0   \n",
       "id_1070_Berlin               0          0               0            0   \n",
       "id_15_Paris                  0          0               0            0   \n",
       "\n",
       "                   city_Warsaw  city_Zurich  \n",
       "res_id                                       \n",
       "id_2534_Paris                0            0  \n",
       "id_9645_Budapest             0            0  \n",
       "id_1700_Amsterdam            0            0  \n",
       "id_1070_Berlin               0            0  \n",
       "id_15_Paris                  0            0  "
      ]
     },
     "execution_count": 64,
     "metadata": {},
     "output_type": "execute_result"
    }
   ],
   "source": [
    "test_data.sample(5)"
   ]
  },
  {
   "cell_type": "code",
   "execution_count": 65,
   "metadata": {},
   "outputs": [],
   "source": [
    "test_data = test_data.drop(['rating'], axis=1)"
   ]
  },
  {
   "cell_type": "code",
   "execution_count": 66,
   "metadata": {},
   "outputs": [
    {
     "data": {
      "text/html": [
       "<div>\n",
       "<style scoped>\n",
       "    .dataframe tbody tr th:only-of-type {\n",
       "        vertical-align: middle;\n",
       "    }\n",
       "\n",
       "    .dataframe tbody tr th {\n",
       "        vertical-align: top;\n",
       "    }\n",
       "\n",
       "    .dataframe thead th {\n",
       "        text-align: right;\n",
       "    }\n",
       "</style>\n",
       "<table border=\"1\" class=\"dataframe\">\n",
       "  <thead>\n",
       "    <tr style=\"text-align: right;\">\n",
       "      <th></th>\n",
       "      <th>Restaurant_id</th>\n",
       "      <th>Rating</th>\n",
       "    </tr>\n",
       "  </thead>\n",
       "  <tbody>\n",
       "    <tr>\n",
       "      <th>0</th>\n",
       "      <td>id_0</td>\n",
       "      <td>2.0</td>\n",
       "    </tr>\n",
       "    <tr>\n",
       "      <th>1</th>\n",
       "      <td>id_1</td>\n",
       "      <td>2.5</td>\n",
       "    </tr>\n",
       "    <tr>\n",
       "      <th>2</th>\n",
       "      <td>id_2</td>\n",
       "      <td>4.0</td>\n",
       "    </tr>\n",
       "    <tr>\n",
       "      <th>3</th>\n",
       "      <td>id_3</td>\n",
       "      <td>1.0</td>\n",
       "    </tr>\n",
       "    <tr>\n",
       "      <th>4</th>\n",
       "      <td>id_4</td>\n",
       "      <td>4.0</td>\n",
       "    </tr>\n",
       "    <tr>\n",
       "      <th>...</th>\n",
       "      <td>...</td>\n",
       "      <td>...</td>\n",
       "    </tr>\n",
       "    <tr>\n",
       "      <th>9995</th>\n",
       "      <td>id_9995</td>\n",
       "      <td>3.0</td>\n",
       "    </tr>\n",
       "    <tr>\n",
       "      <th>9996</th>\n",
       "      <td>id_9996</td>\n",
       "      <td>1.5</td>\n",
       "    </tr>\n",
       "    <tr>\n",
       "      <th>9997</th>\n",
       "      <td>id_9997</td>\n",
       "      <td>4.5</td>\n",
       "    </tr>\n",
       "    <tr>\n",
       "      <th>9998</th>\n",
       "      <td>id_9998</td>\n",
       "      <td>1.0</td>\n",
       "    </tr>\n",
       "    <tr>\n",
       "      <th>9999</th>\n",
       "      <td>id_9999</td>\n",
       "      <td>2.5</td>\n",
       "    </tr>\n",
       "  </tbody>\n",
       "</table>\n",
       "<p>10000 rows × 2 columns</p>\n",
       "</div>"
      ],
      "text/plain": [
       "     Restaurant_id  Rating\n",
       "0             id_0     2.0\n",
       "1             id_1     2.5\n",
       "2             id_2     4.0\n",
       "3             id_3     1.0\n",
       "4             id_4     4.0\n",
       "...            ...     ...\n",
       "9995       id_9995     3.0\n",
       "9996       id_9996     1.5\n",
       "9997       id_9997     4.5\n",
       "9998       id_9998     1.0\n",
       "9999       id_9999     2.5\n",
       "\n",
       "[10000 rows x 2 columns]"
      ]
     },
     "execution_count": 66,
     "metadata": {},
     "output_type": "execute_result"
    }
   ],
   "source": [
    "sample_submission = pd.read_csv('sample_submission_orig.csv')\n",
    "sample_submission"
   ]
  },
  {
   "cell_type": "code",
   "execution_count": 67,
   "metadata": {},
   "outputs": [
    {
     "name": "stderr",
     "output_type": "stream",
     "text": [
      "[Parallel(n_jobs=1)]: Using backend SequentialBackend with 1 concurrent workers.\n",
      "[Parallel(n_jobs=1)]: Done 100 out of 100 | elapsed:    0.3s finished\n"
     ]
    },
    {
     "data": {
      "text/plain": [
       "array([3. , 4. , 4.5, ..., 3. , 4.5, 4.5])"
      ]
     },
     "execution_count": 67,
     "metadata": {},
     "output_type": "execute_result"
    }
   ],
   "source": [
    "predict_submission = regr.predict(test_data)\n",
    "predict_submission = np.round(predict_submission*2,0)/2\n",
    "predict_submission"
   ]
  },
  {
   "cell_type": "code",
   "execution_count": 68,
   "metadata": {},
   "outputs": [
    {
     "data": {
      "text/html": [
       "<div>\n",
       "<style scoped>\n",
       "    .dataframe tbody tr th:only-of-type {\n",
       "        vertical-align: middle;\n",
       "    }\n",
       "\n",
       "    .dataframe tbody tr th {\n",
       "        vertical-align: top;\n",
       "    }\n",
       "\n",
       "    .dataframe thead th {\n",
       "        text-align: right;\n",
       "    }\n",
       "</style>\n",
       "<table border=\"1\" class=\"dataframe\">\n",
       "  <thead>\n",
       "    <tr style=\"text-align: right;\">\n",
       "      <th></th>\n",
       "      <th>Restaurant_id</th>\n",
       "      <th>Rating</th>\n",
       "    </tr>\n",
       "  </thead>\n",
       "  <tbody>\n",
       "    <tr>\n",
       "      <th>0</th>\n",
       "      <td>id_0</td>\n",
       "      <td>3.0</td>\n",
       "    </tr>\n",
       "    <tr>\n",
       "      <th>1</th>\n",
       "      <td>id_1</td>\n",
       "      <td>4.0</td>\n",
       "    </tr>\n",
       "    <tr>\n",
       "      <th>2</th>\n",
       "      <td>id_2</td>\n",
       "      <td>4.5</td>\n",
       "    </tr>\n",
       "    <tr>\n",
       "      <th>3</th>\n",
       "      <td>id_3</td>\n",
       "      <td>4.5</td>\n",
       "    </tr>\n",
       "    <tr>\n",
       "      <th>4</th>\n",
       "      <td>id_4</td>\n",
       "      <td>4.5</td>\n",
       "    </tr>\n",
       "    <tr>\n",
       "      <th>5</th>\n",
       "      <td>id_5</td>\n",
       "      <td>4.5</td>\n",
       "    </tr>\n",
       "    <tr>\n",
       "      <th>6</th>\n",
       "      <td>id_6</td>\n",
       "      <td>1.5</td>\n",
       "    </tr>\n",
       "    <tr>\n",
       "      <th>7</th>\n",
       "      <td>id_7</td>\n",
       "      <td>3.5</td>\n",
       "    </tr>\n",
       "    <tr>\n",
       "      <th>8</th>\n",
       "      <td>id_8</td>\n",
       "      <td>4.0</td>\n",
       "    </tr>\n",
       "    <tr>\n",
       "      <th>9</th>\n",
       "      <td>id_9</td>\n",
       "      <td>4.5</td>\n",
       "    </tr>\n",
       "  </tbody>\n",
       "</table>\n",
       "</div>"
      ],
      "text/plain": [
       "  Restaurant_id  Rating\n",
       "0          id_0     3.0\n",
       "1          id_1     4.0\n",
       "2          id_2     4.5\n",
       "3          id_3     4.5\n",
       "4          id_4     4.5\n",
       "5          id_5     4.5\n",
       "6          id_6     1.5\n",
       "7          id_7     3.5\n",
       "8          id_8     4.0\n",
       "9          id_9     4.5"
      ]
     },
     "execution_count": 68,
     "metadata": {},
     "output_type": "execute_result"
    }
   ],
   "source": [
    "sample_submission['Rating'] = predict_submission\n",
    "sample_submission.to_csv('submission.csv', index=False)\n",
    "sample_submission.head(10)"
   ]
  },
  {
   "cell_type": "code",
   "execution_count": 69,
   "metadata": {},
   "outputs": [
    {
     "data": {
      "image/png": "[encoded data removed]",
      "text/plain": [
       "<Figure size 720x720 with 1 Axes>"
      ]
     },
     "metadata": {
      "needs_background": "light"
     },
     "output_type": "display_data"
    }
   ],
   "source": [
    "viz_counter_bar(df, 'rating', 'распределение оценок в train', sort_by_index=True)"
   ]
  },
  {
   "cell_type": "code",
   "execution_count": 70,
   "metadata": {},
   "outputs": [
    {
     "data": {
      "image/png": "[encoded data removed]",
      "text/plain": [
       "<Figure size 720x720 with 1 Axes>"
      ]
     },
     "metadata": {
      "needs_background": "light"
     },
     "output_type": "display_data"
    }
   ],
   "source": [
    "viz_counter_bar(sample_submission, 'Rating', 'распределение оценок submission', sort_by_index=True)"
   ]
  },
  {
   "cell_type": "markdown",
   "metadata": {},
   "source": [
    "# Заключение."
   ]
  },
  {
   "cell_type": "markdown",
   "metadata": {},
   "source": [
    "Наверно можно было сделать лучше. Большое количество признаков - плохо, малое количество признаков тоже плохо.\n",
    "- Основными признаками оказались, города, ранки, турпоток, население, время отзывов.  \n",
    "  \n",
    "Признаки которые оказались лишними, из которых не удалось извлечь пользу.\n",
    "- Кухни, их разнообразие и оценка\n",
    "- Анализ слов и оценка (был сделан и удален из совсем плохого MAE на Кагл - 0,67) \n",
    "\n",
    "Итог на **KAGGLE** - 0.17490\n",
    "\n"
   ]
  },
  {
   "cell_type": "markdown",
   "metadata": {},
   "source": [
    "<img src = \"https://raw.githubusercontent.com/Deus99/skillfactory_rds/master/module_3/dicaprio.png\">"
   ]
  }
 ],
 "metadata": {
  "kernelspec": {
   "display_name": "Python 3",
   "language": "python",
   "name": "python3"
  },
  "language_info": {
   "codemirror_mode": {
    "name": "ipython",
    "version": 3
   },
   "file_extension": ".py",
   "mimetype": "text/x-python",
   "name": "python",
   "nbconvert_exporter": "python",
   "pygments_lexer": "ipython3",
   "version": "3.7.6"
  }
 },
 "nbformat": 4,
 "nbformat_minor": 4
}
