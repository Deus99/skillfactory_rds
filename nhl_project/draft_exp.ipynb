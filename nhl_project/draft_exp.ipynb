{
 "cells": [
  {
   "cell_type": "markdown",
   "metadata": {},
   "source": [
    "### SALARY CAP PARSER (capfriendly.com)"
   ]
  },
  {
   "cell_type": "code",
   "execution_count": 5,
   "metadata": {},
   "outputs": [],
   "source": [
    "import requests  \n",
    "from bs4 import BeautifulSoup \n",
    "import pandas as pd\n",
    "import re\n",
    "import time\n",
    "import numpy as np"
   ]
  },
  {
   "cell_type": "code",
   "execution_count": 6,
   "metadata": {},
   "outputs": [],
   "source": [
    "link = 'https://www.capfriendly.com/expansion-draft/seattle'"
   ]
  },
  {
   "cell_type": "code",
   "execution_count": 7,
   "metadata": {},
   "outputs": [],
   "source": [
    "draft = BeautifulSoup(requests.get(link, headers={'User-Agent': 'Mozilla/5.0'}).text, 'html.parser')"
   ]
  },
  {
   "cell_type": "code",
   "execution_count": 8,
   "metadata": {},
   "outputs": [],
   "source": [
    "teams = ['Anaheim Ducks', 'Arizona Coyotes', 'Boston Bruins',\n",
    "       'Buffalo Sabres', 'Calgary Flames', 'Carolina Hurricanes',\n",
    "       'Chicago Blackhawks', 'Colorado Avalanche',\n",
    "       'Columbus Blue Jackets', 'Dallas Stars', 'Detroit Red Wings',\n",
    "       'Edmonton Oilers', 'Florida Panthers', 'Los Angeles Kings',\n",
    "       'Minnesota Wild', 'Montréal Canadiens', 'Nashville Predators',\n",
    "       'New Jersey Devils', 'New York Islanders', 'New York Rangers',\n",
    "       'Ottawa Senators', 'Philadelphia Flyers', 'Pittsburgh Penguins',\n",
    "       'San Jose Sharks', 'St. Louis Blues', 'Tampa Bay Lightning',\n",
    "       'Toronto Maple Leafs', 'Vancouver Canucks',\n",
    "       'Washington Capitals', 'Winnipeg Jets']\n",
    "\n",
    "team_ind = 0\n",
    "contracts = pd.DataFrame()\n",
    "for team_num in range(0, 30, 1):\n",
    "    #print(team_num)\n",
    "    \n",
    "    forwards = pd.read_html(link)[team_num*5 + 3]\n",
    "    forwards.columns = ['player', 'age', 'pos', 'caphit', 'expiry', 'decr']\n",
    "    forwards['team'] = teams[team_ind]\n",
    "    forwards['position'] = 'forward'\n",
    "    \n",
    "    \n",
    "    \n",
    "    defense = pd.read_html(link)[team_num*5 + 4]\n",
    "    defense.columns = ['player', 'age', 'pos', 'caphit', 'expiry', 'decr']\n",
    "    defense['team'] = teams[team_ind]\n",
    "    defense['position'] = 'defense'\n",
    "    \n",
    "    \n",
    "    keepers = pd.read_html(link)[team_num*5 + 5]\n",
    "    keepers.columns = ['player', 'age', 'pos', 'caphit', 'expiry']\n",
    "    keepers['team'] = teams[team_ind]\n",
    "    keepers['position'] = 'goalkeeper'\n",
    "    \n",
    "    \n",
    "    exempt = pd.read_html(link)[team_num*5 + 6]\n",
    "    exempt.columns = ['player', 'age', 'pos', 'caphit', 'expiry']\n",
    "    exempt['team'] = teams[team_ind]\n",
    "    exempt['position'] = 'exempt'\n",
    "    \n",
    "    \n",
    "    contracts = pd.concat([contracts, forwards])\n",
    "    contracts = pd.concat([contracts, defense])\n",
    "    contracts = pd.concat([contracts, keepers])\n",
    "    contracts = pd.concat([contracts, exempt])\n",
    "    \n",
    "    team_ind += 1"
   ]
  },
  {
   "cell_type": "code",
   "execution_count": 9,
   "metadata": {},
   "outputs": [],
   "source": [
    "contracts = contracts.reset_index(drop=True)"
   ]
  },
  {
   "cell_type": "code",
   "execution_count": 10,
   "metadata": {},
   "outputs": [],
   "source": [
    "def change_name(player_name):\n",
    "    pl_name = player_name.split(\", \")[1]\n",
    "    pl_fm = player_name.split(\", \")[0]\n",
    "    return pl_name + ' ' + pl_fm"
   ]
  },
  {
   "cell_type": "code",
   "execution_count": 11,
   "metadata": {},
   "outputs": [],
   "source": [
    "contracts['player'] = contracts['player'].apply(change_name)"
   ]
  },
  {
   "cell_type": "code",
   "execution_count": 12,
   "metadata": {},
   "outputs": [
    {
     "data": {
      "text/html": [
       "<div>\n",
       "<style scoped>\n",
       "    .dataframe tbody tr th:only-of-type {\n",
       "        vertical-align: middle;\n",
       "    }\n",
       "\n",
       "    .dataframe tbody tr th {\n",
       "        vertical-align: top;\n",
       "    }\n",
       "\n",
       "    .dataframe thead th {\n",
       "        text-align: right;\n",
       "    }\n",
       "</style>\n",
       "<table border=\"1\" class=\"dataframe\">\n",
       "  <thead>\n",
       "    <tr style=\"text-align: right;\">\n",
       "      <th></th>\n",
       "      <th>player</th>\n",
       "      <th>age</th>\n",
       "      <th>pos</th>\n",
       "      <th>caphit</th>\n",
       "      <th>expiry</th>\n",
       "      <th>decr</th>\n",
       "      <th>team</th>\n",
       "      <th>position</th>\n",
       "    </tr>\n",
       "  </thead>\n",
       "  <tbody>\n",
       "    <tr>\n",
       "      <th>0</th>\n",
       "      <td>Adam Henrique</td>\n",
       "      <td>31</td>\n",
       "      <td>C</td>\n",
       "      <td>$5,825,000</td>\n",
       "      <td>UFA (2024)</td>\n",
       "      <td>✔</td>\n",
       "      <td>Anaheim Ducks</td>\n",
       "      <td>forward</td>\n",
       "    </tr>\n",
       "    <tr>\n",
       "      <th>1</th>\n",
       "      <td>Jakob Silfverberg</td>\n",
       "      <td>30</td>\n",
       "      <td>RW</td>\n",
       "      <td>$5,250,000</td>\n",
       "      <td>UFA (2024)</td>\n",
       "      <td>✔</td>\n",
       "      <td>Anaheim Ducks</td>\n",
       "      <td>forward</td>\n",
       "    </tr>\n",
       "  </tbody>\n",
       "</table>\n",
       "</div>"
      ],
      "text/plain": [
       "              player  age pos      caphit      expiry decr           team  \\\n",
       "0      Adam Henrique   31   C  $5,825,000  UFA (2024)    ✔  Anaheim Ducks   \n",
       "1  Jakob Silfverberg   30  RW  $5,250,000  UFA (2024)    ✔  Anaheim Ducks   \n",
       "\n",
       "  position  \n",
       "0  forward  \n",
       "1  forward  "
      ]
     },
     "execution_count": 12,
     "metadata": {},
     "output_type": "execute_result"
    }
   ],
   "source": [
    "contracts.head(2)"
   ]
  },
  {
   "cell_type": "code",
   "execution_count": 13,
   "metadata": {},
   "outputs": [],
   "source": [
    "contracts.to_csv('draft_exp.csv', index=False)"
   ]
  },
  {
   "cell_type": "code",
   "execution_count": null,
   "metadata": {},
   "outputs": [],
   "source": []
  }
 ],
 "metadata": {
  "kernelspec": {
   "display_name": "Python 3",
   "language": "python",
   "name": "python3"
  },
  "language_info": {
   "codemirror_mode": {
    "name": "ipython",
    "version": 3
   },
   "file_extension": ".py",
   "mimetype": "text/x-python",
   "name": "python",
   "nbconvert_exporter": "python",
   "pygments_lexer": "ipython3",
   "version": "3.8.5"
  }
 },
 "nbformat": 4,
 "nbformat_minor": 4
}
