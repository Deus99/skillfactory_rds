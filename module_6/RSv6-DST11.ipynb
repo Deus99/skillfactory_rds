{
 "cells": [
  {
   "cell_type": "markdown",
   "metadata": {},
   "source": [
    "# Рекомендательные системы"
   ]
  },
  {
   "cell_type": "markdown",
   "metadata": {},
   "source": [
    "Вы работаете в крупной компании, занимающейся онлайн-ритейлом (розничными продажами в интернете).\n",
    "\n",
    "Ваш работодатель хочет увеличить средний чек продаж. Вы знаете, что чем точнее рекомендовать нужный товар пользователю (в нашем случае, товар с более высоким средним чеком), тем выше вероятность покупки этого товара. Простая логика. Мы нашли золото!"
   ]
  },
  {
   "cell_type": "markdown",
   "metadata": {},
   "source": [
    "## Загрузка модулей"
   ]
  },
  {
   "cell_type": "code",
   "execution_count": 1,
   "metadata": {},
   "outputs": [],
   "source": [
    "import numpy as np\n",
    "import pandas as pd\n",
    "from collections import Counter\n",
    "import json\n",
    "import re\n",
    "import os\n",
    "\n",
    "import matplotlib.pyplot as plt\n",
    "import seaborn as sns\n",
    "%matplotlib inline\n",
    "\n",
    "import scipy.sparse as sparse\n",
    "\n",
    "from lightfm import LightFM\n",
    "from lightfm.cross_validation import random_train_test_split\n",
    "from lightfm.evaluation import auc_score, precision_at_k, recall_at_k\n",
    "import sklearn\n",
    "from sklearn.model_selection import train_test_split\n",
    "\n",
    "import scipy.sparse as sparse\n",
    "\n",
    "#from fastai.tabular import *\n",
    "#from fastai.collab import *\n",
    "#from fastai.collab import CollabDataBunch\n",
    "\n",
    "\n",
    "from catboost import CatBoostRegressor\n",
    "from catboost import CatBoostClassifier\n",
    "import catboost\n",
    "import xgboost as xgb\n",
    "import optuna"
   ]
  },
  {
   "cell_type": "markdown",
   "metadata": {},
   "source": [
    "### Используемые словари"
   ]
  },
  {
   "cell_type": "code",
   "execution_count": 2,
   "metadata": {},
   "outputs": [],
   "source": [
    "# Заменяем True/False на 1 и 0\n",
    "true_false = {True: 1, False: 0}"
   ]
  },
  {
   "cell_type": "markdown",
   "metadata": {},
   "source": [
    "### Используемые функции"
   ]
  },
  {
   "cell_type": "code",
   "execution_count": 3,
   "metadata": {},
   "outputs": [],
   "source": [
    "def show_values_on_bars(axs, h_v=\"v\", space=0.4):\n",
    "    def _show_on_single_plot(ax):\n",
    "        if h_v == \"v\":\n",
    "            for p in ax.patches:\n",
    "                _x = p.get_x() + p.get_width() / 2\n",
    "                _y = p.get_y() + p.get_height() \n",
    "                value = int(p.get_height())\n",
    "                ax.text(_x, _y, value, ha=\"center\") \n",
    "        elif h_v == \"h\":\n",
    "            for p in ax.patches:\n",
    "                _x = p.get_x() + p.get_width() + float(space)\n",
    "                _y = p.get_y() + p.get_height()/2\n",
    "                value = int(p.get_width())\n",
    "                ax.text(_x, _y, value, ha=\"left\", va ='center')\n",
    "\n",
    "    if isinstance(axs, np.ndarray):\n",
    "        for idx, ax in np.ndenumerate(axs):\n",
    "            _show_on_single_plot(ax)\n",
    "    else:\n",
    "        _show_on_single_plot(axs)\n",
    "\n",
    "def bars_counts(col, df, title_name):\n",
    "    models = df[col].value_counts().reset_index()[0:25]\n",
    "    models.columns = [col, 'quantity']\n",
    "    models[col] = models[col].astype(str)\n",
    "    plt.rcParams['figure.figsize']=12,10\n",
    "    ax = sns.barplot(x='quantity', y=col, data=models)\n",
    "    show_values_on_bars(ax, 'h', 10)\n",
    "    plt.title(title_name)\n",
    "    plt.show()\n",
    "\n",
    "        \n",
    "def horizontal_barplots(column, data, title_name):\n",
    "    plt.rcParams['figure.figsize']=12,12\n",
    "    ax = sns.barplot(x=0, y=column, hue='train', data=data)\n",
    "    show_values_on_bars(ax, 'h', 10)\n",
    "    plt.title(title_name)\n",
    "    plt.show()\n",
    "    \n",
    "def vertical_barplots(column, data, title_name):\n",
    "    plt.rcParams['figure.figsize']=12,12\n",
    "    ax = sns.barplot(x=0, y=column, data=data)\n",
    "    show_values_on_bars(ax, 'h', 10)\n",
    "    plt.title(title_name)\n",
    "    plt.show()\n",
    "    \n",
    "    \n",
    "def viz_counter_bar(df, column, title, max_values=0, sort_by_index=False):\n",
    "    \"\"\"\n",
    "    Визуализация количества значений в ДФ, Value_counts, \n",
    "    горизонтальные столбцы\n",
    "    df - датафрейм, column - столбец, title - подпись\n",
    "    max_values - максимальное количество значений для отображения, 0 - все\n",
    "    sort_by_index - сортирует по индексам, а не значен#иям\n",
    "    dollars - отображает подписи с $$ для price_range\n",
    "    \"\"\"\n",
    "    if max_values > 0:\n",
    "        col_values = df[column].value_counts().nlargest(\n",
    "            max_values).sort_values(ascending=True)\n",
    "    else:\n",
    "        col_values = df[column].value_counts(ascending=True)\n",
    "    \n",
    "    if sort_by_index: \n",
    "        col_values = col_values.sort_index()\n",
    "    \n",
    "    fig, ax = plt.subplots()\n",
    "    plt.rcParams['figure.figsize'] = (8, 8)\n",
    "    plt.figure \n",
    "    ax = col_values.plot(kind='bar', title=title)\n",
    "    for i, v in enumerate(col_values):\n",
    "        plt.text(i, v+(col_values.max()/100), \"\"+str(v), ha='center', rotation = 'horizontal')\n",
    "    \n",
    "    plt.xticks(rotation=0)\n",
    "    \n",
    "    plt.show()\n",
    "    \n",
    "    \n",
    "def vertical_boxplots(col_x, col_y, data, title_name, fsize=[16,8]):\n",
    "    plt.rcParams['figure.figsize']=fsize[0], fsize[1]\n",
    "    plt.ticklabel_format(style='plain', axis='x')\n",
    "    ax = sns.boxplot( data=data, orient=\"v\", y=col_x, x=col_y)\n",
    "    plt.title(title_name)\n",
    "    plt.show()\n",
    "\n",
    "def med_price(row):\n",
    "    \"\"\"\n",
    "    Вычисляет среднее между диапазоном цен\n",
    "    \"\"\"\n",
    "    price1, trash, price2 = row['price'].split(' ')\n",
    "    price = (float(price1) + float(price2)) / 2\n",
    "    row['price'] = price\n",
    "    return row\n",
    "\n",
    "def feature_colon_value(my_list):\n",
    "    \"\"\"\n",
    "    Takes as input a list and prepends the columns names to respective values in the list.\n",
    "    For example: if my_list = [1,1,0,'del'],\n",
    "    resultant output = ['f1:1', 'f2:1', 'f3:0', 'loc:del']\n",
    "\n",
    "    \"\"\"\n",
    "    result = []\n",
    "    aa = my_list\n",
    "    for x,y in zip(ll,aa):\n",
    "        res = str(x) +\"\"+ str(y)\n",
    "        result.append(res)\n",
    "    return result\n",
    "\n",
    "\n",
    "def calculate_auc_score(lightfm_model, interactions_matrix, \n",
    "                        question_features, professional_features): \n",
    "    \"\"\"\n",
    "    Measure the ROC AUC metric for a model. \n",
    "    A perfect score is 1.0.\n",
    "\n",
    "    Parameters\n",
    "    ----------\n",
    "    lightfm_model: LightFM model \n",
    "        A fitted lightfm model \n",
    "    interactions_matrix : \n",
    "        A lightfm interactions matrix \n",
    "    question_features, professional_features: \n",
    "        Lightfm features \n",
    "        \n",
    "    Returns\n",
    "    -------\n",
    "    String containing AUC score \n",
    "    \"\"\"\n",
    "    score = auc_score( \n",
    "        lightfm_model, interactions_matrix, \n",
    "        item_features=item_features, \n",
    "        user_features=user_features, \n",
    "        num_threads=24).mean()\n",
    "    return score"
   ]
  },
  {
   "cell_type": "markdown",
   "metadata": {},
   "source": [
    "## Загрузка данных"
   ]
  },
  {
   "cell_type": "code",
   "execution_count": 4,
   "metadata": {},
   "outputs": [
    {
     "name": "stdout",
     "output_type": "stream",
     "text": [
      "/home/deus99/data/meta_Grocery_and_Gourmet_Food.json\n",
      "/home/deus99/data/train.csv\n",
      "/home/deus99/data/test.csv\n",
      "/home/deus99/data/sample_submission.csv\n"
     ]
    }
   ],
   "source": [
    "for dirname, _, filenames in os.walk('/home/deus99/data'):\n",
    "#for dirname, _, filenames in os.walk(r'F:\\YandexDisk\\Skill_Factory\\Project6-Recomendations'):\n",
    "    for filename in filenames:\n",
    "        print(os.path.join(dirname, filename))"
   ]
  },
  {
   "cell_type": "code",
   "execution_count": 5,
   "metadata": {},
   "outputs": [],
   "source": [
    "# Загружаем датасеты\n",
    "train = pd.read_csv('/home/deus99/data/train.csv', low_memory=False)\n",
    "test = pd.read_csv('/home/deus99/data/test.csv', low_memory=False)\n",
    "submission = pd.read_csv('/home/deus99/data/sample_submission.csv', low_memory=False)\n",
    "\n",
    "# Загружаем датасеты\n",
    "#train = pd.read_csv(r'F:\\YandexDisk\\Skill_Factory\\Project6-Recomendations\\data1\\train.csv', low_memory=False)\n",
    "#test = pd.read_csv(r'F:\\YandexDisk\\Skill_Factory\\Project6-Recomendations\\data1\\test.csv', low_memory=False)\n",
    "#submission = pd.read_csv(r'F:\\YandexDisk\\Skill_Factory\\Project6-Recomendations\\data1\\sample_submission.csv', low_memory=False)\n",
    "\n",
    "# Постройчно прочитаем json с метаданными и положим результат в датасет \"meta\"\n",
    "with open('/home/deus99/data/meta_Grocery_and_Gourmet_Food.json') as f:\n",
    "    meta_list = []\n",
    "    for line in f.readlines():\n",
    "        meta_list.append(json.loads(line))"
   ]
  },
  {
   "cell_type": "code",
   "execution_count": 6,
   "metadata": {},
   "outputs": [],
   "source": [
    "meta = pd.DataFrame(meta_list)"
   ]
  },
  {
   "cell_type": "code",
   "execution_count": 7,
   "metadata": {},
   "outputs": [
    {
     "name": "stdout",
     "output_type": "stream",
     "text": [
      "<class 'pandas.core.frame.DataFrame'>\n",
      "RangeIndex: 857895 entries, 0 to 857894\n",
      "Data columns (total 14 columns):\n",
      " #   Column          Non-Null Count   Dtype  \n",
      "---  ------          --------------   -----  \n",
      " 0   overall         857895 non-null  float64\n",
      " 1   verified        857895 non-null  bool   \n",
      " 2   reviewTime      857895 non-null  object \n",
      " 3   asin            857895 non-null  object \n",
      " 4   reviewerName    857719 non-null  object \n",
      " 5   reviewText      857616 non-null  object \n",
      " 6   summary         857725 non-null  object \n",
      " 7   unixReviewTime  857895 non-null  int64  \n",
      " 8   vote            118740 non-null  object \n",
      " 9   style           444406 non-null  object \n",
      " 10  image           7142 non-null    object \n",
      " 11  userid          857895 non-null  int64  \n",
      " 12  itemid          857895 non-null  int64  \n",
      " 13  rating          857895 non-null  float64\n",
      "dtypes: bool(1), float64(2), int64(3), object(8)\n",
      "memory usage: 85.9+ MB\n"
     ]
    }
   ],
   "source": [
    "train.info()"
   ]
  },
  {
   "cell_type": "code",
   "execution_count": 8,
   "metadata": {},
   "outputs": [
    {
     "name": "stdout",
     "output_type": "stream",
     "text": [
      "<class 'pandas.core.frame.DataFrame'>\n",
      "RangeIndex: 285965 entries, 0 to 285964\n",
      "Data columns (total 11 columns):\n",
      " #   Column          Non-Null Count   Dtype \n",
      "---  ------          --------------   ----- \n",
      " 0   verified        285965 non-null  bool  \n",
      " 1   reviewTime      285965 non-null  object\n",
      " 2   asin            285965 non-null  object\n",
      " 3   reviewerName    285918 non-null  object\n",
      " 4   unixReviewTime  285965 non-null  int64 \n",
      " 5   vote            39462 non-null   object\n",
      " 6   style           147680 non-null  object\n",
      " 7   image           2368 non-null    object\n",
      " 8   userid          285965 non-null  int64 \n",
      " 9   itemid          285965 non-null  int64 \n",
      " 10  Id              285965 non-null  int64 \n",
      "dtypes: bool(1), int64(4), object(6)\n",
      "memory usage: 22.1+ MB\n"
     ]
    }
   ],
   "source": [
    "test.info()"
   ]
  },
  {
   "cell_type": "code",
   "execution_count": 9,
   "metadata": {},
   "outputs": [
    {
     "name": "stdout",
     "output_type": "stream",
     "text": [
      "<class 'pandas.core.frame.DataFrame'>\n",
      "RangeIndex: 287209 entries, 0 to 287208\n",
      "Data columns (total 17 columns):\n",
      " #   Column        Non-Null Count   Dtype \n",
      "---  ------        --------------   ----- \n",
      " 0   category      287209 non-null  object\n",
      " 1   description   251802 non-null  object\n",
      " 2   title         287205 non-null  object\n",
      " 3   brand         275787 non-null  object\n",
      " 4   rank          275494 non-null  object\n",
      " 5   also_view     121012 non-null  object\n",
      " 6   main_cat      285716 non-null  object\n",
      " 7   price         132136 non-null  object\n",
      " 8   asin          287209 non-null  object\n",
      " 9   also_buy      83332 non-null   object\n",
      " 10  image         150214 non-null  object\n",
      " 11  date          9663 non-null    object\n",
      " 12  feature       16374 non-null   object\n",
      " 13  details       273323 non-null  object\n",
      " 14  similar_item  256 non-null     object\n",
      " 15  tech1         744 non-null     object\n",
      " 16  fit           4 non-null       object\n",
      "dtypes: object(17)\n",
      "memory usage: 37.3+ MB\n"
     ]
    }
   ],
   "source": [
    "meta.info()"
   ]
  },
  {
   "cell_type": "markdown",
   "metadata": {},
   "source": [
    "## DATA PREPROCESSING"
   ]
  },
  {
   "cell_type": "code",
   "execution_count": 10,
   "metadata": {},
   "outputs": [],
   "source": [
    "# удаляем дубликаты из json\n",
    "meta = meta.iloc[meta.astype(str).drop_duplicates().index]\n",
    "\n",
    "# Удалим дубликаты из тренировочного датасета\n",
    "train.drop_duplicates(inplace = True)"
   ]
  },
  {
   "cell_type": "code",
   "execution_count": 11,
   "metadata": {},
   "outputs": [],
   "source": [
    "# Помечаем и объеденяем тренировочный и тестовый датафрейм\n",
    "train['train'] = 1\n",
    "test['train'] = 0\n",
    "\n",
    "df = pd.concat([train, test])"
   ]
  },
  {
   "cell_type": "code",
   "execution_count": 12,
   "metadata": {},
   "outputs": [],
   "source": [
    "# Преобразование vote в тип int\n",
    "df['vote'] = df.vote.str.replace(',', '')\n",
    "df['vote'] = df.vote.fillna(0)\n",
    "df['vote'] = df.vote.astype(int)"
   ]
  },
  {
   "cell_type": "code",
   "execution_count": 13,
   "metadata": {},
   "outputs": [],
   "source": [
    "# Объединим  датасет и данные из meta по идентификатору asin (Amazon Standard Identification Number)\n",
    "df = df.merge(meta, how='left', on='asin')"
   ]
  },
  {
   "cell_type": "code",
   "execution_count": 14,
   "metadata": {},
   "outputs": [],
   "source": [
    "# максимально чистим память , на счету каждый свободный гиг\n",
    "del train\n",
    "del test\n",
    "del meta"
   ]
  },
  {
   "cell_type": "code",
   "execution_count": 15,
   "metadata": {},
   "outputs": [],
   "source": [
    "# Меняем ссылки на картинки просто на значение есть или нет\n",
    "df.loc[df.image_x.isna(), 'image_x'] = 'no'\n",
    "df.loc[df.image_x!='no', 'image_x'] = 'yes'\n",
    "\n",
    "df.loc[df.image_y.isna(), 'image_y'] = 'no'\n",
    "df.loc[df.image_y!='no', 'image_y'] = 'yes'"
   ]
  },
  {
   "cell_type": "code",
   "execution_count": 16,
   "metadata": {},
   "outputs": [],
   "source": [
    "# изменение размера букв\n",
    "df['title'] = df.title.apply(lambda x: str(x).lower())"
   ]
  },
  {
   "cell_type": "code",
   "execution_count": 17,
   "metadata": {},
   "outputs": [],
   "source": [
    "# убираем $ заменяем диапазон цен на среднее значение\n",
    "df.loc[~df.price.isna(), 'price'] = df.loc[~df.price.isna(), 'price'].apply(lambda x: x.replace('$', ''))\n",
    "df['price'] = df['price'].apply(lambda x: 0 if x==np.nan else x)\n",
    "\n",
    "df.loc[(df['price'].str.contains('-')) & (~df['price'].isna())] = df.loc[\n",
    "    (df['price'].str.contains('-')) & (~df['price'].isna())].apply(med_price, axis=1)\n",
    "\n",
    "# преобразуем и заполним пропуски\n",
    "df['price'] = df.price.astype(float)\n",
    "mean_price = df['price'].mean()\n",
    "df['price'].fillna(mean_price, inplace=True)\n",
    "df['price'].fillna(mean_price, inplace=True)\n",
    "df['price'] = df['price'].round(0)"
   ]
  },
  {
   "cell_type": "code",
   "execution_count": 18,
   "metadata": {},
   "outputs": [
    {
     "data": {
      "text/html": [
       "<div>\n",
       "<style scoped>\n",
       "    .dataframe tbody tr th:only-of-type {\n",
       "        vertical-align: middle;\n",
       "    }\n",
       "\n",
       "    .dataframe tbody tr th {\n",
       "        vertical-align: top;\n",
       "    }\n",
       "\n",
       "    .dataframe thead th {\n",
       "        text-align: right;\n",
       "    }\n",
       "</style>\n",
       "<table border=\"1\" class=\"dataframe\">\n",
       "  <thead>\n",
       "    <tr style=\"text-align: right;\">\n",
       "      <th></th>\n",
       "      <th>overall</th>\n",
       "      <th>verified</th>\n",
       "      <th>reviewTime</th>\n",
       "      <th>asin</th>\n",
       "      <th>reviewerName</th>\n",
       "      <th>reviewText</th>\n",
       "      <th>summary</th>\n",
       "      <th>unixReviewTime</th>\n",
       "      <th>vote</th>\n",
       "      <th>style</th>\n",
       "      <th>...</th>\n",
       "      <th>main_cat</th>\n",
       "      <th>price</th>\n",
       "      <th>also_buy</th>\n",
       "      <th>image_y</th>\n",
       "      <th>date</th>\n",
       "      <th>feature</th>\n",
       "      <th>details</th>\n",
       "      <th>similar_item</th>\n",
       "      <th>tech1</th>\n",
       "      <th>fit</th>\n",
       "    </tr>\n",
       "  </thead>\n",
       "  <tbody>\n",
       "    <tr>\n",
       "      <th>0</th>\n",
       "      <td>5.0</td>\n",
       "      <td>True</td>\n",
       "      <td>10 4, 2016</td>\n",
       "      <td>B01CPNIEQG</td>\n",
       "      <td>Heather</td>\n",
       "      <td>These are my FAVORITE spices in my collection....</td>\n",
       "      <td>Must Add to your Spice kitchen!</td>\n",
       "      <td>1475539200</td>\n",
       "      <td>0</td>\n",
       "      <td>NaN</td>\n",
       "      <td>...</td>\n",
       "      <td>Grocery</td>\n",
       "      <td>10.0</td>\n",
       "      <td>[B01DGZ2B48, B01EZ489AO, B01DH795LM, B01EYW2LC...</td>\n",
       "      <td>yes</td>\n",
       "      <td>NaN</td>\n",
       "      <td>NaN</td>\n",
       "      <td>\\n      &lt;div class=\"content\"&gt;\\n\\n\\n\\n\\n\\n\\n&lt;ul...</td>\n",
       "      <td>NaN</td>\n",
       "      <td>NaN</td>\n",
       "      <td>NaN</td>\n",
       "    </tr>\n",
       "  </tbody>\n",
       "</table>\n",
       "<p>1 rows × 32 columns</p>\n",
       "</div>"
      ],
      "text/plain": [
       "   overall  verified  reviewTime        asin reviewerName  \\\n",
       "0      5.0      True  10 4, 2016  B01CPNIEQG      Heather   \n",
       "\n",
       "                                          reviewText  \\\n",
       "0  These are my FAVORITE spices in my collection....   \n",
       "\n",
       "                           summary  unixReviewTime  vote style  ... main_cat  \\\n",
       "0  Must Add to your Spice kitchen!      1475539200     0   NaN  ...  Grocery   \n",
       "\n",
       "   price                                           also_buy  image_y  date  \\\n",
       "0   10.0  [B01DGZ2B48, B01EZ489AO, B01DH795LM, B01EYW2LC...      yes   NaN   \n",
       "\n",
       "   feature                                            details similar_item  \\\n",
       "0      NaN  \\n      <div class=\"content\">\\n\\n\\n\\n\\n\\n\\n<ul...          NaN   \n",
       "\n",
       "  tech1  fit  \n",
       "0   NaN  NaN  \n",
       "\n",
       "[1 rows x 32 columns]"
      ]
     },
     "execution_count": 18,
     "metadata": {},
     "output_type": "execute_result"
    }
   ],
   "source": [
    "df.head(1)"
   ]
  },
  {
   "cell_type": "code",
   "execution_count": 19,
   "metadata": {},
   "outputs": [
    {
     "data": {
      "image/png": "[encoded data removed]",
      "text/plain": [
       "<Figure size 1080x504 with 1 Axes>"
      ]
     },
     "metadata": {
      "needs_background": "light"
     },
     "output_type": "display_data"
    }
   ],
   "source": [
    "fig, ax = plt.subplots(figsize=(15,7))\n",
    "sns_heatmap = sns.heatmap(df.sample(1000).isnull(), yticklabels=False, cbar=False, cmap='viridis')"
   ]
  },
  {
   "cell_type": "code",
   "execution_count": 20,
   "metadata": {},
   "outputs": [
    {
     "data": {
      "text/plain": [
       "overall            285965\n",
       "verified                0\n",
       "reviewTime              0\n",
       "asin                    0\n",
       "reviewerName          211\n",
       "reviewText         286239\n",
       "summary            286131\n",
       "unixReviewTime          0\n",
       "vote                    0\n",
       "style              536983\n",
       "image_x                 0\n",
       "userid                  0\n",
       "itemid                  0\n",
       "rating             285965\n",
       "train                   0\n",
       "Id                 826895\n",
       "category                0\n",
       "description         94579\n",
       "title                   0\n",
       "brand                8169\n",
       "rank                46532\n",
       "also_view          512514\n",
       "main_cat             1287\n",
       "price                   0\n",
       "also_buy           159703\n",
       "image_y                 0\n",
       "date              1097246\n",
       "feature            924095\n",
       "details             18826\n",
       "similar_item      1111323\n",
       "tech1             1107073\n",
       "fit               1112860\n",
       "dtype: int64"
      ]
     },
     "execution_count": 20,
     "metadata": {},
     "output_type": "execute_result"
    }
   ],
   "source": [
    "df.isna().sum()"
   ]
  },
  {
   "cell_type": "markdown",
   "metadata": {},
   "source": [
    "Столбцы **date**, **feature**, **similar_items**, **tech_1**, **fit** - содержат технические параметры или много пропусков.\n",
    "**details** - содержит техническую информацию\n",
    "Это все удаляем."
   ]
  },
  {
   "cell_type": "code",
   "execution_count": 21,
   "metadata": {},
   "outputs": [],
   "source": [
    "df.drop(columns=['date', 'feature', 'similar_item', 'tech1', 'fit', 'details'], axis=1, inplace=True)"
   ]
  },
  {
   "cell_type": "markdown",
   "metadata": {},
   "source": [
    "## EDA"
   ]
  },
  {
   "cell_type": "code",
   "execution_count": 22,
   "metadata": {},
   "outputs": [
    {
     "data": {
      "text/html": [
       "<div>\n",
       "<style scoped>\n",
       "    .dataframe tbody tr th:only-of-type {\n",
       "        vertical-align: middle;\n",
       "    }\n",
       "\n",
       "    .dataframe tbody tr th {\n",
       "        vertical-align: top;\n",
       "    }\n",
       "\n",
       "    .dataframe thead th {\n",
       "        text-align: right;\n",
       "    }\n",
       "</style>\n",
       "<table border=\"1\" class=\"dataframe\">\n",
       "  <thead>\n",
       "    <tr style=\"text-align: right;\">\n",
       "      <th></th>\n",
       "      <th>count</th>\n",
       "      <th>unique</th>\n",
       "      <th>top</th>\n",
       "      <th>freq</th>\n",
       "      <th>mean</th>\n",
       "      <th>std</th>\n",
       "      <th>min</th>\n",
       "      <th>25%</th>\n",
       "      <th>50%</th>\n",
       "      <th>75%</th>\n",
       "      <th>max</th>\n",
       "    </tr>\n",
       "  </thead>\n",
       "  <tbody>\n",
       "    <tr>\n",
       "      <th>overall</th>\n",
       "      <td>3698</td>\n",
       "      <td>NaN</td>\n",
       "      <td>NaN</td>\n",
       "      <td>NaN</td>\n",
       "      <td>4.46809</td>\n",
       "      <td>1.03975</td>\n",
       "      <td>1</td>\n",
       "      <td>4</td>\n",
       "      <td>5</td>\n",
       "      <td>5</td>\n",
       "      <td>5</td>\n",
       "    </tr>\n",
       "    <tr>\n",
       "      <th>verified</th>\n",
       "      <td>5000</td>\n",
       "      <td>2</td>\n",
       "      <td>True</td>\n",
       "      <td>4330</td>\n",
       "      <td>NaN</td>\n",
       "      <td>NaN</td>\n",
       "      <td>NaN</td>\n",
       "      <td>NaN</td>\n",
       "      <td>NaN</td>\n",
       "      <td>NaN</td>\n",
       "      <td>NaN</td>\n",
       "    </tr>\n",
       "    <tr>\n",
       "      <th>reviewTime</th>\n",
       "      <td>5000</td>\n",
       "      <td>2074</td>\n",
       "      <td>04 10, 2015</td>\n",
       "      <td>9</td>\n",
       "      <td>NaN</td>\n",
       "      <td>NaN</td>\n",
       "      <td>NaN</td>\n",
       "      <td>NaN</td>\n",
       "      <td>NaN</td>\n",
       "      <td>NaN</td>\n",
       "      <td>NaN</td>\n",
       "    </tr>\n",
       "    <tr>\n",
       "      <th>asin</th>\n",
       "      <td>5000</td>\n",
       "      <td>3802</td>\n",
       "      <td>B00D3M2QP4</td>\n",
       "      <td>36</td>\n",
       "      <td>NaN</td>\n",
       "      <td>NaN</td>\n",
       "      <td>NaN</td>\n",
       "      <td>NaN</td>\n",
       "      <td>NaN</td>\n",
       "      <td>NaN</td>\n",
       "      <td>NaN</td>\n",
       "    </tr>\n",
       "    <tr>\n",
       "      <th>reviewerName</th>\n",
       "      <td>5000</td>\n",
       "      <td>4408</td>\n",
       "      <td>Amazon Customer</td>\n",
       "      <td>205</td>\n",
       "      <td>NaN</td>\n",
       "      <td>NaN</td>\n",
       "      <td>NaN</td>\n",
       "      <td>NaN</td>\n",
       "      <td>NaN</td>\n",
       "      <td>NaN</td>\n",
       "      <td>NaN</td>\n",
       "    </tr>\n",
       "    <tr>\n",
       "      <th>reviewText</th>\n",
       "      <td>3694</td>\n",
       "      <td>3542</td>\n",
       "      <td>Great</td>\n",
       "      <td>14</td>\n",
       "      <td>NaN</td>\n",
       "      <td>NaN</td>\n",
       "      <td>NaN</td>\n",
       "      <td>NaN</td>\n",
       "      <td>NaN</td>\n",
       "      <td>NaN</td>\n",
       "      <td>NaN</td>\n",
       "    </tr>\n",
       "    <tr>\n",
       "      <th>summary</th>\n",
       "      <td>3697</td>\n",
       "      <td>2469</td>\n",
       "      <td>Five Stars</td>\n",
       "      <td>824</td>\n",
       "      <td>NaN</td>\n",
       "      <td>NaN</td>\n",
       "      <td>NaN</td>\n",
       "      <td>NaN</td>\n",
       "      <td>NaN</td>\n",
       "      <td>NaN</td>\n",
       "      <td>NaN</td>\n",
       "    </tr>\n",
       "    <tr>\n",
       "      <th>unixReviewTime</th>\n",
       "      <td>5000</td>\n",
       "      <td>NaN</td>\n",
       "      <td>NaN</td>\n",
       "      <td>NaN</td>\n",
       "      <td>1.44283e+09</td>\n",
       "      <td>6.17968e+07</td>\n",
       "      <td>1.13452e+09</td>\n",
       "      <td>1.41322e+09</td>\n",
       "      <td>1.45122e+09</td>\n",
       "      <td>1.48677e+09</td>\n",
       "      <td>1.53585e+09</td>\n",
       "    </tr>\n",
       "    <tr>\n",
       "      <th>vote</th>\n",
       "      <td>5000</td>\n",
       "      <td>NaN</td>\n",
       "      <td>NaN</td>\n",
       "      <td>NaN</td>\n",
       "      <td>0.9502</td>\n",
       "      <td>6.51121</td>\n",
       "      <td>0</td>\n",
       "      <td>0</td>\n",
       "      <td>0</td>\n",
       "      <td>0</td>\n",
       "      <td>317</td>\n",
       "    </tr>\n",
       "    <tr>\n",
       "      <th>style</th>\n",
       "      <td>2568</td>\n",
       "      <td>1737</td>\n",
       "      <td>{'Size:': ' Pack of 1'}</td>\n",
       "      <td>32</td>\n",
       "      <td>NaN</td>\n",
       "      <td>NaN</td>\n",
       "      <td>NaN</td>\n",
       "      <td>NaN</td>\n",
       "      <td>NaN</td>\n",
       "      <td>NaN</td>\n",
       "      <td>NaN</td>\n",
       "    </tr>\n",
       "    <tr>\n",
       "      <th>image_x</th>\n",
       "      <td>5000</td>\n",
       "      <td>2</td>\n",
       "      <td>no</td>\n",
       "      <td>4962</td>\n",
       "      <td>NaN</td>\n",
       "      <td>NaN</td>\n",
       "      <td>NaN</td>\n",
       "      <td>NaN</td>\n",
       "      <td>NaN</td>\n",
       "      <td>NaN</td>\n",
       "      <td>NaN</td>\n",
       "    </tr>\n",
       "    <tr>\n",
       "      <th>userid</th>\n",
       "      <td>5000</td>\n",
       "      <td>NaN</td>\n",
       "      <td>NaN</td>\n",
       "      <td>NaN</td>\n",
       "      <td>54822.2</td>\n",
       "      <td>37273.9</td>\n",
       "      <td>29</td>\n",
       "      <td>21736</td>\n",
       "      <td>50345</td>\n",
       "      <td>86365.8</td>\n",
       "      <td>127460</td>\n",
       "    </tr>\n",
       "    <tr>\n",
       "      <th>itemid</th>\n",
       "      <td>5000</td>\n",
       "      <td>NaN</td>\n",
       "      <td>NaN</td>\n",
       "      <td>NaN</td>\n",
       "      <td>17369.3</td>\n",
       "      <td>11461</td>\n",
       "      <td>14</td>\n",
       "      <td>6840.25</td>\n",
       "      <td>16446</td>\n",
       "      <td>26911.5</td>\n",
       "      <td>41298</td>\n",
       "    </tr>\n",
       "    <tr>\n",
       "      <th>rating</th>\n",
       "      <td>3698</td>\n",
       "      <td>NaN</td>\n",
       "      <td>NaN</td>\n",
       "      <td>NaN</td>\n",
       "      <td>0.855598</td>\n",
       "      <td>0.351545</td>\n",
       "      <td>0</td>\n",
       "      <td>1</td>\n",
       "      <td>1</td>\n",
       "      <td>1</td>\n",
       "      <td>1</td>\n",
       "    </tr>\n",
       "    <tr>\n",
       "      <th>train</th>\n",
       "      <td>5000</td>\n",
       "      <td>NaN</td>\n",
       "      <td>NaN</td>\n",
       "      <td>NaN</td>\n",
       "      <td>0.7396</td>\n",
       "      <td>0.438897</td>\n",
       "      <td>0</td>\n",
       "      <td>0</td>\n",
       "      <td>1</td>\n",
       "      <td>1</td>\n",
       "      <td>1</td>\n",
       "    </tr>\n",
       "    <tr>\n",
       "      <th>Id</th>\n",
       "      <td>1302</td>\n",
       "      <td>NaN</td>\n",
       "      <td>NaN</td>\n",
       "      <td>NaN</td>\n",
       "      <td>138340</td>\n",
       "      <td>82298</td>\n",
       "      <td>440</td>\n",
       "      <td>64765</td>\n",
       "      <td>137458</td>\n",
       "      <td>210059</td>\n",
       "      <td>285792</td>\n",
       "    </tr>\n",
       "    <tr>\n",
       "      <th>category</th>\n",
       "      <td>5000</td>\n",
       "      <td>629</td>\n",
       "      <td>[Grocery &amp; Gourmet Food, Beverages, Coffee, Te...</td>\n",
       "      <td>336</td>\n",
       "      <td>NaN</td>\n",
       "      <td>NaN</td>\n",
       "      <td>NaN</td>\n",
       "      <td>NaN</td>\n",
       "      <td>NaN</td>\n",
       "      <td>NaN</td>\n",
       "      <td>NaN</td>\n",
       "    </tr>\n",
       "    <tr>\n",
       "      <th>description</th>\n",
       "      <td>4598</td>\n",
       "      <td>3439</td>\n",
       "      <td>[These bars are where our journey started and ...</td>\n",
       "      <td>49</td>\n",
       "      <td>NaN</td>\n",
       "      <td>NaN</td>\n",
       "      <td>NaN</td>\n",
       "      <td>NaN</td>\n",
       "      <td>NaN</td>\n",
       "      <td>NaN</td>\n",
       "      <td>NaN</td>\n",
       "    </tr>\n",
       "    <tr>\n",
       "      <th>title</th>\n",
       "      <td>5000</td>\n",
       "      <td>3796</td>\n",
       "      <td>kind bars, dark chocolate nuts &amp; sea salt, glu...</td>\n",
       "      <td>49</td>\n",
       "      <td>NaN</td>\n",
       "      <td>NaN</td>\n",
       "      <td>NaN</td>\n",
       "      <td>NaN</td>\n",
       "      <td>NaN</td>\n",
       "      <td>NaN</td>\n",
       "      <td>NaN</td>\n",
       "    </tr>\n",
       "    <tr>\n",
       "      <th>brand</th>\n",
       "      <td>4976</td>\n",
       "      <td>1826</td>\n",
       "      <td>KIND</td>\n",
       "      <td>138</td>\n",
       "      <td>NaN</td>\n",
       "      <td>NaN</td>\n",
       "      <td>NaN</td>\n",
       "      <td>NaN</td>\n",
       "      <td>NaN</td>\n",
       "      <td>NaN</td>\n",
       "      <td>NaN</td>\n",
       "    </tr>\n",
       "    <tr>\n",
       "      <th>rank</th>\n",
       "      <td>4782</td>\n",
       "      <td>3581</td>\n",
       "      <td>18inGroceryGourmetFood(</td>\n",
       "      <td>49</td>\n",
       "      <td>NaN</td>\n",
       "      <td>NaN</td>\n",
       "      <td>NaN</td>\n",
       "      <td>NaN</td>\n",
       "      <td>NaN</td>\n",
       "      <td>NaN</td>\n",
       "      <td>NaN</td>\n",
       "    </tr>\n",
       "    <tr>\n",
       "      <th>also_view</th>\n",
       "      <td>2683</td>\n",
       "      <td>2039</td>\n",
       "      <td>[B0062JSYEW, B005UF9LUA, B079Y9KD1B, B07HPDWRV...</td>\n",
       "      <td>22</td>\n",
       "      <td>NaN</td>\n",
       "      <td>NaN</td>\n",
       "      <td>NaN</td>\n",
       "      <td>NaN</td>\n",
       "      <td>NaN</td>\n",
       "      <td>NaN</td>\n",
       "      <td>NaN</td>\n",
       "    </tr>\n",
       "    <tr>\n",
       "      <th>main_cat</th>\n",
       "      <td>4994</td>\n",
       "      <td>8</td>\n",
       "      <td>Grocery</td>\n",
       "      <td>4762</td>\n",
       "      <td>NaN</td>\n",
       "      <td>NaN</td>\n",
       "      <td>NaN</td>\n",
       "      <td>NaN</td>\n",
       "      <td>NaN</td>\n",
       "      <td>NaN</td>\n",
       "      <td>NaN</td>\n",
       "    </tr>\n",
       "    <tr>\n",
       "      <th>price</th>\n",
       "      <td>5000</td>\n",
       "      <td>NaN</td>\n",
       "      <td>NaN</td>\n",
       "      <td>NaN</td>\n",
       "      <td>21.0738</td>\n",
       "      <td>12.9714</td>\n",
       "      <td>1</td>\n",
       "      <td>14</td>\n",
       "      <td>21</td>\n",
       "      <td>22</td>\n",
       "      <td>196</td>\n",
       "    </tr>\n",
       "    <tr>\n",
       "      <th>also_buy</th>\n",
       "      <td>4294</td>\n",
       "      <td>3154</td>\n",
       "      <td>[B00JA9LDH6, B007PE7ANY, B007PE7AV6, B00IZF0P9...</td>\n",
       "      <td>36</td>\n",
       "      <td>NaN</td>\n",
       "      <td>NaN</td>\n",
       "      <td>NaN</td>\n",
       "      <td>NaN</td>\n",
       "      <td>NaN</td>\n",
       "      <td>NaN</td>\n",
       "      <td>NaN</td>\n",
       "    </tr>\n",
       "    <tr>\n",
       "      <th>image_y</th>\n",
       "      <td>5000</td>\n",
       "      <td>2</td>\n",
       "      <td>yes</td>\n",
       "      <td>4436</td>\n",
       "      <td>NaN</td>\n",
       "      <td>NaN</td>\n",
       "      <td>NaN</td>\n",
       "      <td>NaN</td>\n",
       "      <td>NaN</td>\n",
       "      <td>NaN</td>\n",
       "      <td>NaN</td>\n",
       "    </tr>\n",
       "  </tbody>\n",
       "</table>\n",
       "</div>"
      ],
      "text/plain": [
       "               count unique  \\\n",
       "overall         3698    NaN   \n",
       "verified        5000      2   \n",
       "reviewTime      5000   2074   \n",
       "asin            5000   3802   \n",
       "reviewerName    5000   4408   \n",
       "reviewText      3694   3542   \n",
       "summary         3697   2469   \n",
       "unixReviewTime  5000    NaN   \n",
       "vote            5000    NaN   \n",
       "style           2568   1737   \n",
       "image_x         5000      2   \n",
       "userid          5000    NaN   \n",
       "itemid          5000    NaN   \n",
       "rating          3698    NaN   \n",
       "train           5000    NaN   \n",
       "Id              1302    NaN   \n",
       "category        5000    629   \n",
       "description     4598   3439   \n",
       "title           5000   3796   \n",
       "brand           4976   1826   \n",
       "rank            4782   3581   \n",
       "also_view       2683   2039   \n",
       "main_cat        4994      8   \n",
       "price           5000    NaN   \n",
       "also_buy        4294   3154   \n",
       "image_y         5000      2   \n",
       "\n",
       "                                                              top  freq  \\\n",
       "overall                                                       NaN   NaN   \n",
       "verified                                                     True  4330   \n",
       "reviewTime                                            04 10, 2015     9   \n",
       "asin                                                   B00D3M2QP4    36   \n",
       "reviewerName                                      Amazon Customer   205   \n",
       "reviewText                                                  Great    14   \n",
       "summary                                                Five Stars   824   \n",
       "unixReviewTime                                                NaN   NaN   \n",
       "vote                                                          NaN   NaN   \n",
       "style                                     {'Size:': ' Pack of 1'}    32   \n",
       "image_x                                                        no  4962   \n",
       "userid                                                        NaN   NaN   \n",
       "itemid                                                        NaN   NaN   \n",
       "rating                                                        NaN   NaN   \n",
       "train                                                         NaN   NaN   \n",
       "Id                                                            NaN   NaN   \n",
       "category        [Grocery & Gourmet Food, Beverages, Coffee, Te...   336   \n",
       "description     [These bars are where our journey started and ...    49   \n",
       "title           kind bars, dark chocolate nuts & sea salt, glu...    49   \n",
       "brand                                                        KIND   138   \n",
       "rank                                      18inGroceryGourmetFood(    49   \n",
       "also_view       [B0062JSYEW, B005UF9LUA, B079Y9KD1B, B07HPDWRV...    22   \n",
       "main_cat                                                  Grocery  4762   \n",
       "price                                                         NaN   NaN   \n",
       "also_buy        [B00JA9LDH6, B007PE7ANY, B007PE7AV6, B00IZF0P9...    36   \n",
       "image_y                                                       yes  4436   \n",
       "\n",
       "                       mean          std          min          25%  \\\n",
       "overall             4.46809      1.03975            1            4   \n",
       "verified                NaN          NaN          NaN          NaN   \n",
       "reviewTime              NaN          NaN          NaN          NaN   \n",
       "asin                    NaN          NaN          NaN          NaN   \n",
       "reviewerName            NaN          NaN          NaN          NaN   \n",
       "reviewText              NaN          NaN          NaN          NaN   \n",
       "summary                 NaN          NaN          NaN          NaN   \n",
       "unixReviewTime  1.44283e+09  6.17968e+07  1.13452e+09  1.41322e+09   \n",
       "vote                 0.9502      6.51121            0            0   \n",
       "style                   NaN          NaN          NaN          NaN   \n",
       "image_x                 NaN          NaN          NaN          NaN   \n",
       "userid              54822.2      37273.9           29        21736   \n",
       "itemid              17369.3        11461           14      6840.25   \n",
       "rating             0.855598     0.351545            0            1   \n",
       "train                0.7396     0.438897            0            0   \n",
       "Id                   138340        82298          440        64765   \n",
       "category                NaN          NaN          NaN          NaN   \n",
       "description             NaN          NaN          NaN          NaN   \n",
       "title                   NaN          NaN          NaN          NaN   \n",
       "brand                   NaN          NaN          NaN          NaN   \n",
       "rank                    NaN          NaN          NaN          NaN   \n",
       "also_view               NaN          NaN          NaN          NaN   \n",
       "main_cat                NaN          NaN          NaN          NaN   \n",
       "price               21.0738      12.9714            1           14   \n",
       "also_buy                NaN          NaN          NaN          NaN   \n",
       "image_y                 NaN          NaN          NaN          NaN   \n",
       "\n",
       "                        50%          75%          max  \n",
       "overall                   5            5            5  \n",
       "verified                NaN          NaN          NaN  \n",
       "reviewTime              NaN          NaN          NaN  \n",
       "asin                    NaN          NaN          NaN  \n",
       "reviewerName            NaN          NaN          NaN  \n",
       "reviewText              NaN          NaN          NaN  \n",
       "summary                 NaN          NaN          NaN  \n",
       "unixReviewTime  1.45122e+09  1.48677e+09  1.53585e+09  \n",
       "vote                      0            0          317  \n",
       "style                   NaN          NaN          NaN  \n",
       "image_x                 NaN          NaN          NaN  \n",
       "userid                50345      86365.8       127460  \n",
       "itemid                16446      26911.5        41298  \n",
       "rating                    1            1            1  \n",
       "train                     1            1            1  \n",
       "Id                   137458       210059       285792  \n",
       "category                NaN          NaN          NaN  \n",
       "description             NaN          NaN          NaN  \n",
       "title                   NaN          NaN          NaN  \n",
       "brand                   NaN          NaN          NaN  \n",
       "rank                    NaN          NaN          NaN  \n",
       "also_view               NaN          NaN          NaN  \n",
       "main_cat                NaN          NaN          NaN  \n",
       "price                    21           22          196  \n",
       "also_buy                NaN          NaN          NaN  \n",
       "image_y                 NaN          NaN          NaN  "
      ]
     },
     "execution_count": 22,
     "metadata": {},
     "output_type": "execute_result"
    }
   ],
   "source": [
    "df.sample(5000).describe(include='all').T"
   ]
  },
  {
   "cell_type": "markdown",
   "metadata": {},
   "source": [
    "Всего 26 признаков: 4 бинарных, 3 числовых, 13 категориальных, 2 временных ряда.  \n",
    "*Примечание* - наличие изображений (image_x, image_y) товара будем считать как бинарный признак - есть изображение или нет.   \n",
    "**train**, **id**, **userid**, **asin** - идентификаторы и рассмотрены не будут\n",
    "\n",
    "----\n",
    "\n",
    "#### Числовые признаки  \n",
    "**overall** - оценка пользователей   \n",
    "**vote** - число оценок  \n",
    "**price** - цена товара\n",
    "\n",
    "---\n",
    "\n",
    "#### Бинарные признаки  \n",
    "**verified** - подтвержденный аккаунт  \n",
    "**image_x** - есть иконка или нет  \n",
    "**image_y** - есть фотографии изображений или нет (предпросмотр)  \n",
    "**rating** - понравился товар или нет (1 - да, 0 - нет)   \n",
    "\n",
    "---\n",
    "\n",
    "#### Временные ряды\n",
    "**reviewtime** - дата отзыва  \n",
    "**unixreviewtime** - время отзыва в формате unix\n",
    "\n",
    "---\n",
    "\n",
    "#### Категориальные признаки ( в т.ч. текст)   \n",
    "**item_id** - id товара (аналог asin)  \n",
    "**reviewerName** - имя/ник пользователя  \n",
    "**reviewtext** - полный текст отзыва покупателя  \n",
    "**summary** - краткий(итоговый) отзыв  от покупателя  \n",
    "**style** - вид упаковки  \n",
    "**category** - категория товаров  \n",
    "**description** - описание товара от производителя  \n",
    "**title** - полное название (включая производителя и особенность)  \n",
    "**brand** - Бренд товара  \n",
    "**rank** - ранк товара  \n",
    "**main_cat** - основная категория"
   ]
  },
  {
   "cell_type": "markdown",
   "metadata": {},
   "source": [
    "## Числовые признаки  \n",
    "### overall - средняя оценка пользователей  "
   ]
  },
  {
   "cell_type": "code",
   "execution_count": 24,
   "metadata": {},
   "outputs": [
    {
     "data": {
      "image/png": "[encoded data removed]",
      "text/plain": [
       "<Figure size 576x576 with 1 Axes>"
      ]
     },
     "metadata": {
      "needs_background": "light"
     },
     "output_type": "display_data"
    }
   ],
   "source": [
    "viz_counter_bar(df, 'overall', 'Средняя оценка пользователей', sort_by_index=True)"
   ]
  },
  {
   "cell_type": "code",
   "execution_count": 25,
   "metadata": {},
   "outputs": [
    {
     "data": {
      "text/html": [
       "<div>\n",
       "<style scoped>\n",
       "    .dataframe tbody tr th:only-of-type {\n",
       "        vertical-align: middle;\n",
       "    }\n",
       "\n",
       "    .dataframe tbody tr th {\n",
       "        vertical-align: top;\n",
       "    }\n",
       "\n",
       "    .dataframe thead th {\n",
       "        text-align: right;\n",
       "    }\n",
       "</style>\n",
       "<table border=\"1\" class=\"dataframe\">\n",
       "  <thead>\n",
       "    <tr style=\"text-align: right;\">\n",
       "      <th></th>\n",
       "      <th>overall</th>\n",
       "      <th>rating</th>\n",
       "    </tr>\n",
       "  </thead>\n",
       "  <tbody>\n",
       "    <tr>\n",
       "      <th>overall</th>\n",
       "      <td>1.000000</td>\n",
       "      <td>0.897241</td>\n",
       "    </tr>\n",
       "    <tr>\n",
       "      <th>rating</th>\n",
       "      <td>0.897241</td>\n",
       "      <td>1.000000</td>\n",
       "    </tr>\n",
       "  </tbody>\n",
       "</table>\n",
       "</div>"
      ],
      "text/plain": [
       "          overall    rating\n",
       "overall  1.000000  0.897241\n",
       "rating   0.897241  1.000000"
      ]
     },
     "execution_count": 25,
     "metadata": {},
     "output_type": "execute_result"
    }
   ],
   "source": [
    "df[['overall', 'rating']].corr()"
   ]
  },
  {
   "cell_type": "markdown",
   "metadata": {},
   "source": [
    "Этого признака нет в тестовом датасете, и он почти полностью коррелируется с рейтингом. Потому что, это тот же рейтинг (4 и 5 заменены на 1) Его удалим перед из признаков (в конце), но можно будет использовать при анализе отзывов и пр. Пропусков нет."
   ]
  },
  {
   "cell_type": "code",
   "execution_count": 26,
   "metadata": {},
   "outputs": [],
   "source": [
    "# средняя оценка товара\n",
    "items_score = df[df.train==1].groupby('itemid')['overall'].mean()"
   ]
  },
  {
   "cell_type": "markdown",
   "metadata": {},
   "source": [
    "### reviewtime и  unixreviewtime - время и дата отзыва"
   ]
  },
  {
   "cell_type": "markdown",
   "metadata": {},
   "source": [
    "Дата и время отзыва представлена в виде дата время и как юниксовое. Можно удалить один из форматов, например *reviewtime* Но вначале проверим есть ли разница в зависимости от времени. "
   ]
  },
  {
   "cell_type": "code",
   "execution_count": 27,
   "metadata": {},
   "outputs": [
    {
     "data": {
      "text/html": [
       "<div>\n",
       "<style scoped>\n",
       "    .dataframe tbody tr th:only-of-type {\n",
       "        vertical-align: middle;\n",
       "    }\n",
       "\n",
       "    .dataframe tbody tr th {\n",
       "        vertical-align: top;\n",
       "    }\n",
       "\n",
       "    .dataframe thead th {\n",
       "        text-align: right;\n",
       "    }\n",
       "</style>\n",
       "<table border=\"1\" class=\"dataframe\">\n",
       "  <thead>\n",
       "    <tr style=\"text-align: right;\">\n",
       "      <th></th>\n",
       "      <th>unixReviewTime</th>\n",
       "      <th>rating</th>\n",
       "    </tr>\n",
       "  </thead>\n",
       "  <tbody>\n",
       "    <tr>\n",
       "      <th>unixReviewTime</th>\n",
       "      <td>1.000000</td>\n",
       "      <td>0.012337</td>\n",
       "    </tr>\n",
       "    <tr>\n",
       "      <th>rating</th>\n",
       "      <td>0.012337</td>\n",
       "      <td>1.000000</td>\n",
       "    </tr>\n",
       "  </tbody>\n",
       "</table>\n",
       "</div>"
      ],
      "text/plain": [
       "                unixReviewTime    rating\n",
       "unixReviewTime        1.000000  0.012337\n",
       "rating                0.012337  1.000000"
      ]
     },
     "execution_count": 27,
     "metadata": {},
     "output_type": "execute_result"
    }
   ],
   "source": [
    "df.query('train==1')[['unixReviewTime', 'rating']].corr()"
   ]
  },
  {
   "cell_type": "markdown",
   "metadata": {},
   "source": [
    "Корреляция, как и ожидалось, очень низкая. Сложно представить, что есть такие дни, когда товар нравится всем покупателям. Удаляем оба столбца"
   ]
  },
  {
   "cell_type": "code",
   "execution_count": 28,
   "metadata": {},
   "outputs": [],
   "source": [
    "df.drop(['reviewTime', 'unixReviewTime'], axis=1, inplace=True)"
   ]
  },
  {
   "cell_type": "markdown",
   "metadata": {},
   "source": [
    "### vote - число оценок"
   ]
  },
  {
   "cell_type": "code",
   "execution_count": 29,
   "metadata": {},
   "outputs": [
    {
     "data": {
      "image/png": "[encoded data removed]",
      "text/plain": [
       "<Figure size 576x576 with 1 Axes>"
      ]
     },
     "metadata": {
      "needs_background": "light"
     },
     "output_type": "display_data"
    }
   ],
   "source": [
    "df['vote'].hist(bins=100);"
   ]
  },
  {
   "cell_type": "code",
   "execution_count": 30,
   "metadata": {},
   "outputs": [
    {
     "data": {
      "text/plain": [
       "0.0"
      ]
     },
     "execution_count": 30,
     "metadata": {},
     "output_type": "execute_result"
    }
   ],
   "source": [
    "df['vote'].median()"
   ]
  },
  {
   "cell_type": "code",
   "execution_count": 31,
   "metadata": {},
   "outputs": [
    {
     "data": {
      "text/plain": [
       "2.0"
      ]
     },
     "execution_count": 31,
     "metadata": {},
     "output_type": "execute_result"
    }
   ],
   "source": [
    "df['vote'].quantile(0.9)"
   ]
  },
  {
   "cell_type": "code",
   "execution_count": 32,
   "metadata": {},
   "outputs": [
    {
     "data": {
      "text/plain": [
       "2584"
      ]
     },
     "execution_count": 32,
     "metadata": {},
     "output_type": "execute_result"
    }
   ],
   "source": [
    "df['vote'].max()"
   ]
  },
  {
   "cell_type": "code",
   "execution_count": 33,
   "metadata": {},
   "outputs": [
    {
     "data": {
      "text/html": [
       "<div>\n",
       "<style scoped>\n",
       "    .dataframe tbody tr th:only-of-type {\n",
       "        vertical-align: middle;\n",
       "    }\n",
       "\n",
       "    .dataframe tbody tr th {\n",
       "        vertical-align: top;\n",
       "    }\n",
       "\n",
       "    .dataframe thead th {\n",
       "        text-align: right;\n",
       "    }\n",
       "</style>\n",
       "<table border=\"1\" class=\"dataframe\">\n",
       "  <thead>\n",
       "    <tr style=\"text-align: right;\">\n",
       "      <th></th>\n",
       "      <th>vote</th>\n",
       "      <th>rating</th>\n",
       "    </tr>\n",
       "  </thead>\n",
       "  <tbody>\n",
       "    <tr>\n",
       "      <th>vote</th>\n",
       "      <td>1.000000</td>\n",
       "      <td>-0.000952</td>\n",
       "    </tr>\n",
       "    <tr>\n",
       "      <th>rating</th>\n",
       "      <td>-0.000952</td>\n",
       "      <td>1.000000</td>\n",
       "    </tr>\n",
       "  </tbody>\n",
       "</table>\n",
       "</div>"
      ],
      "text/plain": [
       "            vote    rating\n",
       "vote    1.000000 -0.000952\n",
       "rating -0.000952  1.000000"
      ]
     },
     "execution_count": 33,
     "metadata": {},
     "output_type": "execute_result"
    }
   ],
   "source": [
    "df[(df['vote']>0)&(df.train==1)][['vote', 'rating']].corr()"
   ]
  },
  {
   "cell_type": "markdown",
   "metadata": {},
   "source": [
    "В даннои столбце слишком много пропусков (которые были заменены нулями при предобработке), но разницы между большим и малым количеством отзывов почти нет. Так что это столбец также удаляем."
   ]
  },
  {
   "cell_type": "code",
   "execution_count": 34,
   "metadata": {},
   "outputs": [],
   "source": [
    "df.drop(['vote'], axis=1, inplace=True)"
   ]
  },
  {
   "cell_type": "markdown",
   "metadata": {},
   "source": [
    "### price - цена товара"
   ]
  },
  {
   "cell_type": "code",
   "execution_count": 35,
   "metadata": {},
   "outputs": [
    {
     "data": {
      "image/png": "[encoded data removed]",
      "text/plain": [
       "<Figure size 576x576 with 1 Axes>"
      ]
     },
     "metadata": {
      "needs_background": "light"
     },
     "output_type": "display_data"
    }
   ],
   "source": [
    "df['price'].hist(bins=50);"
   ]
  },
  {
   "cell_type": "markdown",
   "metadata": {},
   "source": [
    "Цена 75\\% товаров не превышает 22 \\\\$ при средней цене в 21 \\\\$. Максимальная цена 470$   \n",
    "Разобьем товары по ценовым категориям"
   ]
  },
  {
   "cell_type": "code",
   "execution_count": 36,
   "metadata": {},
   "outputs": [
    {
     "data": {
      "text/plain": [
       "price_range\n",
       "(0, 3]         0.832890\n",
       "(3, 8]         0.844745\n",
       "(8, 12]        0.850186\n",
       "(12, 15]       0.857697\n",
       "(15, 20]       0.856714\n",
       "(20, 21]       0.834703\n",
       "(21, 30]       0.855433\n",
       "(30, 50]       0.858230\n",
       "(50, 100]      0.874143\n",
       "(100, 1000]    0.893118\n",
       "Name: rating, dtype: float64"
      ]
     },
     "execution_count": 36,
     "metadata": {},
     "output_type": "execute_result"
    }
   ],
   "source": [
    "bins = pd.IntervalIndex.from_tuples([(0, 3), (3, 8), (8, 12), (12, 15), (15, 20), (20, 21), (21, 30), (30, 50), \n",
    "                                     (50, 100), (100, 1000)])\n",
    "df = df.assign(price_range = pd.cut(df['price'], bins))\n",
    "\n",
    "df.groupby('price_range')['rating'].mean()"
   ]
  },
  {
   "cell_type": "markdown",
   "metadata": {},
   "source": [
    "Рейтинг дорогих товаров в среднем выше на 10% чем из самой дегевой группы, и примерно на 4-5% выше чем для товаров средней ценовой категории (20-21\\\\$)"
   ]
  },
  {
   "cell_type": "code",
   "execution_count": 37,
   "metadata": {},
   "outputs": [],
   "source": [
    "#df['price_range'] = df['price_range'].astype(str)"
   ]
  },
  {
   "cell_type": "markdown",
   "metadata": {},
   "source": [
    "## Бинарные признаки  \n",
    "### verified - подтвержденный аккаунт  \n",
    "Большинство аккаунтов подтверждено, пропусков нет "
   ]
  },
  {
   "cell_type": "code",
   "execution_count": 38,
   "metadata": {},
   "outputs": [
    {
     "data": {
      "text/plain": [
       "verified\n",
       "False    0.782178\n",
       "True     0.858530\n",
       "Name: rating, dtype: float64"
      ]
     },
     "execution_count": 38,
     "metadata": {},
     "output_type": "execute_result"
    }
   ],
   "source": [
    "df.groupby('verified')['rating'].mean()"
   ]
  },
  {
   "cell_type": "markdown",
   "metadata": {},
   "source": [
    "Самая частая оценка 5,0 (рейтинг 1,0), но при этом у неподтвержденных аккаунтов оценка в среднем ниже. Заменим значения *True/False* на числовые"
   ]
  },
  {
   "cell_type": "code",
   "execution_count": 39,
   "metadata": {},
   "outputs": [],
   "source": [
    "df['verified'] = df['verified'].map(true_false)"
   ]
  },
  {
   "cell_type": "markdown",
   "metadata": {},
   "source": [
    "### image_x - ссылка на картинку (предпросмотр?) "
   ]
  },
  {
   "cell_type": "code",
   "execution_count": 40,
   "metadata": {},
   "outputs": [
    {
     "data": {
      "text/plain": [
       "count     1112860\n",
       "unique          2\n",
       "top            no\n",
       "freq      1103513\n",
       "Name: image_x, dtype: object"
      ]
     },
     "execution_count": 40,
     "metadata": {},
     "output_type": "execute_result"
    }
   ],
   "source": [
    "df.image_x.describe()"
   ]
  },
  {
   "cell_type": "markdown",
   "metadata": {},
   "source": [
    "Конечно это не совсем бинарный признак. Но на оценку товара может влиять отсутвие картинки на сайте. И можно было сделать признак есть или нет картинка у товара. Но здесь 99% пропусков, так что это признак тоже удаляем."
   ]
  },
  {
   "cell_type": "code",
   "execution_count": 41,
   "metadata": {},
   "outputs": [],
   "source": [
    "df.drop(['image_x'], axis=1, inplace=True)"
   ]
  },
  {
   "cell_type": "markdown",
   "metadata": {},
   "source": [
    "### image_y - ссылка на картинки в описании товара"
   ]
  },
  {
   "cell_type": "code",
   "execution_count": 42,
   "metadata": {},
   "outputs": [
    {
     "data": {
      "text/html": [
       "<div>\n",
       "<style scoped>\n",
       "    .dataframe tbody tr th:only-of-type {\n",
       "        vertical-align: middle;\n",
       "    }\n",
       "\n",
       "    .dataframe tbody tr th {\n",
       "        vertical-align: top;\n",
       "    }\n",
       "\n",
       "    .dataframe thead th {\n",
       "        text-align: right;\n",
       "    }\n",
       "</style>\n",
       "<table border=\"1\" class=\"dataframe\">\n",
       "  <thead>\n",
       "    <tr style=\"text-align: right;\">\n",
       "      <th></th>\n",
       "      <th>count</th>\n",
       "      <th>mean</th>\n",
       "    </tr>\n",
       "    <tr>\n",
       "      <th>image_y</th>\n",
       "      <th></th>\n",
       "      <th></th>\n",
       "    </tr>\n",
       "  </thead>\n",
       "  <tbody>\n",
       "    <tr>\n",
       "      <th>no</th>\n",
       "      <td>89256</td>\n",
       "      <td>0.842375</td>\n",
       "    </tr>\n",
       "    <tr>\n",
       "      <th>yes</th>\n",
       "      <td>737639</td>\n",
       "      <td>0.849230</td>\n",
       "    </tr>\n",
       "  </tbody>\n",
       "</table>\n",
       "</div>"
      ],
      "text/plain": [
       "          count      mean\n",
       "image_y                  \n",
       "no        89256  0.842375\n",
       "yes      737639  0.849230"
      ]
     },
     "execution_count": 42,
     "metadata": {},
     "output_type": "execute_result"
    }
   ],
   "source": [
    "df.query('train==1').groupby('image_y')['rating'].agg(['count', 'mean'])"
   ]
  },
  {
   "cell_type": "markdown",
   "metadata": {},
   "source": [
    "По среднему значению, разница менее 1%, так что этот столбец тоже удаляем"
   ]
  },
  {
   "cell_type": "code",
   "execution_count": 43,
   "metadata": {},
   "outputs": [],
   "source": [
    "df.drop(['image_y'], axis=1, inplace=True)"
   ]
  },
  {
   "cell_type": "markdown",
   "metadata": {},
   "source": [
    "### rating - понравился товар покупателю или нет"
   ]
  },
  {
   "cell_type": "code",
   "execution_count": 44,
   "metadata": {},
   "outputs": [
    {
     "data": {
      "image/png": "[encoded data removed]",
      "text/plain": [
       "<Figure size 576x576 with 1 Axes>"
      ]
     },
     "metadata": {
      "needs_background": "light"
     },
     "output_type": "display_data"
    }
   ],
   "source": [
    "viz_counter_bar(df[df.train==1], 'rating', 'Понравился товар покупателю или нет', sort_by_index=True)"
   ]
  },
  {
   "cell_type": "markdown",
   "metadata": {},
   "source": [
    "*rating* - целевая переменная, которую нужно предсказать. В тестовом датасете чуть больше 81% товаров получают положительный отзыв"
   ]
  },
  {
   "cell_type": "markdown",
   "metadata": {},
   "source": [
    "## Категориальные признаки  \n",
    "### itemid - идентефикатор товара   \n",
    "\n",
    "Посмотрим на 3 самый популярных id и asin"
   ]
  },
  {
   "cell_type": "code",
   "execution_count": 45,
   "metadata": {},
   "outputs": [
    {
     "data": {
      "text/html": [
       "<div>\n",
       "<style scoped>\n",
       "    .dataframe tbody tr th:only-of-type {\n",
       "        vertical-align: middle;\n",
       "    }\n",
       "\n",
       "    .dataframe tbody tr th {\n",
       "        vertical-align: top;\n",
       "    }\n",
       "\n",
       "    .dataframe thead th {\n",
       "        text-align: right;\n",
       "    }\n",
       "</style>\n",
       "<table border=\"1\" class=\"dataframe\">\n",
       "  <thead>\n",
       "    <tr style=\"text-align: right;\">\n",
       "      <th></th>\n",
       "      <th>count</th>\n",
       "      <th>mean</th>\n",
       "    </tr>\n",
       "    <tr>\n",
       "      <th>asin</th>\n",
       "      <th></th>\n",
       "      <th></th>\n",
       "    </tr>\n",
       "  </thead>\n",
       "  <tbody>\n",
       "    <tr>\n",
       "      <th>B00BUKL666</th>\n",
       "      <td>5430</td>\n",
       "      <td>0.884162</td>\n",
       "    </tr>\n",
       "    <tr>\n",
       "      <th>B00D3M2QP4</th>\n",
       "      <td>4733</td>\n",
       "      <td>0.886753</td>\n",
       "    </tr>\n",
       "    <tr>\n",
       "      <th>B008QMX2SG</th>\n",
       "      <td>4611</td>\n",
       "      <td>0.886359</td>\n",
       "    </tr>\n",
       "  </tbody>\n",
       "</table>\n",
       "</div>"
      ],
      "text/plain": [
       "            count      mean\n",
       "asin                       \n",
       "B00BUKL666   5430  0.884162\n",
       "B00D3M2QP4   4733  0.886753\n",
       "B008QMX2SG   4611  0.886359"
      ]
     },
     "execution_count": 45,
     "metadata": {},
     "output_type": "execute_result"
    }
   ],
   "source": [
    "df.groupby('asin')['rating'].agg(['count', 'mean']).sort_values(by='count', ascending=False).head(3)"
   ]
  },
  {
   "cell_type": "code",
   "execution_count": 46,
   "metadata": {},
   "outputs": [
    {
     "data": {
      "text/html": [
       "<div>\n",
       "<style scoped>\n",
       "    .dataframe tbody tr th:only-of-type {\n",
       "        vertical-align: middle;\n",
       "    }\n",
       "\n",
       "    .dataframe tbody tr th {\n",
       "        vertical-align: top;\n",
       "    }\n",
       "\n",
       "    .dataframe thead th {\n",
       "        text-align: right;\n",
       "    }\n",
       "</style>\n",
       "<table border=\"1\" class=\"dataframe\">\n",
       "  <thead>\n",
       "    <tr style=\"text-align: right;\">\n",
       "      <th></th>\n",
       "      <th>count</th>\n",
       "      <th>mean</th>\n",
       "    </tr>\n",
       "    <tr>\n",
       "      <th>itemid</th>\n",
       "      <th></th>\n",
       "      <th></th>\n",
       "    </tr>\n",
       "  </thead>\n",
       "  <tbody>\n",
       "    <tr>\n",
       "      <th>22208</th>\n",
       "      <td>5430</td>\n",
       "      <td>0.884162</td>\n",
       "    </tr>\n",
       "    <tr>\n",
       "      <th>23540</th>\n",
       "      <td>4733</td>\n",
       "      <td>0.886753</td>\n",
       "    </tr>\n",
       "    <tr>\n",
       "      <th>24556</th>\n",
       "      <td>4611</td>\n",
       "      <td>0.886359</td>\n",
       "    </tr>\n",
       "  </tbody>\n",
       "</table>\n",
       "</div>"
      ],
      "text/plain": [
       "        count      mean\n",
       "itemid                 \n",
       "22208    5430  0.884162\n",
       "23540    4733  0.886753\n",
       "24556    4611  0.886359"
      ]
     },
     "execution_count": 46,
     "metadata": {},
     "output_type": "execute_result"
    }
   ],
   "source": [
    "df.groupby('itemid')['rating'].agg(['count', 'mean']).sort_values(by='count', ascending=False).head(3)"
   ]
  },
  {
   "cell_type": "markdown",
   "metadata": {},
   "source": [
    "asin и itemid - совпадают, поэтому *asin* - удаляем. Рейтинг не зависит от количество голосов, при большом количесвто оценок, все равно не достигает 1,0  При этом высший рейтинг часто встречается у товаров, где всего 1 голос. Можно создать признак, который будет показывать частоту (популярность) данного товара. "
   ]
  },
  {
   "cell_type": "code",
   "execution_count": 47,
   "metadata": {},
   "outputs": [
    {
     "data": {
      "image/png": "[encoded data removed]",
      "text/plain": [
       "<Figure size 576x576 with 1 Axes>"
      ]
     },
     "metadata": {
      "needs_background": "light"
     },
     "output_type": "display_data"
    }
   ],
   "source": [
    "df.groupby('itemid')['rating'].agg(['count', 'mean']).query('mean==1')['count'].hist(bins=100);"
   ]
  },
  {
   "cell_type": "code",
   "execution_count": 48,
   "metadata": {},
   "outputs": [],
   "source": [
    "#df.drop(['asin'], axis=1, inplace=True)"
   ]
  },
  {
   "cell_type": "markdown",
   "metadata": {},
   "source": [
    "### reviewerName - имя(ник) обозревателя "
   ]
  },
  {
   "cell_type": "markdown",
   "metadata": {},
   "source": [
    "Посмотрим самые распространненые имена в отзывах. Чаще всего это просто покупатель Амазона или Киндл, но их всего 37000, при общем количестве 800 тыс. Также есть 168 пропусков. Имена не уникальные. Например под есть 104 пользователя с именем *Linda*. Можно некоторые имена классифицировать как мужское и женское при помощи NLTK, неопределенные, а также типа customer - создать категорию customer."
   ]
  },
  {
   "cell_type": "code",
   "execution_count": 49,
   "metadata": {},
   "outputs": [
    {
     "data": {
      "text/html": [
       "<div>\n",
       "<style scoped>\n",
       "    .dataframe tbody tr th:only-of-type {\n",
       "        vertical-align: middle;\n",
       "    }\n",
       "\n",
       "    .dataframe tbody tr th {\n",
       "        vertical-align: top;\n",
       "    }\n",
       "\n",
       "    .dataframe thead th {\n",
       "        text-align: right;\n",
       "    }\n",
       "</style>\n",
       "<table border=\"1\" class=\"dataframe\">\n",
       "  <thead>\n",
       "    <tr style=\"text-align: right;\">\n",
       "      <th></th>\n",
       "      <th>count</th>\n",
       "      <th>mean</th>\n",
       "    </tr>\n",
       "    <tr>\n",
       "      <th>reviewerName</th>\n",
       "      <th></th>\n",
       "      <th></th>\n",
       "    </tr>\n",
       "  </thead>\n",
       "  <tbody>\n",
       "    <tr>\n",
       "      <th>Amazon Customer</th>\n",
       "      <td>30612</td>\n",
       "      <td>0.861852</td>\n",
       "    </tr>\n",
       "    <tr>\n",
       "      <th>Kindle Customer</th>\n",
       "      <td>6012</td>\n",
       "      <td>0.853293</td>\n",
       "    </tr>\n",
       "    <tr>\n",
       "      <th>Linda</th>\n",
       "      <td>713</td>\n",
       "      <td>0.896213</td>\n",
       "    </tr>\n",
       "    <tr>\n",
       "      <th>John</th>\n",
       "      <td>695</td>\n",
       "      <td>0.851799</td>\n",
       "    </tr>\n",
       "    <tr>\n",
       "      <th>David</th>\n",
       "      <td>597</td>\n",
       "      <td>0.857621</td>\n",
       "    </tr>\n",
       "    <tr>\n",
       "      <th>...</th>\n",
       "      <td>...</td>\n",
       "      <td>...</td>\n",
       "    </tr>\n",
       "    <tr>\n",
       "      <th>...RD</th>\n",
       "      <td>0</td>\n",
       "      <td>NaN</td>\n",
       "    </tr>\n",
       "    <tr>\n",
       "      <th>Virginia Lopez</th>\n",
       "      <td>0</td>\n",
       "      <td>NaN</td>\n",
       "    </tr>\n",
       "    <tr>\n",
       "      <th>Adaub</th>\n",
       "      <td>0</td>\n",
       "      <td>NaN</td>\n",
       "    </tr>\n",
       "    <tr>\n",
       "      <th>parables108</th>\n",
       "      <td>0</td>\n",
       "      <td>NaN</td>\n",
       "    </tr>\n",
       "    <tr>\n",
       "      <th>sewcialist</th>\n",
       "      <td>0</td>\n",
       "      <td>NaN</td>\n",
       "    </tr>\n",
       "  </tbody>\n",
       "</table>\n",
       "<p>101473 rows × 2 columns</p>\n",
       "</div>"
      ],
      "text/plain": [
       "                 count      mean\n",
       "reviewerName                    \n",
       "Amazon Customer  30612  0.861852\n",
       "Kindle Customer   6012  0.853293\n",
       "Linda              713  0.896213\n",
       "John               695  0.851799\n",
       "David              597  0.857621\n",
       "...                ...       ...\n",
       "...RD                0       NaN\n",
       "Virginia Lopez       0       NaN\n",
       "Adaub                0       NaN\n",
       "parables108          0       NaN\n",
       "sewcialist           0       NaN\n",
       "\n",
       "[101473 rows x 2 columns]"
      ]
     },
     "execution_count": 49,
     "metadata": {},
     "output_type": "execute_result"
    }
   ],
   "source": [
    "df.groupby('reviewerName')['rating'].agg(['count', 'mean']).sort_values(by='count', ascending=False)"
   ]
  },
  {
   "cell_type": "markdown",
   "metadata": {},
   "source": [
    "### reviewText - текст описания от покупателя  \n",
    "### Summary - краткое заключение (оценка)  \n",
    "На Amazon отзывы составляются из двух частей. общая часть (*reviewText*), где покупатель делится впечатлениями и краткая, где краткая оценка или обозначается самый большой недостаток у товара. Здесь стоит отметить, что наиболее часто просто встречается *five stars* - что соответсвует рейтингу (1) , если товар не очень хорош, то можно встретить часто отрицательные частицы например *don't buy* или *not good*.    \n",
    "\n",
    "10 самых распространненых *summary*"
   ]
  },
  {
   "cell_type": "code",
   "execution_count": 50,
   "metadata": {},
   "outputs": [
    {
     "data": {
      "text/html": [
       "<div>\n",
       "<style scoped>\n",
       "    .dataframe tbody tr th:only-of-type {\n",
       "        vertical-align: middle;\n",
       "    }\n",
       "\n",
       "    .dataframe tbody tr th {\n",
       "        vertical-align: top;\n",
       "    }\n",
       "\n",
       "    .dataframe thead th {\n",
       "        text-align: right;\n",
       "    }\n",
       "</style>\n",
       "<table border=\"1\" class=\"dataframe\">\n",
       "  <thead>\n",
       "    <tr style=\"text-align: right;\">\n",
       "      <th></th>\n",
       "      <th>count</th>\n",
       "      <th>mean</th>\n",
       "    </tr>\n",
       "    <tr>\n",
       "      <th>summary</th>\n",
       "      <th></th>\n",
       "      <th></th>\n",
       "    </tr>\n",
       "  </thead>\n",
       "  <tbody>\n",
       "    <tr>\n",
       "      <th>Five Stars</th>\n",
       "      <td>167416</td>\n",
       "      <td>0.999564</td>\n",
       "    </tr>\n",
       "    <tr>\n",
       "      <th>Four Stars</th>\n",
       "      <td>26010</td>\n",
       "      <td>0.999346</td>\n",
       "    </tr>\n",
       "    <tr>\n",
       "      <th>Three Stars</th>\n",
       "      <td>11682</td>\n",
       "      <td>0.002739</td>\n",
       "    </tr>\n",
       "    <tr>\n",
       "      <th>One Star</th>\n",
       "      <td>5206</td>\n",
       "      <td>0.004418</td>\n",
       "    </tr>\n",
       "    <tr>\n",
       "      <th>Two Stars</th>\n",
       "      <td>4824</td>\n",
       "      <td>0.000207</td>\n",
       "    </tr>\n",
       "    <tr>\n",
       "      <th>Delicious</th>\n",
       "      <td>3341</td>\n",
       "      <td>0.996408</td>\n",
       "    </tr>\n",
       "    <tr>\n",
       "      <th>Yummy</th>\n",
       "      <td>2759</td>\n",
       "      <td>0.995651</td>\n",
       "    </tr>\n",
       "    <tr>\n",
       "      <th>Delicious!</th>\n",
       "      <td>2515</td>\n",
       "      <td>0.996421</td>\n",
       "    </tr>\n",
       "    <tr>\n",
       "      <th>Great</th>\n",
       "      <td>2103</td>\n",
       "      <td>0.999049</td>\n",
       "    </tr>\n",
       "    <tr>\n",
       "      <th>Good</th>\n",
       "      <td>1983</td>\n",
       "      <td>0.951084</td>\n",
       "    </tr>\n",
       "  </tbody>\n",
       "</table>\n",
       "</div>"
      ],
      "text/plain": [
       "              count      mean\n",
       "summary                      \n",
       "Five Stars   167416  0.999564\n",
       "Four Stars    26010  0.999346\n",
       "Three Stars   11682  0.002739\n",
       "One Star       5206  0.004418\n",
       "Two Stars      4824  0.000207\n",
       "Delicious      3341  0.996408\n",
       "Yummy          2759  0.995651\n",
       "Delicious!     2515  0.996421\n",
       "Great          2103  0.999049\n",
       "Good           1983  0.951084"
      ]
     },
     "execution_count": 50,
     "metadata": {},
     "output_type": "execute_result"
    }
   ],
   "source": [
    "df.groupby(['summary'])['rating'].agg(['count', 'mean']).query('count>100').sort_values(\n",
    "    by='count', ascending=False).head(10)"
   ]
  },
  {
   "cell_type": "markdown",
   "metadata": {},
   "source": [
    "Но в тестовом датасете нет ни одного, ни другого столбца, так что нет смысла их рассматривать"
   ]
  },
  {
   "cell_type": "code",
   "execution_count": 51,
   "metadata": {},
   "outputs": [],
   "source": [
    "df.drop(['summary', 'reviewText'], axis=1, inplace=True)"
   ]
  },
  {
   "cell_type": "markdown",
   "metadata": {},
   "source": [
    "### style - вид упаковки, размеры и пр."
   ]
  },
  {
   "cell_type": "code",
   "execution_count": 52,
   "metadata": {},
   "outputs": [
    {
     "data": {
      "text/plain": [
       "{'Flavor:': ' Organic Herbal Lemon Spearmint'}                             16\n",
       "{'Flavor:': ' Banana Split'}                                                1\n",
       "{'Size:': ' Pack of 3', 'Flavor:': ' Peach'}                               29\n",
       "{'Size:': ' 6.5 Ounce (Pack of 12)', 'Flavor:': ' Fettuccine Alfredo'}      2\n",
       "{'Size:': ' 8 Pack', 'Flavor:': ' White Cheddar Veggie'}                    2\n",
       "{'Size:': ' 11.5-Ounce Bag (Pack of 4)'}                                    3\n",
       "{'Size:': ' 28 Ounce (Pack of 4)'}                                        170\n",
       "{'Color:': ' Multicolor'}                                                   5\n",
       "{'Size:': ' 2.5-Pound', 'Flavor:': ' Columbian Supremo'}                   13\n",
       "{'Size:': ' 2 oz.', 'Flavor:': ' Teriyaki'}                                 1\n",
       "Name: style, dtype: int64"
      ]
     },
     "execution_count": 52,
     "metadata": {},
     "output_type": "execute_result"
    }
   ],
   "source": [
    "df['style'].value_counts().sample(10)"
   ]
  },
  {
   "cell_type": "markdown",
   "metadata": {},
   "source": [
    "Вряд-ли такой признак как количество в упаковке (1 или несколько товаров) может влиять на итоговую оценку. Теоретически мог повлиять вкус, цвет или другой качественный показатель, но здесь он выряжен неявно. Удаляем."
   ]
  },
  {
   "cell_type": "code",
   "execution_count": 53,
   "metadata": {},
   "outputs": [],
   "source": [
    "df.drop(['style'], axis=1, inplace=True)"
   ]
  },
  {
   "cell_type": "markdown",
   "metadata": {},
   "source": [
    "### category - категория товаров"
   ]
  },
  {
   "cell_type": "code",
   "execution_count": 54,
   "metadata": {},
   "outputs": [
    {
     "data": {
      "image/png": "[encoded data removed]",
      "text/plain": [
       "<Figure size 864x720 with 1 Axes>"
      ]
     },
     "metadata": {
      "needs_background": "light"
     },
     "output_type": "display_data"
    }
   ],
   "source": [
    "bars_counts('category', df, 'самые популярные категории')"
   ]
  },
  {
   "cell_type": "markdown",
   "metadata": {},
   "source": [
    "В данном столбце указан путь к товару в классификаторе Амазона. Достаточно выделить только 2 последних шага, чтобы точно определить группу товаров (например чай -> зеленый или черный). Для того, чтобы лучше были ембендинги, предвариетльно (перед редакцией) отсортируем данные по категориям"
   ]
  },
  {
   "cell_type": "code",
   "execution_count": 55,
   "metadata": {},
   "outputs": [],
   "source": [
    "#df['category'] = df['category'].apply(lambda x: x[-2:])"
   ]
  },
  {
   "cell_type": "markdown",
   "metadata": {},
   "source": [
    "Посмотрим на десятку худших товаров (количество оценок больше 100) "
   ]
  },
  {
   "cell_type": "code",
   "execution_count": 56,
   "metadata": {},
   "outputs": [
    {
     "data": {
      "text/html": [
       "<div>\n",
       "<style scoped>\n",
       "    .dataframe tbody tr th:only-of-type {\n",
       "        vertical-align: middle;\n",
       "    }\n",
       "\n",
       "    .dataframe tbody tr th {\n",
       "        vertical-align: top;\n",
       "    }\n",
       "\n",
       "    .dataframe thead th {\n",
       "        text-align: right;\n",
       "    }\n",
       "</style>\n",
       "<table border=\"1\" class=\"dataframe\">\n",
       "  <thead>\n",
       "    <tr style=\"text-align: right;\">\n",
       "      <th></th>\n",
       "      <th>count</th>\n",
       "      <th>mean</th>\n",
       "    </tr>\n",
       "    <tr>\n",
       "      <th>category</th>\n",
       "      <th></th>\n",
       "      <th></th>\n",
       "    </tr>\n",
       "  </thead>\n",
       "  <tbody>\n",
       "    <tr>\n",
       "      <th>['Grocery &amp; Gourmet Food', 'Produce', 'Fresh Fruits', 'Bananas &amp; Plantains']</th>\n",
       "      <td>457</td>\n",
       "      <td>3.886214</td>\n",
       "    </tr>\n",
       "    <tr>\n",
       "      <th>['Grocery &amp; Gourmet Food', 'Prepared Foods', 'Deli Salads']</th>\n",
       "      <td>115</td>\n",
       "      <td>3.878261</td>\n",
       "    </tr>\n",
       "    <tr>\n",
       "      <th>['Grocery &amp; Gourmet Food', 'Fresh Flowers &amp; Live Indoor Plants', 'Fresh Cut Flowers', 'Roses']</th>\n",
       "      <td>107</td>\n",
       "      <td>3.869159</td>\n",
       "    </tr>\n",
       "    <tr>\n",
       "      <th>['Grocery &amp; Gourmet Food', 'Canned, Jarred &amp; Packaged Foods', 'Meat, Poultry &amp; Seafood', 'Seafood', 'Caviars &amp; Roes']</th>\n",
       "      <td>346</td>\n",
       "      <td>3.861272</td>\n",
       "    </tr>\n",
       "    <tr>\n",
       "      <th>['Grocery &amp; Gourmet Food', 'Pasta &amp; Noodles', 'Noodles', 'Shirataki']</th>\n",
       "      <td>1339</td>\n",
       "      <td>3.858850</td>\n",
       "    </tr>\n",
       "    <tr>\n",
       "      <th>['Grocery &amp; Gourmet Food', 'Canned, Jarred &amp; Packaged Foods', 'Packaged Meals &amp; Side Dishes', 'Rice Dishes']</th>\n",
       "      <td>319</td>\n",
       "      <td>3.836991</td>\n",
       "    </tr>\n",
       "    <tr>\n",
       "      <th>['Grocery &amp; Gourmet Food', 'Produce', 'Fresh Fruits', 'Avocados']</th>\n",
       "      <td>220</td>\n",
       "      <td>3.818182</td>\n",
       "    </tr>\n",
       "    <tr>\n",
       "      <th>['Grocery &amp; Gourmet Food', 'Produce', 'Fresh Fruits', 'Grapes']</th>\n",
       "      <td>134</td>\n",
       "      <td>3.731343</td>\n",
       "    </tr>\n",
       "    <tr>\n",
       "      <th>['Grocery &amp; Gourmet Food', 'Soups, Stocks &amp; Broths', 'Bisques']</th>\n",
       "      <td>117</td>\n",
       "      <td>3.658120</td>\n",
       "    </tr>\n",
       "    <tr>\n",
       "      <th>['Grocery &amp; Gourmet Food', 'Produce', 'Fresh Fruits', 'Melons']</th>\n",
       "      <td>127</td>\n",
       "      <td>3.472441</td>\n",
       "    </tr>\n",
       "  </tbody>\n",
       "</table>\n",
       "</div>"
      ],
      "text/plain": [
       "                                                    count      mean\n",
       "category                                                           \n",
       "['Grocery & Gourmet Food', 'Produce', 'Fresh Fr...    457  3.886214\n",
       "['Grocery & Gourmet Food', 'Prepared Foods', 'D...    115  3.878261\n",
       "['Grocery & Gourmet Food', 'Fresh Flowers & Liv...    107  3.869159\n",
       "['Grocery & Gourmet Food', 'Canned, Jarred & Pa...    346  3.861272\n",
       "['Grocery & Gourmet Food', 'Pasta & Noodles', '...   1339  3.858850\n",
       "['Grocery & Gourmet Food', 'Canned, Jarred & Pa...    319  3.836991\n",
       "['Grocery & Gourmet Food', 'Produce', 'Fresh Fr...    220  3.818182\n",
       "['Grocery & Gourmet Food', 'Produce', 'Fresh Fr...    134  3.731343\n",
       "['Grocery & Gourmet Food', 'Soups, Stocks & Bro...    117  3.658120\n",
       "['Grocery & Gourmet Food', 'Produce', 'Fresh Fr...    127  3.472441"
      ]
     },
     "execution_count": 56,
     "metadata": {},
     "output_type": "execute_result"
    }
   ],
   "source": [
    "df.query('train==1').groupby(df.category.astype(str))['overall'].agg(\n",
    "    ['count', 'mean']).query('count>100').sort_values(by='mean',ascending=False).tail(10)"
   ]
  },
  {
   "cell_type": "markdown",
   "metadata": {},
   "source": [
    "Можно сразу заметить, что большинство - это свежие продукты - фрукты, цветы или готовый салат. Что является быстропортящимися товарами."
   ]
  },
  {
   "cell_type": "code",
   "execution_count": 57,
   "metadata": {},
   "outputs": [
    {
     "data": {
      "text/html": [
       "<div>\n",
       "<style scoped>\n",
       "    .dataframe tbody tr th:only-of-type {\n",
       "        vertical-align: middle;\n",
       "    }\n",
       "\n",
       "    .dataframe tbody tr th {\n",
       "        vertical-align: top;\n",
       "    }\n",
       "\n",
       "    .dataframe thead th {\n",
       "        text-align: right;\n",
       "    }\n",
       "</style>\n",
       "<table border=\"1\" class=\"dataframe\">\n",
       "  <thead>\n",
       "    <tr style=\"text-align: right;\">\n",
       "      <th></th>\n",
       "      <th>count</th>\n",
       "      <th>mean</th>\n",
       "    </tr>\n",
       "    <tr>\n",
       "      <th>category</th>\n",
       "      <th></th>\n",
       "      <th></th>\n",
       "    </tr>\n",
       "  </thead>\n",
       "  <tbody>\n",
       "    <tr>\n",
       "      <th>['Grocery &amp; Gourmet Food', 'Cooking &amp; Baking', 'Cooking Oils, Vinegars &amp; Sprays']</th>\n",
       "      <td>212</td>\n",
       "      <td>4.863208</td>\n",
       "    </tr>\n",
       "    <tr>\n",
       "      <th>['Grocery &amp; Gourmet Food', 'Cooking &amp; Baking', 'Nuts &amp; Seeds', 'Flax Seeds']</th>\n",
       "      <td>436</td>\n",
       "      <td>4.839450</td>\n",
       "    </tr>\n",
       "    <tr>\n",
       "      <th>['Grocery &amp; Gourmet Food', 'Dried Beans, Grains &amp; Rice', 'Peas', 'Split']</th>\n",
       "      <td>105</td>\n",
       "      <td>4.838095</td>\n",
       "    </tr>\n",
       "    <tr>\n",
       "      <th>['Grocery &amp; Gourmet Food', 'Herbs, Spices &amp; Seasonings', 'Salt &amp; Salt Substitutes', 'Coarse Salt']</th>\n",
       "      <td>2548</td>\n",
       "      <td>4.820644</td>\n",
       "    </tr>\n",
       "    <tr>\n",
       "      <th>['Grocery &amp; Gourmet Food', 'Herbs, Spices &amp; Seasonings', 'Single Herbs &amp; Spices', 'Parsley']</th>\n",
       "      <td>329</td>\n",
       "      <td>4.811550</td>\n",
       "    </tr>\n",
       "    <tr>\n",
       "      <th>['Grocery &amp; Gourmet Food', 'Herbs, Spices &amp; Seasonings', 'Single Herbs &amp; Spices', 'Sweet Basil Leaf']</th>\n",
       "      <td>157</td>\n",
       "      <td>4.802548</td>\n",
       "    </tr>\n",
       "    <tr>\n",
       "      <th>['Grocery &amp; Gourmet Food', 'Dried Beans, Grains &amp; Rice', 'Grains &amp; Rice', 'Wheat Berries']</th>\n",
       "      <td>386</td>\n",
       "      <td>4.792746</td>\n",
       "    </tr>\n",
       "    <tr>\n",
       "      <th>['Grocery &amp; Gourmet Food', 'Cooking &amp; Baking', 'Flours &amp; Meals', 'Barley Flour']</th>\n",
       "      <td>495</td>\n",
       "      <td>4.789899</td>\n",
       "    </tr>\n",
       "    <tr>\n",
       "      <th>['Grocery &amp; Gourmet Food', 'Herbs, Spices &amp; Seasonings', 'Pepper &amp; Peppercorns']</th>\n",
       "      <td>306</td>\n",
       "      <td>4.784314</td>\n",
       "    </tr>\n",
       "    <tr>\n",
       "      <th>['Grocery &amp; Gourmet Food', 'Herbs, Spices &amp; Seasonings', 'Single Herbs &amp; Spices', 'Chipotle']</th>\n",
       "      <td>208</td>\n",
       "      <td>4.783654</td>\n",
       "    </tr>\n",
       "  </tbody>\n",
       "</table>\n",
       "</div>"
      ],
      "text/plain": [
       "                                                    count      mean\n",
       "category                                                           \n",
       "['Grocery & Gourmet Food', 'Cooking & Baking', ...    212  4.863208\n",
       "['Grocery & Gourmet Food', 'Cooking & Baking', ...    436  4.839450\n",
       "['Grocery & Gourmet Food', 'Dried Beans, Grains...    105  4.838095\n",
       "['Grocery & Gourmet Food', 'Herbs, Spices & Sea...   2548  4.820644\n",
       "['Grocery & Gourmet Food', 'Herbs, Spices & Sea...    329  4.811550\n",
       "['Grocery & Gourmet Food', 'Herbs, Spices & Sea...    157  4.802548\n",
       "['Grocery & Gourmet Food', 'Dried Beans, Grains...    386  4.792746\n",
       "['Grocery & Gourmet Food', 'Cooking & Baking', ...    495  4.789899\n",
       "['Grocery & Gourmet Food', 'Herbs, Spices & Sea...    306  4.784314\n",
       "['Grocery & Gourmet Food', 'Herbs, Spices & Sea...    208  4.783654"
      ]
     },
     "execution_count": 57,
     "metadata": {},
     "output_type": "execute_result"
    }
   ],
   "source": [
    "df.query('train==1').groupby(df.category.astype(str))['overall'].agg(\n",
    "    ['count', 'mean']).query('count>100').sort_values(by='mean',ascending=False).head(10)"
   ]
  },
  {
   "cell_type": "markdown",
   "metadata": {},
   "source": [
    "Вверху списка - специи, мука, соль и пр. бакалейные товары, у которых нет проблем со сроком годности.  \n",
    "Возможно стоит выделить последнюю категории отдельно. "
   ]
  },
  {
   "cell_type": "code",
   "execution_count": 58,
   "metadata": {},
   "outputs": [],
   "source": [
    "# где-то категорий меньше, продублируем ее\n",
    "df['cat1'] = df['category'].apply(lambda x: x[0])\n",
    "df['cat2'] = df['category'].apply(lambda x: x[1])\n",
    "df['cat3'] = df['category'].apply(lambda x: x[-2])\n",
    "df['cat4'] = df['category'].apply(lambda x: x[-1])"
   ]
  },
  {
   "cell_type": "markdown",
   "metadata": {},
   "source": [
    "### description - описание товара от продавца  \n",
    "В данном столбце описывается состав, рецептура и пр, то, что есть на упаковке. "
   ]
  },
  {
   "cell_type": "code",
   "execution_count": 59,
   "metadata": {},
   "outputs": [
    {
     "data": {
      "text/plain": [
       "[\"Dietary restrictions dont have to stop you from enjoying all of your favorite treats. REESE'S SUGAR FREE Peanut Butter Cups Miniatures have the famous taste of milk chocolate and peanut butter with none of the sugar. Fill your candy dishes with these orange-foiled crowd pleasers, or surprise a friend with a gift bag full of REESE'S SUGAR FREE Peanut Butter Cups Miniatures!\",\n",
       " 'All major allergens are contained and listed as ingredients on our labels. As recommended by Food Allergy and Anaphylaxis Network (FAAN), please check the label on each package before purchasing.',\n",
       " 'MALTITOL; PEANUTS*; CHOCOLATE*; COCOA BUTTER; LACTITOL (MILK); CELLULOSE GEL; POLYDEXTROSE; VEGETABLE OIL (PEANUT, PALM KERNEL AND PALM OIL); MILK FAT; CONTAINS 2% OR LESS OF: CREAM (MILK)*; SALT; SOY LECITHIN; SODIUM CASEINATE (MILK); PGPR, EMULSIFIER; NATURAL AND ARTIFICIAL FLAVOR; SUCRALOSE; TBHQ (PRESERVATIVE) *ADDS A NEGLIGIBLE AMOUNT OF SUGAR',\n",
       " 'Statements regarding dietary supplements have not been evaluated by the FDA and are not intended to diagnose, treat, cure, or prevent any disease or health condition.']"
      ]
     },
     "execution_count": 59,
     "metadata": {},
     "output_type": "execute_result"
    }
   ],
   "source": [
    "df.iloc[7].description"
   ]
  },
  {
   "cell_type": "code",
   "execution_count": 60,
   "metadata": {},
   "outputs": [
    {
     "name": "stderr",
     "output_type": "stream",
     "text": [
      "<ipython-input-60-06d50ecbfdea>:1: UserWarning: Boolean Series key will be reindexed to match DataFrame index.\n",
      "  df.query('train==1')[df.description.astype('str').str.contains('sugar free')].overall.value_counts()\n"
     ]
    },
    {
     "data": {
      "text/plain": [
       "5.0    3092\n",
       "4.0     697\n",
       "3.0     421\n",
       "1.0     260\n",
       "2.0     238\n",
       "Name: overall, dtype: int64"
      ]
     },
     "execution_count": 60,
     "metadata": {},
     "output_type": "execute_result"
    }
   ],
   "source": [
    "df.query('train==1')[df.description.astype('str').str.contains('sugar free')].overall.value_counts()"
   ]
  },
  {
   "cell_type": "markdown",
   "metadata": {},
   "source": [
    "Возьмем для примера популярное в америке продукты без сахара (*sugar free*). Распределение примерно такое же как и во всем датасете. Многие описания повторяются и это не зависит от оценки. Так что, данный столбец тоже можно удалить."
   ]
  },
  {
   "cell_type": "code",
   "execution_count": 61,
   "metadata": {},
   "outputs": [],
   "source": [
    "df.drop(['description'], axis=1, inplace=True)"
   ]
  },
  {
   "cell_type": "markdown",
   "metadata": {},
   "source": [
    "### title  - название товара"
   ]
  },
  {
   "cell_type": "code",
   "execution_count": 62,
   "metadata": {},
   "outputs": [
    {
     "data": {
      "text/html": [
       "<div>\n",
       "<style scoped>\n",
       "    .dataframe tbody tr th:only-of-type {\n",
       "        vertical-align: middle;\n",
       "    }\n",
       "\n",
       "    .dataframe tbody tr th {\n",
       "        vertical-align: top;\n",
       "    }\n",
       "\n",
       "    .dataframe thead th {\n",
       "        text-align: right;\n",
       "    }\n",
       "</style>\n",
       "<table border=\"1\" class=\"dataframe\">\n",
       "  <thead>\n",
       "    <tr style=\"text-align: right;\">\n",
       "      <th></th>\n",
       "      <th>count</th>\n",
       "      <th>mean</th>\n",
       "    </tr>\n",
       "    <tr>\n",
       "      <th>title</th>\n",
       "      <th></th>\n",
       "      <th></th>\n",
       "    </tr>\n",
       "  </thead>\n",
       "  <tbody>\n",
       "    <tr>\n",
       "      <th>twinings of london christmas black tea bags, 20 count</th>\n",
       "      <td>1541</td>\n",
       "      <td>4.571707</td>\n",
       "    </tr>\n",
       "    <tr>\n",
       "      <th>davidson's tea bulk, anise seed, 16-ounce bag</th>\n",
       "      <td>1882</td>\n",
       "      <td>4.380446</td>\n",
       "    </tr>\n",
       "    <tr>\n",
       "      <th>planters dry roasted peanuts, dry roasted, lightly salted, 16 ounce (pack of 12)</th>\n",
       "      <td>1945</td>\n",
       "      <td>4.539846</td>\n",
       "    </tr>\n",
       "    <tr>\n",
       "      <th>planters peanuts, honey roasted &amp; salted, 52 ounce canister (pack of 2)</th>\n",
       "      <td>1951</td>\n",
       "      <td>4.585853</td>\n",
       "    </tr>\n",
       "    <tr>\n",
       "      <th>twinings of london pure camomile herbal tea bags, 20 count</th>\n",
       "      <td>2126</td>\n",
       "      <td>4.630292</td>\n",
       "    </tr>\n",
       "    <tr>\n",
       "      <th>twinings of london english afternoon black tea bags, 20 count (pack of 6)</th>\n",
       "      <td>2166</td>\n",
       "      <td>4.639889</td>\n",
       "    </tr>\n",
       "    <tr>\n",
       "      <th>kind bars, caramel almond and sea salt, gluten free, 1.4 ounce bars, 12 count</th>\n",
       "      <td>3079</td>\n",
       "      <td>4.531991</td>\n",
       "    </tr>\n",
       "    <tr>\n",
       "      <th>kind bars, madagascar vanilla almond, gluten free, low sugar, 1.4oz</th>\n",
       "      <td>4611</td>\n",
       "      <td>4.580785</td>\n",
       "    </tr>\n",
       "    <tr>\n",
       "      <th>kind bars, dark chocolate chili almond, gluten free, 1.4 ounce bars, 12 count</th>\n",
       "      <td>4733</td>\n",
       "      <td>4.578703</td>\n",
       "    </tr>\n",
       "    <tr>\n",
       "      <th>kind bars, dark chocolate nuts &amp; sea salt, gluten free, 1.4 ounce bars, 12 count</th>\n",
       "      <td>7435</td>\n",
       "      <td>4.568527</td>\n",
       "    </tr>\n",
       "  </tbody>\n",
       "</table>\n",
       "</div>"
      ],
      "text/plain": [
       "                                                    count      mean\n",
       "title                                                              \n",
       "twinings of london christmas black tea bags, 20...   1541  4.571707\n",
       "davidson's tea bulk, anise seed, 16-ounce bag        1882  4.380446\n",
       "planters dry roasted peanuts, dry roasted, ligh...   1945  4.539846\n",
       "planters peanuts, honey roasted & salted, 52 ou...   1951  4.585853\n",
       "twinings of london pure camomile herbal tea bag...   2126  4.630292\n",
       "twinings of london english afternoon black tea ...   2166  4.639889\n",
       "kind bars, caramel almond and sea salt, gluten ...   3079  4.531991\n",
       "kind bars, madagascar vanilla almond, gluten fr...   4611  4.580785\n",
       "kind bars, dark chocolate chili almond, gluten ...   4733  4.578703\n",
       "kind bars, dark chocolate nuts & sea salt, glut...   7435  4.568527"
      ]
     },
     "execution_count": 62,
     "metadata": {},
     "output_type": "execute_result"
    }
   ],
   "source": [
    "df.query('train==1').groupby('title')['overall'].agg(['count', 'mean']).sort_values(by='count').tail(10)"
   ]
  },
  {
   "cell_type": "code",
   "execution_count": 64,
   "metadata": {},
   "outputs": [
    {
     "data": {
      "image/png": "[encoded data removed]",
      "text/plain": [
       "<Figure size 576x576 with 1 Axes>"
      ]
     },
     "metadata": {
      "needs_background": "light"
     },
     "output_type": "display_data"
    }
   ],
   "source": [
    "viz_counter_bar(df.query('train==1').loc[df.title.str.contains(\n",
    "    'gluten free')], 'overall', 'Оценка безглютеновых продуктов')"
   ]
  },
  {
   "cell_type": "markdown",
   "metadata": {},
   "source": [
    "Продукты без глютена покупаются определенным кругом людей (из-за диетических предпочтений) и такие продукты часто стоят дороже и лучше оцениваются покупателями. "
   ]
  },
  {
   "cell_type": "code",
   "execution_count": 65,
   "metadata": {},
   "outputs": [],
   "source": [
    "# создаем признак безглютеновых продуктов\n",
    "df.loc[(df.title.str.contains('gluten free')), 'gluten_free'] = 1\n",
    "df.loc[~(df.title.str.contains('gluten free')), 'gluten_free'] = 0"
   ]
  },
  {
   "cell_type": "code",
   "execution_count": 66,
   "metadata": {},
   "outputs": [],
   "source": [
    "df[['gluten_free']] = df[['gluten_free']].astype(int)"
   ]
  },
  {
   "cell_type": "markdown",
   "metadata": {},
   "source": [
    "### brand - бренд/производитель"
   ]
  },
  {
   "cell_type": "code",
   "execution_count": 67,
   "metadata": {},
   "outputs": [
    {
     "data": {
      "text/html": [
       "<div>\n",
       "<style scoped>\n",
       "    .dataframe tbody tr th:only-of-type {\n",
       "        vertical-align: middle;\n",
       "    }\n",
       "\n",
       "    .dataframe tbody tr th {\n",
       "        vertical-align: top;\n",
       "    }\n",
       "\n",
       "    .dataframe thead th {\n",
       "        text-align: right;\n",
       "    }\n",
       "</style>\n",
       "<table border=\"1\" class=\"dataframe\">\n",
       "  <thead>\n",
       "    <tr style=\"text-align: right;\">\n",
       "      <th></th>\n",
       "      <th>count</th>\n",
       "      <th>mean</th>\n",
       "    </tr>\n",
       "    <tr>\n",
       "      <th>brand</th>\n",
       "      <th></th>\n",
       "      <th></th>\n",
       "    </tr>\n",
       "  </thead>\n",
       "  <tbody>\n",
       "    <tr>\n",
       "      <th>Just The Cheese</th>\n",
       "      <td>292</td>\n",
       "      <td>0.458904</td>\n",
       "    </tr>\n",
       "    <tr>\n",
       "      <th>Cracked Nut Butter</th>\n",
       "      <td>71</td>\n",
       "      <td>0.492958</td>\n",
       "    </tr>\n",
       "    <tr>\n",
       "      <th>Compleats</th>\n",
       "      <td>158</td>\n",
       "      <td>0.500000</td>\n",
       "    </tr>\n",
       "    <tr>\n",
       "      <th>White Coffee</th>\n",
       "      <td>77</td>\n",
       "      <td>0.519481</td>\n",
       "    </tr>\n",
       "    <tr>\n",
       "      <th>Pace</th>\n",
       "      <td>150</td>\n",
       "      <td>0.520000</td>\n",
       "    </tr>\n",
       "    <tr>\n",
       "      <th>...</th>\n",
       "      <td>...</td>\n",
       "      <td>...</td>\n",
       "    </tr>\n",
       "    <tr>\n",
       "      <th>Get Chia</th>\n",
       "      <td>115</td>\n",
       "      <td>0.982609</td>\n",
       "    </tr>\n",
       "    <tr>\n",
       "      <th>Calasparra</th>\n",
       "      <td>67</td>\n",
       "      <td>0.985075</td>\n",
       "    </tr>\n",
       "    <tr>\n",
       "      <th>Modernist Pantry</th>\n",
       "      <td>87</td>\n",
       "      <td>0.988506</td>\n",
       "    </tr>\n",
       "    <tr>\n",
       "      <th>Hunza Natural Foods</th>\n",
       "      <td>97</td>\n",
       "      <td>0.989691</td>\n",
       "    </tr>\n",
       "    <tr>\n",
       "      <th>Cookoo for Coconut</th>\n",
       "      <td>72</td>\n",
       "      <td>1.000000</td>\n",
       "    </tr>\n",
       "  </tbody>\n",
       "</table>\n",
       "<p>2142 rows × 2 columns</p>\n",
       "</div>"
      ],
      "text/plain": [
       "                     count      mean\n",
       "brand                               \n",
       "Just The Cheese        292  0.458904\n",
       "Cracked Nut Butter      71  0.492958\n",
       "Compleats              158  0.500000\n",
       "White Coffee            77  0.519481\n",
       "Pace                   150  0.520000\n",
       "...                    ...       ...\n",
       "Get Chia               115  0.982609\n",
       "Calasparra              67  0.985075\n",
       "Modernist Pantry        87  0.988506\n",
       "Hunza Natural Foods     97  0.989691\n",
       "Cookoo for Coconut      72  1.000000\n",
       "\n",
       "[2142 rows x 2 columns]"
      ]
     },
     "execution_count": 67,
     "metadata": {},
     "output_type": "execute_result"
    }
   ],
   "source": [
    "topbrands = df.query('train==1').groupby('brand')['rating'].agg(\n",
    "    ['count', 'mean']).query('count>50').sort_values(by='mean')\n",
    "\n",
    "topbrands"
   ]
  },
  {
   "cell_type": "markdown",
   "metadata": {},
   "source": [
    "Здесь не так все однозначно. Часть продуктов от конкретного производителя оценивается высоким рейтингом, а часть нравится только половине. У части производителей мало отзывов (меньше 50), этих производителей заменим на *other brand*"
   ]
  },
  {
   "cell_type": "code",
   "execution_count": 68,
   "metadata": {},
   "outputs": [],
   "source": [
    "df.loc[df.brand.isin(topbrands.index.tolist()), 'brand'] = 'other brand'"
   ]
  },
  {
   "cell_type": "markdown",
   "metadata": {},
   "source": [
    "### rank - ранк товара в категории  \n",
    "Данного столбца нет в тестовом датафрейме - столбец удаляем. А потом создадим опять ))"
   ]
  },
  {
   "cell_type": "code",
   "execution_count": 69,
   "metadata": {},
   "outputs": [],
   "source": [
    "df.drop(['rank'], axis=1, inplace=True)"
   ]
  },
  {
   "cell_type": "markdown",
   "metadata": {},
   "source": [
    "### main_cat - основная категория"
   ]
  },
  {
   "cell_type": "code",
   "execution_count": 70,
   "metadata": {},
   "outputs": [
    {
     "data": {
      "image/png": "[encoded data removed]",
      "text/plain": [
       "<Figure size 864x720 with 1 Axes>"
      ]
     },
     "metadata": {
      "needs_background": "light"
     },
     "output_type": "display_data"
    }
   ],
   "source": [
    "bars_counts('main_cat', df, 'Основные категории')"
   ]
  },
  {
   "cell_type": "markdown",
   "metadata": {},
   "source": [
    "Во многих категориях мало продуктов, поэтому выделим все, категории с количеством меньше 2000. "
   ]
  },
  {
   "cell_type": "code",
   "execution_count": 71,
   "metadata": {},
   "outputs": [],
   "source": [
    "small_cats = df['main_cat'].value_counts().reset_index().query('main_cat<2000')['index'].tolist()"
   ]
  },
  {
   "cell_type": "code",
   "execution_count": 72,
   "metadata": {},
   "outputs": [],
   "source": [
    "# заменям все непопулярные категории \n",
    "df.loc[df.main_cat.isin(small_cats), 'main_cat'] = 'other_cat'"
   ]
  },
  {
   "cell_type": "code",
   "execution_count": 73,
   "metadata": {},
   "outputs": [],
   "source": [
    "# удаляем ненужное\n",
    "df.drop(columns=['overall'], axis=1, inplace=True)"
   ]
  },
  {
   "cell_type": "code",
   "execution_count": 74,
   "metadata": {},
   "outputs": [],
   "source": [
    "goods = df[['itemid', 'category', 'brand', 'price', 'main_cat', 'title']].copy()"
   ]
  },
  {
   "cell_type": "code",
   "execution_count": 75,
   "metadata": {},
   "outputs": [],
   "source": [
    "# Заполним пропуски\n",
    "df['brand'] = df['brand'].fillna('otehr_brand')\n",
    "df['main_cat'] = df['main_cat'].fillna('other_cat')"
   ]
  },
  {
   "cell_type": "code",
   "execution_count": 76,
   "metadata": {},
   "outputs": [
    {
     "name": "stdout",
     "output_type": "stream",
     "text": [
      "<class 'pandas.core.frame.DataFrame'>\n",
      "Int64Index: 1112860 entries, 0 to 1112859\n",
      "Data columns (total 21 columns):\n",
      " #   Column        Non-Null Count    Dtype   \n",
      "---  ------        --------------    -----   \n",
      " 0   verified      1112860 non-null  int64   \n",
      " 1   asin          1112860 non-null  object  \n",
      " 2   reviewerName  1112649 non-null  object  \n",
      " 3   userid        1112860 non-null  int64   \n",
      " 4   itemid        1112860 non-null  int64   \n",
      " 5   rating        826895 non-null   float64 \n",
      " 6   train         1112860 non-null  int64   \n",
      " 7   Id            285965 non-null   float64 \n",
      " 8   category      1112860 non-null  object  \n",
      " 9   title         1112860 non-null  object  \n",
      " 10  brand         1112860 non-null  object  \n",
      " 11  also_view     600346 non-null   object  \n",
      " 12  main_cat      1112860 non-null  object  \n",
      " 13  price         1112860 non-null  float64 \n",
      " 14  also_buy      953157 non-null   object  \n",
      " 15  price_range   1112820 non-null  category\n",
      " 16  cat1          1112860 non-null  object  \n",
      " 17  cat2          1112860 non-null  object  \n",
      " 18  cat3          1112860 non-null  object  \n",
      " 19  cat4          1112860 non-null  object  \n",
      " 20  gluten_free   1112860 non-null  int64   \n",
      "dtypes: category(1), float64(3), int64(5), object(12)\n",
      "memory usage: 219.4+ MB\n"
     ]
    }
   ],
   "source": [
    "df.info()"
   ]
  },
  {
   "cell_type": "markdown",
   "metadata": {},
   "source": [
    "Осталось не так много признаков, из которых несколько идентификаторов (**asin, userid, itemid, irain, id**), 2 признака (**also_buy** и **also_view** пропущены, т.к. непонятно, что с ними пока делат, и целевая переменная **rating**. Разделим признаки на 2 группы -  относяшиеся к пользователям:  \n",
    "**verified** - проверенный или нет аккаунт  \n",
    "**reviewName** - ник/имя пользователя  \n",
    "\n",
    "и относящиеся к товарам:  \n",
    "**category** - категория товаров  \n",
    "**title** - название товара  \n",
    "**brand** - бренд  \n",
    "**price** - цена  или **price_range** - ценовой диапазон\n"
   ]
  },
  {
   "cell_type": "markdown",
   "metadata": {},
   "source": [
    "## Построение простой рекомендательной системы  \n",
    "Для построения используем тренировчный датасет, который еще раз разобьем на обучающую и тестовую выборку"
   ]
  },
  {
   "cell_type": "code",
   "execution_count": 77,
   "metadata": {},
   "outputs": [],
   "source": [
    "#df = df.sort_values(by=['main_cat','cat1', 'cat2', 'cat3', 'cat4'])"
   ]
  },
  {
   "cell_type": "code",
   "execution_count": 78,
   "metadata": {},
   "outputs": [],
   "source": [
    "train_data, test_data = train_test_split(df[df.train==1],random_state=32, shuffle=True)"
   ]
  },
  {
   "cell_type": "code",
   "execution_count": 79,
   "metadata": {},
   "outputs": [],
   "source": [
    "ratings_coo = sparse.coo_matrix((train_data['rating'].astype(int),\n",
    "                                 (train_data['userid'],\n",
    "                                  train_data['itemid'])))"
   ]
  },
  {
   "cell_type": "markdown",
   "metadata": {},
   "source": [
    "Подбор гиперпараметров осуществляется вручную. "
   ]
  },
  {
   "cell_type": "code",
   "execution_count": 80,
   "metadata": {},
   "outputs": [
    {
     "data": {
      "text/plain": [
       "0.723503273830636"
      ]
     },
     "execution_count": 80,
     "metadata": {},
     "output_type": "execute_result"
    }
   ],
   "source": [
    "NUM_THREADS = 24 #число потоков\n",
    "NUM_COMPONENTS = 40 #число параметров вектора \n",
    "NUM_EPOCHS = 25 #число эпох обучения\n",
    "LEARNING_SCHEDULE = 'adagrad'\n",
    "LOSS_FUNCTION = 'logistic'\n",
    "#LOSS_FUNCTION = 'warp'\n",
    "RANDOM_STATE = 23\n",
    "LR = 0.05\n",
    "\n",
    "model = LightFM(learning_rate=0.06, \n",
    "                loss=LOSS_FUNCTION,\n",
    "                no_components=NUM_COMPONENTS, \n",
    "                learning_schedule=LEARNING_SCHEDULE,\n",
    "                random_state = RANDOM_STATE)\n",
    "\n",
    "model = model.fit(ratings_coo, epochs=NUM_EPOCHS, \n",
    "                  num_threads=NUM_THREADS)\n",
    "\n",
    "preds = model.predict(test_data.userid.values,\n",
    "                      test_data.itemid.values)\n",
    "sklearn.metrics.roc_auc_score(test_data.rating, preds)"
   ]
  },
  {
   "cell_type": "code",
   "execution_count": 81,
   "metadata": {},
   "outputs": [],
   "source": [
    "#test = test.fillna(0)\n",
    "preds = model.predict(df[df.train==0].userid.values,\n",
    "                      df[df.train==0].itemid.values)"
   ]
  },
  {
   "cell_type": "code",
   "execution_count": 82,
   "metadata": {},
   "outputs": [
    {
     "data": {
      "text/plain": [
       "(-24.645287, 34.121357)"
      ]
     },
     "execution_count": 82,
     "metadata": {},
     "output_type": "execute_result"
    }
   ],
   "source": [
    "preds.min(), preds.max()"
   ]
  },
  {
   "cell_type": "code",
   "execution_count": 83,
   "metadata": {},
   "outputs": [
    {
     "data": {
      "text/plain": [
       "(0.0, 1.0)"
      ]
     },
     "execution_count": 83,
     "metadata": {},
     "output_type": "execute_result"
    }
   ],
   "source": [
    "normalized_preds = (preds - preds.min())/(preds - preds.min()).max()\n",
    "normalized_preds.min(), normalized_preds.max()"
   ]
  },
  {
   "cell_type": "code",
   "execution_count": 84,
   "metadata": {},
   "outputs": [],
   "source": [
    "submission['rating']= normalized_preds\n",
    "submission.to_csv('submission_log.csv', index=False)"
   ]
  },
  {
   "cell_type": "markdown",
   "metadata": {},
   "source": [
    "При сабмите на Кагл получили Roc-Auc 0.721, что соответсвует нашей оценке и бейзлайну. Из хороших новостей, оценка  на Кагл не сильно отличается от той, которая получается в ноутбуке, значит алгоритм работает верно)) "
   ]
  },
  {
   "cell_type": "markdown",
   "metadata": {},
   "source": [
    "### Обучение на всем датасете   \n",
    "Проведем обучение на всем тренировочном датасете."
   ]
  },
  {
   "cell_type": "code",
   "execution_count": 85,
   "metadata": {},
   "outputs": [],
   "source": [
    "ratings_coo_all = sparse.coo_matrix((df[df.train==1]['rating'].astype(int),\n",
    "                                 (df[df.train==1]['userid'],\n",
    "                                  df[df.train==1]['itemid'])))\n",
    "\n",
    "\n",
    "\n",
    "NUM_THREADS = 24 #число потоков\n",
    "NUM_COMPONENTS = 160 #число параметров вектора \n",
    "NUM_EPOCHS = 25 #число эпох обучения\n",
    "LEARNING_SCHEDULE = 'adagrad'\n",
    "LOSS_FUNCTION = 'logistic'\n",
    "RANDOM_STATE = 23\n",
    "LR = 0.05\n",
    "\n",
    "model = LightFM(learning_rate=LR, \n",
    "                loss=LOSS_FUNCTION,\n",
    "                no_components=NUM_COMPONENTS, \n",
    "                learning_schedule=LEARNING_SCHEDULE,\n",
    "                random_state = RANDOM_STATE)\n",
    "\n",
    "model = model.fit(ratings_coo_all, epochs=NUM_EPOCHS, \n",
    "                  num_threads=NUM_THREADS)\n",
    "\n",
    "preds = model.predict(df[df.train==0].userid.values,\n",
    "                      df[df.train==0].itemid.values)\n",
    "#sklearn.metrics.roc_auc_score(test.rating, preds)"
   ]
  },
  {
   "cell_type": "code",
   "execution_count": 86,
   "metadata": {},
   "outputs": [],
   "source": [
    "normalized_preds = (preds - preds.min())/(preds - preds.min()).max()"
   ]
  },
  {
   "cell_type": "code",
   "execution_count": 87,
   "metadata": {},
   "outputs": [],
   "source": [
    "submission['rating']= normalized_preds"
   ]
  },
  {
   "cell_type": "code",
   "execution_count": 88,
   "metadata": {},
   "outputs": [],
   "source": [
    "submission.to_csv('submission_fulltrain.csv', index=False)"
   ]
  },
  {
   "cell_type": "markdown",
   "metadata": {},
   "source": [
    "Обучение на всем датасете улучшило точность прогноза до 0.7635 (и 19го места на тот момент), но все равно точность недостаточна. Улучшить точность можно за счет решения проблемы холодного старта и построения гибридной рекомендательной системы или использования других алгоритмой"
   ]
  },
  {
   "cell_type": "markdown",
   "metadata": {},
   "source": [
    "## Feature Engeneering  \n",
    "Для того, чтобы построить гибридную систему нужно выделить пользовательские признаки и признаки товара. "
   ]
  },
  {
   "cell_type": "markdown",
   "metadata": {},
   "source": [
    "### user_feature - пользовательске признаки   \n",
    "всего признака из EDA которые можно использовать - проверенный аккаунт или нет (**verified**) и **reviewName** - из которого мы выделим пол пользователя"
   ]
  },
  {
   "cell_type": "code",
   "execution_count": 89,
   "metadata": {},
   "outputs": [],
   "source": [
    "#nltk.download()"
   ]
  },
  {
   "cell_type": "code",
   "execution_count": 90,
   "metadata": {},
   "outputs": [],
   "source": [
    "from nltk.corpus import names \n",
    "import nltk \n",
    "import random\n",
    "\n",
    "def gender_features(word): \n",
    "    return {'last_letter':word[-1]} \n",
    "\n",
    "usernames = df.reviewerName.value_counts().reset_index()['index'].reset_index()\n",
    "\n",
    "# удаляем фамилии\n",
    "usernames['index'] = usernames['index'].apply(lambda x: str(x).split(' ')[0])\n",
    "\n",
    "# добавляем длину имени\n",
    "usernames['nl'] = usernames['index'].apply(lambda x: len(x))\n",
    "\n",
    "# Удяляем имена меньше 3 символов\n",
    "usernames = usernames.loc[usernames.nl>2]\n",
    "\n",
    "# удаляем Amazon и Kindle\n",
    "usernames = usernames.iloc[2::]\n",
    "\n",
    "# оставляем только столбец name\n",
    "usernames = usernames[['index']]\n",
    "usernames.columns = ['name']\n",
    "\n",
    "# preparing a list of examples and corresponding class labels. \n",
    "labeled_names = ([(name, 'male') for name in names.words('male.txt')]+\n",
    "             [(name, 'female') for name in names.words('female.txt')]) \n",
    "\n",
    "# we use the feature extractor to process the names data. \n",
    "featuresets = [(gender_features(n), gender)  \n",
    "               for (n, gender)in labeled_names] \n",
    "\n",
    "# Divide the resulting list of feature \n",
    "# sets into a training set and a test set. \n",
    "train_set, test_set = featuresets[1000:], featuresets[:2000] \n",
    "\n",
    "# The training set is used to  \n",
    "# train a new \"naive Bayes\" classifier. \n",
    "classifier = nltk.NaiveBayesClassifier.train(train_set) \n",
    "\n",
    "nn = pd.DataFrame(labeled_names)\n",
    "nn.columns=['name', 'sex']\n",
    "nn_males = nn.query('sex==\"male\"')\n",
    "nn_females = nn.query('sex==\"female\"')\n",
    "\n",
    "usernames['sex'] = usernames['name'].apply(lambda x: 'male' if x in nn_males.name.tolist() else np.nan)\n",
    "\n",
    "usernames.loc[usernames.sex.isna(), 'sex'] = usernames.loc[\n",
    "    usernames.sex.isna(), 'name'].apply(lambda x: 'female' if x in nn_females.name.tolist() else np.nan)\n",
    "\n",
    "usernames.loc[usernames.sex.isna(), 'sex'] = usernames.loc[\n",
    "    usernames.sex.isna(), 'name'].apply(lambda x: classifier.classify(gender_features(x)))\n",
    "\n",
    "usernames = usernames.set_index('name')['sex'].to_dict()\n",
    "\n",
    "df['username'] = df['reviewerName'].apply(lambda x: str(x).split(' ')[0])\n",
    "\n",
    "df['sex'] = df['username'].map(usernames)\n",
    "\n",
    "df['sex'].fillna('unisex', inplace=True)\n",
    "\n",
    "df.loc[df['reviewerName']=='Anonymous', 'sex'] = 'unisex'"
   ]
  },
  {
   "cell_type": "markdown",
   "metadata": {},
   "source": [
    "Небольшая разница в оценках все-же присутвует"
   ]
  },
  {
   "cell_type": "code",
   "execution_count": 91,
   "metadata": {},
   "outputs": [
    {
     "data": {
      "text/plain": [
       "sex\n",
       "female    0.852851\n",
       "male      0.844667\n",
       "unisex    0.839466\n",
       "Name: rating, dtype: float64"
      ]
     },
     "execution_count": 91,
     "metadata": {},
     "output_type": "execute_result"
    }
   ],
   "source": [
    "df.groupby('sex')['rating'].mean()"
   ]
  },
  {
   "cell_type": "markdown",
   "metadata": {},
   "source": [
    "### user-feature"
   ]
  },
  {
   "cell_type": "code",
   "execution_count": 92,
   "metadata": {},
   "outputs": [],
   "source": [
    "from lightfm.data import Dataset\n",
    "# we call fit to supply userid, item id and user/item features\n",
    "dataset1 = Dataset()"
   ]
  },
  {
   "cell_type": "code",
   "execution_count": 93,
   "metadata": {},
   "outputs": [],
   "source": [
    "features_user = df[df.train==1][['userid', 'verified', 'sex']]"
   ]
  },
  {
   "cell_type": "code",
   "execution_count": 94,
   "metadata": {},
   "outputs": [
    {
     "name": "stdout",
     "output_type": "stream",
     "text": [
      "verified:1\n",
      "verified:0\n",
      "sex:female\n",
      "sex:male\n",
      "sex:unisex\n"
     ]
    }
   ],
   "source": [
    "user_f = []\n",
    "col = []\n",
    "unique_f1 = []\n",
    "for column in features_user.drop(['userid'], axis=1):\n",
    "    col += [column]*len(features_user[column].unique())\n",
    "    unique_f1 += list(features_user[column].unique())\n",
    "for x,y in zip(col, unique_f1):\n",
    "    res = str(x)+ \":\" +str(y)\n",
    "    user_f.append(res)\n",
    "    print(res)"
   ]
  },
  {
   "cell_type": "code",
   "execution_count": 95,
   "metadata": {},
   "outputs": [
    {
     "name": "stdout",
     "output_type": "stream",
     "text": [
      "['verified:', 'sex:']\n"
     ]
    }
   ],
   "source": [
    "ll = []\n",
    "for column in features_user.drop(['userid'], axis=1):\n",
    "    ll.append(column + ':')\n",
    "print(ll)"
   ]
  },
  {
   "cell_type": "code",
   "execution_count": 96,
   "metadata": {},
   "outputs": [
    {
     "name": "stdout",
     "output_type": "stream",
     "text": [
      "Final output: [['verified:1', 'sex:female'], ['verified:1', 'sex:female'], ['verified:1', 'sex:male'], ['verified:1', 'sex:male'], ['verified:1', 'sex:male']]\n"
     ]
    }
   ],
   "source": [
    "ad_subset = features_user.drop(['userid'], axis=1)\n",
    "ad_list = [x.tolist() for x in ad_subset.values]\n",
    "user_feature_list = []\n",
    "for user in ad_list:\n",
    "    user_feature_list.append(feature_colon_value(user))\n",
    "print(f'Final output: {user_feature_list[0:5]}')"
   ]
  },
  {
   "cell_type": "code",
   "execution_count": 97,
   "metadata": {},
   "outputs": [],
   "source": [
    "user_tuple = list(zip(features_user.userid, user_feature_list))"
   ]
  },
  {
   "cell_type": "markdown",
   "metadata": {},
   "source": [
    "### item-feature"
   ]
  },
  {
   "cell_type": "code",
   "execution_count": 98,
   "metadata": {},
   "outputs": [
    {
     "data": {
      "text/html": [
       "<div>\n",
       "<style scoped>\n",
       "    .dataframe tbody tr th:only-of-type {\n",
       "        vertical-align: middle;\n",
       "    }\n",
       "\n",
       "    .dataframe tbody tr th {\n",
       "        vertical-align: top;\n",
       "    }\n",
       "\n",
       "    .dataframe thead th {\n",
       "        text-align: right;\n",
       "    }\n",
       "</style>\n",
       "<table border=\"1\" class=\"dataframe\">\n",
       "  <thead>\n",
       "    <tr style=\"text-align: right;\">\n",
       "      <th></th>\n",
       "      <th>verified</th>\n",
       "      <th>asin</th>\n",
       "      <th>reviewerName</th>\n",
       "      <th>userid</th>\n",
       "      <th>itemid</th>\n",
       "      <th>rating</th>\n",
       "      <th>train</th>\n",
       "      <th>Id</th>\n",
       "      <th>category</th>\n",
       "      <th>title</th>\n",
       "      <th>...</th>\n",
       "      <th>price</th>\n",
       "      <th>also_buy</th>\n",
       "      <th>price_range</th>\n",
       "      <th>cat1</th>\n",
       "      <th>cat2</th>\n",
       "      <th>cat3</th>\n",
       "      <th>cat4</th>\n",
       "      <th>gluten_free</th>\n",
       "      <th>username</th>\n",
       "      <th>sex</th>\n",
       "    </tr>\n",
       "  </thead>\n",
       "  <tbody>\n",
       "    <tr>\n",
       "      <th>0</th>\n",
       "      <td>1</td>\n",
       "      <td>B01CPNIEQG</td>\n",
       "      <td>Heather</td>\n",
       "      <td>102179</td>\n",
       "      <td>37138</td>\n",
       "      <td>1.0</td>\n",
       "      <td>1</td>\n",
       "      <td>NaN</td>\n",
       "      <td>[Grocery &amp; Gourmet Food, Herbs, Spices &amp; Seaso...</td>\n",
       "      <td>primal palate organic spices adobo seasoning, ...</td>\n",
       "      <td>...</td>\n",
       "      <td>10.0</td>\n",
       "      <td>[B01DGZ2B48, B01EZ489AO, B01DH795LM, B01EYW2LC...</td>\n",
       "      <td>(8, 12]</td>\n",
       "      <td>Grocery &amp; Gourmet Food</td>\n",
       "      <td>Herbs, Spices &amp; Seasonings</td>\n",
       "      <td>Mixed Spices &amp; Seasonings</td>\n",
       "      <td>Adobo Seasoning</td>\n",
       "      <td>0</td>\n",
       "      <td>Heather</td>\n",
       "      <td>female</td>\n",
       "    </tr>\n",
       "    <tr>\n",
       "      <th>1</th>\n",
       "      <td>1</td>\n",
       "      <td>B006F63M8U</td>\n",
       "      <td>Linda Odom</td>\n",
       "      <td>3625</td>\n",
       "      <td>17322</td>\n",
       "      <td>1.0</td>\n",
       "      <td>1</td>\n",
       "      <td>NaN</td>\n",
       "      <td>[Grocery &amp; Gourmet Food, Beverages, Coffee, Te...</td>\n",
       "      <td>milk chocolate swiss miss hot cocoa mix 60-0.7...</td>\n",
       "      <td>...</td>\n",
       "      <td>18.0</td>\n",
       "      <td>[B001FBKO4U, B00BJ9URYA, B00451ZJB0, B0017TMTF...</td>\n",
       "      <td>(15, 20]</td>\n",
       "      <td>Grocery &amp; Gourmet Food</td>\n",
       "      <td>Beverages</td>\n",
       "      <td>Coffee, Tea &amp; Cocoa</td>\n",
       "      <td>Cocoa</td>\n",
       "      <td>0</td>\n",
       "      <td>Linda</td>\n",
       "      <td>female</td>\n",
       "    </tr>\n",
       "  </tbody>\n",
       "</table>\n",
       "<p>2 rows × 23 columns</p>\n",
       "</div>"
      ],
      "text/plain": [
       "   verified        asin reviewerName  userid  itemid  rating  train  Id  \\\n",
       "0         1  B01CPNIEQG      Heather  102179   37138     1.0      1 NaN   \n",
       "1         1  B006F63M8U   Linda Odom    3625   17322     1.0      1 NaN   \n",
       "\n",
       "                                            category  \\\n",
       "0  [Grocery & Gourmet Food, Herbs, Spices & Seaso...   \n",
       "1  [Grocery & Gourmet Food, Beverages, Coffee, Te...   \n",
       "\n",
       "                                               title  ... price  \\\n",
       "0  primal palate organic spices adobo seasoning, ...  ...  10.0   \n",
       "1  milk chocolate swiss miss hot cocoa mix 60-0.7...  ...  18.0   \n",
       "\n",
       "                                            also_buy price_range  \\\n",
       "0  [B01DGZ2B48, B01EZ489AO, B01DH795LM, B01EYW2LC...     (8, 12]   \n",
       "1  [B001FBKO4U, B00BJ9URYA, B00451ZJB0, B0017TMTF...    (15, 20]   \n",
       "\n",
       "                     cat1                        cat2  \\\n",
       "0  Grocery & Gourmet Food  Herbs, Spices & Seasonings   \n",
       "1  Grocery & Gourmet Food                   Beverages   \n",
       "\n",
       "                        cat3             cat4 gluten_free username     sex  \n",
       "0  Mixed Spices & Seasonings  Adobo Seasoning           0  Heather  female  \n",
       "1        Coffee, Tea & Cocoa            Cocoa           0    Linda  female  \n",
       "\n",
       "[2 rows x 23 columns]"
      ]
     },
     "execution_count": 98,
     "metadata": {},
     "output_type": "execute_result"
    }
   ],
   "source": [
    "df.head(2)"
   ]
  },
  {
   "cell_type": "code",
   "execution_count": 99,
   "metadata": {},
   "outputs": [],
   "source": [
    "# сохраним список товаров список товаров\n",
    "goods = df[['itemid', 'main_cat', 'category', 'brand', 'price']].copy()"
   ]
  },
  {
   "cell_type": "code",
   "execution_count": 101,
   "metadata": {},
   "outputs": [],
   "source": [
    "df = df.sort_values(by=['main_cat','cat1', 'cat2', 'cat3', 'cat4'])"
   ]
  },
  {
   "cell_type": "code",
   "execution_count": 102,
   "metadata": {},
   "outputs": [],
   "source": [
    "df['category'] = df['category'].astype(str)\n",
    "df['price_range'] = df['price_range'].astype(str)\n",
    "features_item = df[df.train==1][['itemid', 'category']]"
   ]
  },
  {
   "cell_type": "code",
   "execution_count": 103,
   "metadata": {},
   "outputs": [],
   "source": [
    "item_f = []\n",
    "col = []\n",
    "unique_f1 = []\n",
    "for column in features_item.drop(['itemid'], axis=1):\n",
    "    col += [column]*len(features_item[column].unique())\n",
    "    unique_f1 += list(features_item[column].unique())\n",
    "for x,y in zip(col, unique_f1):\n",
    "    res = str(x)+ \":\" +str(y)\n",
    "    item_f.append(res)\n",
    "    #print(res)"
   ]
  },
  {
   "cell_type": "code",
   "execution_count": 104,
   "metadata": {},
   "outputs": [
    {
     "name": "stdout",
     "output_type": "stream",
     "text": [
      "['category:']\n"
     ]
    }
   ],
   "source": [
    "ll = []\n",
    "for column in features_item.drop(['itemid'], axis=1):\n",
    "    ll.append(column + ':')\n",
    "print(ll)"
   ]
  },
  {
   "cell_type": "code",
   "execution_count": 105,
   "metadata": {},
   "outputs": [
    {
     "name": "stdout",
     "output_type": "stream",
     "text": [
      "Final output: [[\"category:['Grocery & Gourmet Food', 'Alcoholic Beverages', 'Wine', 'Non-Alcoholic Wine']\"], [\"category:['Grocery & Gourmet Food', 'Alcoholic Beverages', 'Wine', 'Non-Alcoholic Wine']\"], [\"category:['Grocery & Gourmet Food', 'Alcoholic Beverages', 'Wine', 'Non-Alcoholic Wine']\"], [\"category:['Grocery & Gourmet Food', 'Beverages', 'Coffee, Tea & Cocoa']\"], [\"category:['Grocery & Gourmet Food', 'Beverages', 'Coffee, Tea & Cocoa']\"]]\n"
     ]
    }
   ],
   "source": [
    "ad_subset = features_item.drop(['itemid'], axis=1)\n",
    "ad_list = [x.tolist() for x in ad_subset.values]\n",
    "item_feature_list = []\n",
    "for item in ad_list:\n",
    "    item_feature_list.append(feature_colon_value(item))\n",
    "print(f'Final output: {item_feature_list[0:5]}')"
   ]
  },
  {
   "cell_type": "code",
   "execution_count": 106,
   "metadata": {},
   "outputs": [
    {
     "data": {
      "text/plain": [
       "[(16310,\n",
       "  [\"category:['Grocery & Gourmet Food', 'Alcoholic Beverages', 'Wine', 'Non-Alcoholic Wine']\"]),\n",
       " (16310,\n",
       "  [\"category:['Grocery & Gourmet Food', 'Alcoholic Beverages', 'Wine', 'Non-Alcoholic Wine']\"]),\n",
       " (16310,\n",
       "  [\"category:['Grocery & Gourmet Food', 'Alcoholic Beverages', 'Wine', 'Non-Alcoholic Wine']\"]),\n",
       " (16315,\n",
       "  [\"category:['Grocery & Gourmet Food', 'Beverages', 'Coffee, Tea & Cocoa']\"]),\n",
       " (16315,\n",
       "  [\"category:['Grocery & Gourmet Food', 'Beverages', 'Coffee, Tea & Cocoa']\"])]"
      ]
     },
     "execution_count": 106,
     "metadata": {},
     "output_type": "execute_result"
    }
   ],
   "source": [
    "item_tuple = list(zip(features_item.itemid, item_feature_list))\n",
    "item_tuple[0:5]"
   ]
  },
  {
   "cell_type": "code",
   "execution_count": 107,
   "metadata": {},
   "outputs": [],
   "source": [
    "dataset1.fit(\n",
    "        df['userid'].unique(), # all the users\n",
    "        df['itemid'].unique(), # all the items\n",
    "        user_features = user_f,\n",
    "        item_features = item_f\n",
    ")"
   ]
  },
  {
   "cell_type": "code",
   "execution_count": 111,
   "metadata": {},
   "outputs": [],
   "source": [
    "# При построении матриц из полного датасета (todense()) \n",
    "#не хватает 32Gb ОЗУ, поэтому в Ubuntu стоит выполнить следующую счтрочку\n",
    "\n",
    "# $sudo sysctl -w vm.overcommit_memory=1"
   ]
  },
  {
   "cell_type": "code",
   "execution_count": 108,
   "metadata": {},
   "outputs": [
    {
     "data": {
      "text/plain": [
       "matrix([[0.06666667, 0.        , 0.        , ..., 0.46666667, 0.        ,\n",
       "         0.        ],\n",
       "        [0.        , 0.06666667, 0.        , ..., 0.46666667, 0.        ,\n",
       "         0.        ],\n",
       "        [0.        , 0.        , 0.11111111, ..., 0.        , 0.        ,\n",
       "         0.44444445],\n",
       "        ...,\n",
       "        [0.        , 0.        , 0.        , ..., 0.44444445, 0.        ,\n",
       "         0.        ],\n",
       "        [0.        , 0.        , 0.        , ..., 0.        , 0.        ,\n",
       "         0.46666667],\n",
       "        [0.        , 0.        , 0.        , ..., 0.44444445, 0.        ,\n",
       "         0.        ]], dtype=float32)"
      ]
     },
     "execution_count": 108,
     "metadata": {},
     "output_type": "execute_result"
    }
   ],
   "source": [
    "user_features = dataset1.build_user_features(user_tuple, normalize= True)\n",
    "user_features.todense()"
   ]
  },
  {
   "cell_type": "code",
   "execution_count": 109,
   "metadata": {},
   "outputs": [
    {
     "data": {
      "text/plain": [
       "matrix([[0.25      , 0.        , 0.        , ..., 0.        , 0.        ,\n",
       "         0.        ],\n",
       "        [0.        , 0.16666667, 0.        , ..., 0.        , 0.        ,\n",
       "         0.        ],\n",
       "        [0.        , 0.        , 0.03125   , ..., 0.        , 0.        ,\n",
       "         0.        ],\n",
       "        ...,\n",
       "        [0.        , 0.        , 0.        , ..., 0.        , 0.        ,\n",
       "         0.        ],\n",
       "        [0.        , 0.        , 0.        , ..., 0.        , 0.        ,\n",
       "         0.        ],\n",
       "        [0.        , 0.        , 0.        , ..., 0.        , 0.        ,\n",
       "         0.        ]], dtype=float32)"
      ]
     },
     "execution_count": 109,
     "metadata": {},
     "output_type": "execute_result"
    }
   ],
   "source": [
    "item_features = dataset1.build_item_features(item_tuple, normalize= True)\n",
    "item_features.todense()"
   ]
  },
  {
   "cell_type": "code",
   "execution_count": 110,
   "metadata": {},
   "outputs": [],
   "source": [
    "user_id_map, user_feature_map, item_id_map, item_feature_map = dataset1.mapping()"
   ]
  },
  {
   "cell_type": "code",
   "execution_count": 111,
   "metadata": {},
   "outputs": [],
   "source": [
    "df_cut = df[df.train==1][['userid','itemid','rating']]\n",
    "\n",
    "(interactions, weights) = dataset1.build_interactions([(x[0], x[1], x[2]) for x in df_cut.values ])"
   ]
  },
  {
   "cell_type": "code",
   "execution_count": 112,
   "metadata": {},
   "outputs": [
    {
     "data": {
      "text/plain": [
       "<lightfm.lightfm.LightFM at 0x7f618f1a4f70>"
      ]
     },
     "execution_count": 112,
     "metadata": {},
     "output_type": "execute_result"
    }
   ],
   "source": [
    "NUM_THREADS = 24 # количество ядер/потоков процессора\n",
    "\n",
    "model2 = LightFM(learning_rate=LR, \n",
    "                loss=LOSS_FUNCTION,\n",
    "                no_components=NUM_COMPONENTS, \n",
    "                learning_schedule=LEARNING_SCHEDULE,\n",
    "                random_state = RANDOM_STATE)\n",
    "\n",
    "\n",
    "model2.fit(interactions,\n",
    "      user_features= user_features,\n",
    "      item_features= item_features,\n",
    "      sample_weight= weights,\n",
    "      epochs=15,\n",
    "      num_threads=NUM_THREADS)"
   ]
  },
  {
   "cell_type": "markdown",
   "metadata": {},
   "source": [
    "Проверку модели производим при помощи встроенной метрики в *LightFM* roc-auc. Метрика выводит усредненное значение "
   ]
  },
  {
   "cell_type": "code",
   "execution_count": 113,
   "metadata": {},
   "outputs": [
    {
     "data": {
      "text/plain": [
       "0.60269415"
      ]
     },
     "execution_count": 113,
     "metadata": {},
     "output_type": "execute_result"
    }
   ],
   "source": [
    "calculate_auc_score(model2, interactions, item_features, user_features)"
   ]
  },
  {
   "cell_type": "code",
   "execution_count": 114,
   "metadata": {},
   "outputs": [
    {
     "data": {
      "text/plain": [
       "0.006154667"
      ]
     },
     "execution_count": 114,
     "metadata": {},
     "output_type": "execute_result"
    }
   ],
   "source": [
    "# precision - очень низкое значение (прим.)\n",
    "precision_at_k( \n",
    "        model2, interactions, \n",
    "        item_features=item_features, \n",
    "        user_features=user_features, \n",
    "        num_threads=24, k=5).mean()"
   ]
  },
  {
   "cell_type": "markdown",
   "metadata": {},
   "source": [
    "По встроенной метрике *roc-auc* незначительно уменьшилась. Но точность прогнозов для пользователей очень низкая. Сделаем прогноза для Kaggle"
   ]
  },
  {
   "cell_type": "code",
   "execution_count": 115,
   "metadata": {},
   "outputs": [],
   "source": [
    "# mapping\n",
    "user_ids = df[df.train==0].userid.apply(lambda x: user_id_map[x])\n",
    "item_ids = df[df.train==0].itemid.apply(lambda x: item_id_map[x])\n",
    "preds2 = model2.predict(user_ids.values, item_ids.values, user_features=user_features, item_features=item_features)"
   ]
  },
  {
   "cell_type": "code",
   "execution_count": 116,
   "metadata": {},
   "outputs": [
    {
     "name": "stdout",
     "output_type": "stream",
     "text": [
      "минимальное и максимальное значения:  0.0029042128 13.814465\n"
     ]
    }
   ],
   "source": [
    "print('минимальное и максимальное значения: ', preds2.min(), preds2.max())"
   ]
  },
  {
   "cell_type": "code",
   "execution_count": 117,
   "metadata": {},
   "outputs": [],
   "source": [
    "# normalize\n",
    "preds2 = (preds2 - preds2.min()) / (preds2 - preds2.min()).max()"
   ]
  },
  {
   "cell_type": "code",
   "execution_count": 118,
   "metadata": {},
   "outputs": [],
   "source": [
    "submission['rating']= preds2\n",
    "submission.to_csv('submission_hybrid.csv', index=False)"
   ]
  },
  {
   "cell_type": "markdown",
   "metadata": {},
   "source": [
    "Roc-AUc около 0,5 говорит о том, что модель не работает. Ответ может дать распределение *rating* в итоговом submission"
   ]
  },
  {
   "cell_type": "code",
   "execution_count": 119,
   "metadata": {},
   "outputs": [
    {
     "data": {
      "image/png": "[encoded data removed]",
      "text/plain": [
       "<Figure size 576x576 with 1 Axes>"
      ]
     },
     "metadata": {
      "needs_background": "light"
     },
     "output_type": "display_data"
    }
   ],
   "source": [
    "plt.rcParams['figure.figsize'] = (8, 8)\n",
    "# распределение на модели с user/item - feature\n",
    "submission['rating'].hist(bins=100);"
   ]
  },
  {
   "cell_type": "code",
   "execution_count": 120,
   "metadata": {},
   "outputs": [
    {
     "data": {
      "image/png": "[encoded data removed]",
      "text/plain": [
       "<Figure size 576x576 with 1 Axes>"
      ]
     },
     "metadata": {
      "needs_background": "light"
     },
     "output_type": "display_data"
    }
   ],
   "source": [
    "#распределение на простой модели\n",
    "pd.DataFrame(normalized_preds).hist(bins=100);"
   ]
  },
  {
   "cell_type": "markdown",
   "metadata": {},
   "source": [
    "### Прогноз с использованием двух моделей  \n",
    "Для прогноза известных значений используем простую модель, для новых пользователй/товаров - с user/item"
   ]
  },
  {
   "cell_type": "code",
   "execution_count": 121,
   "metadata": {},
   "outputs": [],
   "source": [
    "known_users = df[df.train==1].userid.tolist()"
   ]
  },
  {
   "cell_type": "code",
   "execution_count": 122,
   "metadata": {},
   "outputs": [],
   "source": [
    "unknown_ids = df.loc[(df.train==0) & ~(df.userid.isin(known_users)), 'Id'].astype(int).tolist()"
   ]
  },
  {
   "cell_type": "code",
   "execution_count": 123,
   "metadata": {},
   "outputs": [
    {
     "data": {
      "text/plain": [
       "array([1.4787176 , 1.0136082 , 0.36274827, ..., 0.6431877 , 1.7071902 ,\n",
       "       2.3916118 ], dtype=float32)"
      ]
     },
     "execution_count": 123,
     "metadata": {},
     "output_type": "execute_result"
    }
   ],
   "source": [
    "preds"
   ]
  },
  {
   "cell_type": "code",
   "execution_count": 124,
   "metadata": {},
   "outputs": [],
   "source": [
    "sub_blend = pd.DataFrame(normalized_preds, preds2).reset_index()\n",
    "sub_blend.columns = ['simple', 'feat']"
   ]
  },
  {
   "cell_type": "code",
   "execution_count": 125,
   "metadata": {},
   "outputs": [],
   "source": [
    "sub_blend['rating'] = sub_blend['simple']\n",
    "sub_blend.loc[sub_blend.index.isin(unknown_ids), 'rating'] = sub_blend.loc[sub_blend.index.isin(unknown_ids), 'feat']"
   ]
  },
  {
   "cell_type": "code",
   "execution_count": 126,
   "metadata": {},
   "outputs": [],
   "source": [
    "sub_blend = sub_blend['rating'].reset_index()#.to_csv('sub_hybr3.csv', index=False)"
   ]
  },
  {
   "cell_type": "code",
   "execution_count": 127,
   "metadata": {},
   "outputs": [],
   "source": [
    "sub_blend.columns = ['Id', 'rating']"
   ]
  },
  {
   "cell_type": "code",
   "execution_count": 128,
   "metadata": {},
   "outputs": [],
   "source": [
    "sub_blend.to_csv('sub_hybr3.csv', index=False)"
   ]
  },
  {
   "cell_type": "code",
   "execution_count": 129,
   "metadata": {},
   "outputs": [
    {
     "data": {
      "text/html": [
       "<div>\n",
       "<style scoped>\n",
       "    .dataframe tbody tr th:only-of-type {\n",
       "        vertical-align: middle;\n",
       "    }\n",
       "\n",
       "    .dataframe tbody tr th {\n",
       "        vertical-align: top;\n",
       "    }\n",
       "\n",
       "    .dataframe thead th {\n",
       "        text-align: right;\n",
       "    }\n",
       "</style>\n",
       "<table border=\"1\" class=\"dataframe\">\n",
       "  <thead>\n",
       "    <tr style=\"text-align: right;\">\n",
       "      <th></th>\n",
       "      <th>Id</th>\n",
       "      <th>rating</th>\n",
       "    </tr>\n",
       "  </thead>\n",
       "  <tbody>\n",
       "    <tr>\n",
       "      <th>0</th>\n",
       "      <td>0</td>\n",
       "      <td>0.671281</td>\n",
       "    </tr>\n",
       "    <tr>\n",
       "      <th>1</th>\n",
       "      <td>1</td>\n",
       "      <td>0.730835</td>\n",
       "    </tr>\n",
       "    <tr>\n",
       "      <th>2</th>\n",
       "      <td>2</td>\n",
       "      <td>0.581680</td>\n",
       "    </tr>\n",
       "    <tr>\n",
       "      <th>3</th>\n",
       "      <td>3</td>\n",
       "      <td>0.654939</td>\n",
       "    </tr>\n",
       "    <tr>\n",
       "      <th>4</th>\n",
       "      <td>4</td>\n",
       "      <td>0.727265</td>\n",
       "    </tr>\n",
       "    <tr>\n",
       "      <th>...</th>\n",
       "      <td>...</td>\n",
       "      <td>...</td>\n",
       "    </tr>\n",
       "    <tr>\n",
       "      <th>285960</th>\n",
       "      <td>285960</td>\n",
       "      <td>0.707466</td>\n",
       "    </tr>\n",
       "    <tr>\n",
       "      <th>285961</th>\n",
       "      <td>285961</td>\n",
       "      <td>0.643906</td>\n",
       "    </tr>\n",
       "    <tr>\n",
       "      <th>285962</th>\n",
       "      <td>285962</td>\n",
       "      <td>0.683997</td>\n",
       "    </tr>\n",
       "    <tr>\n",
       "      <th>285963</th>\n",
       "      <td>285963</td>\n",
       "      <td>0.742054</td>\n",
       "    </tr>\n",
       "    <tr>\n",
       "      <th>285964</th>\n",
       "      <td>285964</td>\n",
       "      <td>0.747947</td>\n",
       "    </tr>\n",
       "  </tbody>\n",
       "</table>\n",
       "<p>285965 rows × 2 columns</p>\n",
       "</div>"
      ],
      "text/plain": [
       "            Id    rating\n",
       "0            0  0.671281\n",
       "1            1  0.730835\n",
       "2            2  0.581680\n",
       "3            3  0.654939\n",
       "4            4  0.727265\n",
       "...        ...       ...\n",
       "285960  285960  0.707466\n",
       "285961  285961  0.643906\n",
       "285962  285962  0.683997\n",
       "285963  285963  0.742054\n",
       "285964  285964  0.747947\n",
       "\n",
       "[285965 rows x 2 columns]"
      ]
     },
     "execution_count": 129,
     "metadata": {},
     "output_type": "execute_result"
    }
   ],
   "source": [
    "sub_blend"
   ]
  },
  {
   "cell_type": "markdown",
   "metadata": {},
   "source": [
    "Из-за плохих значений user/feature получили слишком большие по модулю значения прогнозов (до нормализации счет мог быть на миллионы), почти все значения оказались около нуля. При то, что на простой модели, большинство было больше 0,5.   \n",
    "  \n",
    "Дполонительно построим систему оценки с CATboost."
   ]
  },
  {
   "cell_type": "markdown",
   "metadata": {},
   "source": [
    "## CATBoost"
   ]
  },
  {
   "cell_type": "markdown",
   "metadata": {},
   "source": [
    "### Feature Engeneering 2   \n",
    "Работа Catboost с фичами отличается от LightFM и поэтому создадим дополнительные фичи.  \n",
    "На основе столбцов *also_buy* *also_view* создадим популярность товаров, вернем столбец **rank** и создадим дополнительный признак **buy_ratio** - как часто покупатель покупает товар, после просмотра  \n",
    "\n",
    "*Примечание* Таблица популярности товаров вместе с оценками и признаками понадобится нам далее, поэтому создаем ее сразу"
   ]
  },
  {
   "cell_type": "code",
   "execution_count": 130,
   "metadata": {},
   "outputs": [],
   "source": [
    "# Считаем наиболее покупаемые (без дубликатов)\n",
    "\n",
    "items_db = df[['userid', 'asin', 'itemid', 'also_buy', 'also_view']]\n",
    "# map \n",
    "user_asin = items_db[['userid', 'asin']]\n",
    "\n",
    "\n",
    "buys = items_db[['userid', 'also_buy']].explode('also_buy')\n",
    "buys.columns = ['userid', 'asin']\n",
    "most_buys = pd.concat([buys, user_asin]).drop_duplicates()['asin'].value_counts()\n",
    "\n",
    "\n",
    "# Считаем просмотры\n",
    "views = items_db[['userid', 'also_view']].explode('also_view')\n",
    "views.columns = ['userid', 'asin']\n",
    "most_views = pd.concat([views, user_asin]).drop_duplicates()['asin'].value_counts()\n",
    "\n",
    "asin_stats = pd.concat([most_buys, most_views], axis=1)\n",
    "asin_stats.columns = ['buys', 'views']\n",
    "asin_stats.fillna(0, inplace=True)\n",
    "\n",
    "# если товар был куплен, значит и просмотрен\n",
    "asin_stats['views'] = asin_stats['views'] + asin_stats['buys']\n",
    "\n",
    "# считаем buy_ratio\n",
    "asin_stats['buy_ratio'] = asin_stats['buys'] / asin_stats['views']\n",
    "asin_stats = asin_stats.reset_index()\n",
    "asin_stats.rename({'index': 'asin'}, axis=1, inplace=True)\n",
    "df = df.merge(asin_stats, how='left', left_on='asin', right_on='asin')\n",
    "\n",
    "cat_buy_ranking = df.groupby('category')['buys'].rank()\n",
    "# рейтинг товаров по asin\n",
    "asins_rating = df[df.train==1].groupby('asin')['rating'].mean()\n",
    "\n",
    "titles = df[['itemid', 'asin', 'title']].drop_duplicates()"
   ]
  },
  {
   "cell_type": "code",
   "execution_count": 131,
   "metadata": {},
   "outputs": [],
   "source": [
    "# объеденяем\n",
    "goods = goods.merge(titles).merge(asin_stats)\n",
    "\n",
    "# разделяем\n",
    "goods['sm_cat'] = goods['category'].apply(lambda x: x[-2])\n",
    "goods['fn_cat'] = goods['category'].apply(lambda x: x[-1])\n",
    "\n",
    "goods.drop(['category'], axis=1, inplace=True)\n",
    "# список товаров\n",
    "goods = goods.drop_duplicates()\n",
    "\n",
    "# средний рейтинг\n",
    "goods_rating = df[df.train==1].groupby('itemid')['rating'].mean().reset_index()\n",
    "goods = goods.merge(goods_rating)"
   ]
  },
  {
   "cell_type": "code",
   "execution_count": 133,
   "metadata": {},
   "outputs": [],
   "source": [
    "# Подготовка данных\n",
    "#df.drop(['asin'], axis=1, inplace=True)\n",
    "df.drop(['title'], axis=1, inplace=True)\n",
    "df.drop(['reviewerName'], axis=1, inplace=True)\n",
    "df.drop(['username'], axis=1, inplace=True)"
   ]
  },
  {
   "cell_type": "code",
   "execution_count": 134,
   "metadata": {},
   "outputs": [],
   "source": [
    "df = pd.concat([df, cat_buy_ranking], axis=1)\n",
    "df.columns.values[-1] = 'rank'"
   ]
  },
  {
   "cell_type": "code",
   "execution_count": 135,
   "metadata": {},
   "outputs": [],
   "source": [
    "df['buys'] = df['buys'].apply(lambda x: np.log(x+1))\n",
    "df['views'] = df['views'].apply(lambda x: np.log(x+1))\n",
    "df['rank'] = df['rank'].apply(lambda x: np.log(x+1))"
   ]
  },
  {
   "cell_type": "code",
   "execution_count": 136,
   "metadata": {},
   "outputs": [],
   "source": [
    "df.drop(['buys', 'views'], axis=1, inplace=True)"
   ]
  },
  {
   "cell_type": "code",
   "execution_count": 137,
   "metadata": {},
   "outputs": [],
   "source": [
    "df['category'] = df['category'].astype(str)\n",
    "df['price_range'] = df['price_range'].astype(str)\n",
    "cat_cols = ['verified', 'userid', 'itemid', 'category', 'brand', 'main_cat', 'sex', 'price_range']\n",
    "num_cols = ['price', 'buys', 'views', 'rank', 'buy_ratio']\n",
    "test_data = df[df.train==0].drop(['Id', 'rating', 'train', 'also_buy', 'also_view'], axis=1)\n",
    "X = df[df.train==1].drop(['Id', 'rating', 'train', 'also_view', 'also_buy'], axis=1)\n",
    "y = df[df.train==1]['rating'].values"
   ]
  },
  {
   "cell_type": "code",
   "execution_count": 138,
   "metadata": {},
   "outputs": [
    {
     "data": {
      "text/html": [
       "<div>\n",
       "<style scoped>\n",
       "    .dataframe tbody tr th:only-of-type {\n",
       "        vertical-align: middle;\n",
       "    }\n",
       "\n",
       "    .dataframe tbody tr th {\n",
       "        vertical-align: top;\n",
       "    }\n",
       "\n",
       "    .dataframe thead th {\n",
       "        text-align: right;\n",
       "    }\n",
       "</style>\n",
       "<table border=\"1\" class=\"dataframe\">\n",
       "  <thead>\n",
       "    <tr style=\"text-align: right;\">\n",
       "      <th></th>\n",
       "      <th>verified</th>\n",
       "      <th>asin</th>\n",
       "      <th>userid</th>\n",
       "      <th>itemid</th>\n",
       "      <th>rating</th>\n",
       "      <th>train</th>\n",
       "      <th>Id</th>\n",
       "      <th>category</th>\n",
       "      <th>brand</th>\n",
       "      <th>also_view</th>\n",
       "      <th>...</th>\n",
       "      <th>also_buy</th>\n",
       "      <th>price_range</th>\n",
       "      <th>cat1</th>\n",
       "      <th>cat2</th>\n",
       "      <th>cat3</th>\n",
       "      <th>cat4</th>\n",
       "      <th>gluten_free</th>\n",
       "      <th>sex</th>\n",
       "      <th>buy_ratio</th>\n",
       "      <th>rank</th>\n",
       "    </tr>\n",
       "  </thead>\n",
       "  <tbody>\n",
       "    <tr>\n",
       "      <th>0</th>\n",
       "      <td>1</td>\n",
       "      <td>B005MRMOAU</td>\n",
       "      <td>99650</td>\n",
       "      <td>16310</td>\n",
       "      <td>1.0</td>\n",
       "      <td>1</td>\n",
       "      <td>NaN</td>\n",
       "      <td>['Grocery &amp; Gourmet Food', 'Alcoholic Beverage...</td>\n",
       "      <td>MY SANCTUARY</td>\n",
       "      <td>[B00VF6FFXU, B00AH5AOUE, B00HZ5RO16, B00HZ41ZS...</td>\n",
       "      <td>...</td>\n",
       "      <td>[B00HZ41ZS0, B00VF6FFXU, B00HZ5RO16, B00HYMU88...</td>\n",
       "      <td>(21.0, 30.0]</td>\n",
       "      <td>Grocery &amp; Gourmet Food</td>\n",
       "      <td>Alcoholic Beverages</td>\n",
       "      <td>Wine</td>\n",
       "      <td>Non-Alcoholic Wine</td>\n",
       "      <td>0</td>\n",
       "      <td>female</td>\n",
       "      <td>0.369565</td>\n",
       "      <td>2.014903</td>\n",
       "    </tr>\n",
       "    <tr>\n",
       "      <th>1</th>\n",
       "      <td>1</td>\n",
       "      <td>B005MRMOAU</td>\n",
       "      <td>59993</td>\n",
       "      <td>16310</td>\n",
       "      <td>0.0</td>\n",
       "      <td>1</td>\n",
       "      <td>NaN</td>\n",
       "      <td>['Grocery &amp; Gourmet Food', 'Alcoholic Beverage...</td>\n",
       "      <td>MY SANCTUARY</td>\n",
       "      <td>[B00VF6FFXU, B00AH5AOUE, B00HZ5RO16, B00HZ41ZS...</td>\n",
       "      <td>...</td>\n",
       "      <td>[B00HZ41ZS0, B00VF6FFXU, B00HZ5RO16, B00HYMU88...</td>\n",
       "      <td>(21.0, 30.0]</td>\n",
       "      <td>Grocery &amp; Gourmet Food</td>\n",
       "      <td>Alcoholic Beverages</td>\n",
       "      <td>Wine</td>\n",
       "      <td>Non-Alcoholic Wine</td>\n",
       "      <td>0</td>\n",
       "      <td>female</td>\n",
       "      <td>0.369565</td>\n",
       "      <td>2.014903</td>\n",
       "    </tr>\n",
       "  </tbody>\n",
       "</table>\n",
       "<p>2 rows × 22 columns</p>\n",
       "</div>"
      ],
      "text/plain": [
       "   verified        asin  userid  itemid  rating  train  Id  \\\n",
       "0         1  B005MRMOAU   99650   16310     1.0      1 NaN   \n",
       "1         1  B005MRMOAU   59993   16310     0.0      1 NaN   \n",
       "\n",
       "                                            category         brand  \\\n",
       "0  ['Grocery & Gourmet Food', 'Alcoholic Beverage...  MY SANCTUARY   \n",
       "1  ['Grocery & Gourmet Food', 'Alcoholic Beverage...  MY SANCTUARY   \n",
       "\n",
       "                                           also_view  ...  \\\n",
       "0  [B00VF6FFXU, B00AH5AOUE, B00HZ5RO16, B00HZ41ZS...  ...   \n",
       "1  [B00VF6FFXU, B00AH5AOUE, B00HZ5RO16, B00HZ41ZS...  ...   \n",
       "\n",
       "                                            also_buy   price_range  \\\n",
       "0  [B00HZ41ZS0, B00VF6FFXU, B00HZ5RO16, B00HYMU88...  (21.0, 30.0]   \n",
       "1  [B00HZ41ZS0, B00VF6FFXU, B00HZ5RO16, B00HYMU88...  (21.0, 30.0]   \n",
       "\n",
       "                     cat1                 cat2  cat3                cat4  \\\n",
       "0  Grocery & Gourmet Food  Alcoholic Beverages  Wine  Non-Alcoholic Wine   \n",
       "1  Grocery & Gourmet Food  Alcoholic Beverages  Wine  Non-Alcoholic Wine   \n",
       "\n",
       "  gluten_free     sex  buy_ratio      rank  \n",
       "0           0  female   0.369565  2.014903  \n",
       "1           0  female   0.369565  2.014903  \n",
       "\n",
       "[2 rows x 22 columns]"
      ]
     },
     "execution_count": 138,
     "metadata": {},
     "output_type": "execute_result"
    }
   ],
   "source": [
    "df.head(2)"
   ]
  },
  {
   "cell_type": "code",
   "execution_count": 139,
   "metadata": {},
   "outputs": [
    {
     "name": "stdout",
     "output_type": "stream",
     "text": [
      "<class 'pandas.core.frame.DataFrame'>\n",
      "Int64Index: 826895 entries, 0 to 1112857\n",
      "Data columns (total 17 columns):\n",
      " #   Column       Non-Null Count   Dtype  \n",
      "---  ------       --------------   -----  \n",
      " 0   verified     826895 non-null  int64  \n",
      " 1   asin         826895 non-null  object \n",
      " 2   userid       826895 non-null  int64  \n",
      " 3   itemid       826895 non-null  int64  \n",
      " 4   category     826895 non-null  object \n",
      " 5   brand        826895 non-null  object \n",
      " 6   main_cat     826895 non-null  object \n",
      " 7   price        826895 non-null  float64\n",
      " 8   price_range  826895 non-null  object \n",
      " 9   cat1         826895 non-null  object \n",
      " 10  cat2         826895 non-null  object \n",
      " 11  cat3         826895 non-null  object \n",
      " 12  cat4         826895 non-null  object \n",
      " 13  gluten_free  826895 non-null  int64  \n",
      " 14  sex          826895 non-null  object \n",
      " 15  buy_ratio    826895 non-null  float64\n",
      " 16  rank         826895 non-null  float64\n",
      "dtypes: float64(3), int64(4), object(10)\n",
      "memory usage: 113.6+ MB\n"
     ]
    }
   ],
   "source": [
    "X.info()"
   ]
  },
  {
   "cell_type": "code",
   "execution_count": 140,
   "metadata": {},
   "outputs": [],
   "source": [
    "#X.drop(['also_view', 'also_buy'], axis=1, inplace=True)\n",
    "X.drop(['asin'], axis=1, inplace=True)"
   ]
  },
  {
   "cell_type": "code",
   "execution_count": 141,
   "metadata": {},
   "outputs": [],
   "source": [
    "X_train, X_test, y_train, y_test = train_test_split(\n",
    "    X, y, test_size=0.2, shuffle=True, random_state=42)"
   ]
  },
  {
   "cell_type": "code",
   "execution_count": 142,
   "metadata": {},
   "outputs": [],
   "source": [
    "# Убираем из списка столбцов, числовые переменные, оставляем только категорийные\n",
    "cat_features = set(X.columns).difference(set(num_cols))"
   ]
  },
  {
   "cell_type": "code",
   "execution_count": 143,
   "metadata": {},
   "outputs": [
    {
     "data": {
      "text/plain": [
       "{'brand',\n",
       " 'cat1',\n",
       " 'cat2',\n",
       " 'cat3',\n",
       " 'cat4',\n",
       " 'category',\n",
       " 'gluten_free',\n",
       " 'itemid',\n",
       " 'main_cat',\n",
       " 'price_range',\n",
       " 'sex',\n",
       " 'userid',\n",
       " 'verified'}"
      ]
     },
     "execution_count": 143,
     "metadata": {},
     "output_type": "execute_result"
    }
   ],
   "source": [
    "cat_features"
   ]
  },
  {
   "cell_type": "code",
   "execution_count": 144,
   "metadata": {},
   "outputs": [],
   "source": [
    "y = y.reshape(-1,1)"
   ]
  },
  {
   "cell_type": "code",
   "execution_count": 145,
   "metadata": {},
   "outputs": [],
   "source": [
    "# Функция подготовки модели и расчета метрики для Optuna \n",
    "\n",
    "from catboost import Pool\n",
    "import sklearn.metrics\n",
    "def objective(trial):\n",
    "    train_x, test_x, train_y, test_y = train_test_split(X, y, \n",
    "                                                        test_size=0.2, random_state=RANDOM_SEED)\n",
    "    train_pool = Pool(train_x, train_y, cat_features=cat_features)\n",
    "    test_pool = Pool(test_x, test_y, cat_features=cat_features)\n",
    "\n",
    "    \n",
    "    params = {\n",
    "        'iterations' : trial.suggest_int('iterations', 300, 2500),                         \n",
    "        'depth' : trial.suggest_int('depth', 4, 10),                                       \n",
    "        'learning_rate' : trial.suggest_loguniform('learning_rate', 0.01, 0.2),               \n",
    "        'random_strength' :trial.suggest_int('random_strength', 0, 100),                       \n",
    "        'bagging_temperature' :trial.suggest_loguniform('bagging_temperature', 0.01, 100.00), \n",
    "        'od_type': trial.suggest_categorical('od_type', ['IncToDec']),\n",
    "        'od_wait' :trial.suggest_int('od_wait', 10, 50)\n",
    "    }\n",
    "\n",
    "    model = CatBoostRegressor(**params, task_type='GPU', eval_metric='AUC', verbose=0)\n",
    "    #model = CatBoostClassifier(**params)\n",
    "    model.fit(train_pool)\n",
    "    preds = model.predict(test_pool)\n",
    "    pred_labels = np.rint(preds)\n",
    "    #preds = preds.T[1]\n",
    "    accuracy = sklearn.metrics.roc_auc_score(test_y, preds)\n",
    "    return 1-accuracy"
   ]
  },
  {
   "cell_type": "code",
   "execution_count": null,
   "metadata": {},
   "outputs": [],
   "source": []
  },
  {
   "cell_type": "code",
   "execution_count": 146,
   "metadata": {},
   "outputs": [
    {
     "name": "stderr",
     "output_type": "stream",
     "text": [
      "\u001b[32m[I 2021-01-19 20:02:11,437]\u001b[0m A new study created in memory with name: no-name-454fed97-a239-4bb0-9c62-674deeafd917\u001b[0m\n",
      "\u001b[32m[I 2021-01-19 20:03:10,950]\u001b[0m Trial 0 finished with value: 0.2569391735266796 and parameters: {'iterations': 820, 'depth': 7, 'learning_rate': 0.07356182823193717, 'random_strength': 78, 'bagging_temperature': 0.03499442452951628, 'od_type': 'IncToDec', 'od_wait': 33}. Best is trial 0 with value: 0.2569391735266796.\u001b[0m\n",
      "\u001b[32m[I 2021-01-19 20:04:22,530]\u001b[0m Trial 1 finished with value: 0.25867290869683357 and parameters: {'iterations': 1151, 'depth': 4, 'learning_rate': 0.011282375340455965, 'random_strength': 95, 'bagging_temperature': 0.04357096419815851, 'od_type': 'IncToDec', 'od_wait': 43}. Best is trial 0 with value: 0.2569391735266796.\u001b[0m\n",
      "\u001b[32m[I 2021-01-19 20:06:15,847]\u001b[0m Trial 2 finished with value: 0.2620434362364341 and parameters: {'iterations': 1661, 'depth': 9, 'learning_rate': 0.010731229122486615, 'random_strength': 9, 'bagging_temperature': 0.07260610814589614, 'od_type': 'IncToDec', 'od_wait': 47}. Best is trial 0 with value: 0.2569391735266796.\u001b[0m\n"
     ]
    },
    {
     "name": "stdout",
     "output_type": "stream",
     "text": [
      "FrozenTrial(number=0, value=0.2569391735266796, datetime_start=datetime.datetime(2021, 1, 19, 20, 2, 11, 439322), datetime_complete=datetime.datetime(2021, 1, 19, 20, 3, 10, 949692), params={'iterations': 820, 'depth': 7, 'learning_rate': 0.07356182823193717, 'random_strength': 78, 'bagging_temperature': 0.03499442452951628, 'od_type': 'IncToDec', 'od_wait': 33}, distributions={'iterations': IntUniformDistribution(high=2500, low=300, step=1), 'depth': IntUniformDistribution(high=10, low=4, step=1), 'learning_rate': LogUniformDistribution(high=0.2, low=0.01), 'random_strength': IntUniformDistribution(high=100, low=0, step=1), 'bagging_temperature': LogUniformDistribution(high=100.0, low=0.01), 'od_type': CategoricalDistribution(choices=('IncToDec',)), 'od_wait': IntUniformDistribution(high=50, low=10, step=1)}, user_attrs={}, system_attrs={}, intermediate_values={}, trial_id=0, state=TrialState.COMPLETE)\n"
     ]
    }
   ],
   "source": [
    "# проводти подбор гиперпараметров для модели при помощи Optuna \n",
    "# В ноутбуке может стоять значение n_trials = 5, но при расчетах лучше ставить 50-100 \n",
    "# поддержка GPU (на новых видеокартах) обязательна task_type=GPU в функции выше\n",
    "\n",
    "RANDOM_SEED = 42\n",
    "\n",
    "import optuna\n",
    "if __name__ == '__main__':\n",
    "    study = optuna.create_study()\n",
    "    study.optimize(objective, n_trials=3)\n",
    "    print(study.best_trial)"
   ]
  },
  {
   "cell_type": "code",
   "execution_count": 147,
   "metadata": {},
   "outputs": [
    {
     "data": {
      "text/plain": [
       "{'iterations': 820,\n",
       " 'depth': 7,\n",
       " 'learning_rate': 0.07356182823193717,\n",
       " 'random_strength': 78,\n",
       " 'bagging_temperature': 0.03499442452951628,\n",
       " 'od_type': 'IncToDec',\n",
       " 'od_wait': 33}"
      ]
     },
     "execution_count": 147,
     "metadata": {},
     "output_type": "execute_result"
    }
   ],
   "source": [
    "study.best_params"
   ]
  },
  {
   "cell_type": "code",
   "execution_count": 148,
   "metadata": {},
   "outputs": [],
   "source": [
    "def cat_model(y_train, X_train, X_test, y_test):\n",
    "    model = CatBoostRegressor(task_type='GPU',\n",
    "                          iterations=820,\n",
    "                          learning_rate=0.0736,\n",
    "                          depth=7,\n",
    "                          random_state=42,\n",
    "                          random_strength=59,\n",
    "                          bagging_temperature=0.035,\n",
    "                          eval_metric='AUC',\n",
    "                          od_type='IncToDec',\n",
    "                          od_wait=33,\n",
    "                          od_pval=0.002,\n",
    "                          l2_leaf_reg=1,\n",
    "                          subsample=0.75)\n",
    "    model.fit(X_train, y_train,\n",
    "              cat_features=cat_features,\n",
    "              eval_set=(X_test, y_test),\n",
    "              verbose=False,\n",
    "              use_best_model=True,\n",
    "              plot=False)\n",
    "\n",
    "    return(model)"
   ]
  },
  {
   "cell_type": "code",
   "execution_count": 149,
   "metadata": {},
   "outputs": [],
   "source": [
    "X_sub = df[df.train==0].drop(['rating', 'Id', 'train'], axis=1)\n",
    "X_sub.drop(['also_view', 'also_buy', 'asin'], axis=1, inplace=True)"
   ]
  },
  {
   "cell_type": "code",
   "execution_count": 150,
   "metadata": {},
   "outputs": [],
   "source": [
    "#X_sub.drop(['asin'], axis=1, inplace=True)"
   ]
  },
  {
   "cell_type": "code",
   "execution_count": 151,
   "metadata": {},
   "outputs": [
    {
     "name": "stderr",
     "output_type": "stream",
     "text": [
      "\r",
      "  0%|          | 0/5 [00:00<?, ?it/s]"
     ]
    },
    {
     "name": "stdout",
     "output_type": "stream",
     "text": [
      "1 Fold ROC-AUC: 0.745\n"
     ]
    },
    {
     "name": "stderr",
     "output_type": "stream",
     "text": [
      "\r",
      " 20%|██        | 1/5 [01:12<04:51, 72.79s/it]"
     ]
    },
    {
     "name": "stdout",
     "output_type": "stream",
     "text": [
      "2 Fold ROC-AUC: 0.744\n"
     ]
    },
    {
     "name": "stderr",
     "output_type": "stream",
     "text": [
      "\r",
      " 40%|████      | 2/5 [02:31<03:43, 74.55s/it]"
     ]
    },
    {
     "name": "stdout",
     "output_type": "stream",
     "text": [
      "3 Fold ROC-AUC: 0.744\n"
     ]
    },
    {
     "name": "stderr",
     "output_type": "stream",
     "text": [
      "\r",
      " 60%|██████    | 3/5 [03:45<02:28, 74.42s/it]"
     ]
    },
    {
     "name": "stdout",
     "output_type": "stream",
     "text": [
      "4 Fold ROC-AUC: 0.739\n"
     ]
    },
    {
     "name": "stderr",
     "output_type": "stream",
     "text": [
      "\r",
      " 80%|████████  | 4/5 [05:01<01:14, 74.87s/it]"
     ]
    },
    {
     "name": "stdout",
     "output_type": "stream",
     "text": [
      "5 Fold ROC-AUC: 0.744\n"
     ]
    },
    {
     "name": "stderr",
     "output_type": "stream",
     "text": [
      "100%|██████████| 5/5 [06:17<00:00, 75.48s/it]"
     ]
    },
    {
     "name": "stdout",
     "output_type": "stream",
     "text": [
      "Mean Score: 0.743\n",
      "Std Score: 0.0020\n",
      "Max Score: 0.745\n",
      "Min Score: 0.739\n"
     ]
    },
    {
     "name": "stderr",
     "output_type": "stream",
     "text": [
      "\n"
     ]
    }
   ],
   "source": [
    "from sklearn.model_selection import RepeatedKFold\n",
    "from sklearn.model_selection import KFold, StratifiedKFold\n",
    "from tqdm import tqdm\n",
    "\n",
    "submissions = pd.DataFrame(0,columns=[\"sub_1\"], index=submission.index) # куда пишем предикты по каждой модели\n",
    "score_ls = []\n",
    "N_FOLDS = 5\n",
    "splits = list(KFold(n_splits=N_FOLDS, shuffle=True, random_state=47).split(X, y))\n",
    "\n",
    "for idx, (train_idx, test_idx) in tqdm(enumerate(splits), total=N_FOLDS,):\n",
    "    X_train, y_train, X_test, y_test = X.iloc[train_idx], y[train_idx], X.iloc[test_idx], y[test_idx]\n",
    "    # model for this fold\n",
    "    model = cat_model(y_train, X_train, X_test, y_test,)\n",
    "    # score model on test\n",
    "    test_predict = model.predict(X_test)\n",
    "    #test_predict = test_predict.T[1]\n",
    "    test_score = sklearn.metrics.roc_auc_score(y_test, test_predict)\n",
    "    score_ls.append(test_score)\n",
    "    print(f\"{idx+1} Fold ROC-AUC: {sklearn.metrics.roc_auc_score(y_test, test_predict):0.3f}\")\n",
    "    # submissions\n",
    "    submissions[f'sub_{idx+1}'] = model.predict(X_sub)\n",
    "    model.save_model(f'catboost_fold_{idx+1}.model')\n",
    "    \n",
    "print(f'Mean Score: {np.mean(score_ls):0.3f}')\n",
    "print(f'Std Score: {np.std(score_ls):0.4f}')\n",
    "print(f'Max Score: {np.max(score_ls):0.3f}')\n",
    "print(f'Min Score: {np.min(score_ls):0.3f}')\n",
    "#'''"
   ]
  },
  {
   "cell_type": "code",
   "execution_count": 152,
   "metadata": {},
   "outputs": [
    {
     "data": {
      "text/html": [
       "<div>\n",
       "<style scoped>\n",
       "    .dataframe tbody tr th:only-of-type {\n",
       "        vertical-align: middle;\n",
       "    }\n",
       "\n",
       "    .dataframe tbody tr th {\n",
       "        vertical-align: top;\n",
       "    }\n",
       "\n",
       "    .dataframe thead th {\n",
       "        text-align: right;\n",
       "    }\n",
       "</style>\n",
       "<table border=\"1\" class=\"dataframe\">\n",
       "  <thead>\n",
       "    <tr style=\"text-align: right;\">\n",
       "      <th></th>\n",
       "      <th>Id</th>\n",
       "      <th>rating</th>\n",
       "    </tr>\n",
       "  </thead>\n",
       "  <tbody>\n",
       "    <tr>\n",
       "      <th>0</th>\n",
       "      <td>0</td>\n",
       "      <td>0.697204</td>\n",
       "    </tr>\n",
       "    <tr>\n",
       "      <th>1</th>\n",
       "      <td>1</td>\n",
       "      <td>0.563723</td>\n",
       "    </tr>\n",
       "    <tr>\n",
       "      <th>2</th>\n",
       "      <td>2</td>\n",
       "      <td>0.436056</td>\n",
       "    </tr>\n",
       "    <tr>\n",
       "      <th>3</th>\n",
       "      <td>3</td>\n",
       "      <td>0.665244</td>\n",
       "    </tr>\n",
       "    <tr>\n",
       "      <th>4</th>\n",
       "      <td>4</td>\n",
       "      <td>0.853786</td>\n",
       "    </tr>\n",
       "    <tr>\n",
       "      <th>...</th>\n",
       "      <td>...</td>\n",
       "      <td>...</td>\n",
       "    </tr>\n",
       "    <tr>\n",
       "      <th>285960</th>\n",
       "      <td>285960</td>\n",
       "      <td>0.854610</td>\n",
       "    </tr>\n",
       "    <tr>\n",
       "      <th>285961</th>\n",
       "      <td>285961</td>\n",
       "      <td>0.869330</td>\n",
       "    </tr>\n",
       "    <tr>\n",
       "      <th>285962</th>\n",
       "      <td>285962</td>\n",
       "      <td>0.802688</td>\n",
       "    </tr>\n",
       "    <tr>\n",
       "      <th>285963</th>\n",
       "      <td>285963</td>\n",
       "      <td>0.818972</td>\n",
       "    </tr>\n",
       "    <tr>\n",
       "      <th>285964</th>\n",
       "      <td>285964</td>\n",
       "      <td>0.891234</td>\n",
       "    </tr>\n",
       "  </tbody>\n",
       "</table>\n",
       "<p>285965 rows × 2 columns</p>\n",
       "</div>"
      ],
      "text/plain": [
       "            Id    rating\n",
       "0            0  0.697204\n",
       "1            1  0.563723\n",
       "2            2  0.436056\n",
       "3            3  0.665244\n",
       "4            4  0.853786\n",
       "...        ...       ...\n",
       "285960  285960  0.854610\n",
       "285961  285961  0.869330\n",
       "285962  285962  0.802688\n",
       "285963  285963  0.818972\n",
       "285964  285964  0.891234\n",
       "\n",
       "[285965 rows x 2 columns]"
      ]
     },
     "execution_count": 152,
     "metadata": {},
     "output_type": "execute_result"
    }
   ],
   "source": [
    "submissions['rating'] = submissions.mean(axis=1)\n",
    "submissions = submissions[['rating']]\n",
    "submissions = submissions.reset_index()\n",
    "submissions.columns = ['Id', 'rating']\n",
    "\n",
    "submissions.to_csv('sub_cat_norm.csv', index=False)\n",
    "sub_max = submissions['rating'].max()\n",
    "sub_min = submissions['rating'].min()\n",
    "submissions['rating'] = (submissions['rating'] - sub_min) / (sub_max - sub_min)\n",
    "submissions"
   ]
  },
  {
   "cell_type": "code",
   "execution_count": 153,
   "metadata": {},
   "outputs": [
    {
     "data": {
      "text/plain": [
       "<AxesSubplot:>"
      ]
     },
     "execution_count": 153,
     "metadata": {},
     "output_type": "execute_result"
    },
    {
     "data": {
      "image/png": "[encoded data removed]",
      "text/plain": [
       "<Figure size 576x576 with 1 Axes>"
      ]
     },
     "metadata": {
      "needs_background": "light"
     },
     "output_type": "display_data"
    }
   ],
   "source": [
    "submissions['rating'].hist(bins=100)"
   ]
  },
  {
   "cell_type": "code",
   "execution_count": 154,
   "metadata": {},
   "outputs": [],
   "source": [
    "submissions.to_csv('sub_catv3.csv', index=False)"
   ]
  },
  {
   "cell_type": "markdown",
   "metadata": {},
   "source": [
    "## Промежуточные выводы.   \n",
    "*Catboost* отработал лучше, чем *LightFM*. Итоговый score 0.78785 и 3е место (на момент написания проекта). По распределению *rating* видно, что оценки смещены больше к 0.9 - это объясняется, тем что используем регриссионную модель, а не классификатор (прим. классификатор показал результат хуже).  \n",
    "\n",
    "Модель LightFM с *user/feature* несмотря на высокую оценку **Roc-Auc** - 0.76, показала  очень низкую **precision**  0.01. После нормализации, почти все оценки оказались около 0, сказалась слишком большая разница между значениями и особенно максимальное значение (т.к. оно учавствует в данной формуле)."
   ]
  },
  {
   "cell_type": "markdown",
   "metadata": {},
   "source": [
    "## Построение рекомендательной системы"
   ]
  },
  {
   "cell_type": "code",
   "execution_count": 194,
   "metadata": {},
   "outputs": [],
   "source": [
    "cats = df[df.train==1].sort_values(by=['main_cat', 'cat4'])[['itemid', 'category']] # категории, а не коты"
   ]
  },
  {
   "cell_type": "code",
   "execution_count": 195,
   "metadata": {},
   "outputs": [],
   "source": [
    "cats_ind = cats.category.value_counts().reset_index().reset_index().drop(['category'], axis=1)"
   ]
  },
  {
   "cell_type": "code",
   "execution_count": 196,
   "metadata": {},
   "outputs": [],
   "source": [
    "cats_ind.columns = ['cat_ind', 'category']\n",
    "cats = cats.drop_duplicates()\n",
    "cats = cats.merge(cats_ind)"
   ]
  },
  {
   "cell_type": "code",
   "execution_count": 197,
   "metadata": {},
   "outputs": [],
   "source": [
    "feature_ratings  = sparse.coo_matrix(([1]*len(cats),(cats.itemid,cats.cat_ind)))"
   ]
  },
  {
   "cell_type": "code",
   "execution_count": 198,
   "metadata": {},
   "outputs": [],
   "source": [
    "#Создаём модель\n",
    "model3 = LightFM(learning_rate=0.05, loss='warp', no_components=NUM_COMPONENTS)"
   ]
  },
  {
   "cell_type": "code",
   "execution_count": 199,
   "metadata": {},
   "outputs": [],
   "source": [
    "#Обучаем модель\n",
    "model3 = model3.fit(interactions, epochs=NUM_EPOCHS, num_threads=NUM_THREADS, item_features=feature_ratings)"
   ]
  },
  {
   "cell_type": "code",
   "execution_count": 200,
   "metadata": {},
   "outputs": [],
   "source": [
    "item_biases, item_embeddings = model3.get_item_representations(features = feature_ratings)"
   ]
  },
  {
   "cell_type": "code",
   "execution_count": 201,
   "metadata": {},
   "outputs": [],
   "source": [
    "import nmslib\n",
    "\n",
    "# Создаём наш граф для поиска\n",
    "nms_idx = nmslib.init(method='hnsw', space='cosinesimil')\n",
    "\n",
    "# Начинаем добавлять наши книги в граф\n",
    "nms_idx.addDataPointBatch(item_embeddings)\n",
    "nms_idx.createIndex(print_progress=True)\n",
    "\n",
    "#Вспомогательная функция для поиска по графу\n",
    "def nearest_items_nms(item_id, index, n=10):\n",
    "    nn = index.knnQuery(item_embeddings[item_id], k=n)\n",
    "    return nn"
   ]
  },
  {
   "cell_type": "markdown",
   "metadata": {},
   "source": [
    "### Оценка работы системы.   \n",
    "С точки зрения бизнеса стояла конкретная задача, увеличить средний чек. Наша система будет рекомендовать похожие товары, но которые лучше продаются или являются лучшими по оценке. Для этого у нас есть 2 параметра:   \n",
    "**buy_ratio** - конверсия, количество покупок / количество просмотров и   \n",
    "**rating** - средний, и отвечает за оценку пользователей. \n",
    "У двух оценок, есть одна проблема. Товары у которых много продаж и просмотров, могут иметь оценку суть ниже. Товары, которые продались несколько раз, могут иметь высокий рейтинг (в т.ч. накрученный). Среднее значение не подходит, т.к. может \"вытянуть\" товары с несколькими продажами и еще с нулевой оценкой. Поэтому будем использовать гармоничную метрику, типа *f1*, которая учитывает оба параметра и уберет нулевые значения"
   ]
  },
  {
   "cell_type": "code",
   "execution_count": 202,
   "metadata": {},
   "outputs": [],
   "source": [
    "goods['f1_score'] = goods['rating'] * goods['buy_ratio'] * 2 / (goods['rating'] + goods['buy_ratio'])"
   ]
  },
  {
   "cell_type": "markdown",
   "metadata": {},
   "source": [
    "### Проверка работы системы на примерах .   \n",
    "Ищем похожие элементы и рекомендуем лучшие (5 товаров)\n",
    "#### 1. Черный чай"
   ]
  },
  {
   "cell_type": "code",
   "execution_count": 203,
   "metadata": {},
   "outputs": [
    {
     "data": {
      "text/html": [
       "<div>\n",
       "<style scoped>\n",
       "    .dataframe tbody tr th:only-of-type {\n",
       "        vertical-align: middle;\n",
       "    }\n",
       "\n",
       "    .dataframe tbody tr th {\n",
       "        vertical-align: top;\n",
       "    }\n",
       "\n",
       "    .dataframe thead th {\n",
       "        text-align: right;\n",
       "    }\n",
       "</style>\n",
       "<table border=\"1\" class=\"dataframe\">\n",
       "  <thead>\n",
       "    <tr style=\"text-align: right;\">\n",
       "      <th></th>\n",
       "      <th>itemid</th>\n",
       "      <th>main_cat</th>\n",
       "      <th>brand</th>\n",
       "      <th>price</th>\n",
       "      <th>asin</th>\n",
       "      <th>title</th>\n",
       "      <th>buys</th>\n",
       "      <th>views</th>\n",
       "      <th>buy_ratio</th>\n",
       "      <th>sm_cat</th>\n",
       "      <th>fn_cat</th>\n",
       "      <th>rating</th>\n",
       "      <th>f1_score</th>\n",
       "    </tr>\n",
       "  </thead>\n",
       "  <tbody>\n",
       "    <tr>\n",
       "      <th>8180</th>\n",
       "      <td>500</td>\n",
       "      <td>Grocery</td>\n",
       "      <td>other brand</td>\n",
       "      <td>21.0</td>\n",
       "      <td>B00028MO04</td>\n",
       "      <td>choice organic northwest blackberry tea, 20 co...</td>\n",
       "      <td>88.0</td>\n",
       "      <td>176.0</td>\n",
       "      <td>0.5</td>\n",
       "      <td>Tea</td>\n",
       "      <td>Black</td>\n",
       "      <td>0.814286</td>\n",
       "      <td>0.619565</td>\n",
       "    </tr>\n",
       "  </tbody>\n",
       "</table>\n",
       "</div>"
      ],
      "text/plain": [
       "      itemid main_cat        brand  price        asin  \\\n",
       "8180     500  Grocery  other brand   21.0  B00028MO04   \n",
       "\n",
       "                                                  title  buys  views  \\\n",
       "8180  choice organic northwest blackberry tea, 20 co...  88.0  176.0   \n",
       "\n",
       "      buy_ratio sm_cat fn_cat    rating  f1_score  \n",
       "8180        0.5    Tea  Black  0.814286  0.619565  "
      ]
     },
     "execution_count": 203,
     "metadata": {},
     "output_type": "execute_result"
    }
   ],
   "source": [
    "goods[goods.itemid==500]"
   ]
  },
  {
   "cell_type": "code",
   "execution_count": 204,
   "metadata": {},
   "outputs": [],
   "source": [
    "# Ищем похожие id=500\n",
    "nbm = nearest_items_nms(500,nms_idx)[0]"
   ]
  },
  {
   "cell_type": "code",
   "execution_count": 205,
   "metadata": {},
   "outputs": [
    {
     "data": {
      "text/html": [
       "<div>\n",
       "<style scoped>\n",
       "    .dataframe tbody tr th:only-of-type {\n",
       "        vertical-align: middle;\n",
       "    }\n",
       "\n",
       "    .dataframe tbody tr th {\n",
       "        vertical-align: top;\n",
       "    }\n",
       "\n",
       "    .dataframe thead th {\n",
       "        text-align: right;\n",
       "    }\n",
       "</style>\n",
       "<table border=\"1\" class=\"dataframe\">\n",
       "  <thead>\n",
       "    <tr style=\"text-align: right;\">\n",
       "      <th></th>\n",
       "      <th>itemid</th>\n",
       "      <th>main_cat</th>\n",
       "      <th>brand</th>\n",
       "      <th>price</th>\n",
       "      <th>asin</th>\n",
       "      <th>title</th>\n",
       "      <th>buys</th>\n",
       "      <th>views</th>\n",
       "      <th>buy_ratio</th>\n",
       "      <th>sm_cat</th>\n",
       "      <th>fn_cat</th>\n",
       "      <th>rating</th>\n",
       "      <th>f1_score</th>\n",
       "    </tr>\n",
       "  </thead>\n",
       "  <tbody>\n",
       "    <tr>\n",
       "      <th>31094</th>\n",
       "      <td>17298</td>\n",
       "      <td>Grocery</td>\n",
       "      <td>other brand</td>\n",
       "      <td>21.0</td>\n",
       "      <td>B006E0NDFO</td>\n",
       "      <td>tea forte orchid vanilla loose leaf black tea,...</td>\n",
       "      <td>308.0</td>\n",
       "      <td>339.0</td>\n",
       "      <td>0.908555</td>\n",
       "      <td>Tea</td>\n",
       "      <td>Black</td>\n",
       "      <td>0.809524</td>\n",
       "      <td>0.856185</td>\n",
       "    </tr>\n",
       "    <tr>\n",
       "      <th>30263</th>\n",
       "      <td>21206</td>\n",
       "      <td>Grocery</td>\n",
       "      <td>other brand</td>\n",
       "      <td>21.0</td>\n",
       "      <td>B00B06C20O</td>\n",
       "      <td>stash tea breakfast in paris black tea,  18 count</td>\n",
       "      <td>531.0</td>\n",
       "      <td>782.0</td>\n",
       "      <td>0.679028</td>\n",
       "      <td>Tea</td>\n",
       "      <td>Black</td>\n",
       "      <td>0.888889</td>\n",
       "      <td>0.769914</td>\n",
       "    </tr>\n",
       "    <tr>\n",
       "      <th>12335</th>\n",
       "      <td>35209</td>\n",
       "      <td>Grocery</td>\n",
       "      <td>other brand</td>\n",
       "      <td>21.0</td>\n",
       "      <td>B014R5T8M4</td>\n",
       "      <td>numi organic tea flight variety gift set, 45 b...</td>\n",
       "      <td>6.0</td>\n",
       "      <td>12.0</td>\n",
       "      <td>0.500000</td>\n",
       "      <td>Tea</td>\n",
       "      <td>Black</td>\n",
       "      <td>1.000000</td>\n",
       "      <td>0.666667</td>\n",
       "    </tr>\n",
       "    <tr>\n",
       "      <th>24643</th>\n",
       "      <td>39162</td>\n",
       "      <td>Grocery</td>\n",
       "      <td>SerendipiTea</td>\n",
       "      <td>21.0</td>\n",
       "      <td>B001EQ5N24</td>\n",
       "      <td>serendipitea pu-erh,  mini tuo-cha, china, bla...</td>\n",
       "      <td>5.0</td>\n",
       "      <td>10.0</td>\n",
       "      <td>0.500000</td>\n",
       "      <td>Tea</td>\n",
       "      <td>Black</td>\n",
       "      <td>1.000000</td>\n",
       "      <td>0.666667</td>\n",
       "    </tr>\n",
       "    <tr>\n",
       "      <th>24362</th>\n",
       "      <td>37867</td>\n",
       "      <td>Grocery</td>\n",
       "      <td>Teaveli</td>\n",
       "      <td>21.0</td>\n",
       "      <td>B01FOFTJM0</td>\n",
       "      <td>organic loose leaf darjeeling black tea – 2017...</td>\n",
       "      <td>16.0</td>\n",
       "      <td>32.0</td>\n",
       "      <td>0.500000</td>\n",
       "      <td>Tea</td>\n",
       "      <td>Black</td>\n",
       "      <td>0.923077</td>\n",
       "      <td>0.648649</td>\n",
       "    </tr>\n",
       "  </tbody>\n",
       "</table>\n",
       "</div>"
      ],
      "text/plain": [
       "       itemid main_cat         brand  price        asin  \\\n",
       "31094   17298  Grocery   other brand   21.0  B006E0NDFO   \n",
       "30263   21206  Grocery   other brand   21.0  B00B06C20O   \n",
       "12335   35209  Grocery   other brand   21.0  B014R5T8M4   \n",
       "24643   39162  Grocery  SerendipiTea   21.0  B001EQ5N24   \n",
       "24362   37867  Grocery       Teaveli   21.0  B01FOFTJM0   \n",
       "\n",
       "                                                   title   buys  views  \\\n",
       "31094  tea forte orchid vanilla loose leaf black tea,...  308.0  339.0   \n",
       "30263  stash tea breakfast in paris black tea,  18 count  531.0  782.0   \n",
       "12335  numi organic tea flight variety gift set, 45 b...    6.0   12.0   \n",
       "24643  serendipitea pu-erh,  mini tuo-cha, china, bla...    5.0   10.0   \n",
       "24362  organic loose leaf darjeeling black tea – 2017...   16.0   32.0   \n",
       "\n",
       "       buy_ratio sm_cat fn_cat    rating  f1_score  \n",
       "31094   0.908555    Tea  Black  0.809524  0.856185  \n",
       "30263   0.679028    Tea  Black  0.888889  0.769914  \n",
       "12335   0.500000    Tea  Black  1.000000  0.666667  \n",
       "24643   0.500000    Tea  Black  1.000000  0.666667  \n",
       "24362   0.500000    Tea  Black  0.923077  0.648649  "
      ]
     },
     "execution_count": 205,
     "metadata": {},
     "output_type": "execute_result"
    }
   ],
   "source": [
    "goods[goods.itemid.isin(nbm)].sort_values(by='f1_score', ascending=False).head(5)"
   ]
  },
  {
   "cell_type": "markdown",
   "metadata": {},
   "source": [
    "На первом месте среди рекомендаций оказался чай, который купили 9% пользователей, из тех кто просматривал. Рейтинг 0.8. Очень хорошо."
   ]
  },
  {
   "cell_type": "code",
   "execution_count": 213,
   "metadata": {},
   "outputs": [],
   "source": [
    "asins = goods[['asin','itemid']].set_index('asin').to_dict()['itemid']"
   ]
  },
  {
   "cell_type": "markdown",
   "metadata": {},
   "source": [
    "#### 2. Рис (в пакетах) "
   ]
  },
  {
   "cell_type": "code",
   "execution_count": 214,
   "metadata": {},
   "outputs": [],
   "source": [
    "# Ищем похожие id=1251\n",
    "nbm = nearest_items_nms(2500,nms_idx)[0]"
   ]
  },
  {
   "cell_type": "code",
   "execution_count": 215,
   "metadata": {},
   "outputs": [
    {
     "data": {
      "text/html": [
       "<div>\n",
       "<style scoped>\n",
       "    .dataframe tbody tr th:only-of-type {\n",
       "        vertical-align: middle;\n",
       "    }\n",
       "\n",
       "    .dataframe tbody tr th {\n",
       "        vertical-align: top;\n",
       "    }\n",
       "\n",
       "    .dataframe thead th {\n",
       "        text-align: right;\n",
       "    }\n",
       "</style>\n",
       "<table border=\"1\" class=\"dataframe\">\n",
       "  <thead>\n",
       "    <tr style=\"text-align: right;\">\n",
       "      <th></th>\n",
       "      <th>itemid</th>\n",
       "      <th>main_cat</th>\n",
       "      <th>brand</th>\n",
       "      <th>price</th>\n",
       "      <th>asin</th>\n",
       "      <th>title</th>\n",
       "      <th>buys</th>\n",
       "      <th>views</th>\n",
       "      <th>buy_ratio</th>\n",
       "      <th>sm_cat</th>\n",
       "      <th>fn_cat</th>\n",
       "      <th>rating</th>\n",
       "      <th>f1_score</th>\n",
       "    </tr>\n",
       "  </thead>\n",
       "  <tbody>\n",
       "    <tr>\n",
       "      <th>31591</th>\n",
       "      <td>2500</td>\n",
       "      <td>Grocery</td>\n",
       "      <td>other brand</td>\n",
       "      <td>30.0</td>\n",
       "      <td>B000H27I4C</td>\n",
       "      <td>dynasty maifun rice stick, 6.75-ounce bags (pa...</td>\n",
       "      <td>28.0</td>\n",
       "      <td>202.0</td>\n",
       "      <td>0.138614</td>\n",
       "      <td>Pasta &amp; Noodles</td>\n",
       "      <td>Noodles</td>\n",
       "      <td>1.0</td>\n",
       "      <td>0.243478</td>\n",
       "    </tr>\n",
       "  </tbody>\n",
       "</table>\n",
       "</div>"
      ],
      "text/plain": [
       "       itemid main_cat        brand  price        asin  \\\n",
       "31591    2500  Grocery  other brand   30.0  B000H27I4C   \n",
       "\n",
       "                                                   title  buys  views  \\\n",
       "31591  dynasty maifun rice stick, 6.75-ounce bags (pa...  28.0  202.0   \n",
       "\n",
       "       buy_ratio           sm_cat   fn_cat  rating  f1_score  \n",
       "31591   0.138614  Pasta & Noodles  Noodles     1.0  0.243478  "
      ]
     },
     "execution_count": 215,
     "metadata": {},
     "output_type": "execute_result"
    }
   ],
   "source": [
    "goods[goods.itemid==2500]"
   ]
  },
  {
   "cell_type": "code",
   "execution_count": 209,
   "metadata": {},
   "outputs": [
    {
     "data": {
      "text/html": [
       "<div>\n",
       "<style scoped>\n",
       "    .dataframe tbody tr th:only-of-type {\n",
       "        vertical-align: middle;\n",
       "    }\n",
       "\n",
       "    .dataframe tbody tr th {\n",
       "        vertical-align: top;\n",
       "    }\n",
       "\n",
       "    .dataframe thead th {\n",
       "        text-align: right;\n",
       "    }\n",
       "</style>\n",
       "<table border=\"1\" class=\"dataframe\">\n",
       "  <thead>\n",
       "    <tr style=\"text-align: right;\">\n",
       "      <th></th>\n",
       "      <th>itemid</th>\n",
       "      <th>main_cat</th>\n",
       "      <th>brand</th>\n",
       "      <th>price</th>\n",
       "      <th>asin</th>\n",
       "      <th>title</th>\n",
       "      <th>buys</th>\n",
       "      <th>views</th>\n",
       "      <th>buy_ratio</th>\n",
       "      <th>sm_cat</th>\n",
       "      <th>fn_cat</th>\n",
       "      <th>rating</th>\n",
       "      <th>f1_score</th>\n",
       "    </tr>\n",
       "  </thead>\n",
       "  <tbody>\n",
       "    <tr>\n",
       "      <th>39529</th>\n",
       "      <td>32169</td>\n",
       "      <td>Grocery</td>\n",
       "      <td>other brand</td>\n",
       "      <td>14.0</td>\n",
       "      <td>B00RTK5JB4</td>\n",
       "      <td>prima taste chili crab lamian noodles, 22.4 ounce</td>\n",
       "      <td>225.0</td>\n",
       "      <td>269.0</td>\n",
       "      <td>0.836431</td>\n",
       "      <td>Pasta &amp; Noodles</td>\n",
       "      <td>Noodles</td>\n",
       "      <td>1.00000</td>\n",
       "      <td>0.910931</td>\n",
       "    </tr>\n",
       "    <tr>\n",
       "      <th>25555</th>\n",
       "      <td>34860</td>\n",
       "      <td>Grocery</td>\n",
       "      <td>Asian Best</td>\n",
       "      <td>21.0</td>\n",
       "      <td>B012U8CWDC</td>\n",
       "      <td>asian best premium rice stick noodle, 16 oz (3...</td>\n",
       "      <td>1657.0</td>\n",
       "      <td>2020.0</td>\n",
       "      <td>0.820297</td>\n",
       "      <td>Pasta &amp; Noodles</td>\n",
       "      <td>Noodles</td>\n",
       "      <td>1.00000</td>\n",
       "      <td>0.901278</td>\n",
       "    </tr>\n",
       "    <tr>\n",
       "      <th>38529</th>\n",
       "      <td>36184</td>\n",
       "      <td>Grocery</td>\n",
       "      <td>MARUTAI</td>\n",
       "      <td>5.0</td>\n",
       "      <td>B018QB3G64</td>\n",
       "      <td>marutai kyusyu speciality kagoshima berkshire ...</td>\n",
       "      <td>558.0</td>\n",
       "      <td>681.0</td>\n",
       "      <td>0.819383</td>\n",
       "      <td>Pasta &amp; Noodles</td>\n",
       "      <td>Noodles</td>\n",
       "      <td>1.00000</td>\n",
       "      <td>0.900726</td>\n",
       "    </tr>\n",
       "    <tr>\n",
       "      <th>24561</th>\n",
       "      <td>40511</td>\n",
       "      <td>Grocery</td>\n",
       "      <td>other brand</td>\n",
       "      <td>8.0</td>\n",
       "      <td>B00I5BBWBC</td>\n",
       "      <td>la choy chow mein noodles asian cuisine 5oz (2...</td>\n",
       "      <td>68.0</td>\n",
       "      <td>111.0</td>\n",
       "      <td>0.612613</td>\n",
       "      <td>Pasta &amp; Noodles</td>\n",
       "      <td>Noodles</td>\n",
       "      <td>1.00000</td>\n",
       "      <td>0.759777</td>\n",
       "    </tr>\n",
       "    <tr>\n",
       "      <th>10518</th>\n",
       "      <td>25380</td>\n",
       "      <td>Grocery</td>\n",
       "      <td>Sea Tangle</td>\n",
       "      <td>21.0</td>\n",
       "      <td>B00FAWW24U</td>\n",
       "      <td>sea tangle kelp noodles 1 pound</td>\n",
       "      <td>59.0</td>\n",
       "      <td>94.0</td>\n",
       "      <td>0.627660</td>\n",
       "      <td>Pasta &amp; Noodles</td>\n",
       "      <td>Noodles</td>\n",
       "      <td>0.62963</td>\n",
       "      <td>0.628643</td>\n",
       "    </tr>\n",
       "  </tbody>\n",
       "</table>\n",
       "</div>"
      ],
      "text/plain": [
       "       itemid main_cat        brand  price        asin  \\\n",
       "39529   32169  Grocery  other brand   14.0  B00RTK5JB4   \n",
       "25555   34860  Grocery   Asian Best   21.0  B012U8CWDC   \n",
       "38529   36184  Grocery      MARUTAI    5.0  B018QB3G64   \n",
       "24561   40511  Grocery  other brand    8.0  B00I5BBWBC   \n",
       "10518   25380  Grocery   Sea Tangle   21.0  B00FAWW24U   \n",
       "\n",
       "                                                   title    buys   views  \\\n",
       "39529  prima taste chili crab lamian noodles, 22.4 ounce   225.0   269.0   \n",
       "25555  asian best premium rice stick noodle, 16 oz (3...  1657.0  2020.0   \n",
       "38529  marutai kyusyu speciality kagoshima berkshire ...   558.0   681.0   \n",
       "24561  la choy chow mein noodles asian cuisine 5oz (2...    68.0   111.0   \n",
       "10518                    sea tangle kelp noodles 1 pound    59.0    94.0   \n",
       "\n",
       "       buy_ratio           sm_cat   fn_cat   rating  f1_score  \n",
       "39529   0.836431  Pasta & Noodles  Noodles  1.00000  0.910931  \n",
       "25555   0.820297  Pasta & Noodles  Noodles  1.00000  0.901278  \n",
       "38529   0.819383  Pasta & Noodles  Noodles  1.00000  0.900726  \n",
       "24561   0.612613  Pasta & Noodles  Noodles  1.00000  0.759777  \n",
       "10518   0.627660  Pasta & Noodles  Noodles  0.62963  0.628643  "
      ]
     },
     "execution_count": 209,
     "metadata": {},
     "output_type": "execute_result"
    }
   ],
   "source": [
    "goods[goods.itemid.isin(nbm)].sort_values(by='f1_score', ascending=False).head(5)"
   ]
  },
  {
   "cell_type": "markdown",
   "metadata": {},
   "source": [
    "На первом месте среди рекомендаций оказалась лапша, рис на втором. Но результат тоже хороший - его покупают 82% пользователей и оценка = 1.0. Попадаение лапши не случайно, в данном датасете и категории, нет разделения на рис, лапшу и пр. Можно выделить рис и лапшу отдельно, результат будет лучше. "
   ]
  },
  {
   "cell_type": "markdown",
   "metadata": {},
   "source": [
    "#### 3. Дерево Бонсай.   \n",
    "В датасете много продовольственных товаров, поэтому проверим на подбор цветка в горшке - маленького дерева Бонсай."
   ]
  },
  {
   "cell_type": "code",
   "execution_count": 216,
   "metadata": {},
   "outputs": [
    {
     "data": {
      "text/html": [
       "<div>\n",
       "<style scoped>\n",
       "    .dataframe tbody tr th:only-of-type {\n",
       "        vertical-align: middle;\n",
       "    }\n",
       "\n",
       "    .dataframe tbody tr th {\n",
       "        vertical-align: top;\n",
       "    }\n",
       "\n",
       "    .dataframe thead th {\n",
       "        text-align: right;\n",
       "    }\n",
       "</style>\n",
       "<table border=\"1\" class=\"dataframe\">\n",
       "  <thead>\n",
       "    <tr style=\"text-align: right;\">\n",
       "      <th></th>\n",
       "      <th>itemid</th>\n",
       "      <th>main_cat</th>\n",
       "      <th>brand</th>\n",
       "      <th>price</th>\n",
       "      <th>asin</th>\n",
       "      <th>title</th>\n",
       "      <th>buys</th>\n",
       "      <th>views</th>\n",
       "      <th>buy_ratio</th>\n",
       "      <th>sm_cat</th>\n",
       "      <th>fn_cat</th>\n",
       "      <th>rating</th>\n",
       "      <th>f1_score</th>\n",
       "    </tr>\n",
       "  </thead>\n",
       "  <tbody>\n",
       "    <tr>\n",
       "      <th>1233</th>\n",
       "      <td>91</td>\n",
       "      <td>Amazon Home</td>\n",
       "      <td>other brand</td>\n",
       "      <td>21.0</td>\n",
       "      <td>B0000DG86X</td>\n",
       "      <td>brussel's live green mound juniper outdoor bon...</td>\n",
       "      <td>26.0</td>\n",
       "      <td>80.0</td>\n",
       "      <td>0.325</td>\n",
       "      <td>Live Indoor Plants</td>\n",
       "      <td>Bonsai</td>\n",
       "      <td>0.818182</td>\n",
       "      <td>0.465209</td>\n",
       "    </tr>\n",
       "  </tbody>\n",
       "</table>\n",
       "</div>"
      ],
      "text/plain": [
       "      itemid     main_cat        brand  price        asin  \\\n",
       "1233      91  Amazon Home  other brand   21.0  B0000DG86X   \n",
       "\n",
       "                                                  title  buys  views  \\\n",
       "1233  brussel's live green mound juniper outdoor bon...  26.0   80.0   \n",
       "\n",
       "      buy_ratio              sm_cat  fn_cat    rating  f1_score  \n",
       "1233      0.325  Live Indoor Plants  Bonsai  0.818182  0.465209  "
      ]
     },
     "execution_count": 216,
     "metadata": {},
     "output_type": "execute_result"
    }
   ],
   "source": [
    "goods[goods.itemid==91]"
   ]
  },
  {
   "cell_type": "code",
   "execution_count": 217,
   "metadata": {},
   "outputs": [],
   "source": [
    "# Ищем похожие id=1251\n",
    "nbm = nearest_items_nms(91,nms_idx)[0]"
   ]
  },
  {
   "cell_type": "code",
   "execution_count": 218,
   "metadata": {},
   "outputs": [
    {
     "data": {
      "text/html": [
       "<div>\n",
       "<style scoped>\n",
       "    .dataframe tbody tr th:only-of-type {\n",
       "        vertical-align: middle;\n",
       "    }\n",
       "\n",
       "    .dataframe tbody tr th {\n",
       "        vertical-align: top;\n",
       "    }\n",
       "\n",
       "    .dataframe thead th {\n",
       "        text-align: right;\n",
       "    }\n",
       "</style>\n",
       "<table border=\"1\" class=\"dataframe\">\n",
       "  <thead>\n",
       "    <tr style=\"text-align: right;\">\n",
       "      <th></th>\n",
       "      <th>itemid</th>\n",
       "      <th>main_cat</th>\n",
       "      <th>brand</th>\n",
       "      <th>price</th>\n",
       "      <th>asin</th>\n",
       "      <th>title</th>\n",
       "      <th>buys</th>\n",
       "      <th>views</th>\n",
       "      <th>buy_ratio</th>\n",
       "      <th>sm_cat</th>\n",
       "      <th>fn_cat</th>\n",
       "      <th>rating</th>\n",
       "      <th>f1_score</th>\n",
       "    </tr>\n",
       "  </thead>\n",
       "  <tbody>\n",
       "    <tr>\n",
       "      <th>28272</th>\n",
       "      <td>10621</td>\n",
       "      <td>Grocery</td>\n",
       "      <td>other brand</td>\n",
       "      <td>2.0</td>\n",
       "      <td>B002C6GPUY</td>\n",
       "      <td>bonsai boy's ceramic figurine - mudman fisherm...</td>\n",
       "      <td>143.0</td>\n",
       "      <td>150.0</td>\n",
       "      <td>0.953333</td>\n",
       "      <td>Live Indoor Plants</td>\n",
       "      <td>Bonsai</td>\n",
       "      <td>1.000000</td>\n",
       "      <td>0.976109</td>\n",
       "    </tr>\n",
       "    <tr>\n",
       "      <th>38902</th>\n",
       "      <td>33248</td>\n",
       "      <td>other_cat</td>\n",
       "      <td>other brand</td>\n",
       "      <td>24.0</td>\n",
       "      <td>B00V7U3RHU</td>\n",
       "      <td>jmbamboo - live 10\"-12\" money tree bonsai-and ...</td>\n",
       "      <td>107.0</td>\n",
       "      <td>123.0</td>\n",
       "      <td>0.869919</td>\n",
       "      <td>Live Indoor Plants</td>\n",
       "      <td>Bonsai</td>\n",
       "      <td>0.750000</td>\n",
       "      <td>0.805521</td>\n",
       "    </tr>\n",
       "    <tr>\n",
       "      <th>37222</th>\n",
       "      <td>10197</td>\n",
       "      <td>Amazon Home</td>\n",
       "      <td>other brand</td>\n",
       "      <td>21.0</td>\n",
       "      <td>B0026SQZFI</td>\n",
       "      <td>brussel's live gensing grafted ficus indoor bo...</td>\n",
       "      <td>39.0</td>\n",
       "      <td>50.0</td>\n",
       "      <td>0.780000</td>\n",
       "      <td>Live Indoor Plants</td>\n",
       "      <td>Bonsai</td>\n",
       "      <td>0.714286</td>\n",
       "      <td>0.745698</td>\n",
       "    </tr>\n",
       "    <tr>\n",
       "      <th>12454</th>\n",
       "      <td>9704</td>\n",
       "      <td>Grocery</td>\n",
       "      <td>other brand</td>\n",
       "      <td>18.0</td>\n",
       "      <td>B001THVITA</td>\n",
       "      <td>9greenbox - sago palm - 4.5\" ceramic pot</td>\n",
       "      <td>29.0</td>\n",
       "      <td>59.0</td>\n",
       "      <td>0.491525</td>\n",
       "      <td>Live Indoor Plants</td>\n",
       "      <td>Bonsai</td>\n",
       "      <td>1.000000</td>\n",
       "      <td>0.659091</td>\n",
       "    </tr>\n",
       "    <tr>\n",
       "      <th>36224</th>\n",
       "      <td>9444</td>\n",
       "      <td>other_cat</td>\n",
       "      <td>other brand</td>\n",
       "      <td>21.0</td>\n",
       "      <td>B001QVSNDI</td>\n",
       "      <td>sago palm bonsai in ceramic dish - easy to grow</td>\n",
       "      <td>5.0</td>\n",
       "      <td>10.0</td>\n",
       "      <td>0.500000</td>\n",
       "      <td>Live Indoor Plants</td>\n",
       "      <td>Bonsai</td>\n",
       "      <td>0.750000</td>\n",
       "      <td>0.600000</td>\n",
       "    </tr>\n",
       "  </tbody>\n",
       "</table>\n",
       "</div>"
      ],
      "text/plain": [
       "       itemid     main_cat        brand  price        asin  \\\n",
       "28272   10621      Grocery  other brand    2.0  B002C6GPUY   \n",
       "38902   33248    other_cat  other brand   24.0  B00V7U3RHU   \n",
       "37222   10197  Amazon Home  other brand   21.0  B0026SQZFI   \n",
       "12454    9704      Grocery  other brand   18.0  B001THVITA   \n",
       "36224    9444    other_cat  other brand   21.0  B001QVSNDI   \n",
       "\n",
       "                                                   title   buys  views  \\\n",
       "28272  bonsai boy's ceramic figurine - mudman fisherm...  143.0  150.0   \n",
       "38902  jmbamboo - live 10\"-12\" money tree bonsai-and ...  107.0  123.0   \n",
       "37222  brussel's live gensing grafted ficus indoor bo...   39.0   50.0   \n",
       "12454           9greenbox - sago palm - 4.5\" ceramic pot   29.0   59.0   \n",
       "36224    sago palm bonsai in ceramic dish - easy to grow    5.0   10.0   \n",
       "\n",
       "       buy_ratio              sm_cat  fn_cat    rating  f1_score  \n",
       "28272   0.953333  Live Indoor Plants  Bonsai  1.000000  0.976109  \n",
       "38902   0.869919  Live Indoor Plants  Bonsai  0.750000  0.805521  \n",
       "37222   0.780000  Live Indoor Plants  Bonsai  0.714286  0.745698  \n",
       "12454   0.491525  Live Indoor Plants  Bonsai  1.000000  0.659091  \n",
       "36224   0.500000  Live Indoor Plants  Bonsai  0.750000  0.600000  "
      ]
     },
     "execution_count": 218,
     "metadata": {},
     "output_type": "execute_result"
    }
   ],
   "source": [
    "goods[goods.itemid.isin(nbm)].sort_values(by='f1_score', ascending=False).head(5)"
   ]
  },
  {
   "cell_type": "markdown",
   "metadata": {},
   "source": [
    "С деревом сложнее, но система и здесь справилась. На первом месте дерево которое покупают 95% пользователей, рейтинг 1,00. Но в выборку попали и деревья с рейтингом 0,75 и если судить по количеству продаж, это новый товар. Тоже можно считать хорошим результатом. "
   ]
  },
  {
   "cell_type": "code",
   "execution_count": 219,
   "metadata": {},
   "outputs": [],
   "source": [
    "# пакуем эмбендинги\n",
    "import pickle\n",
    "with open('asin_embeddings.pickle', 'wb') as file:\n",
    "    pickle.dump(item_embeddings, file, protocol=pickle.HIGHEST_PROTOCOL)"
   ]
  },
  {
   "cell_type": "code",
   "execution_count": 220,
   "metadata": {},
   "outputs": [],
   "source": [
    "goods.to_csv('goods.csv', index=False)"
   ]
  },
  {
   "cell_type": "markdown",
   "metadata": {},
   "source": [
    "## Выводы.  \n",
    "Были построены несколько моделей: LightFM - простая, LightFM с user/feature, модель CAtboost.  \n",
    "Catboost лучше всего предсказал результат рейтинга, но не намного 0,78 против 0,76. LightFM проще использовать для целевой задачи - рекомендации товаров. Модель с user/feature очень чувствительна к качеству данных, ROC-AUC оказался около 0,5. Она могла предсказать оценку новых пользвателей или рекомендации, но таких пользователей всего 0,5% в тестовых данных.  \n",
    "\n",
    "Лучший результат (*Catboost*) - 0.78785 и третье место в таблице на Kaggle.\n",
    "\n",
    "----\n",
    "\n",
    "Далее была построена модель с item-feature для рекмомендации подобных товаров, которые выбирает/просматривает пользователь. Вместо рейтинга, количества покупок или конверсии - используется средняя гармоничная метрика. На тестовых примерах показала хороший и работоспособный результат. Также можно улучшить работу системы, если изменить классификацию товара, добавить еще один уровень (как в случае рис/лапша).  \n",
    "\n",
    "На основе данной системы (эмбеддингов и товаров) будет дальше строиться рекомендательная система.\n",
    "\n",
    "Ссылка\n",
    "http://shrouded-ridge-97773.herokuapp.com/"
   ]
  },
  {
   "cell_type": "code",
   "execution_count": null,
   "metadata": {},
   "outputs": [],
   "source": []
  }
 ],
 "metadata": {
  "kernelspec": {
   "display_name": "Python 3",
   "language": "python",
   "name": "python3"
  },
  "language_info": {
   "codemirror_mode": {
    "name": "ipython",
    "version": 3
   },
   "file_extension": ".py",
   "mimetype": "text/x-python",
   "name": "python",
   "nbconvert_exporter": "python",
   "pygments_lexer": "ipython3",
   "version": "3.8.5"
  }
 },
 "nbformat": 4,
 "nbformat_minor": 4
}
