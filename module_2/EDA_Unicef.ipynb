{
 "cells": [
  {
   "cell_type": "markdown",
   "metadata": {},
   "source": [
    " # <center> UNICEF EDA </center>"
   ]
  },
  {
   "cell_type": "markdown",
   "metadata": {},
   "source": [
    "Вас пригласили поучаствовать в одном из проектов UNICEF — международного подразделения ООН, чья миссия состоит в повышении уровня благополучия детей по всему миру. \n",
    "\n",
    "Суть проекта — отследить влияние условий жизни учащихся в возрасте от 15 до 22 лет на их успеваемость по математике, чтобы на ранней стадии выявлять студентов, находящихся в группе риска.\n",
    "\n",
    "Для этого нужно построить модель, которая предсказывала бы результаты госэкзамена по математике для каждого ученика школы."
   ]
  },
  {
   "cell_type": "markdown",
   "metadata": {},
   "source": [
    "<img src=\"https://raw.githubusercontent.com/Deus99/skillfactory_rds/master/module_2/logo_eda.png\"> "
   ]
  },
  {
   "cell_type": "markdown",
   "metadata": {},
   "source": [
    "# Библиотеки используемые в анализе"
   ]
  },
  {
   "cell_type": "code",
   "execution_count": 123,
   "metadata": {},
   "outputs": [],
   "source": [
    "import pandas as pd\n",
    "import numpy as np\n",
    "import matplotlib.pyplot as plt\n",
    "import seaborn as sns\n",
    "from itertools import combinations\n",
    "from scipy.stats import ttest_ind\n",
    "from scipy.stats import pearsonr\n",
    "import warnings\n",
    "from sklearn.impute import KNNImputer"
   ]
  },
  {
   "cell_type": "code",
   "execution_count": 124,
   "metadata": {},
   "outputs": [],
   "source": [
    "pd.set_option('display.max_columns', 100)\n",
    "pd.set_option('display.max_rows', 100)\n",
    "pd.set_option('precision', 4)\n",
    "%matplotlib inline"
   ]
  },
  {
   "cell_type": "markdown",
   "metadata": {},
   "source": [
    "*Проведите первичную обработку данных. \n",
    "Так как данных много, стоит написать функции, которые можно применять к столбцам определённого типа.\n",
    "Посмотрите на распределение признака для числовых переменных, устраните выбросы.\n",
    "Оцените количество уникальных значений для номинативных переменных.\n",
    "По необходимости преобразуйте данные\n",
    "Проведите корреляционный анализ количественных переменных\n",
    "Отберите не коррелирующие переменные.\n",
    "Проанализируйте номинативные переменные и устраните те, которые не влияют на предсказываемую величину (в нашем случае — на переменную score).\n",
    "Не забудьте сформулировать выводы относительно качества данных и тех переменных, которые вы будете использовать в дальнейшем построении модели.*"
   ]
  },
  {
   "cell_type": "markdown",
   "metadata": {},
   "source": [
    "# Загрузка данных"
   ]
  },
  {
   "cell_type": "code",
   "execution_count": 125,
   "metadata": {},
   "outputs": [
    {
     "data": {
      "text/html": [
       "<div>\n",
       "<style scoped>\n",
       "    .dataframe tbody tr th:only-of-type {\n",
       "        vertical-align: middle;\n",
       "    }\n",
       "\n",
       "    .dataframe tbody tr th {\n",
       "        vertical-align: top;\n",
       "    }\n",
       "\n",
       "    .dataframe thead th {\n",
       "        text-align: right;\n",
       "    }\n",
       "</style>\n",
       "<table border=\"1\" class=\"dataframe\">\n",
       "  <thead>\n",
       "    <tr style=\"text-align: right;\">\n",
       "      <th></th>\n",
       "      <th>school</th>\n",
       "      <th>sex</th>\n",
       "      <th>age</th>\n",
       "      <th>address</th>\n",
       "      <th>famsize</th>\n",
       "      <th>Pstatus</th>\n",
       "      <th>Medu</th>\n",
       "      <th>Fedu</th>\n",
       "      <th>Mjob</th>\n",
       "      <th>Fjob</th>\n",
       "      <th>reason</th>\n",
       "      <th>guardian</th>\n",
       "      <th>traveltime</th>\n",
       "      <th>studytime</th>\n",
       "      <th>failures</th>\n",
       "      <th>schoolsup</th>\n",
       "      <th>famsup</th>\n",
       "      <th>paid</th>\n",
       "      <th>activities</th>\n",
       "      <th>nursery</th>\n",
       "      <th>studytime, granular</th>\n",
       "      <th>higher</th>\n",
       "      <th>internet</th>\n",
       "      <th>romantic</th>\n",
       "      <th>famrel</th>\n",
       "      <th>freetime</th>\n",
       "      <th>goout</th>\n",
       "      <th>health</th>\n",
       "      <th>absences</th>\n",
       "      <th>score</th>\n",
       "    </tr>\n",
       "  </thead>\n",
       "  <tbody>\n",
       "    <tr>\n",
       "      <th>0</th>\n",
       "      <td>GP</td>\n",
       "      <td>F</td>\n",
       "      <td>18</td>\n",
       "      <td>U</td>\n",
       "      <td>NaN</td>\n",
       "      <td>A</td>\n",
       "      <td>4.0</td>\n",
       "      <td>4.0</td>\n",
       "      <td>at_home</td>\n",
       "      <td>teacher</td>\n",
       "      <td>course</td>\n",
       "      <td>mother</td>\n",
       "      <td>2.0</td>\n",
       "      <td>2.0</td>\n",
       "      <td>0.0</td>\n",
       "      <td>yes</td>\n",
       "      <td>no</td>\n",
       "      <td>no</td>\n",
       "      <td>no</td>\n",
       "      <td>yes</td>\n",
       "      <td>-6.0</td>\n",
       "      <td>yes</td>\n",
       "      <td>NaN</td>\n",
       "      <td>no</td>\n",
       "      <td>4.0</td>\n",
       "      <td>3.0</td>\n",
       "      <td>4.0</td>\n",
       "      <td>3.0</td>\n",
       "      <td>6.0</td>\n",
       "      <td>30.0</td>\n",
       "    </tr>\n",
       "    <tr>\n",
       "      <th>1</th>\n",
       "      <td>GP</td>\n",
       "      <td>F</td>\n",
       "      <td>17</td>\n",
       "      <td>U</td>\n",
       "      <td>GT3</td>\n",
       "      <td>NaN</td>\n",
       "      <td>1.0</td>\n",
       "      <td>1.0</td>\n",
       "      <td>at_home</td>\n",
       "      <td>other</td>\n",
       "      <td>course</td>\n",
       "      <td>father</td>\n",
       "      <td>1.0</td>\n",
       "      <td>2.0</td>\n",
       "      <td>0.0</td>\n",
       "      <td>no</td>\n",
       "      <td>yes</td>\n",
       "      <td>no</td>\n",
       "      <td>no</td>\n",
       "      <td>no</td>\n",
       "      <td>-6.0</td>\n",
       "      <td>yes</td>\n",
       "      <td>yes</td>\n",
       "      <td>no</td>\n",
       "      <td>5.0</td>\n",
       "      <td>3.0</td>\n",
       "      <td>3.0</td>\n",
       "      <td>3.0</td>\n",
       "      <td>4.0</td>\n",
       "      <td>30.0</td>\n",
       "    </tr>\n",
       "    <tr>\n",
       "      <th>2</th>\n",
       "      <td>GP</td>\n",
       "      <td>F</td>\n",
       "      <td>15</td>\n",
       "      <td>U</td>\n",
       "      <td>LE3</td>\n",
       "      <td>T</td>\n",
       "      <td>1.0</td>\n",
       "      <td>1.0</td>\n",
       "      <td>at_home</td>\n",
       "      <td>other</td>\n",
       "      <td>other</td>\n",
       "      <td>mother</td>\n",
       "      <td>1.0</td>\n",
       "      <td>2.0</td>\n",
       "      <td>3.0</td>\n",
       "      <td>yes</td>\n",
       "      <td>no</td>\n",
       "      <td>NaN</td>\n",
       "      <td>no</td>\n",
       "      <td>yes</td>\n",
       "      <td>-6.0</td>\n",
       "      <td>yes</td>\n",
       "      <td>yes</td>\n",
       "      <td>NaN</td>\n",
       "      <td>4.0</td>\n",
       "      <td>3.0</td>\n",
       "      <td>2.0</td>\n",
       "      <td>3.0</td>\n",
       "      <td>10.0</td>\n",
       "      <td>50.0</td>\n",
       "    </tr>\n",
       "  </tbody>\n",
       "</table>\n",
       "</div>"
      ],
      "text/plain": [
       "  school sex  age address famsize Pstatus  Medu  Fedu     Mjob     Fjob  \\\n",
       "0     GP   F   18       U     NaN       A   4.0   4.0  at_home  teacher   \n",
       "1     GP   F   17       U     GT3     NaN   1.0   1.0  at_home    other   \n",
       "2     GP   F   15       U     LE3       T   1.0   1.0  at_home    other   \n",
       "\n",
       "   reason guardian  traveltime  studytime  failures schoolsup famsup paid  \\\n",
       "0  course   mother         2.0        2.0       0.0       yes     no   no   \n",
       "1  course   father         1.0        2.0       0.0        no    yes   no   \n",
       "2   other   mother         1.0        2.0       3.0       yes     no  NaN   \n",
       "\n",
       "  activities nursery  studytime, granular higher internet romantic  famrel  \\\n",
       "0         no     yes                 -6.0    yes      NaN       no     4.0   \n",
       "1         no      no                 -6.0    yes      yes       no     5.0   \n",
       "2         no     yes                 -6.0    yes      yes      NaN     4.0   \n",
       "\n",
       "   freetime  goout  health  absences  score  \n",
       "0       3.0    4.0     3.0       6.0   30.0  \n",
       "1       3.0    3.0     3.0       4.0   30.0  \n",
       "2       3.0    2.0     3.0      10.0   50.0  "
      ]
     },
     "execution_count": 125,
     "metadata": {},
     "output_type": "execute_result"
    }
   ],
   "source": [
    "math = pd.read_csv(\"stud_math.xls\")\n",
    "math.head(3)"
   ]
  },
  {
   "cell_type": "markdown",
   "metadata": {},
   "source": [
    "# Используемые функции\n",
    "### Статистические функции"
   ]
  },
  {
   "cell_type": "code",
   "execution_count": 126,
   "metadata": {},
   "outputs": [],
   "source": [
    "def iqr_test(column, lim_a, lim_b):\n",
    "    \"\"\"\n",
    "    Функция определения медианы, квантилей 25%/75% и \n",
    "    границы выбросов для данного сталбцы \n",
    "    lim_a lim_b - пределы для построенния гистограммы\n",
    "    \"\"\"\n",
    "    median = math[column].median()\n",
    "    IQR = math[column].quantile(0.75) - math[column].quantile(0.25)\n",
    "    perc25 = math[column].quantile(0.25)\n",
    "    perc75 = math[column].quantile(0.75)\n",
    "    print('25-й перцентиль: {},'.format(perc25), \n",
    "          '75-й перцентиль: {},'.format(perc75), \n",
    "          \"IQR: {}, \".format(IQR),\n",
    "          \"Границы выбросов: [{f}, {l}].\"\n",
    "          .format(f=perc25 - 1.5*IQR, l=perc75 + 1.5*IQR))\n",
    "    math[column].loc[math[column].between(perc25 - 1.5*IQR, perc75 + 1.5*IQR)]\\\n",
    "    .hist(bins=8, range=(lim_a, lim_b), label='IQR')\n",
    "\n",
    "        \n",
    "def get_boxplot(column):\n",
    "    \"\"\"функция генерации боксплота (score) для списка колонок\"\"\"\n",
    "    fig, ax = plt.subplots(figsize=(8, 4))\n",
    "    sns.boxplot(x=column, y='score', \n",
    "                data=math, ax=ax)\n",
    "    plt.xticks(rotation=45)\n",
    "    ax.set_title('Boxplot for ' + column)\n",
    "    plt.show()\n",
    "\n",
    "\n",
    "def get_boxplot2(column):\n",
    "    \"\"\"функция генерации боксплота (score) для списка колонок\"\"\"\n",
    "    math2 = math.copy()\n",
    "    math2[column] = math2[column].dropna()\n",
    "    fig, ax = plt.subplots(figsize=(8, 4))\n",
    "    sns.boxplot(x=column, y='score', \n",
    "                data=math2, ax=ax)\n",
    "    plt.xticks(rotation=45)\n",
    "    ax.set_title('Boxplot for ' + column)\n",
    "    plt.show()\n",
    "\n",
    "        \n",
    "def get_stat_dif(column):\n",
    "    \"\"\"функция проверки статистических различия для состава колонок\"\"\"\n",
    "    math2 = math.copy()\n",
    "    math2[column] = math2[column].dropna()\n",
    "    cols = math2.loc[:, column].value_counts().index[:5]\n",
    "    combinations_all = list(combinations(cols, 2))\n",
    "    for comb in combinations_all:\n",
    "        if ttest_ind(math2.loc[math2.loc[:, column] == comb[0], 'score'], \n",
    "                     math2.loc[math2.loc[:, column] == comb[1], 'score']).pvalue\\\n",
    "            <= 0.05/len(combinations_all): # Учли поправку Бонферони\n",
    "            print('Найдены статистически значимые различия для колонки', column)\n",
    "            break  "
   ]
  },
  {
   "cell_type": "markdown",
   "metadata": {},
   "source": [
    "### Функции для заполнения пропусков в данных"
   ]
  },
  {
   "cell_type": "code",
   "execution_count": 127,
   "metadata": {},
   "outputs": [],
   "source": [
    "score_F = round(math[math.score.between(25, 39)].score.mean(), 0)\n",
    "\n",
    "def score_corr(row):\n",
    "    \"\"\"\n",
    "    Функция коррекции оценки (Score) для двоечников (0 баллов) \n",
    "    в зависимости от пола и возраста заполняем через словарь score0\n",
    "    для пустых значений словаря -  score_F (примерно 30)\n",
    "    \"\"\"\n",
    "    if row['score'] == 0:\n",
    "        try:\n",
    "            row['score'] = round(scores0[row['sex']][row['age']], 0)\n",
    "        except:\n",
    "            row['score'] = score_F\n",
    "    return row\n",
    "\n",
    "\n",
    "def yesno_fill(yp):\n",
    "    \"\"\"функция случайного заполнения yes/no для бинарных переменных\n",
    "    использует входящую пропорцию для ответа 'yes' - yp\"\"\"\n",
    "    x = np.random.choice(['yes', 'no'], p=[yp, 1-yp])\n",
    "    return x"
   ]
  },
  {
   "cell_type": "markdown",
   "metadata": {},
   "source": [
    "### Создание словарей для заполнения"
   ]
  },
  {
   "cell_type": "code",
   "execution_count": 128,
   "metadata": {},
   "outputs": [],
   "source": [
    "#Заполнять пропущенные значения Medu/Fedu и Mjob/Fjob будем через словарь;\n",
    "#Значения где .edu и .job одновременно = Nan заполним модой \n",
    "\n",
    "m_edu = {} # словарь работа -- образование для мам Medu - Mjob\n",
    "for job in math[~math.Mjob.isnull()].Mjob.unique():\n",
    "    edu = math[math.Mjob == job].mode()['Medu'][0]\n",
    "    m_edu[job] = edu\n",
    "\n",
    "f_edu = {} # словарь работа -- образование для отцов Fedu - Fjob\n",
    "for job in math[~math.Fjob.isnull()].Fjob.unique():\n",
    "    edu = math[math.Fjob == job].mode()['Fedu'][0]\n",
    "    f_edu[job] = edu\n",
    "\n",
    "f_job = {} # словаь образование -- работа для отцов Fjob - Fedu\n",
    "for edu in math[~math.Fedu.isnull()].Fedu.unique():\n",
    "    job = math[math.Fedu == edu].mode()['Fjob'][0]\n",
    "    f_job[edu] = job\n",
    "\n",
    "m_job = {} # словаь образование -- работа для мам Mjob - Medu\n",
    "for edu in math[~math.Medu.isnull()].Medu.unique():\n",
    "    job = math[math.Medu == edu].mode()['Mjob'][0]\n",
    "    m_job[edu] = job"
   ]
  },
  {
   "cell_type": "markdown",
   "metadata": {},
   "source": [
    "### Функции для визуализации "
   ]
  },
  {
   "cell_type": "code",
   "execution_count": null,
   "metadata": {},
   "outputs": [],
   "source": []
  },
  {
   "cell_type": "markdown",
   "metadata": {},
   "source": [
    "# Разведывательный анализ данных"
   ]
  },
  {
   "cell_type": "markdown",
   "metadata": {},
   "source": [
    "## Пропущенные значения\n",
    "Посмотрим пропущенные значения для всех колонок"
   ]
  },
  {
   "cell_type": "code",
   "execution_count": 129,
   "metadata": {},
   "outputs": [
    {
     "data": {
      "text/plain": [
       "school                  0\n",
       "sex                     0\n",
       "age                     0\n",
       "address                17\n",
       "famsize                27\n",
       "Pstatus                45\n",
       "Medu                    3\n",
       "Fedu                   24\n",
       "Mjob                   19\n",
       "Fjob                   36\n",
       "reason                 17\n",
       "guardian               31\n",
       "traveltime             28\n",
       "studytime               7\n",
       "failures               22\n",
       "schoolsup               9\n",
       "famsup                 39\n",
       "paid                   40\n",
       "activities             14\n",
       "nursery                16\n",
       "studytime, granular     7\n",
       "higher                 20\n",
       "internet               34\n",
       "romantic               31\n",
       "famrel                 27\n",
       "freetime               11\n",
       "goout                   8\n",
       "health                 15\n",
       "absences               12\n",
       "score                   6\n",
       "dtype: int64"
      ]
     },
     "metadata": {},
     "output_type": "display_data"
    }
   ],
   "source": [
    "display(math.isnull().sum())"
   ]
  },
  {
   "cell_type": "code",
   "execution_count": 130,
   "metadata": {},
   "outputs": [
    {
     "name": "stdout",
     "output_type": "stream",
     "text": [
      "4.77% данных потеряно\n"
     ]
    }
   ],
   "source": [
    "#Суммарно данных потеряно\n",
    "lost = math.isnull().sum().sum()*100 / (len(math)*30)\n",
    "print ('%.2f' % lost + '%' +' данных потеряно')"
   ]
  },
  {
   "cell_type": "markdown",
   "metadata": {},
   "source": [
    "Потеряно около 5% от общего количества данных. В целевой переменной **score** 6 значений пропущено. \n",
    "Больше всего пропусков для значений связанных с дополнительной поддержкой (**schoolsup, paid**), семеным статусов (**famsize, Pstatus, guardian**) и дополнительными параметрами как наличие интернета и романтических отношений (**internet, romantic**)\n",
    "\n",
    "Только 3 столбца (**school, age, sex**) без отсутвующих данных\n",
    "\n",
    "Позже попробуем заполнить некоторые пробелы или удалить столбцы, которые не влияют на общую оценку"
   ]
  },
  {
   "cell_type": "markdown",
   "metadata": {},
   "source": [
    "## Оценка уникальных значений и типов переменных в датафрейме"
   ]
  },
  {
   "cell_type": "code",
   "execution_count": 131,
   "metadata": {},
   "outputs": [
    {
     "data": {
      "text/html": [
       "<div>\n",
       "<style scoped>\n",
       "    .dataframe tbody tr th:only-of-type {\n",
       "        vertical-align: middle;\n",
       "    }\n",
       "\n",
       "    .dataframe tbody tr th {\n",
       "        vertical-align: top;\n",
       "    }\n",
       "\n",
       "    .dataframe thead th {\n",
       "        text-align: right;\n",
       "    }\n",
       "</style>\n",
       "<table border=\"1\" class=\"dataframe\">\n",
       "  <thead>\n",
       "    <tr style=\"text-align: right;\">\n",
       "      <th></th>\n",
       "      <th>count</th>\n",
       "      <th>unique</th>\n",
       "      <th>top</th>\n",
       "      <th>freq</th>\n",
       "      <th>mean</th>\n",
       "      <th>std</th>\n",
       "      <th>min</th>\n",
       "      <th>25%</th>\n",
       "      <th>50%</th>\n",
       "      <th>75%</th>\n",
       "      <th>max</th>\n",
       "    </tr>\n",
       "  </thead>\n",
       "  <tbody>\n",
       "    <tr>\n",
       "      <th>school</th>\n",
       "      <td>395</td>\n",
       "      <td>2</td>\n",
       "      <td>GP</td>\n",
       "      <td>349</td>\n",
       "      <td>NaN</td>\n",
       "      <td>NaN</td>\n",
       "      <td>NaN</td>\n",
       "      <td>NaN</td>\n",
       "      <td>NaN</td>\n",
       "      <td>NaN</td>\n",
       "      <td>NaN</td>\n",
       "    </tr>\n",
       "    <tr>\n",
       "      <th>sex</th>\n",
       "      <td>395</td>\n",
       "      <td>2</td>\n",
       "      <td>F</td>\n",
       "      <td>208</td>\n",
       "      <td>NaN</td>\n",
       "      <td>NaN</td>\n",
       "      <td>NaN</td>\n",
       "      <td>NaN</td>\n",
       "      <td>NaN</td>\n",
       "      <td>NaN</td>\n",
       "      <td>NaN</td>\n",
       "    </tr>\n",
       "    <tr>\n",
       "      <th>age</th>\n",
       "      <td>395</td>\n",
       "      <td>NaN</td>\n",
       "      <td>NaN</td>\n",
       "      <td>NaN</td>\n",
       "      <td>16.7</td>\n",
       "      <td>1.276</td>\n",
       "      <td>15</td>\n",
       "      <td>16</td>\n",
       "      <td>17</td>\n",
       "      <td>18</td>\n",
       "      <td>22</td>\n",
       "    </tr>\n",
       "    <tr>\n",
       "      <th>address</th>\n",
       "      <td>378</td>\n",
       "      <td>2</td>\n",
       "      <td>U</td>\n",
       "      <td>295</td>\n",
       "      <td>NaN</td>\n",
       "      <td>NaN</td>\n",
       "      <td>NaN</td>\n",
       "      <td>NaN</td>\n",
       "      <td>NaN</td>\n",
       "      <td>NaN</td>\n",
       "      <td>NaN</td>\n",
       "    </tr>\n",
       "    <tr>\n",
       "      <th>famsize</th>\n",
       "      <td>368</td>\n",
       "      <td>2</td>\n",
       "      <td>GT3</td>\n",
       "      <td>261</td>\n",
       "      <td>NaN</td>\n",
       "      <td>NaN</td>\n",
       "      <td>NaN</td>\n",
       "      <td>NaN</td>\n",
       "      <td>NaN</td>\n",
       "      <td>NaN</td>\n",
       "      <td>NaN</td>\n",
       "    </tr>\n",
       "    <tr>\n",
       "      <th>Pstatus</th>\n",
       "      <td>350</td>\n",
       "      <td>2</td>\n",
       "      <td>T</td>\n",
       "      <td>314</td>\n",
       "      <td>NaN</td>\n",
       "      <td>NaN</td>\n",
       "      <td>NaN</td>\n",
       "      <td>NaN</td>\n",
       "      <td>NaN</td>\n",
       "      <td>NaN</td>\n",
       "      <td>NaN</td>\n",
       "    </tr>\n",
       "    <tr>\n",
       "      <th>Medu</th>\n",
       "      <td>392</td>\n",
       "      <td>NaN</td>\n",
       "      <td>NaN</td>\n",
       "      <td>NaN</td>\n",
       "      <td>2.75</td>\n",
       "      <td>1.098</td>\n",
       "      <td>0</td>\n",
       "      <td>2</td>\n",
       "      <td>3</td>\n",
       "      <td>4</td>\n",
       "      <td>4</td>\n",
       "    </tr>\n",
       "    <tr>\n",
       "      <th>Fedu</th>\n",
       "      <td>371</td>\n",
       "      <td>NaN</td>\n",
       "      <td>NaN</td>\n",
       "      <td>NaN</td>\n",
       "      <td>2.615</td>\n",
       "      <td>2.229</td>\n",
       "      <td>0</td>\n",
       "      <td>2</td>\n",
       "      <td>2</td>\n",
       "      <td>3</td>\n",
       "      <td>40</td>\n",
       "    </tr>\n",
       "    <tr>\n",
       "      <th>Mjob</th>\n",
       "      <td>376</td>\n",
       "      <td>5</td>\n",
       "      <td>other</td>\n",
       "      <td>133</td>\n",
       "      <td>NaN</td>\n",
       "      <td>NaN</td>\n",
       "      <td>NaN</td>\n",
       "      <td>NaN</td>\n",
       "      <td>NaN</td>\n",
       "      <td>NaN</td>\n",
       "      <td>NaN</td>\n",
       "    </tr>\n",
       "    <tr>\n",
       "      <th>Fjob</th>\n",
       "      <td>359</td>\n",
       "      <td>5</td>\n",
       "      <td>other</td>\n",
       "      <td>197</td>\n",
       "      <td>NaN</td>\n",
       "      <td>NaN</td>\n",
       "      <td>NaN</td>\n",
       "      <td>NaN</td>\n",
       "      <td>NaN</td>\n",
       "      <td>NaN</td>\n",
       "      <td>NaN</td>\n",
       "    </tr>\n",
       "    <tr>\n",
       "      <th>reason</th>\n",
       "      <td>378</td>\n",
       "      <td>4</td>\n",
       "      <td>course</td>\n",
       "      <td>137</td>\n",
       "      <td>NaN</td>\n",
       "      <td>NaN</td>\n",
       "      <td>NaN</td>\n",
       "      <td>NaN</td>\n",
       "      <td>NaN</td>\n",
       "      <td>NaN</td>\n",
       "      <td>NaN</td>\n",
       "    </tr>\n",
       "    <tr>\n",
       "      <th>guardian</th>\n",
       "      <td>364</td>\n",
       "      <td>3</td>\n",
       "      <td>mother</td>\n",
       "      <td>250</td>\n",
       "      <td>NaN</td>\n",
       "      <td>NaN</td>\n",
       "      <td>NaN</td>\n",
       "      <td>NaN</td>\n",
       "      <td>NaN</td>\n",
       "      <td>NaN</td>\n",
       "      <td>NaN</td>\n",
       "    </tr>\n",
       "    <tr>\n",
       "      <th>traveltime</th>\n",
       "      <td>367</td>\n",
       "      <td>NaN</td>\n",
       "      <td>NaN</td>\n",
       "      <td>NaN</td>\n",
       "      <td>1.439</td>\n",
       "      <td>0.6942</td>\n",
       "      <td>1</td>\n",
       "      <td>1</td>\n",
       "      <td>1</td>\n",
       "      <td>2</td>\n",
       "      <td>4</td>\n",
       "    </tr>\n",
       "    <tr>\n",
       "      <th>studytime</th>\n",
       "      <td>388</td>\n",
       "      <td>NaN</td>\n",
       "      <td>NaN</td>\n",
       "      <td>NaN</td>\n",
       "      <td>2.039</td>\n",
       "      <td>0.8421</td>\n",
       "      <td>1</td>\n",
       "      <td>1</td>\n",
       "      <td>2</td>\n",
       "      <td>2</td>\n",
       "      <td>4</td>\n",
       "    </tr>\n",
       "    <tr>\n",
       "      <th>failures</th>\n",
       "      <td>373</td>\n",
       "      <td>NaN</td>\n",
       "      <td>NaN</td>\n",
       "      <td>NaN</td>\n",
       "      <td>0.3378</td>\n",
       "      <td>0.7431</td>\n",
       "      <td>0</td>\n",
       "      <td>0</td>\n",
       "      <td>0</td>\n",
       "      <td>0</td>\n",
       "      <td>3</td>\n",
       "    </tr>\n",
       "    <tr>\n",
       "      <th>schoolsup</th>\n",
       "      <td>386</td>\n",
       "      <td>2</td>\n",
       "      <td>no</td>\n",
       "      <td>335</td>\n",
       "      <td>NaN</td>\n",
       "      <td>NaN</td>\n",
       "      <td>NaN</td>\n",
       "      <td>NaN</td>\n",
       "      <td>NaN</td>\n",
       "      <td>NaN</td>\n",
       "      <td>NaN</td>\n",
       "    </tr>\n",
       "    <tr>\n",
       "      <th>famsup</th>\n",
       "      <td>356</td>\n",
       "      <td>2</td>\n",
       "      <td>yes</td>\n",
       "      <td>219</td>\n",
       "      <td>NaN</td>\n",
       "      <td>NaN</td>\n",
       "      <td>NaN</td>\n",
       "      <td>NaN</td>\n",
       "      <td>NaN</td>\n",
       "      <td>NaN</td>\n",
       "      <td>NaN</td>\n",
       "    </tr>\n",
       "    <tr>\n",
       "      <th>paid</th>\n",
       "      <td>355</td>\n",
       "      <td>2</td>\n",
       "      <td>no</td>\n",
       "      <td>200</td>\n",
       "      <td>NaN</td>\n",
       "      <td>NaN</td>\n",
       "      <td>NaN</td>\n",
       "      <td>NaN</td>\n",
       "      <td>NaN</td>\n",
       "      <td>NaN</td>\n",
       "      <td>NaN</td>\n",
       "    </tr>\n",
       "    <tr>\n",
       "      <th>activities</th>\n",
       "      <td>381</td>\n",
       "      <td>2</td>\n",
       "      <td>yes</td>\n",
       "      <td>195</td>\n",
       "      <td>NaN</td>\n",
       "      <td>NaN</td>\n",
       "      <td>NaN</td>\n",
       "      <td>NaN</td>\n",
       "      <td>NaN</td>\n",
       "      <td>NaN</td>\n",
       "      <td>NaN</td>\n",
       "    </tr>\n",
       "    <tr>\n",
       "      <th>nursery</th>\n",
       "      <td>379</td>\n",
       "      <td>2</td>\n",
       "      <td>yes</td>\n",
       "      <td>300</td>\n",
       "      <td>NaN</td>\n",
       "      <td>NaN</td>\n",
       "      <td>NaN</td>\n",
       "      <td>NaN</td>\n",
       "      <td>NaN</td>\n",
       "      <td>NaN</td>\n",
       "      <td>NaN</td>\n",
       "    </tr>\n",
       "    <tr>\n",
       "      <th>studytime, granular</th>\n",
       "      <td>388</td>\n",
       "      <td>NaN</td>\n",
       "      <td>NaN</td>\n",
       "      <td>NaN</td>\n",
       "      <td>-6.116</td>\n",
       "      <td>2.526</td>\n",
       "      <td>-12</td>\n",
       "      <td>-6</td>\n",
       "      <td>-6</td>\n",
       "      <td>-3</td>\n",
       "      <td>-3</td>\n",
       "    </tr>\n",
       "    <tr>\n",
       "      <th>higher</th>\n",
       "      <td>375</td>\n",
       "      <td>2</td>\n",
       "      <td>yes</td>\n",
       "      <td>356</td>\n",
       "      <td>NaN</td>\n",
       "      <td>NaN</td>\n",
       "      <td>NaN</td>\n",
       "      <td>NaN</td>\n",
       "      <td>NaN</td>\n",
       "      <td>NaN</td>\n",
       "      <td>NaN</td>\n",
       "    </tr>\n",
       "    <tr>\n",
       "      <th>internet</th>\n",
       "      <td>361</td>\n",
       "      <td>2</td>\n",
       "      <td>yes</td>\n",
       "      <td>305</td>\n",
       "      <td>NaN</td>\n",
       "      <td>NaN</td>\n",
       "      <td>NaN</td>\n",
       "      <td>NaN</td>\n",
       "      <td>NaN</td>\n",
       "      <td>NaN</td>\n",
       "      <td>NaN</td>\n",
       "    </tr>\n",
       "    <tr>\n",
       "      <th>romantic</th>\n",
       "      <td>364</td>\n",
       "      <td>2</td>\n",
       "      <td>no</td>\n",
       "      <td>240</td>\n",
       "      <td>NaN</td>\n",
       "      <td>NaN</td>\n",
       "      <td>NaN</td>\n",
       "      <td>NaN</td>\n",
       "      <td>NaN</td>\n",
       "      <td>NaN</td>\n",
       "      <td>NaN</td>\n",
       "    </tr>\n",
       "    <tr>\n",
       "      <th>famrel</th>\n",
       "      <td>368</td>\n",
       "      <td>NaN</td>\n",
       "      <td>NaN</td>\n",
       "      <td>NaN</td>\n",
       "      <td>3.938</td>\n",
       "      <td>0.9273</td>\n",
       "      <td>-1</td>\n",
       "      <td>4</td>\n",
       "      <td>4</td>\n",
       "      <td>5</td>\n",
       "      <td>5</td>\n",
       "    </tr>\n",
       "    <tr>\n",
       "      <th>freetime</th>\n",
       "      <td>384</td>\n",
       "      <td>NaN</td>\n",
       "      <td>NaN</td>\n",
       "      <td>NaN</td>\n",
       "      <td>3.232</td>\n",
       "      <td>0.9939</td>\n",
       "      <td>1</td>\n",
       "      <td>3</td>\n",
       "      <td>3</td>\n",
       "      <td>4</td>\n",
       "      <td>5</td>\n",
       "    </tr>\n",
       "    <tr>\n",
       "      <th>goout</th>\n",
       "      <td>387</td>\n",
       "      <td>NaN</td>\n",
       "      <td>NaN</td>\n",
       "      <td>NaN</td>\n",
       "      <td>3.106</td>\n",
       "      <td>1.116</td>\n",
       "      <td>1</td>\n",
       "      <td>2</td>\n",
       "      <td>3</td>\n",
       "      <td>4</td>\n",
       "      <td>5</td>\n",
       "    </tr>\n",
       "    <tr>\n",
       "      <th>health</th>\n",
       "      <td>380</td>\n",
       "      <td>NaN</td>\n",
       "      <td>NaN</td>\n",
       "      <td>NaN</td>\n",
       "      <td>3.532</td>\n",
       "      <td>1.396</td>\n",
       "      <td>1</td>\n",
       "      <td>3</td>\n",
       "      <td>4</td>\n",
       "      <td>5</td>\n",
       "      <td>5</td>\n",
       "    </tr>\n",
       "    <tr>\n",
       "      <th>absences</th>\n",
       "      <td>383</td>\n",
       "      <td>NaN</td>\n",
       "      <td>NaN</td>\n",
       "      <td>NaN</td>\n",
       "      <td>7.279</td>\n",
       "      <td>23.47</td>\n",
       "      <td>0</td>\n",
       "      <td>0</td>\n",
       "      <td>4</td>\n",
       "      <td>8</td>\n",
       "      <td>385</td>\n",
       "    </tr>\n",
       "    <tr>\n",
       "      <th>score</th>\n",
       "      <td>389</td>\n",
       "      <td>NaN</td>\n",
       "      <td>NaN</td>\n",
       "      <td>NaN</td>\n",
       "      <td>52.26</td>\n",
       "      <td>22.92</td>\n",
       "      <td>0</td>\n",
       "      <td>40</td>\n",
       "      <td>55</td>\n",
       "      <td>70</td>\n",
       "      <td>100</td>\n",
       "    </tr>\n",
       "  </tbody>\n",
       "</table>\n",
       "</div>"
      ],
      "text/plain": [
       "                    count unique     top freq    mean     std  min  25%  50%  \\\n",
       "school                395      2      GP  349     NaN     NaN  NaN  NaN  NaN   \n",
       "sex                   395      2       F  208     NaN     NaN  NaN  NaN  NaN   \n",
       "age                   395    NaN     NaN  NaN    16.7   1.276   15   16   17   \n",
       "address               378      2       U  295     NaN     NaN  NaN  NaN  NaN   \n",
       "famsize               368      2     GT3  261     NaN     NaN  NaN  NaN  NaN   \n",
       "Pstatus               350      2       T  314     NaN     NaN  NaN  NaN  NaN   \n",
       "Medu                  392    NaN     NaN  NaN    2.75   1.098    0    2    3   \n",
       "Fedu                  371    NaN     NaN  NaN   2.615   2.229    0    2    2   \n",
       "Mjob                  376      5   other  133     NaN     NaN  NaN  NaN  NaN   \n",
       "Fjob                  359      5   other  197     NaN     NaN  NaN  NaN  NaN   \n",
       "reason                378      4  course  137     NaN     NaN  NaN  NaN  NaN   \n",
       "guardian              364      3  mother  250     NaN     NaN  NaN  NaN  NaN   \n",
       "traveltime            367    NaN     NaN  NaN   1.439  0.6942    1    1    1   \n",
       "studytime             388    NaN     NaN  NaN   2.039  0.8421    1    1    2   \n",
       "failures              373    NaN     NaN  NaN  0.3378  0.7431    0    0    0   \n",
       "schoolsup             386      2      no  335     NaN     NaN  NaN  NaN  NaN   \n",
       "famsup                356      2     yes  219     NaN     NaN  NaN  NaN  NaN   \n",
       "paid                  355      2      no  200     NaN     NaN  NaN  NaN  NaN   \n",
       "activities            381      2     yes  195     NaN     NaN  NaN  NaN  NaN   \n",
       "nursery               379      2     yes  300     NaN     NaN  NaN  NaN  NaN   \n",
       "studytime, granular   388    NaN     NaN  NaN  -6.116   2.526  -12   -6   -6   \n",
       "higher                375      2     yes  356     NaN     NaN  NaN  NaN  NaN   \n",
       "internet              361      2     yes  305     NaN     NaN  NaN  NaN  NaN   \n",
       "romantic              364      2      no  240     NaN     NaN  NaN  NaN  NaN   \n",
       "famrel                368    NaN     NaN  NaN   3.938  0.9273   -1    4    4   \n",
       "freetime              384    NaN     NaN  NaN   3.232  0.9939    1    3    3   \n",
       "goout                 387    NaN     NaN  NaN   3.106   1.116    1    2    3   \n",
       "health                380    NaN     NaN  NaN   3.532   1.396    1    3    4   \n",
       "absences              383    NaN     NaN  NaN   7.279   23.47    0    0    4   \n",
       "score                 389    NaN     NaN  NaN   52.26   22.92    0   40   55   \n",
       "\n",
       "                     75%  max  \n",
       "school               NaN  NaN  \n",
       "sex                  NaN  NaN  \n",
       "age                   18   22  \n",
       "address              NaN  NaN  \n",
       "famsize              NaN  NaN  \n",
       "Pstatus              NaN  NaN  \n",
       "Medu                   4    4  \n",
       "Fedu                   3   40  \n",
       "Mjob                 NaN  NaN  \n",
       "Fjob                 NaN  NaN  \n",
       "reason               NaN  NaN  \n",
       "guardian             NaN  NaN  \n",
       "traveltime             2    4  \n",
       "studytime              2    4  \n",
       "failures               0    3  \n",
       "schoolsup            NaN  NaN  \n",
       "famsup               NaN  NaN  \n",
       "paid                 NaN  NaN  \n",
       "activities           NaN  NaN  \n",
       "nursery              NaN  NaN  \n",
       "studytime, granular   -3   -3  \n",
       "higher               NaN  NaN  \n",
       "internet             NaN  NaN  \n",
       "romantic             NaN  NaN  \n",
       "famrel                 5    5  \n",
       "freetime               4    5  \n",
       "goout                  4    5  \n",
       "health                 5    5  \n",
       "absences               8  385  \n",
       "score                 70  100  "
      ]
     },
     "execution_count": 131,
     "metadata": {},
     "output_type": "execute_result"
    }
   ],
   "source": [
    "math.describe(include = 'all').T"
   ]
  },
  {
   "cell_type": "markdown",
   "metadata": {},
   "source": [
    "Три стобца являются *количественными* переменными:  \n",
    " **age** - возраст от 15 до 22 лет.  \n",
    " **absences** - пропуски занятий, от 0 до 385, со средним значением около 7.  \n",
    " **score** -  итоговая оценка, от 0 до 100.\n",
    "\n",
    "*Категориальные* (оценочные), 9 столбцов:   \n",
    "**Medu, Fedu** - образование матери и отца ( 0 - нет, 1 - 4 класса, 2 - 5-9 классы, 3 - среднее специальное или 11 классов, 4 - высшее)  \n",
    "**traveltime** - время в пути до школы (1 - <15 мин., 2 - 15-30 мин., 3 - 30-60 мин., 4 - >60 мин.)  \n",
    "**studytime (..granular)** - в время на учёбу помимо школы в неделю (1 - <2 часов, 2 - 2-5 часов, 3 - 5-10 часов, 4 - >10 часов)  \n",
    "**failures** - количество внеучебных неудач (n, если 1<=n<3, иначе 0)  \n",
    "**famrel** - семейные отношения (от 1 - очень плохо до 5 - очень хорошо)   \n",
    "**freetime** - свободное время после школы (от 1 - очень мало до 5 - очень мого)  \n",
    "**goout** - проведение времени с друзьями (от 1 - очень мало до 5 - очень много)  \n",
    "**health** - текущее состояние здоровья (от 1 - очень плохо до 5 - очень хорошо)\n",
    "\n",
    "*Категориальные* (номинативные), 4 столбца:   \n",
    "**Mjob, Fjob** работа матери и отца ('teacher' - учитель, 'health' - сфера здравоохранения, 'services' - гос служба, 'at_home' - не работает, 'other' - другое)   \n",
    "**reason** - причина выбора школы (**'home'** - близость к дому, **'reputation'** - репутация школы, **'course'** - образовательная программа, **'other'** - другое)  \n",
    "**guardian** - опекун (**'mother'** - мать, **'father'** - отец, **'other'** - другое)\n",
    "\n",
    "*Категориальные* (бинарные), 13 столбцов:  \n",
    "**school** - аббревиатура школы, в которой учится ученик (**GP** - General Purpose? и **MS** - Middle School?)  \n",
    "**sex**  - пол ученика (**'F'** - женский, **'M'** - мужской)  \n",
    "**address** - тип адреса ученика (**'U'** Urban - городской, **'R'** Recreation - за городом)   \n",
    "**famsize** - размер семьи(**'LE3'** <= 3, **'GT3'** >3)   \n",
    "**Pstatus** - статус совместного жилья родителей (**'T'** - живут вместе **'A'** - раздельно)  \n",
    "Столбцы содержащие значение **yes/no**    \n",
    "**schoolsup** - дополнительная образовательная поддержка (**yes или no**)   \n",
    "**famsup** - семейная образовательная поддержка (**yes или no**)  \n",
    "**paid** - дополнительные платные занятия по математике (**yes или no**)  \n",
    "**activities** - дополнительные внеучебные занятия (**yes или no**)  \n",
    "**nursery** - посещал детский сад (**yes или no**)  \n",
    "**higher** - хочет получить высшее образование (**yes или no**)  \n",
    "**internet** - наличие интернета дома (**yes или no**)  \n",
    "**romantic** - в романтических отношениях (**yes или no**)  "
   ]
  },
  {
   "cell_type": "markdown",
   "metadata": {},
   "source": [
    "## Исправление ошибок в данных.\n",
    "При осмотре статистической таблицы и условий видны следующие ошибки.\n",
    "- **Fedu** - значение *40*, скорее всего опечатка, исправим на 4.0  \n",
    "- **famrel** - значение *-1*  - скорее всего опечатка, исправим на 1.0  \n",
    "- столбец **studytime, granular** без описания, сравним со столбцом **studytime**  "
   ]
  },
  {
   "cell_type": "markdown",
   "metadata": {},
   "source": [
    "### Studytime, granular\n",
    "Про данный столбец нет описания, но возможно он относиться к столбцу **studytime**. Посмотрим пропущенные значения и зависимость между столбцами. В этих столбцах пропущенно по 7 значений. "
   ]
  },
  {
   "cell_type": "code",
   "execution_count": 132,
   "metadata": {},
   "outputs": [
    {
     "data": {
      "text/html": [
       "<div>\n",
       "<style scoped>\n",
       "    .dataframe tbody tr th:only-of-type {\n",
       "        vertical-align: middle;\n",
       "    }\n",
       "\n",
       "    .dataframe tbody tr th {\n",
       "        vertical-align: top;\n",
       "    }\n",
       "\n",
       "    .dataframe thead th {\n",
       "        text-align: right;\n",
       "    }\n",
       "</style>\n",
       "<table border=\"1\" class=\"dataframe\">\n",
       "  <thead>\n",
       "    <tr style=\"text-align: right;\">\n",
       "      <th></th>\n",
       "      <th>school</th>\n",
       "      <th>sex</th>\n",
       "      <th>age</th>\n",
       "      <th>address</th>\n",
       "      <th>famsize</th>\n",
       "      <th>Pstatus</th>\n",
       "      <th>Medu</th>\n",
       "      <th>Fedu</th>\n",
       "      <th>Mjob</th>\n",
       "      <th>Fjob</th>\n",
       "      <th>reason</th>\n",
       "      <th>guardian</th>\n",
       "      <th>traveltime</th>\n",
       "      <th>studytime</th>\n",
       "      <th>failures</th>\n",
       "      <th>schoolsup</th>\n",
       "      <th>famsup</th>\n",
       "      <th>paid</th>\n",
       "      <th>activities</th>\n",
       "      <th>nursery</th>\n",
       "      <th>studytime, granular</th>\n",
       "      <th>higher</th>\n",
       "      <th>internet</th>\n",
       "      <th>romantic</th>\n",
       "      <th>famrel</th>\n",
       "      <th>freetime</th>\n",
       "      <th>goout</th>\n",
       "      <th>health</th>\n",
       "      <th>absences</th>\n",
       "      <th>score</th>\n",
       "    </tr>\n",
       "  </thead>\n",
       "  <tbody>\n",
       "    <tr>\n",
       "      <th>17</th>\n",
       "      <td>GP</td>\n",
       "      <td>F</td>\n",
       "      <td>16</td>\n",
       "      <td>U</td>\n",
       "      <td>GT3</td>\n",
       "      <td>T</td>\n",
       "      <td>3.0</td>\n",
       "      <td>3.0</td>\n",
       "      <td>other</td>\n",
       "      <td>NaN</td>\n",
       "      <td>reputation</td>\n",
       "      <td>mother</td>\n",
       "      <td>3.0</td>\n",
       "      <td>NaN</td>\n",
       "      <td>0.0</td>\n",
       "      <td>yes</td>\n",
       "      <td>NaN</td>\n",
       "      <td>no</td>\n",
       "      <td>yes</td>\n",
       "      <td>yes</td>\n",
       "      <td>NaN</td>\n",
       "      <td>yes</td>\n",
       "      <td>no</td>\n",
       "      <td>no</td>\n",
       "      <td>5.0</td>\n",
       "      <td>3.0</td>\n",
       "      <td>2.0</td>\n",
       "      <td>4.0</td>\n",
       "      <td>4.0</td>\n",
       "      <td>50.0</td>\n",
       "    </tr>\n",
       "    <tr>\n",
       "      <th>91</th>\n",
       "      <td>GP</td>\n",
       "      <td>F</td>\n",
       "      <td>15</td>\n",
       "      <td>U</td>\n",
       "      <td>GT3</td>\n",
       "      <td>T</td>\n",
       "      <td>4.0</td>\n",
       "      <td>3.0</td>\n",
       "      <td>services</td>\n",
       "      <td>other</td>\n",
       "      <td>reputation</td>\n",
       "      <td>mother</td>\n",
       "      <td>1.0</td>\n",
       "      <td>NaN</td>\n",
       "      <td>NaN</td>\n",
       "      <td>no</td>\n",
       "      <td>no</td>\n",
       "      <td>yes</td>\n",
       "      <td>yes</td>\n",
       "      <td>yes</td>\n",
       "      <td>NaN</td>\n",
       "      <td>yes</td>\n",
       "      <td>yes</td>\n",
       "      <td>no</td>\n",
       "      <td>4.0</td>\n",
       "      <td>5.0</td>\n",
       "      <td>5.0</td>\n",
       "      <td>1.0</td>\n",
       "      <td>4.0</td>\n",
       "      <td>90.0</td>\n",
       "    </tr>\n",
       "    <tr>\n",
       "      <th>112</th>\n",
       "      <td>GP</td>\n",
       "      <td>F</td>\n",
       "      <td>16</td>\n",
       "      <td>U</td>\n",
       "      <td>GT3</td>\n",
       "      <td>NaN</td>\n",
       "      <td>2.0</td>\n",
       "      <td>2.0</td>\n",
       "      <td>at_home</td>\n",
       "      <td>other</td>\n",
       "      <td>NaN</td>\n",
       "      <td>mother</td>\n",
       "      <td>NaN</td>\n",
       "      <td>NaN</td>\n",
       "      <td>1.0</td>\n",
       "      <td>yes</td>\n",
       "      <td>no</td>\n",
       "      <td>no</td>\n",
       "      <td>yes</td>\n",
       "      <td>yes</td>\n",
       "      <td>NaN</td>\n",
       "      <td>yes</td>\n",
       "      <td>yes</td>\n",
       "      <td>NaN</td>\n",
       "      <td>3.0</td>\n",
       "      <td>1.0</td>\n",
       "      <td>2.0</td>\n",
       "      <td>5.0</td>\n",
       "      <td>6.0</td>\n",
       "      <td>65.0</td>\n",
       "    </tr>\n",
       "    <tr>\n",
       "      <th>129</th>\n",
       "      <td>GP</td>\n",
       "      <td>M</td>\n",
       "      <td>16</td>\n",
       "      <td>R</td>\n",
       "      <td>NaN</td>\n",
       "      <td>T</td>\n",
       "      <td>4.0</td>\n",
       "      <td>4.0</td>\n",
       "      <td>teacher</td>\n",
       "      <td>teacher</td>\n",
       "      <td>course</td>\n",
       "      <td>mother</td>\n",
       "      <td>1.0</td>\n",
       "      <td>NaN</td>\n",
       "      <td>0.0</td>\n",
       "      <td>no</td>\n",
       "      <td>no</td>\n",
       "      <td>yes</td>\n",
       "      <td>yes</td>\n",
       "      <td>yes</td>\n",
       "      <td>NaN</td>\n",
       "      <td>yes</td>\n",
       "      <td>yes</td>\n",
       "      <td>no</td>\n",
       "      <td>3.0</td>\n",
       "      <td>5.0</td>\n",
       "      <td>5.0</td>\n",
       "      <td>4.0</td>\n",
       "      <td>NaN</td>\n",
       "      <td>90.0</td>\n",
       "    </tr>\n",
       "    <tr>\n",
       "      <th>227</th>\n",
       "      <td>GP</td>\n",
       "      <td>M</td>\n",
       "      <td>17</td>\n",
       "      <td>U</td>\n",
       "      <td>LE3</td>\n",
       "      <td>NaN</td>\n",
       "      <td>2.0</td>\n",
       "      <td>3.0</td>\n",
       "      <td>services</td>\n",
       "      <td>services</td>\n",
       "      <td>reputation</td>\n",
       "      <td>father</td>\n",
       "      <td>1.0</td>\n",
       "      <td>NaN</td>\n",
       "      <td>0.0</td>\n",
       "      <td>no</td>\n",
       "      <td>yes</td>\n",
       "      <td>yes</td>\n",
       "      <td>no</td>\n",
       "      <td>no</td>\n",
       "      <td>NaN</td>\n",
       "      <td>NaN</td>\n",
       "      <td>yes</td>\n",
       "      <td>no</td>\n",
       "      <td>5.0</td>\n",
       "      <td>3.0</td>\n",
       "      <td>3.0</td>\n",
       "      <td>3.0</td>\n",
       "      <td>NaN</td>\n",
       "      <td>60.0</td>\n",
       "    </tr>\n",
       "    <tr>\n",
       "      <th>266</th>\n",
       "      <td>GP</td>\n",
       "      <td>M</td>\n",
       "      <td>17</td>\n",
       "      <td>U</td>\n",
       "      <td>GT3</td>\n",
       "      <td>NaN</td>\n",
       "      <td>3.0</td>\n",
       "      <td>1.0</td>\n",
       "      <td>services</td>\n",
       "      <td>NaN</td>\n",
       "      <td>other</td>\n",
       "      <td>mother</td>\n",
       "      <td>1.0</td>\n",
       "      <td>NaN</td>\n",
       "      <td>0.0</td>\n",
       "      <td>no</td>\n",
       "      <td>no</td>\n",
       "      <td>yes</td>\n",
       "      <td>yes</td>\n",
       "      <td>yes</td>\n",
       "      <td>NaN</td>\n",
       "      <td>yes</td>\n",
       "      <td>yes</td>\n",
       "      <td>NaN</td>\n",
       "      <td>5.0</td>\n",
       "      <td>4.0</td>\n",
       "      <td>4.0</td>\n",
       "      <td>NaN</td>\n",
       "      <td>2.0</td>\n",
       "      <td>50.0</td>\n",
       "    </tr>\n",
       "    <tr>\n",
       "      <th>314</th>\n",
       "      <td>GP</td>\n",
       "      <td>F</td>\n",
       "      <td>19</td>\n",
       "      <td>U</td>\n",
       "      <td>GT3</td>\n",
       "      <td>T</td>\n",
       "      <td>1.0</td>\n",
       "      <td>1.0</td>\n",
       "      <td>at_home</td>\n",
       "      <td>health</td>\n",
       "      <td>home</td>\n",
       "      <td>other</td>\n",
       "      <td>1.0</td>\n",
       "      <td>NaN</td>\n",
       "      <td>2.0</td>\n",
       "      <td>no</td>\n",
       "      <td>no</td>\n",
       "      <td>no</td>\n",
       "      <td>no</td>\n",
       "      <td>no</td>\n",
       "      <td>NaN</td>\n",
       "      <td>yes</td>\n",
       "      <td>yes</td>\n",
       "      <td>yes</td>\n",
       "      <td>4.0</td>\n",
       "      <td>NaN</td>\n",
       "      <td>2.0</td>\n",
       "      <td>3.0</td>\n",
       "      <td>14.0</td>\n",
       "      <td>65.0</td>\n",
       "    </tr>\n",
       "  </tbody>\n",
       "</table>\n",
       "</div>"
      ],
      "text/plain": [
       "    school sex  age address famsize Pstatus  Medu  Fedu      Mjob      Fjob  \\\n",
       "17      GP   F   16       U     GT3       T   3.0   3.0     other       NaN   \n",
       "91      GP   F   15       U     GT3       T   4.0   3.0  services     other   \n",
       "112     GP   F   16       U     GT3     NaN   2.0   2.0   at_home     other   \n",
       "129     GP   M   16       R     NaN       T   4.0   4.0   teacher   teacher   \n",
       "227     GP   M   17       U     LE3     NaN   2.0   3.0  services  services   \n",
       "266     GP   M   17       U     GT3     NaN   3.0   1.0  services       NaN   \n",
       "314     GP   F   19       U     GT3       T   1.0   1.0   at_home    health   \n",
       "\n",
       "         reason guardian  traveltime  studytime  failures schoolsup famsup  \\\n",
       "17   reputation   mother         3.0        NaN       0.0       yes    NaN   \n",
       "91   reputation   mother         1.0        NaN       NaN        no     no   \n",
       "112         NaN   mother         NaN        NaN       1.0       yes     no   \n",
       "129      course   mother         1.0        NaN       0.0        no     no   \n",
       "227  reputation   father         1.0        NaN       0.0        no    yes   \n",
       "266       other   mother         1.0        NaN       0.0        no     no   \n",
       "314        home    other         1.0        NaN       2.0        no     no   \n",
       "\n",
       "    paid activities nursery  studytime, granular higher internet romantic  \\\n",
       "17    no        yes     yes                  NaN    yes       no       no   \n",
       "91   yes        yes     yes                  NaN    yes      yes       no   \n",
       "112   no        yes     yes                  NaN    yes      yes      NaN   \n",
       "129  yes        yes     yes                  NaN    yes      yes       no   \n",
       "227  yes         no      no                  NaN    NaN      yes       no   \n",
       "266  yes        yes     yes                  NaN    yes      yes      NaN   \n",
       "314   no         no      no                  NaN    yes      yes      yes   \n",
       "\n",
       "     famrel  freetime  goout  health  absences  score  \n",
       "17      5.0       3.0    2.0     4.0       4.0   50.0  \n",
       "91      4.0       5.0    5.0     1.0       4.0   90.0  \n",
       "112     3.0       1.0    2.0     5.0       6.0   65.0  \n",
       "129     3.0       5.0    5.0     4.0       NaN   90.0  \n",
       "227     5.0       3.0    3.0     3.0       NaN   60.0  \n",
       "266     5.0       4.0    4.0     NaN       2.0   50.0  \n",
       "314     4.0       NaN    2.0     3.0      14.0   65.0  "
      ]
     },
     "execution_count": 132,
     "metadata": {},
     "output_type": "execute_result"
    }
   ],
   "source": [
    "math[math.studytime.isna()]"
   ]
  },
  {
   "cell_type": "markdown",
   "metadata": {},
   "source": [
    "Пропущенные значения также совпадают, посмотрим на графике, как соотносятся данные."
   ]
  },
  {
   "cell_type": "code",
   "execution_count": 133,
   "metadata": {},
   "outputs": [
    {
     "data": {
      "image/png": "[encoded data removed]",
      "text/plain": [
       "<Figure size 288x288 with 1 Axes>"
      ]
     },
     "metadata": {
      "needs_background": "light"
     },
     "output_type": "display_data"
    }
   ],
   "source": [
    "sns.lmplot(x='studytime', y='studytime, granular', height=4, data=math)\n",
    "plt.show()"
   ]
  },
  {
   "cell_type": "markdown",
   "metadata": {},
   "source": [
    "По графтку видна линейная зависимость между столбцами. Возможно, это немного другая оценка времени **studytime**. Проверим коэффициентом корреляции."
   ]
  },
  {
   "cell_type": "code",
   "execution_count": 134,
   "metadata": {},
   "outputs": [
    {
     "data": {
      "text/html": [
       "<div>\n",
       "<style scoped>\n",
       "    .dataframe tbody tr th:only-of-type {\n",
       "        vertical-align: middle;\n",
       "    }\n",
       "\n",
       "    .dataframe tbody tr th {\n",
       "        vertical-align: top;\n",
       "    }\n",
       "\n",
       "    .dataframe thead th {\n",
       "        text-align: right;\n",
       "    }\n",
       "</style>\n",
       "<table border=\"1\" class=\"dataframe\">\n",
       "  <thead>\n",
       "    <tr style=\"text-align: right;\">\n",
       "      <th></th>\n",
       "      <th>studytime</th>\n",
       "      <th>studytime, granular</th>\n",
       "    </tr>\n",
       "  </thead>\n",
       "  <tbody>\n",
       "    <tr>\n",
       "      <th>studytime</th>\n",
       "      <td>1.0</td>\n",
       "      <td>-1.0</td>\n",
       "    </tr>\n",
       "    <tr>\n",
       "      <th>studytime, granular</th>\n",
       "      <td>-1.0</td>\n",
       "      <td>1.0</td>\n",
       "    </tr>\n",
       "  </tbody>\n",
       "</table>\n",
       "</div>"
      ],
      "text/plain": [
       "                     studytime  studytime, granular\n",
       "studytime                  1.0                 -1.0\n",
       "studytime, granular       -1.0                  1.0"
      ]
     },
     "execution_count": 134,
     "metadata": {},
     "output_type": "execute_result"
    }
   ],
   "source": [
    "math[['studytime', 'studytime, granular']].corr()"
   ]
  },
  {
   "cell_type": "markdown",
   "metadata": {},
   "source": [
    "Данные в столбце **studytime, granular** копируют столбец **studytime** с коэффициентом -3. Столбец **studytime, granular** нам не нужен - удаляем.  \n",
    "Исправляем значения в столбцах **Fedu** и **famrel** "
   ]
  },
  {
   "cell_type": "code",
   "execution_count": 135,
   "metadata": {},
   "outputs": [],
   "source": [
    "math = math.drop('studytime, granular', axis=1)\n",
    "math.Fedu = math.Fedu.apply(lambda x: 4.0 if x==40.0 else x)\n",
    "math.famrel = math.famrel.apply(lambda x: 1 if x ==-1 else x)"
   ]
  },
  {
   "cell_type": "markdown",
   "metadata": {},
   "source": [
    "### Score - Финальная оценка по экзамену"
   ]
  },
  {
   "cell_type": "markdown",
   "metadata": {},
   "source": [
    "Кратко распишем традиционную систему оценок для 100-бальной системы\n",
    "* **80-100** Отлично/Зачтено  \"A+\" или \"A\"\n",
    "* **60-79** Хорошо/Зачтено \"B\" или \"C\"\n",
    "* **40-59** Удовлетворительно/Зачтено \"D\" или \"E\"\n",
    "* **0-39** Неудовлетворительно/ Не Зачтено \"Fx\" или \"F\""
   ]
  },
  {
   "cell_type": "code",
   "execution_count": 136,
   "metadata": {},
   "outputs": [
    {
     "data": {
      "image/png": "[encoded data removed]",
      "text/plain": [
       "<Figure size 864x288 with 1 Axes>"
      ]
     },
     "metadata": {},
     "output_type": "display_data"
    }
   ],
   "source": [
    "sns.set()\n",
    "fig, ax = plt.subplots(figsize=[12,4])\n",
    "sns.distplot(math['score'], bins = 10, label = \"Оценка по экзамену\" )\n",
    "ax.legend(loc=1)\n",
    "\n",
    "plt.show()"
   ]
  },
  {
   "cell_type": "markdown",
   "metadata": {},
   "source": [
    "Из гистограммы и графика распределения видно, что много значений с нулевой оценкой (также есть 6 значений **NaN**). Такое большое количество оценок связано с больших количеством оценок \"F\" или \"Неуд\", когда баллов было набрано менее 39. Именно в этих случаях часто просто ставят \"F\" вместе с баллами, что потом может быть занесено как 0 баллов. Поэтому заменим данные значения по среднему значению в промежутке от 0-39.\n",
    "\n",
    "Значения **Nan** для столбца **score** заменим средним. "
   ]
  },
  {
   "cell_type": "code",
   "execution_count": 137,
   "metadata": {},
   "outputs": [],
   "source": [
    "# Заполняем нулевые значения через функцию\n",
    "math = math.apply(score_corr, axis=1)\n",
    "math.score = math.score.fillna(math.score.mean())"
   ]
  },
  {
   "cell_type": "markdown",
   "metadata": {},
   "source": [
    "#### Гистограмма распределения оценки после коррекции."
   ]
  },
  {
   "cell_type": "code",
   "execution_count": 138,
   "metadata": {},
   "outputs": [
    {
     "data": {
      "image/png": "[encoded data removed]",
      "text/plain": [
       "<Figure size 864x288 with 1 Axes>"
      ]
     },
     "metadata": {},
     "output_type": "display_data"
    }
   ],
   "source": [
    "sns.set()\n",
    "fig, ax = plt.subplots(figsize=[12,4])\n",
    "sns.distplot(math['score'], bins = 8, label = \"Оценка по экзамену\" )\n",
    "ax.legend(loc=1)\n",
    "\n",
    "plt.show()"
   ]
  },
  {
   "cell_type": "markdown",
   "metadata": {},
   "source": [
    "Проверим распределение финальной оценки на выбросы"
   ]
  },
  {
   "cell_type": "code",
   "execution_count": 139,
   "metadata": {},
   "outputs": [
    {
     "name": "stdout",
     "output_type": "stream",
     "text": [
      "25-й перцентиль: 40.0, 75-й перцентиль: 70.0, IQR: 30.0,  Границы выбросов: [-5.0, 115.0].\n"
     ]
    },
    {
     "data": {
      "image/png": "[encoded data removed]",
      "text/plain": [
       "<Figure size 432x288 with 1 Axes>"
      ]
     },
     "metadata": {},
     "output_type": "display_data"
    }
   ],
   "source": [
    "iqr_test('score', 0, 100)"
   ]
  },
  {
   "cell_type": "markdown",
   "metadata": {},
   "source": [
    "Как видно из гистограммы - выбросов нет. "
   ]
  },
  {
   "cell_type": "markdown",
   "metadata": {},
   "source": [
    "### Школы, возраст и пол учеников (school, age, sex)\n",
    "В датасете присутвует всего 2 вида школ **GP** (General Practice? ) и **MS** (Middle School ?)  \n",
    "Что бы проверить что это за школы проведем исследование по возрасту (**age**) и полу (**sex**)"
   ]
  },
  {
   "cell_type": "code",
   "execution_count": 140,
   "metadata": {},
   "outputs": [
    {
     "data": {
      "text/plain": [
       "array(['GP', 'MS'], dtype=object)"
      ]
     },
     "metadata": {},
     "output_type": "display_data"
    },
    {
     "data": {
      "text/plain": [
       "array(['F', 'M'], dtype=object)"
      ]
     },
     "metadata": {},
     "output_type": "display_data"
    }
   ],
   "source": [
    "display(math.school.unique())\n",
    "display(math.sex.unique())"
   ]
  },
  {
   "cell_type": "code",
   "execution_count": 141,
   "metadata": {},
   "outputs": [
    {
     "data": {
      "text/html": [
       "<div>\n",
       "<style scoped>\n",
       "    .dataframe tbody tr th:only-of-type {\n",
       "        vertical-align: middle;\n",
       "    }\n",
       "\n",
       "    .dataframe tbody tr th {\n",
       "        vertical-align: top;\n",
       "    }\n",
       "\n",
       "    .dataframe thead th {\n",
       "        text-align: right;\n",
       "    }\n",
       "</style>\n",
       "<table border=\"1\" class=\"dataframe\">\n",
       "  <thead>\n",
       "    <tr style=\"text-align: right;\">\n",
       "      <th>age</th>\n",
       "      <th>15</th>\n",
       "      <th>16</th>\n",
       "      <th>17</th>\n",
       "      <th>18</th>\n",
       "      <th>19</th>\n",
       "      <th>20</th>\n",
       "      <th>21</th>\n",
       "      <th>22</th>\n",
       "    </tr>\n",
       "    <tr>\n",
       "      <th>school</th>\n",
       "      <th></th>\n",
       "      <th></th>\n",
       "      <th></th>\n",
       "      <th></th>\n",
       "      <th></th>\n",
       "      <th></th>\n",
       "      <th></th>\n",
       "      <th></th>\n",
       "    </tr>\n",
       "  </thead>\n",
       "  <tbody>\n",
       "    <tr>\n",
       "      <th>GP</th>\n",
       "      <td>82.0</td>\n",
       "      <td>104.0</td>\n",
       "      <td>86.0</td>\n",
       "      <td>57.0</td>\n",
       "      <td>18.0</td>\n",
       "      <td>1.0</td>\n",
       "      <td>NaN</td>\n",
       "      <td>1.0</td>\n",
       "    </tr>\n",
       "    <tr>\n",
       "      <th>MS</th>\n",
       "      <td>NaN</td>\n",
       "      <td>NaN</td>\n",
       "      <td>12.0</td>\n",
       "      <td>25.0</td>\n",
       "      <td>6.0</td>\n",
       "      <td>2.0</td>\n",
       "      <td>1.0</td>\n",
       "      <td>NaN</td>\n",
       "    </tr>\n",
       "  </tbody>\n",
       "</table>\n",
       "</div>"
      ],
      "text/plain": [
       "age       15     16    17    18    19   20   21   22\n",
       "school                                              \n",
       "GP      82.0  104.0  86.0  57.0  18.0  1.0  NaN  1.0\n",
       "MS       NaN    NaN  12.0  25.0   6.0  2.0  1.0  NaN"
      ]
     },
     "execution_count": 141,
     "metadata": {},
     "output_type": "execute_result"
    }
   ],
   "source": [
    "pd.pivot_table(math, index = \"school\", columns = 'age', values = 'sex', aggfunc = 'count')"
   ]
  },
  {
   "cell_type": "code",
   "execution_count": 142,
   "metadata": {},
   "outputs": [
    {
     "data": {
      "image/png": "[encoded data removed]",
      "text/plain": [
       "<Figure size 864x288 with 3 Axes>"
      ]
     },
     "metadata": {},
     "output_type": "display_data"
    }
   ],
   "source": [
    "school_age = pd.pivot_table(math, index = 'age', columns = 'school', values = 'sex', aggfunc=('count')).reset_index()\n",
    "GP_sex = pd.pivot_table(math.query('school == \"GP\"'), index = 'age', columns = 'sex', values = 'score', aggfunc = 'mean').reset_index()\n",
    "MS_sex = pd.pivot_table(math.query('school == \"MS\"'), index = 'age', columns = 'sex', values = 'score', aggfunc = 'mean').reset_index()\n",
    "\n",
    "fig, axes = plt.subplots (0, 1, figsize = (12, 4) )\n",
    "axes = fig.add_axes([0, 0, 0.33, 1])\n",
    "axes.set_ylim(0, 120)\n",
    "axes.bar(x = school_age['age'], height = school_age['GP'],\n",
    "               width = 0.4, align = 'edge', label = 'Количество учеников общей (GP) школы')\n",
    "axes.bar(x = school_age['age'], height = school_age['MS'],\n",
    "               width = -0.4, align = 'edge', label = 'Количество учеников средней школы (MS)')\n",
    "axes.legend(loc=1)\n",
    "\n",
    "axes = fig.add_axes([0.4, 0, 0.33, 1])\n",
    "axes.set_ylim(0, 80)\n",
    "axes.bar(x = GP_sex['age'], height = GP_sex['M'],\n",
    "               width = -0.4, align = 'edge', label = 'Средний балл для мальчиков школы GP')\n",
    "axes.bar(x = GP_sex['age'], height = GP_sex['F'],\n",
    "               width = 0.4, align = 'edge', label = 'Средний балл для девочек школы GP')\n",
    "axes.legend(loc=1)\n",
    "\n",
    "axes = fig.add_axes([0.8, 0, 0.33, 1])\n",
    "axes.set_ylim(0, 80)\n",
    "axes.bar(x = MS_sex['age'], height = MS_sex['M'],\n",
    "               width = -0.4, align = 'edge', label = 'Средний балл для мальчиков школы MS')\n",
    "axes.bar(x = MS_sex['age'], height = MS_sex['F'],\n",
    "               width = 0.4, align = 'edge', label = 'Средний балл для девочек школы MS')\n",
    "\n",
    "\n",
    "axes.legend(loc=1)\n",
    "\n",
    "plt.show()"
   ]
  },
  {
   "cell_type": "markdown",
   "metadata": {},
   "source": [
    "По диаграмме видно, что школы явно ранжированны по возрасту. GP - основной возраст 15 - 19 лет. MS от 17 до 22. Также видно, что есть ученик школы GP возрастом 22 года и ученики школы MS возрастом 21 год."
   ]
  },
  {
   "cell_type": "code",
   "execution_count": 143,
   "metadata": {},
   "outputs": [
    {
     "name": "stdout",
     "output_type": "stream",
     "text": [
      "25-й перцентиль: 16.0, 75-й перцентиль: 18.0, IQR: 2.0,  Границы выбросов: [13.0, 21.0].\n"
     ]
    },
    {
     "data": {
      "image/png": "[encoded data removed]",
      "text/plain": [
       "<Figure size 432x288 with 1 Axes>"
      ]
     },
     "metadata": {},
     "output_type": "display_data"
    }
   ],
   "source": [
    "iqr_test('age', 15, 22)"
   ]
  },
  {
   "cell_type": "markdown",
   "metadata": {},
   "source": [
    "Так как мы считаем возраст непрерывной случайной величиной, то возраст 22 - считается выбросом, нужно заменить его или удалить.\n",
    "\n",
    "*Примечание. С точки зрения логики одно зачение возраста выше чем средний, это просто день рожденья ученика на несколько дней(пару месяцев) раньше чем дата экзамена, такое может произойти во многих случаях (перенос даты ЕГЭ 2020 г из-за COVID-19), поэтому не будем этот возраст выбросом заменим его на 21.*"
   ]
  },
  {
   "cell_type": "code",
   "execution_count": 144,
   "metadata": {},
   "outputs": [],
   "source": [
    "# заменяем значение 22 на 21.\n",
    "math.age = math.age.replace(22, 21)"
   ]
  },
  {
   "cell_type": "markdown",
   "metadata": {},
   "source": [
    "### Absences - пропуски занятий\n",
    "Если судить по таблице describe, максимальное значение 385. Проверим данные на выбросы."
   ]
  },
  {
   "cell_type": "code",
   "execution_count": 145,
   "metadata": {},
   "outputs": [
    {
     "name": "stdout",
     "output_type": "stream",
     "text": [
      "25-й перцентиль: 0.0, 75-й перцентиль: 8.0, IQR: 8.0,  Границы выбросов: [-12.0, 20.0].\n"
     ]
    },
    {
     "data": {
      "image/png": "[encoded data removed]",
      "text/plain": [
       "<Figure size 432x288 with 1 Axes>"
      ]
     },
     "metadata": {},
     "output_type": "display_data"
    }
   ],
   "source": [
    "iqr_test('absences', 0, 400)"
   ]
  },
  {
   "cell_type": "markdown",
   "metadata": {},
   "source": [
    "Выбросы у нас по верхней границе - нужно удалить лишние данные или заменить. Но удалять мы их будем (данных много), только в том случае, если окажется, что данный параметр влияет на итоговые значение. Для этого вначале проверим в корреляционном анализе урезанный датафрейм (без выбросов), и если этот параметр влияет - тогда удалим, иначе заменим на максимальный по границе выбросов (20)"
   ]
  },
  {
   "cell_type": "code",
   "execution_count": 146,
   "metadata": {},
   "outputs": [],
   "source": [
    "abs25 = math.absences.quantile(0.25)\n",
    "abs75 = math.absences.quantile(0.75)\n",
    "IQR = math.absences.quantile(0.75) - math.absences.quantile(0.25)"
   ]
  },
  {
   "cell_type": "markdown",
   "metadata": {},
   "source": [
    "### Корреляционный анализ"
   ]
  },
  {
   "cell_type": "markdown",
   "metadata": {},
   "source": [
    "Построим графики корреляции для величин **age, absences, score.** Т.к. пока мы используем разные датафреймы: для **age** полный, а для **absences** сокращенный, то сделаем отдельно корреляционный анализ. "
   ]
  },
  {
   "cell_type": "markdown",
   "metadata": {},
   "source": [
    "### Зависимость оценки от возраста (age/score)"
   ]
  },
  {
   "cell_type": "code",
   "execution_count": 147,
   "metadata": {},
   "outputs": [
    {
     "data": {
      "image/png": "[encoded data removed]",
      "text/plain": [
       "<Figure size 360x360 with 6 Axes>"
      ]
     },
     "metadata": {},
     "output_type": "display_data"
    },
    {
     "data": {
      "image/png": "[encoded data removed]",
      "text/plain": [
       "<Figure size 408.85x360 with 6 Axes>"
      ]
     },
     "metadata": {},
     "output_type": "display_data"
    }
   ],
   "source": [
    "sns.pairplot(math[['age', 'score', 'sex']], kind='reg')\n",
    "sns.pairplot(math[['age', 'score', 'sex']], kind='reg', hue='sex', palette=\"husl\")\n",
    "plt.show()"
   ]
  },
  {
   "cell_type": "code",
   "execution_count": 148,
   "metadata": {},
   "outputs": [
    {
     "name": "stdout",
     "output_type": "stream",
     "text": [
      "Коэффициент корреляции для \"age\"/\"score\": -0.152 p-value: 0.002\n"
     ]
    }
   ],
   "source": [
    "cor_sa, p_sa = pearsonr(math['score'], math['age'])\n",
    "print ('Коэффициент корреляции для \"age\"/\"score\": {:.3f}'.format(cor_sa),\n",
    "                    'p-value: {:.3f}'.format(p_sa))"
   ]
  },
  {
   "cell_type": "markdown",
   "metadata": {},
   "source": [
    "### Зависимость оценки от пропусков занятий (absences/score)"
   ]
  },
  {
   "cell_type": "code",
   "execution_count": 149,
   "metadata": {},
   "outputs": [
    {
     "data": {
      "image/png": "[encoded data removed]",
      "text/plain": [
       "<Figure size 360x360 with 6 Axes>"
      ]
     },
     "metadata": {},
     "output_type": "display_data"
    },
    {
     "data": {
      "image/png": "[encoded data removed]",
      "text/plain": [
       "<Figure size 408.85x360 with 6 Axes>"
      ]
     },
     "metadata": {},
     "output_type": "display_data"
    }
   ],
   "source": [
    "#фильтр для выбросов absences для короткой записи\n",
    "ma = math.absences.between(abs25 - 1.5*IQR, abs75 + 1.5*IQR)\n",
    "\n",
    "sns.pairplot(math[ma][['absences', 'score', 'sex']], kind='reg')\n",
    "sns.pairplot(math[ma][['absences', 'score', 'sex']], kind='reg', hue='sex', palette=\"husl\")\n",
    "plt.show()"
   ]
  },
  {
   "cell_type": "code",
   "execution_count": 150,
   "metadata": {},
   "outputs": [
    {
     "name": "stdout",
     "output_type": "stream",
     "text": [
      "Коэффициент корреляции для \"absences\"/\"score\": -0.053 p-value: 0.316\n"
     ]
    }
   ],
   "source": [
    "cor_sb, p_sb = pearsonr(math.loc[ma]['score'], math.loc[ma]['absences'])\n",
    "print ('Коэффициент корреляции для \"absences\"/\"score\": {:.3f}'.format(cor_sb),\n",
    "                    'p-value: {:.3f}'.format(p_sb))"
   ]
  },
  {
   "cell_type": "code",
   "execution_count": 151,
   "metadata": {},
   "outputs": [
    {
     "name": "stdout",
     "output_type": "stream",
     "text": [
      "Коэффициент корреляции для \"absences\"/\"score\", только мальчик: -0.146   p-value: 0.053\n"
     ]
    }
   ],
   "source": [
    "# дополнительня проверка только для мальчиков. \n",
    "cor_ma, p_ma = pearsonr(math.query('sex == \"M\"').loc[ma]['score'], \n",
    "                        math.query('sex == \"M\"').loc[ma]['absences'])\n",
    "\n",
    "print ('Коэффициент корреляции для \"absences\"/\"score\"\\\n",
    ", только мальчик: {:.3f}'.format(cor_ma),\n",
    "                    '  p-value: {:.3f}'.format(p_ma))"
   ]
  },
  {
   "cell_type": "markdown",
   "metadata": {},
   "source": [
    "Из графиков, коэффициентов корреляции (и p-value) можно сделать промежуточный вывод для непрерывных переменных \n",
    "**age/score** и **absences/score** : \n",
    " \n",
    " - Итоговая оценка **score** зависит от возраста **age** и это следует учитывать при последующем анализе. \n",
    " - Итоговая оценка **score** мало зависит от количества пропусков **absences**. Дополнительная проверка только для мальчиков показала, что есть выраженная отрицательная зависимость по коэффициенту корреляции, но она статистически незначительна (p-value > 0.05). \n",
    " \n",
    " *Примечание Отсутвие корреляции пропуска занятий и итоговой оценки по математике можно объяснить тем, что в данных у нас пропуски всех занятий за год по всем предметам. Ученик может пропустиь за год (по болезни) 20-50 занятий, но не пропустить ни одного занятия по математике.*\n",
    " \n",
    " По итогам анализа столбец **absences** можно не заполнять, и мы его удалим."
   ]
  },
  {
   "cell_type": "code",
   "execution_count": 152,
   "metadata": {},
   "outputs": [],
   "source": [
    "math = math.drop('absences', axis=1)"
   ]
  },
  {
   "cell_type": "markdown",
   "metadata": {},
   "source": [
    "### Address - место жительства и Traveltime - время до учебу и обратно\n",
    "Посмотрим на распределение и зависимости переменных и заполним пропуски."
   ]
  },
  {
   "cell_type": "code",
   "execution_count": 153,
   "metadata": {},
   "outputs": [
    {
     "data": {
      "image/png": "[encoded data removed]",
      "text/plain": [
       "<Figure size 576x288 with 2 Axes>"
      ]
     },
     "metadata": {},
     "output_type": "display_data"
    }
   ],
   "source": [
    "GP_time = pd.pivot_table(math.query('school == \"GP\"'), index = 'traveltime', columns = 'address', values = 'sex', aggfunc=('count')).reset_index()\n",
    "MS_time = pd.pivot_table(math.query('school == \"MS\"'), index = 'traveltime', columns = 'address', values = 'sex', aggfunc=('count')).reset_index()\n",
    "\n",
    "fig, axes = plt.subplots (0, 2, figsize = (8, 4) )\n",
    "\n",
    "axes = fig.add_axes([0, 0, 0.5, 1])\n",
    "axes.bar(x = GP_time['traveltime'], height = GP_time['U'],\n",
    "               width = -0.4, align = 'edge', label = 'количество учеников из города')\n",
    "axes.bar(x = GP_time['traveltime'], height = GP_time['R'],\n",
    "               width = 0.4, align = 'edge', label = 'количество учеников из пригорода')\n",
    "\n",
    "plt.title('Школа GP')\n",
    "plt.xlabel('traveltime')\n",
    "axes.legend(loc=1)\n",
    "\n",
    "axes = fig.add_axes([0.6, 0, 0.5, 1])\n",
    "axes.bar(x = MS_time['traveltime'], height = MS_time['U'],\n",
    "               width = -0.4, align = 'edge', label = 'Количество учеников из города')\n",
    "axes.bar(x = MS_time['traveltime'], height = MS_time['R'],\n",
    "               width = 0.4, align = 'edge', label = 'Количество учеников из пригорода')\n",
    "plt.title('Школа MS')\n",
    "plt.xlabel('traveltime')\n",
    "\n",
    "axes.legend(loc=1)\n",
    "\n",
    "plt.show()"
   ]
  },
  {
   "cell_type": "markdown",
   "metadata": {},
   "source": [
    "В школу **GP** гораздо больше ходит учеников из города (**U**) и тратит времени минимально (**1.0**) Школа **MS** возможно находится ближе к отдаленным районам (или наоборот в центре города) и ученики из города и пригорода тратят времени примерно одинаково. Для этого рассмотрим дополнительно причину выбора школы **reason**"
   ]
  },
  {
   "cell_type": "markdown",
   "metadata": {},
   "source": [
    "### Причина выбора школы - reason\n",
    "Для разного возраста учеников, причины выбора школы может отличаться, также может зависить от местаположения\n",
    "* **'home'** - близость к дому, \n",
    "* **'reputation'** - репутация школы, \n",
    "* **'course'** - образовательная программа, \n",
    "* **'other'** - другое\n",
    "\n",
    "Посмотрим как выглядят причины выбора для двух школ GP/MS для разных возрастных групп"
   ]
  },
  {
   "cell_type": "code",
   "execution_count": 154,
   "metadata": {},
   "outputs": [
    {
     "data": {
      "image/png": "[encoded data removed]",
      "text/plain": [
       "<Figure size 576x288 with 4 Axes>"
      ]
     },
     "metadata": {},
     "output_type": "display_data"
    }
   ],
   "source": [
    "dataGP = math.query('school == \"GP\"').groupby(['age', 'reason'])['reason'].count().unstack()\n",
    "dataMS = math.query('school == \"MS\"').groupby(['age', 'reason'])['reason'].count().unstack()\n",
    "\n",
    "fig, axes = plt.subplots(0, 2, figsize = (8, 4))\n",
    "\n",
    "axes = fig.add_axes([0, 0, 0.6, 1])\n",
    "axes = sns.heatmap(dataGP, annot = True)\n",
    "plt.title('Возраст и причина выбора для школы GP')\n",
    "\n",
    "axes = fig.add_axes([0.7, 0, 0.6, 1])\n",
    "axes = sns.heatmap(dataMS, annot = True)\n",
    "plt.title('Возраст и причина выбора для школы MS')\n",
    "\n",
    "plt.show()"
   ]
  },
  {
   "cell_type": "markdown",
   "metadata": {},
   "source": [
    "Самой распространненой причиной в обеих школах и во всех возрастных группах - является образовательная программа **\"course\"**. И для школы **GP** близость к дому **'home'**. \n",
    "\n",
    "Заполним пробелы в столбцах **address, reason, traveltime** совместно при помощи *KNN*, как вспомогательный столбец будем использовать столбцы школы (**school**) и возраста (**age**). "
   ]
  },
  {
   "cell_type": "code",
   "execution_count": 155,
   "metadata": {},
   "outputs": [],
   "source": [
    "train = math[['school','age', 'address', 'reason', 'traveltime']].copy()\n",
    "imputer = KNNImputer(n_neighbors=3)"
   ]
  },
  {
   "cell_type": "code",
   "execution_count": 156,
   "metadata": {},
   "outputs": [],
   "source": [
    "train.school = train.school.replace(['GP', 'MS'], [1, 2])\n",
    "train.address = train.address.replace(['U','R'], [1, 2])\n",
    "\n",
    "\n",
    "reason_dict = {'course':0, 'reputation':1,'home':2,'other':3}\n",
    "reason_dict_rev = {0:'course' ,1:'reputation',2:'home',3:'other'}\n",
    "train.reason = train.reason.replace(reason_dict)"
   ]
  },
  {
   "cell_type": "code",
   "execution_count": 157,
   "metadata": {},
   "outputs": [],
   "source": [
    "df_fill = imputer.fit_transform(train)"
   ]
  },
  {
   "cell_type": "code",
   "execution_count": 158,
   "metadata": {},
   "outputs": [],
   "source": [
    "train['address'] = df_fill.T[2]\n",
    "train['reason'] = df_fill.T[3]\n",
    "train['traveltime'] = df_fill.T[4]\n",
    "train = train.round(0)\n",
    "train.address = train.address.replace([1.0, 2.0], ['U', 'R'])\n",
    "\n",
    "#Заполняем пропуски reason, address, traveltime\n",
    "math.address = train.address\n",
    "math.traveltime = train.traveltime\n",
    "math.reason = train.reason.replace(reason_dict_rev)"
   ]
  },
  {
   "cell_type": "markdown",
   "metadata": {},
   "source": [
    "### Famsize - размер семьи и статус проживания родителей Pstatus\n",
    "Посмотрим на состав семьи и статус проживания родителей"
   ]
  },
  {
   "cell_type": "code",
   "execution_count": 159,
   "metadata": {},
   "outputs": [
    {
     "data": {
      "image/png": "[encoded data removed]",
      "text/plain": [
       "<Figure size 576x288 with 1 Axes>"
      ]
     },
     "metadata": {},
     "output_type": "display_data"
    }
   ],
   "source": [
    "fam_st = pd.pivot_table(math, index = 'Pstatus', columns = 'famsize', values = 'sex', aggfunc = 'count').reset_index()\n",
    "\n",
    "fig, axes = plt.subplots (0, 2, figsize = (8, 4) )\n",
    "\n",
    "axes = fig.add_axes([0, 0, 0.5, 1])\n",
    "axes.bar(x = fam_st['Pstatus'], height = fam_st['GT3'],\n",
    "               width = -0.4, align = 'edge', label = 'Семьи от 4х человек и больше')\n",
    "axes.bar(x = fam_st['Pstatus'], height = fam_st['LE3'],\n",
    "               width = 0.4, align = 'edge', label = 'Семьи до 3х человек')\n",
    "\n",
    "plt.title('Состав семьи и статус проживания')\n",
    "plt.xlabel('A - родители живут раздельно, T - родители живут вместе')\n",
    "axes.legend(loc=2)\n",
    "\n",
    "plt.show()"
   ]
  },
  {
   "cell_type": "code",
   "execution_count": 160,
   "metadata": {},
   "outputs": [
    {
     "data": {
      "text/plain": [
       "GT3    0.7092\n",
       "LE3    0.2908\n",
       "Name: famsize, dtype: float64"
      ]
     },
     "metadata": {},
     "output_type": "display_data"
    },
    {
     "data": {
      "text/plain": [
       "T    0.8971\n",
       "A    0.1029\n",
       "Name: Pstatus, dtype: float64"
      ]
     },
     "metadata": {},
     "output_type": "display_data"
    }
   ],
   "source": [
    "display(math['famsize'].value_counts(normalize = True))\n",
    "display(math['Pstatus'].value_counts(normalize = True))"
   ]
  },
  {
   "cell_type": "markdown",
   "metadata": {},
   "source": [
    "Пропущенных значений для состава семьи (**famsize**) много (27 значений) для статуса проживания (**Pstatus**) еще больше (45 значений). Удалить их мы не можем, потеряем слишком большой процент данных.\n",
    "Это номинативные(бинарные) переменные, создавать еще одно значения типа  (\"Unknown\") в данном случае нежелательно. \n",
    "\n",
    "Заполним пропуски, самыми популярными значениями:\n",
    "GTE3  для **famsize**- около 70% \n",
    "T для **Pstatus** - около 90%"
   ]
  },
  {
   "cell_type": "code",
   "execution_count": 161,
   "metadata": {},
   "outputs": [],
   "source": [
    "math.famsize = math.famsize.fillna('GT3')\n",
    "math.Pstatus = math.Pstatus.fillna('T')"
   ]
  },
  {
   "cell_type": "markdown",
   "metadata": {},
   "source": [
    "### Уровень образования матери и отцы Medu и Fedu и текущая работа Mjob и Fjob\n",
    "**Medu / Fedu** (0 - нет, 1 - 4 класса, 2 - 5-9 классы, 3 - среднее специальное или 11 классов, 4 - высшее)\n"
   ]
  },
  {
   "cell_type": "code",
   "execution_count": 162,
   "metadata": {},
   "outputs": [
    {
     "data": {
      "image/png": "[encoded data removed]",
      "text/plain": [
       "<Figure size 432x216 with 2 Axes>"
      ]
     },
     "metadata": {},
     "output_type": "display_data"
    }
   ],
   "source": [
    "edu_dict = {0.0 : 'без образования', 1.0 : '1-4 класса', \n",
    "            2.0 : '5-9 классы', 3.0: 'среднее специальное', 4.0 : 'Высшее образование'}\n",
    "labels_m = math.Medu.replace(edu_dict).value_counts().reset_index()['index'].to_list()\n",
    "labels_f = math.Fedu.replace(edu_dict).value_counts().reset_index()['index'].to_list()\n",
    "\n",
    "fig, axes = plt.subplots(0, 2, figsize = (6, 3))\n",
    "\n",
    "axes = fig.add_axes([0, 0, 0.5, 1])\n",
    "axes.pie(math.Medu.value_counts(), labels=labels_m, autopct='%1.1f%%', shadow=True)\n",
    "plt.title('Уровень образования матери')\n",
    "\n",
    "axes = fig.add_axes([0.7, 0, 0.7, 1])\n",
    "axes.pie(math.Fedu.value_counts(), labels=labels_f, autopct='%1.1f%%', shadow=True)\n",
    "plt.title('Уровень образования отца')\n",
    "\n",
    "plt.show()"
   ]
  },
  {
   "cell_type": "markdown",
   "metadata": {},
   "source": [
    "Все значения примерно равномерно распределены, кроме людей без образования. Просто заполнить не правильно, также как и удалить. Но можно использовать текущую работу, как показатель уровня образования. Посмотрим соответвие уровню образования и работе. "
   ]
  },
  {
   "cell_type": "code",
   "execution_count": 163,
   "metadata": {},
   "outputs": [
    {
     "data": {
      "image/png": "[encoded data removed]",
      "text/plain": [
       "<Figure size 576x288 with 4 Axes>"
      ]
     },
     "metadata": {},
     "output_type": "display_data"
    }
   ],
   "source": [
    "dataM= math.groupby(['Medu', 'Mjob'])['Mjob'].count().unstack()\n",
    "dataF= math.groupby(['Fedu', 'Fjob'])['Fjob'].count().unstack()\n",
    "\n",
    "fig, axes = plt.subplots(0, 2, figsize = (8, 4))\n",
    "\n",
    "axes = fig.add_axes([0, 0, 0.6, 1])\n",
    "axes = sns.heatmap(dataM, annot = True)\n",
    "plt.title('Уровень образования матери и текущая работа')\n",
    "\n",
    "axes = fig.add_axes([0.7, 0, 0.6, 1])\n",
    "axes = sns.heatmap(dataF, annot = True)\n",
    "plt.title('Уровень образования отца и текущая работа')\n",
    "\n",
    "plt.show()"
   ]
  },
  {
   "cell_type": "markdown",
   "metadata": {},
   "source": [
    "Диаграммы, показывают предсказуемую ситуацию, учителя и врачи - почти все в высшим образованием (минимум средне-специальное). Безработных женщин больше среди школьного образования (2 и 3). Можно использовать эти данные и заполнить пропущенные значения в уровне образования. Будем использовать самые популярные значения (моду) для мужчин и женщин отдельно. В конце, строки в которых останется Nan в обоих значениях **(MF)job** и **(MF)edu** заполним тоже самым популярным значением из всего датайрейма. "
   ]
  },
  {
   "cell_type": "code",
   "execution_count": 164,
   "metadata": {},
   "outputs": [],
   "source": [
    "#Заполняем пробелы в столбце образование    \n",
    "math.Medu = math.Medu.fillna(math.Mjob.map(m_edu))\n",
    "math.Fedu = math.Fedu.fillna(math.Fjob.map(f_edu))\n",
    "\n",
    "#Заполняем пробелы в столбце работа\n",
    "math.Mjob = math.Mjob.fillna(math.Medu.map(m_job))\n",
    "math.Fjob = math.Fjob.fillna(math.Fedu.map(f_job))\n",
    "\n",
    "#Заполняем 2 строки для отца где Nan в обоих столбцах\n",
    "math.Fjob = math.Fjob.fillna(math.Fjob.mode()[0])\n",
    "math.Fedu = math.Fedu.fillna(math.Fedu.mode()[0])"
   ]
  },
  {
   "cell_type": "code",
   "execution_count": 165,
   "metadata": {},
   "outputs": [
    {
     "data": {
      "image/png": "[encoded data removed]",
      "text/plain": [
       "<Figure size 432x216 with 2 Axes>"
      ]
     },
     "metadata": {},
     "output_type": "display_data"
    }
   ],
   "source": [
    "labels_mj = math.Mjob.value_counts().reset_index()['index'].to_list()\n",
    "labels_fj = math.Fjob.value_counts().reset_index()['index'].to_list()\n",
    "\n",
    "fig, axes = plt.subplots(0, 2, figsize = (6, 3))\n",
    "\n",
    "axes = fig.add_axes([0, 0, 0.5, 1])\n",
    "axes.pie(math.Mjob.value_counts(), labels=labels_mj, autopct='%1.1f%%', shadow=True)\n",
    "plt.title('Работа матери')\n",
    "\n",
    "\n",
    "axes = fig.add_axes([0.7, 0, 0.7, 1])\n",
    "axes.pie(math.Fjob.value_counts(), labels=labels_fj, autopct='%1.1f%%', shadow=True)\n",
    "plt.title('Работа отца')\n",
    "\n",
    "plt.show()"
   ]
  },
  {
   "cell_type": "markdown",
   "metadata": {},
   "source": [
    "### Опекун - guardian\n",
    "* mother - мать\n",
    "* father - отец\n",
    "* other - другое\n",
    "\n",
    "Посмотрим есть какие-либо различия в опекунах, где родители живут совместно или раздельно. "
   ]
  },
  {
   "cell_type": "code",
   "execution_count": 166,
   "metadata": {},
   "outputs": [
    {
     "data": {
      "image/png": "[encoded data removed]",
      "text/plain": [
       "<Figure size 432x216 with 1 Axes>"
      ]
     },
     "metadata": {},
     "output_type": "display_data"
    }
   ],
   "source": [
    "guard = pd.pivot_table(math, index = 'guardian', columns = 'Pstatus', values = 'sex', aggfunc = 'count').reset_index()\n",
    "\n",
    "fig, axes = plt.subplots (0, 2, figsize = (6, 3) )\n",
    "\n",
    "axes = fig.add_axes([0, 0, 0.5, 1])\n",
    "axes.set_ylim(0, 280)\n",
    "axes.bar(x = guard['guardian'], height = guard['T'],\n",
    "               width = -0.4, align = 'edge', label = 'родители живут вместе')\n",
    "axes.bar(x = guard['guardian'], height = guard['A'],\n",
    "               width = 0.4, align = 'edge', label = 'родители живут по раздельности')\n",
    "\n",
    "plt.title('Опекунство и статус проживания')\n",
    "plt.xlabel('Основное опекунство')\n",
    "axes.legend(loc=1)\n",
    "\n",
    "plt.show()"
   ]
  },
  {
   "cell_type": "code",
   "execution_count": 167,
   "metadata": {},
   "outputs": [
    {
     "data": {
      "text/plain": [
       "mother    250\n",
       "father     86\n",
       "other      28\n",
       "Name: guardian, dtype: int64"
      ]
     },
     "execution_count": 167,
     "metadata": {},
     "output_type": "execute_result"
    }
   ],
   "source": [
    "math.guardian.value_counts()"
   ]
  },
  {
   "cell_type": "markdown",
   "metadata": {},
   "source": [
    "Основным опекуном во всех случаях явялется мать (\"mother\"), заполним пропущенные значения."
   ]
  },
  {
   "cell_type": "code",
   "execution_count": 168,
   "metadata": {},
   "outputs": [],
   "source": [
    "math.guardian = math.guardian.fillna(math.reason.mode()[0])"
   ]
  },
  {
   "cell_type": "markdown",
   "metadata": {},
   "source": [
    "### Studytime - время на учебы в неделю помимо школы\n",
    "* 1 - <2 часов\n",
    "* 2 - 2-5 часов\n",
    "* 3 - 5-10 часов\n",
    "* 4 - >10 часов"
   ]
  },
  {
   "cell_type": "code",
   "execution_count": 169,
   "metadata": {},
   "outputs": [
    {
     "data": {
      "image/png": "[encoded data removed]",
      "text/plain": [
       "<Figure size 432x288 with 1 Axes>"
      ]
     },
     "metadata": {},
     "output_type": "display_data"
    }
   ],
   "source": [
    "math.studytime.hist()\n",
    "plt.show()"
   ]
  },
  {
   "cell_type": "markdown",
   "metadata": {},
   "source": [
    "Посмотрим разницу по дополнительным часам для разных возрастных групп. У всех получается в среднем 2-5 часов дополнительных занятий. Заполним пропуски данным значением (2.0)"
   ]
  },
  {
   "cell_type": "code",
   "execution_count": 170,
   "metadata": {},
   "outputs": [],
   "source": [
    "math.studytime = math.studytime.fillna(math.studytime.mode()[0])"
   ]
  },
  {
   "cell_type": "markdown",
   "metadata": {},
   "source": [
    "### Failures - число внеучебных неудач\n",
    "n, если 1<=n<3, иначе 0"
   ]
  },
  {
   "cell_type": "code",
   "execution_count": 171,
   "metadata": {},
   "outputs": [
    {
     "data": {
      "image/png": "[encoded data removed]",
      "text/plain": [
       "<Figure size 432x288 with 1 Axes>"
      ]
     },
     "metadata": {},
     "output_type": "display_data"
    }
   ],
   "source": [
    "math.failures.hist()\n",
    "plt.show()"
   ]
  },
  {
   "cell_type": "markdown",
   "metadata": {},
   "source": [
    "Самое частое значение - 0. Заполним этим значением пропуски. "
   ]
  },
  {
   "cell_type": "code",
   "execution_count": 172,
   "metadata": {},
   "outputs": [],
   "source": [
    "math.failures = math.failures.fillna(math.failures.mode()[0])"
   ]
  },
  {
   "cell_type": "markdown",
   "metadata": {},
   "source": [
    "### Schoolsup, Famsup, Paid\n",
    "Рассмотрим дополнительную образовательную поддержку школы (**schoolsup**), семьи (**famsup**) и платные уроки (**paid**)"
   ]
  },
  {
   "cell_type": "code",
   "execution_count": 173,
   "metadata": {},
   "outputs": [
    {
     "data": {
      "image/png": "[encoded data removed]",
      "text/plain": [
       "<Figure size 864x288 with 3 Axes>"
      ]
     },
     "metadata": {},
     "output_type": "display_data"
    }
   ],
   "source": [
    "labels_ss = math.schoolsup.value_counts().reset_index()['index'].to_list()\n",
    "labels_fs = math.famsup.value_counts().reset_index()['index'].to_list()\n",
    "labels_paid = math.paid.value_counts().reset_index()['index'].to_list()\n",
    "\n",
    "fig, axes = plt.subplots(0, 3, figsize = (12, 4))\n",
    "\n",
    "axes = fig.add_axes([0, 0, 0.33, 1])\n",
    "axes.pie(math.schoolsup.value_counts(), labels=labels_ss, autopct='%1.1f%%', shadow=True)\n",
    "plt.title('Школьная доп. обр. поддержка')\n",
    "\n",
    "\n",
    "axes = fig.add_axes([0.33, 0, 0.33, 1])\n",
    "axes.pie(math.famsup.value_counts(), labels=labels_fs, autopct='%1.1f%%', shadow=True)\n",
    "plt.title('Семейная доп. обр. поддержка')\n",
    "\n",
    "axes = fig.add_axes([0.66, 0, 0.33, 1])\n",
    "axes.pie(math.paid.value_counts(), labels=labels_fs, autopct='%1.1f%%', shadow=True)\n",
    "plt.title('Платные уроки')\n",
    "\n",
    "plt.show()"
   ]
  },
  {
   "cell_type": "markdown",
   "metadata": {},
   "source": [
    "Заполним пропуски в **schoolsup** популярными значениями. Нужно заполнить около 40 пробелов в столбцах с семейнов поддержкой (**famsup**) и платными уроками (**paid**). Самое популярное значение, не сильно выраженно. Для того, чтобы их заполнить, рассмотрим их совместно."
   ]
  },
  {
   "cell_type": "code",
   "execution_count": 174,
   "metadata": {},
   "outputs": [
    {
     "data": {
      "image/png": "[encoded data removed]",
      "text/plain": [
       "<Figure size 432x288 with 2 Axes>"
      ]
     },
     "metadata": {},
     "output_type": "display_data"
    }
   ],
   "source": [
    "datapaid = math.groupby(['famsup', 'paid'])['paid'].count().unstack()\n",
    "\n",
    "fig, axes = plt.subplots(0, 1, figsize = (6, 4))\n",
    "\n",
    "axes = fig.add_axes([0, 0, 1, 1])\n",
    "axes = sns.heatmap(datapaid, annot = True, fmt='d')\n",
    "plt.title('Зависимость домашней поддержки и платных уроков')\n",
    "\n",
    "plt.show()"
   ]
  },
  {
   "cell_type": "markdown",
   "metadata": {},
   "source": [
    "Из карты видно, что если есть платные уроки, то в 80% есть и семейная поддержка. Заполним пробелы в **paid** и **famsup** \"yes\" - \"yes\". Для **paid** \"- \"no\" сделаем заполнение исходя их текущей пропорции."
   ]
  },
  {
   "cell_type": "code",
   "execution_count": 175,
   "metadata": {},
   "outputs": [],
   "source": [
    "#заполняем schoolsup\n",
    "math.schoolsup = math.schoolsup.fillna(math.schoolsup.mode()[0])"
   ]
  },
  {
   "cell_type": "code",
   "execution_count": 176,
   "metadata": {},
   "outputs": [],
   "source": [
    "# создадим переменные исходя из процента отношений для paid / famsup\n",
    "paid_y = math.query('paid == \"yes\"').famsup.value_counts(normalize = True)['yes']\n",
    "paid_n = math.query('paid == \"no\"').famsup.value_counts(normalize = True)['yes']\n",
    "\n",
    "#создадим маску для сокращения записи M/F\n",
    "mask_py = (math.paid == \"yes\") & (math.famsup.isnull())\n",
    "mask_pn = (math.paid == \"no\") & (math.famsup.isnull())\n",
    "\n",
    "#заполним случайно исходя из пола\n",
    "math.loc[mask_py, 'famsup'] = math[mask_py].famsup.apply(lambda x: yesno_fill(paid_y))\n",
    "math.loc[mask_pn, 'famsup'] = math[mask_pn].famsup.apply(lambda x: yesno_fill(paid_n))"
   ]
  },
  {
   "cell_type": "code",
   "execution_count": 177,
   "metadata": {},
   "outputs": [],
   "source": [
    "# создадим переменные исходя из процента отношений для paid / famsup\n",
    "fs_y = math.query('famsup == \"yes\"').paid.value_counts(normalize = True)['yes']\n",
    "fs_n = math.query('famsup == \"no\"').paid.value_counts(normalize = True)['yes']\n",
    "\n",
    "#создадим маску для сокращения записи M/F\n",
    "mask_fsy = (math.famsup == \"yes\") & (math.paid.isnull())\n",
    "mask_fsn = (math.famsup == \"no\") & (math.paid.isnull())\n",
    "\n",
    "#заполним случайно исходя из пола\n",
    "math.loc[mask_fsy, 'paid'] = math[mask_fsy].paid.apply(lambda x: yesno_fill(fs_y))\n",
    "math.loc[mask_fsn, 'paid'] = math[mask_fsn].paid.apply(lambda x: yesno_fill(fs_n))"
   ]
  },
  {
   "cell_type": "code",
   "execution_count": 178,
   "metadata": {},
   "outputs": [
    {
     "data": {
      "text/html": [
       "<div>\n",
       "<style scoped>\n",
       "    .dataframe tbody tr th:only-of-type {\n",
       "        vertical-align: middle;\n",
       "    }\n",
       "\n",
       "    .dataframe tbody tr th {\n",
       "        vertical-align: top;\n",
       "    }\n",
       "\n",
       "    .dataframe thead th {\n",
       "        text-align: right;\n",
       "    }\n",
       "</style>\n",
       "<table border=\"1\" class=\"dataframe\">\n",
       "  <thead>\n",
       "    <tr style=\"text-align: right;\">\n",
       "      <th></th>\n",
       "      <th>school</th>\n",
       "      <th>sex</th>\n",
       "      <th>age</th>\n",
       "      <th>address</th>\n",
       "      <th>famsize</th>\n",
       "      <th>Pstatus</th>\n",
       "      <th>Medu</th>\n",
       "      <th>Fedu</th>\n",
       "      <th>Mjob</th>\n",
       "      <th>Fjob</th>\n",
       "      <th>reason</th>\n",
       "      <th>guardian</th>\n",
       "      <th>traveltime</th>\n",
       "      <th>studytime</th>\n",
       "      <th>failures</th>\n",
       "      <th>schoolsup</th>\n",
       "      <th>famsup</th>\n",
       "      <th>paid</th>\n",
       "      <th>activities</th>\n",
       "      <th>nursery</th>\n",
       "      <th>higher</th>\n",
       "      <th>internet</th>\n",
       "      <th>romantic</th>\n",
       "      <th>famrel</th>\n",
       "      <th>freetime</th>\n",
       "      <th>goout</th>\n",
       "      <th>health</th>\n",
       "      <th>score</th>\n",
       "    </tr>\n",
       "  </thead>\n",
       "  <tbody>\n",
       "    <tr>\n",
       "      <th>51</th>\n",
       "      <td>GP</td>\n",
       "      <td>F</td>\n",
       "      <td>15</td>\n",
       "      <td>U</td>\n",
       "      <td>LE3</td>\n",
       "      <td>T</td>\n",
       "      <td>4.0</td>\n",
       "      <td>2.0</td>\n",
       "      <td>health</td>\n",
       "      <td>other</td>\n",
       "      <td>other</td>\n",
       "      <td>mother</td>\n",
       "      <td>1.0</td>\n",
       "      <td>2.0</td>\n",
       "      <td>0.0</td>\n",
       "      <td>no</td>\n",
       "      <td>NaN</td>\n",
       "      <td>NaN</td>\n",
       "      <td>no</td>\n",
       "      <td>yes</td>\n",
       "      <td>yes</td>\n",
       "      <td>yes</td>\n",
       "      <td>NaN</td>\n",
       "      <td>4.0</td>\n",
       "      <td>3.0</td>\n",
       "      <td>3.0</td>\n",
       "      <td>5.0</td>\n",
       "      <td>65.0</td>\n",
       "    </tr>\n",
       "    <tr>\n",
       "      <th>246</th>\n",
       "      <td>GP</td>\n",
       "      <td>M</td>\n",
       "      <td>17</td>\n",
       "      <td>U</td>\n",
       "      <td>GT3</td>\n",
       "      <td>T</td>\n",
       "      <td>2.0</td>\n",
       "      <td>3.0</td>\n",
       "      <td>other</td>\n",
       "      <td>other</td>\n",
       "      <td>course</td>\n",
       "      <td>father</td>\n",
       "      <td>2.0</td>\n",
       "      <td>1.0</td>\n",
       "      <td>0.0</td>\n",
       "      <td>no</td>\n",
       "      <td>NaN</td>\n",
       "      <td>NaN</td>\n",
       "      <td>no</td>\n",
       "      <td>yes</td>\n",
       "      <td>yes</td>\n",
       "      <td>yes</td>\n",
       "      <td>no</td>\n",
       "      <td>5.0</td>\n",
       "      <td>2.0</td>\n",
       "      <td>2.0</td>\n",
       "      <td>2.0</td>\n",
       "      <td>65.0</td>\n",
       "    </tr>\n",
       "    <tr>\n",
       "      <th>279</th>\n",
       "      <td>GP</td>\n",
       "      <td>M</td>\n",
       "      <td>18</td>\n",
       "      <td>U</td>\n",
       "      <td>LE3</td>\n",
       "      <td>T</td>\n",
       "      <td>4.0</td>\n",
       "      <td>3.0</td>\n",
       "      <td>teacher</td>\n",
       "      <td>services</td>\n",
       "      <td>course</td>\n",
       "      <td>course</td>\n",
       "      <td>2.0</td>\n",
       "      <td>1.0</td>\n",
       "      <td>0.0</td>\n",
       "      <td>no</td>\n",
       "      <td>NaN</td>\n",
       "      <td>NaN</td>\n",
       "      <td>yes</td>\n",
       "      <td>yes</td>\n",
       "      <td>yes</td>\n",
       "      <td>yes</td>\n",
       "      <td>no</td>\n",
       "      <td>4.0</td>\n",
       "      <td>2.0</td>\n",
       "      <td>3.0</td>\n",
       "      <td>1.0</td>\n",
       "      <td>50.0</td>\n",
       "    </tr>\n",
       "    <tr>\n",
       "      <th>313</th>\n",
       "      <td>GP</td>\n",
       "      <td>F</td>\n",
       "      <td>19</td>\n",
       "      <td>U</td>\n",
       "      <td>GT3</td>\n",
       "      <td>T</td>\n",
       "      <td>3.0</td>\n",
       "      <td>2.0</td>\n",
       "      <td>services</td>\n",
       "      <td>other</td>\n",
       "      <td>reputation</td>\n",
       "      <td>other</td>\n",
       "      <td>2.0</td>\n",
       "      <td>2.0</td>\n",
       "      <td>0.0</td>\n",
       "      <td>no</td>\n",
       "      <td>NaN</td>\n",
       "      <td>NaN</td>\n",
       "      <td>no</td>\n",
       "      <td>no</td>\n",
       "      <td>yes</td>\n",
       "      <td>yes</td>\n",
       "      <td>yes</td>\n",
       "      <td>4.0</td>\n",
       "      <td>2.0</td>\n",
       "      <td>2.0</td>\n",
       "      <td>1.0</td>\n",
       "      <td>55.0</td>\n",
       "    </tr>\n",
       "  </tbody>\n",
       "</table>\n",
       "</div>"
      ],
      "text/plain": [
       "    school sex  age address famsize Pstatus  Medu  Fedu      Mjob      Fjob  \\\n",
       "51      GP   F   15       U     LE3       T   4.0   2.0    health     other   \n",
       "246     GP   M   17       U     GT3       T   2.0   3.0     other     other   \n",
       "279     GP   M   18       U     LE3       T   4.0   3.0   teacher  services   \n",
       "313     GP   F   19       U     GT3       T   3.0   2.0  services     other   \n",
       "\n",
       "         reason guardian  traveltime  studytime  failures schoolsup famsup  \\\n",
       "51        other   mother         1.0        2.0       0.0        no    NaN   \n",
       "246      course   father         2.0        1.0       0.0        no    NaN   \n",
       "279      course   course         2.0        1.0       0.0        no    NaN   \n",
       "313  reputation    other         2.0        2.0       0.0        no    NaN   \n",
       "\n",
       "    paid activities nursery higher internet romantic  famrel  freetime  goout  \\\n",
       "51   NaN         no     yes    yes      yes      NaN     4.0       3.0    3.0   \n",
       "246  NaN         no     yes    yes      yes       no     5.0       2.0    2.0   \n",
       "279  NaN        yes     yes    yes      yes       no     4.0       2.0    3.0   \n",
       "313  NaN         no      no    yes      yes      yes     4.0       2.0    2.0   \n",
       "\n",
       "     health  score  \n",
       "51      5.0   65.0  \n",
       "246     2.0   65.0  \n",
       "279     1.0   50.0  \n",
       "313     1.0   55.0  "
      ]
     },
     "execution_count": 178,
     "metadata": {},
     "output_type": "execute_result"
    }
   ],
   "source": [
    "math[math.famsup.isnull()]"
   ]
  },
  {
   "cell_type": "markdown",
   "metadata": {},
   "source": [
    "К сожалению есть значения где есть пропуски в обоих значениях **paid** и **famsup**. Также заполним их случайно"
   ]
  },
  {
   "cell_type": "code",
   "execution_count": 179,
   "metadata": {},
   "outputs": [],
   "source": [
    "fs = math.famsup.value_counts(normalize = True)['yes']\n",
    "pay = math.paid.value_counts(normalize = True)['yes']\n",
    "\n",
    "math.loc[math.famsup.isnull(), 'famsup'] = math[math.famsup.isnull()].famsup.apply(lambda x: yesno_fill(fs))\n",
    "math.loc[math.paid.isnull(), 'paid'] = math[math.paid.isnull()].paid.apply(lambda x: yesno_fill(pay))"
   ]
  },
  {
   "cell_type": "markdown",
   "metadata": {},
   "source": [
    "### Activities, nursery, higher, internet, romantic\n",
    "* **activities** - Дополнительный внеучебные занятия\n",
    "* **nursery** - посещал детский сад\n",
    "* **higher** - желание получить высшее образование\n",
    "* **internet** - наличие интернета\n",
    "* **romantic** - романтические отношения \n",
    "\n",
    "Все эти признаки бинарные Yes/No. Рассмотрим их подробнее и заполним пропуски"
   ]
  },
  {
   "cell_type": "code",
   "execution_count": 180,
   "metadata": {},
   "outputs": [
    {
     "data": {
      "image/png": "[encoded data removed]",
      "text/plain": [
       "<Figure size 576x288 with 1 Axes>"
      ]
     },
     "metadata": {},
     "output_type": "display_data"
    }
   ],
   "source": [
    "labels = ['activities', 'nursery', 'higher', 'internet', 'romantic']\n",
    "counts = math[labels].apply(lambda x: x.value_counts()).T\n",
    "ans_no = counts['no'].to_list()\n",
    "ans_yes = counts['yes'].to_list()\n",
    "\n",
    "fig, ax = plt.subplots(figsize=(8, 4))\n",
    "\n",
    "width = 0.35\n",
    "\n",
    "ax.bar(labels, ans_yes, width, label='Yes')\n",
    "ax.bar(labels, ans_no, width, bottom=ans_yes,\n",
    "       label='No')\n",
    "ax.set_ylim(0, 470)\n",
    "ax.set_ylabel('Количество')\n",
    "ax.set_title('Дополнительные признаки')\n",
    "ax.legend()\n",
    "\n",
    "plt.show()"
   ]
  },
  {
   "cell_type": "markdown",
   "metadata": {},
   "source": [
    "Из диаграммы видно: большинство учеников хочет получить высшее образование **higher**, дополнительные занятия **activities** примерно поровну. Большинство учеников посещало детской сад **nursery**. Эти столбцы заполним случайно из текущей пропорции. \n",
    "\n",
    "Наличие интернета **internet** рассмотрим дополнительно вместе с адресом проживания, наличие романтических отношений дополнительно рассмотрим с полом учеников (**sex**) и возрастом (**age**).  "
   ]
  },
  {
   "cell_type": "markdown",
   "metadata": {},
   "source": [
    "#### Заполняем столбец romantic\n",
    "Tаблица романтических отношений в зависимости от возраста и пола."
   ]
  },
  {
   "cell_type": "code",
   "execution_count": 181,
   "metadata": {},
   "outputs": [
    {
     "data": {
      "text/html": [
       "<div>\n",
       "<style scoped>\n",
       "    .dataframe tbody tr th:only-of-type {\n",
       "        vertical-align: middle;\n",
       "    }\n",
       "\n",
       "    .dataframe tbody tr th {\n",
       "        vertical-align: top;\n",
       "    }\n",
       "\n",
       "    .dataframe thead tr th {\n",
       "        text-align: left;\n",
       "    }\n",
       "\n",
       "    .dataframe thead tr:last-of-type th {\n",
       "        text-align: right;\n",
       "    }\n",
       "</style>\n",
       "<table border=\"1\" class=\"dataframe\">\n",
       "  <thead>\n",
       "    <tr>\n",
       "      <th>age</th>\n",
       "      <th colspan=\"2\" halign=\"left\">15</th>\n",
       "      <th colspan=\"2\" halign=\"left\">16</th>\n",
       "      <th colspan=\"2\" halign=\"left\">17</th>\n",
       "      <th colspan=\"2\" halign=\"left\">18</th>\n",
       "      <th colspan=\"2\" halign=\"left\">19</th>\n",
       "      <th colspan=\"2\" halign=\"left\">20</th>\n",
       "      <th>21</th>\n",
       "    </tr>\n",
       "    <tr>\n",
       "      <th>sex</th>\n",
       "      <th>F</th>\n",
       "      <th>M</th>\n",
       "      <th>F</th>\n",
       "      <th>M</th>\n",
       "      <th>F</th>\n",
       "      <th>M</th>\n",
       "      <th>F</th>\n",
       "      <th>M</th>\n",
       "      <th>F</th>\n",
       "      <th>M</th>\n",
       "      <th>F</th>\n",
       "      <th>M</th>\n",
       "      <th>M</th>\n",
       "    </tr>\n",
       "    <tr>\n",
       "      <th>romantic</th>\n",
       "      <th></th>\n",
       "      <th></th>\n",
       "      <th></th>\n",
       "      <th></th>\n",
       "      <th></th>\n",
       "      <th></th>\n",
       "      <th></th>\n",
       "      <th></th>\n",
       "      <th></th>\n",
       "      <th></th>\n",
       "      <th></th>\n",
       "      <th></th>\n",
       "      <th></th>\n",
       "    </tr>\n",
       "  </thead>\n",
       "  <tbody>\n",
       "    <tr>\n",
       "      <th>no</th>\n",
       "      <td>23.0</td>\n",
       "      <td>30.0</td>\n",
       "      <td>35.0</td>\n",
       "      <td>35.0</td>\n",
       "      <td>30.0</td>\n",
       "      <td>28.0</td>\n",
       "      <td>22.0</td>\n",
       "      <td>21.0</td>\n",
       "      <td>7.0</td>\n",
       "      <td>6.0</td>\n",
       "      <td>NaN</td>\n",
       "      <td>2.0</td>\n",
       "      <td>1.0</td>\n",
       "    </tr>\n",
       "    <tr>\n",
       "      <th>yes</th>\n",
       "      <td>10.0</td>\n",
       "      <td>8.0</td>\n",
       "      <td>15.0</td>\n",
       "      <td>12.0</td>\n",
       "      <td>24.0</td>\n",
       "      <td>10.0</td>\n",
       "      <td>21.0</td>\n",
       "      <td>12.0</td>\n",
       "      <td>7.0</td>\n",
       "      <td>3.0</td>\n",
       "      <td>1.0</td>\n",
       "      <td>NaN</td>\n",
       "      <td>1.0</td>\n",
       "    </tr>\n",
       "  </tbody>\n",
       "</table>\n",
       "</div>"
      ],
      "text/plain": [
       "age         15          16          17          18         19        20       \\\n",
       "sex          F     M     F     M     F     M     F     M    F    M    F    M   \n",
       "romantic                                                                       \n",
       "no        23.0  30.0  35.0  35.0  30.0  28.0  22.0  21.0  7.0  6.0  NaN  2.0   \n",
       "yes       10.0   8.0  15.0  12.0  24.0  10.0  21.0  12.0  7.0  3.0  1.0  NaN   \n",
       "\n",
       "age        21  \n",
       "sex         M  \n",
       "romantic       \n",
       "no        1.0  \n",
       "yes       1.0  "
      ]
     },
     "execution_count": 181,
     "metadata": {},
     "output_type": "execute_result"
    }
   ],
   "source": [
    "math.groupby(['age', 'sex', 'romantic']).size().unstack().T"
   ]
  },
  {
   "cell_type": "markdown",
   "metadata": {},
   "source": [
    "отсутвующие значения в данных, в зависимости от возраста и пола."
   ]
  },
  {
   "cell_type": "code",
   "execution_count": 182,
   "metadata": {},
   "outputs": [
    {
     "data": {
      "text/html": [
       "<div>\n",
       "<style scoped>\n",
       "    .dataframe tbody tr th:only-of-type {\n",
       "        vertical-align: middle;\n",
       "    }\n",
       "\n",
       "    .dataframe tbody tr th {\n",
       "        vertical-align: top;\n",
       "    }\n",
       "\n",
       "    .dataframe thead th {\n",
       "        text-align: right;\n",
       "    }\n",
       "</style>\n",
       "<table border=\"1\" class=\"dataframe\">\n",
       "  <thead>\n",
       "    <tr style=\"text-align: right;\">\n",
       "      <th>age</th>\n",
       "      <th>15</th>\n",
       "      <th>16</th>\n",
       "      <th>17</th>\n",
       "      <th>18</th>\n",
       "      <th>19</th>\n",
       "    </tr>\n",
       "    <tr>\n",
       "      <th>sex</th>\n",
       "      <th></th>\n",
       "      <th></th>\n",
       "      <th></th>\n",
       "      <th></th>\n",
       "      <th></th>\n",
       "    </tr>\n",
       "  </thead>\n",
       "  <tbody>\n",
       "    <tr>\n",
       "      <th>F</th>\n",
       "      <td>5.0</td>\n",
       "      <td>4.0</td>\n",
       "      <td>4.0</td>\n",
       "      <td>NaN</td>\n",
       "      <td>NaN</td>\n",
       "    </tr>\n",
       "    <tr>\n",
       "      <th>M</th>\n",
       "      <td>6.0</td>\n",
       "      <td>3.0</td>\n",
       "      <td>2.0</td>\n",
       "      <td>6.0</td>\n",
       "      <td>1.0</td>\n",
       "    </tr>\n",
       "  </tbody>\n",
       "</table>\n",
       "</div>"
      ],
      "text/plain": [
       "age   15   16   17   18   19\n",
       "sex                         \n",
       "F    5.0  4.0  4.0  NaN  NaN\n",
       "M    6.0  3.0  2.0  6.0  1.0"
      ]
     },
     "execution_count": 182,
     "metadata": {},
     "output_type": "execute_result"
    }
   ],
   "source": [
    "math[math.romantic.isnull()].groupby(['age', 'sex']).size().unstack().T"
   ]
  },
  {
   "cell_type": "markdown",
   "metadata": {},
   "source": [
    "Действительно есть зависимость и от возраста и от пола, но разница незначительна. Все значения могут уложиться в промежуток от 30...50% Но при этом пропущенных значений слишком мало(1 или 2) , чтобы это сыграло какую то роль при случайном заполнении. Поэтому заполним случайно, но будем учитывать только пол учеников (а возраст - нет)."
   ]
  },
  {
   "cell_type": "code",
   "execution_count": 183,
   "metadata": {},
   "outputs": [],
   "source": [
    "# создадим переменные исходя из процента отношений для мальчиков и девочек\n",
    "rom_m = math.query('sex == \"M\"').romantic.value_counts(normalize = True)['yes']\n",
    "rom_f = math.query('sex == \"F\"').romantic.value_counts(normalize = True)['yes']\n",
    "\n",
    "#создадим маску для сокращения записи M/F\n",
    "maskM = (math.sex == \"M\") & (math.romantic.isnull())\n",
    "maskF = (math.sex == \"F\") & (math.romantic.isnull())\n",
    "\n",
    "#заполним случайно исходя из пола\n",
    "math.loc[maskM, 'romantic'] = math[maskM].romantic.apply(lambda x: yesno_fill(rom_m))\n",
    "math.loc[maskF, 'romantic'] = math[maskF].romantic.apply(lambda x: yesno_fill(rom_f))"
   ]
  },
  {
   "cell_type": "markdown",
   "metadata": {},
   "source": [
    "#### Заполняем столбцы higher, activities, nursery"
   ]
  },
  {
   "cell_type": "code",
   "execution_count": 184,
   "metadata": {},
   "outputs": [],
   "source": [
    "# создадим переменные \n",
    "int_h = math.higher.value_counts(normalize = True)['yes']\n",
    "int_n = math.nursery.value_counts(normalize = True)['yes']\n",
    "int_act = math.activities.value_counts(normalize = True)['yes']\n",
    "\n",
    "#заполним\n",
    "math.loc[math.higher.isnull(), 'higher'] = math[math.higher.isnull()].higher.apply(lambda x: yesno_fill(int_h))\n",
    "math.loc[math.nursery.isnull(), 'nursery'] = math[math.nursery.isnull()].nursery.apply(lambda x: yesno_fill(int_n))\n",
    "math.loc[math.activities.isnull(), 'activities'] = math[math.activities.isnull()]\\\n",
    "                                .activities.apply(lambda x: yesno_fill(int_act))"
   ]
  },
  {
   "cell_type": "markdown",
   "metadata": {},
   "source": [
    "#### Заполняем столбец internet"
   ]
  },
  {
   "cell_type": "code",
   "execution_count": 185,
   "metadata": {},
   "outputs": [],
   "source": [
    "# создадим переменные исходя из процента интернета для города и пригорода\n",
    "int_R = math.query('address == \"R\"').internet.value_counts(normalize = True)['yes']\n",
    "int_U = math.query('address == \"U\"').internet.value_counts(normalize = True)['yes']\n",
    "\n",
    "#создадим маску для сокращения записи R/U\n",
    "maskR = (math.address == \"R\") & (math.internet.isnull())\n",
    "maskU = (math.address == \"U\") & (math.internet.isnull())\n",
    "\n",
    "#заполним случайно исходя из статистики для R/U\n",
    "math.loc[maskR, 'internet'] = math[maskR].internet.apply(lambda x: yesno_fill(int_R))\n",
    "math.loc[maskU, 'internet'] = math[maskU].internet.apply(lambda x: yesno_fill(int_U))"
   ]
  },
  {
   "cell_type": "markdown",
   "metadata": {},
   "source": [
    "### Famrel, health - отношения в семье и здоровье.\n",
    "Оценивается от 1 (плохо) до 5 (очень хорошо)  \n",
    "Посмотрим распределение признаков"
   ]
  },
  {
   "cell_type": "code",
   "execution_count": 186,
   "metadata": {},
   "outputs": [
    {
     "data": {
      "image/png": "[encoded data removed]",
      "text/plain": [
       "<Figure size 432x288 with 1 Axes>"
      ]
     },
     "metadata": {},
     "output_type": "display_data"
    }
   ],
   "source": [
    "math.famrel.hist(bins=5, label='отношения в семье')\n",
    "plt.legend()\n",
    "plt.show()"
   ]
  },
  {
   "cell_type": "code",
   "execution_count": 187,
   "metadata": {},
   "outputs": [
    {
     "data": {
      "image/png": "[encoded data removed]",
      "text/plain": [
       "<Figure size 432x288 with 1 Axes>"
      ]
     },
     "metadata": {},
     "output_type": "display_data"
    }
   ],
   "source": [
    "math.health.hist(bins=5, label='здоровье ученика')\n",
    "plt.legend()\n",
    "plt.show()"
   ]
  },
  {
   "cell_type": "markdown",
   "metadata": {},
   "source": [
    "Заполним пропуски случайно исходя из текущего распределения."
   ]
  },
  {
   "cell_type": "code",
   "execution_count": 195,
   "metadata": {},
   "outputs": [],
   "source": [
    "#список распрделения вероятностей для 1.0 2.0 .... \n",
    "famrel_p = math.famrel.value_counts(normalize = True).sort_values().to_list()\n",
    "health_p = math.health.value_counts(normalize = True).sort_values().to_list()\n",
    "\n",
    "#заполняем пропуски\n",
    "math.loc[math.famrel.isnull(), 'famrel'] = math[math.famrel.isnull()].\\\n",
    "                famrel.apply(lambda x: np.random.choice(5, p=famrel_p)+1)\n",
    "\n",
    "math.loc[math.health.isnull(), 'health'] = math[math.health.isnull()].\\\n",
    "                health.apply(lambda x: np.random.choice(5, p=health_p)+1)"
   ]
  },
  {
   "cell_type": "markdown",
   "metadata": {},
   "source": [
    "### freetime и goout  свободное время и друзья\n",
    "Оценивается от 1 (плохо) до 5 (очень хорошо)  \n",
    "Посмотрим на распределение признаков\n"
   ]
  },
  {
   "cell_type": "code",
   "execution_count": 199,
   "metadata": {},
   "outputs": [
    {
     "data": {
      "image/png": "[encoded data removed]",
      "text/plain": [
       "<Figure size 432x288 with 1 Axes>"
      ]
     },
     "metadata": {},
     "output_type": "display_data"
    }
   ],
   "source": [
    "math.freetime.hist(bins=5, label='свободное время')\n",
    "plt.legend()\n",
    "plt.show()"
   ]
  },
  {
   "cell_type": "code",
   "execution_count": 200,
   "metadata": {},
   "outputs": [
    {
     "data": {
      "image/png": "[encoded data removed]",
      "text/plain": [
       "<Figure size 432x288 with 1 Axes>"
      ]
     },
     "metadata": {},
     "output_type": "display_data"
    }
   ],
   "source": [
    "math.goout.hist(bins=5, label='время с друзьями')\n",
    "plt.legend()\n",
    "plt.show()"
   ]
  },
  {
   "cell_type": "markdown",
   "metadata": {},
   "source": [
    "Гистограммы похожи, построим дополнительно тепловую карту."
   ]
  },
  {
   "cell_type": "code",
   "execution_count": 202,
   "metadata": {},
   "outputs": [
    {
     "data": {
      "image/png": "[encoded data removed]",
      "text/plain": [
       "<Figure size 432x288 with 2 Axes>"
      ]
     },
     "metadata": {},
     "output_type": "display_data"
    }
   ],
   "source": [
    "friends = math.groupby(['freetime', 'goout'])['goout'].count().unstack()\n",
    "\n",
    "fig, axes = plt.subplots(0, 1, figsize = (6, 4))\n",
    "\n",
    "axes = fig.add_axes([0, 0, 1, 1])\n",
    "axes = sns.heatmap(friends, annot = True, fmt='d')\n",
    "plt.title('Свободное время и время проведенное с друзьями')\n",
    "\n",
    "plt.show()"
   ]
  },
  {
   "cell_type": "markdown",
   "metadata": {},
   "source": [
    "Пропущенные значения для каждого столбца"
   ]
  },
  {
   "cell_type": "code",
   "execution_count": 256,
   "metadata": {},
   "outputs": [
    {
     "data": {
      "text/plain": [
       "3.0    4\n",
       "2.0    4\n",
       "4.0    2\n",
       "1.0    1\n",
       "Name: goout, dtype: int64"
      ]
     },
     "metadata": {},
     "output_type": "display_data"
    },
    {
     "data": {
      "text/plain": [
       "3.0    5\n",
       "5.0    1\n",
       "4.0    1\n",
       "1.0    1\n",
       "Name: freetime, dtype: int64"
      ]
     },
     "metadata": {},
     "output_type": "display_data"
    }
   ],
   "source": [
    "display(math[math.freetime.isnull()]['goout'].value_counts())\n",
    "display(math[math.goout.isnull()]['freetime'].value_counts())"
   ]
  },
  {
   "cell_type": "markdown",
   "metadata": {},
   "source": [
    "Значений не так много, и много совпадает (если **freetime**=3.0, то и **goout**=3.0). Что логично, если у ученика много времени, то он его проводит с друзьями. Для заполнения пропусков в одном из столбцов будем использовать значение другого столбца."
   ]
  },
  {
   "cell_type": "code",
   "execution_count": 258,
   "metadata": {},
   "outputs": [],
   "source": [
    "math.loc[math.goout.isnull(), 'goout'] = math[math.goout.isnull()].goout.fillna(math.freetime)\n",
    "math.loc[math.freetime.isnull(), 'freetime'] = math[math.freetime.isnull()].freetime.fillna(math.goout)"
   ]
  },
  {
   "cell_type": "code",
   "execution_count": 259,
   "metadata": {},
   "outputs": [
    {
     "name": "stdout",
     "output_type": "stream",
     "text": [
      "<class 'pandas.core.frame.DataFrame'>\n",
      "RangeIndex: 395 entries, 0 to 394\n",
      "Data columns (total 28 columns):\n",
      " #   Column      Non-Null Count  Dtype  \n",
      "---  ------      --------------  -----  \n",
      " 0   school      395 non-null    object \n",
      " 1   sex         395 non-null    object \n",
      " 2   age         395 non-null    int64  \n",
      " 3   address     395 non-null    object \n",
      " 4   famsize     395 non-null    object \n",
      " 5   Pstatus     395 non-null    object \n",
      " 6   Medu        395 non-null    float64\n",
      " 7   Fedu        395 non-null    float64\n",
      " 8   Mjob        395 non-null    object \n",
      " 9   Fjob        395 non-null    object \n",
      " 10  reason      395 non-null    object \n",
      " 11  guardian    395 non-null    object \n",
      " 12  traveltime  395 non-null    float64\n",
      " 13  studytime   395 non-null    float64\n",
      " 14  failures    395 non-null    float64\n",
      " 15  schoolsup   395 non-null    object \n",
      " 16  famsup      395 non-null    object \n",
      " 17  paid        395 non-null    object \n",
      " 18  activities  395 non-null    object \n",
      " 19  nursery     395 non-null    object \n",
      " 20  higher      395 non-null    object \n",
      " 21  internet    395 non-null    object \n",
      " 22  romantic    395 non-null    object \n",
      " 23  famrel      395 non-null    float64\n",
      " 24  freetime    395 non-null    float64\n",
      " 25  goout       395 non-null    float64\n",
      " 26  health      395 non-null    float64\n",
      " 27  score       395 non-null    float64\n",
      "dtypes: float64(10), int64(1), object(17)\n",
      "memory usage: 86.5+ KB\n"
     ]
    }
   ],
   "source": [
    "math.info()"
   ]
  },
  {
   "cell_type": "markdown",
   "metadata": {},
   "source": [
    "# ЧЕРНОВИК!!!"
   ]
  },
  {
   "cell_type": "code",
   "execution_count": 198,
   "metadata": {},
   "outputs": [
    {
     "name": "stdout",
     "output_type": "stream",
     "text": [
      "<class 'pandas.core.frame.DataFrame'>\n",
      "RangeIndex: 395 entries, 0 to 394\n",
      "Data columns (total 28 columns):\n",
      " #   Column      Non-Null Count  Dtype  \n",
      "---  ------      --------------  -----  \n",
      " 0   school      395 non-null    object \n",
      " 1   sex         395 non-null    object \n",
      " 2   age         395 non-null    int64  \n",
      " 3   address     395 non-null    object \n",
      " 4   famsize     395 non-null    object \n",
      " 5   Pstatus     395 non-null    object \n",
      " 6   Medu        395 non-null    float64\n",
      " 7   Fedu        395 non-null    float64\n",
      " 8   Mjob        395 non-null    object \n",
      " 9   Fjob        395 non-null    object \n",
      " 10  reason      395 non-null    object \n",
      " 11  guardian    395 non-null    object \n",
      " 12  traveltime  395 non-null    float64\n",
      " 13  studytime   395 non-null    float64\n",
      " 14  failures    395 non-null    float64\n",
      " 15  schoolsup   395 non-null    object \n",
      " 16  famsup      395 non-null    object \n",
      " 17  paid        395 non-null    object \n",
      " 18  activities  395 non-null    object \n",
      " 19  nursery     395 non-null    object \n",
      " 20  higher      395 non-null    object \n",
      " 21  internet    395 non-null    object \n",
      " 22  romantic    395 non-null    object \n",
      " 23  famrel      395 non-null    float64\n",
      " 24  freetime    384 non-null    float64\n",
      " 25  goout       387 non-null    float64\n",
      " 26  health      395 non-null    float64\n",
      " 27  score       395 non-null    float64\n",
      "dtypes: float64(10), int64(1), object(17)\n",
      "memory usage: 86.5+ KB\n"
     ]
    }
   ],
   "source": [
    "math.info()"
   ]
  },
  {
   "cell_type": "markdown",
   "metadata": {},
   "source": [
    "## Анализ категориальных (оценочных) переменных\n",
    "Medu, Fedu, traveltime, studytime, failures, famrel, freetime, goout, health"
   ]
  },
  {
   "cell_type": "markdown",
   "metadata": {},
   "source": [
    "Для начала посмотрим распределение значений этих признаков."
   ]
  },
  {
   "cell_type": "markdown",
   "metadata": {},
   "source": [
    "Удалим пустые значения при вызове функции, чтобы не заполнять их None "
   ]
  },
  {
   "cell_type": "code",
   "execution_count": null,
   "metadata": {},
   "outputs": [],
   "source": [
    "for i, col in enumerate(['Medu', 'Fedu', 'traveltime', 'failures',\n",
    "            'freetime', 'goout', 'health']):\n",
    "    get_boxplot2(col)\n"
   ]
  },
  {
   "cell_type": "markdown",
   "metadata": {},
   "source": [
    "Проверим статистически значимые различия для колонок. "
   ]
  },
  {
   "cell_type": "code",
   "execution_count": null,
   "metadata": {},
   "outputs": [],
   "source": [
    "for i, col in enumerate(['Medu', 'Fedu', 'traveltime', 'failures',\n",
    "            'freetime', 'goout', 'health']):\n",
    "    get_stat_dif(col)"
   ]
  },
  {
   "cell_type": "markdown",
   "metadata": {},
   "source": [
    "Найдены различия в колонках Medu (образование матери), failures (внеучебные неудачи), goout (общение с друзьями).\n",
    "Если с колонками failures и goout вопросов не возникает, то вывод насчет Medu (и почему не попало Fedu) сделаем после исследования значений Mjob и Fjob."
   ]
  },
  {
   "cell_type": "markdown",
   "metadata": {},
   "source": [
    "## Анализ категориальные (номинативных) переменных\n",
    "4 столбца: Mjob, Fjob, reason, guardian"
   ]
  },
  {
   "cell_type": "code",
   "execution_count": null,
   "metadata": {},
   "outputs": [],
   "source": [
    "for i, col in enumerate(['Mjob', 'Fjob', 'reason', 'guardian']):\n",
    "    get_boxplot2(col)"
   ]
  },
  {
   "cell_type": "markdown",
   "metadata": {},
   "source": [
    "Значения guardian и reason почти не отличаются на боксплотах, проверим тестом на статистические различия. "
   ]
  },
  {
   "cell_type": "code",
   "execution_count": null,
   "metadata": {},
   "outputs": [],
   "source": [
    "for i, col in enumerate(['Mjob', 'Fjob', 'reason', 'guardian']):\n",
    "    get_stat_dif(col)"
   ]
  },
  {
   "cell_type": "markdown",
   "metadata": {},
   "source": [
    "Найдено статистическое различие только для работы матери (Mjob). Чтобы понять причину, посмотрим тепловые карты между образованием и работой отца и матери"
   ]
  },
  {
   "cell_type": "code",
   "execution_count": null,
   "metadata": {},
   "outputs": [],
   "source": [
    "dataM= math.groupby(['Medu', 'Mjob'])['Mjob'].count().unstack()\n",
    "dataF= math.groupby(['Fedu', 'Fjob'])['Fjob'].count().unstack()\n",
    "\n",
    "fig, axes = plt.subplots(0, 2, figsize = (6, 3))\n",
    "\n",
    "axes = fig.add_axes([0, 0, 0.6, 1])\n",
    "axes = sns.heatmap(dataM, annot = True)\n",
    "plt.title('Уровень образования матери и текущая работа')\n",
    "\n",
    "axes = fig.add_axes([0.7, 0, 0.6, 1])\n",
    "axes = sns.heatmap(dataF, annot = True)\n",
    "plt.title('Уровень образования отца и текущая работа')\n",
    "\n",
    "plt.show()"
   ]
  },
  {
   "cell_type": "markdown",
   "metadata": {},
   "source": [
    "Из карт видно логическое объяснение - много женщин (матерей - Mjob) с высшим образованием (Medu = 4.0) работает учителями. Возможно по этой причине уровень образования Medu считается статистическим важным.\n",
    "Проверим это, сделав тест для Medu, но убрав оттуда всех учителей (Mjob='teacher')"
   ]
  },
  {
   "cell_type": "code",
   "execution_count": null,
   "metadata": {},
   "outputs": [],
   "source": [
    "# для проеверки создадим сокращенную копию датафрейма math\n",
    "math_medu = math[['Mjob', 'Medu', 'score']].copy()\n",
    "math_medu = math_medu[~(math_medu['Mjob'] == 'teacher')]\n",
    "math_medu.Mjob.value_counts()"
   ]
  },
  {
   "cell_type": "code",
   "execution_count": null,
   "metadata": {},
   "outputs": [],
   "source": [
    "cols = math_medu.loc[:, 'Medu'].value_counts().index[:5]\n",
    "combinations_all = list(combinations(cols, 2))\n",
    "for comb in combinations_all:\n",
    "    if ttest_ind(math_medu.loc[math_medu.loc[:, 'Medu'] == comb[0], 'score'], \n",
    "                    math_medu.loc[math_medu.loc[:, 'Medu'] == comb[1], 'score']).pvalue \\\n",
    "        <= 0.05/len(combinations_all): # Учли поправку Бонферони\n",
    "        print('Найдены статистически значимые различия для колонки', 'Medu')\n",
    "        break"
   ]
  },
  {
   "cell_type": "markdown",
   "metadata": {},
   "source": [
    "Наша теория не подтвердилась оба признака для матери Mjob и Medu будем считать статистически значимыми. "
   ]
  },
  {
   "cell_type": "markdown",
   "metadata": {},
   "source": [
    "## Анализ категориальных бинарных признаков.\n",
    "13 столбцов: school, sex, address, famsize, Pstatus, schoolsup, famsup, paid, activities, nursery, higher, internet, romantic"
   ]
  },
  {
   "cell_type": "code",
   "execution_count": null,
   "metadata": {},
   "outputs": [],
   "source": [
    "for i, col in enumerate(['school', 'sex', 'address', 'famsize', \n",
    "                         'Pstatus', 'schoolsup', 'famsup', \n",
    "                         'paid', 'activities', 'nursery', \n",
    "                         'higher', 'internet', 'romantic']):\n",
    "    get_boxplot2(col)"
   ]
  },
  {
   "cell_type": "markdown",
   "metadata": {},
   "source": [
    "По данным боксплотов такие признаки как школа (school), размер семьи(famsize), статус проживания родителей (Pstatus), \n",
    "поддержка семьи (famsup), платные уроки (paid), дополнительные внеучебные занятия (activities), детский сад (nursery), романтические отношения (romantic) - не влияют на итоговую оценку. "
   ]
  },
  {
   "cell_type": "code",
   "execution_count": null,
   "metadata": {},
   "outputs": [],
   "source": [
    "for i, col in enumerate(['school', 'sex', 'address', 'famsize', \n",
    "                         'Pstatus', 'schoolsup', 'famsup', \n",
    "                         'paid', 'activities', 'nursery', \n",
    "                         'higher', 'internet', 'romantic']):\n",
    "    get_stat_dif(col)"
   ]
  },
  {
   "cell_type": "markdown",
   "metadata": {},
   "source": [
    "Тест подтверждает данную теорию, для оценки важны: пол учеников (девочки лучше учатся чем мальчики), место проживания (у городских учеников оценка выше), поддержка школы и желание получить высшее образование. "
   ]
  },
  {
   "cell_type": "code",
   "execution_count": null,
   "metadata": {},
   "outputs": [],
   "source": [
    "math_EDA = math[['sex', 'age', 'address', 'Medu', 'Mjob', 'failures', \n",
    "                 'schoolsup', 'higher', 'goout', 'score']]"
   ]
  },
  {
   "cell_type": "code",
   "execution_count": null,
   "metadata": {},
   "outputs": [],
   "source": [
    "math_EDA.sample(5)"
   ]
  },
  {
   "cell_type": "markdown",
   "metadata": {},
   "source": [
    "## Выводы"
   ]
  },
  {
   "cell_type": "markdown",
   "metadata": {},
   "source": [
    "* В данных было мало пустых значений (<5%), больше всего пробелов в столбцах (Pstatus, paid , etc), которые были удалены.\n",
    "* столбец \"studytime, granular\" полностью копировал столбец \"studytime\", но с коэффициентом -2.5 и тоэе был удален.\n",
    "* Положительная корреляция есть только относительно возраста учеников. С возрастом дети учатся хуже.\n",
    "* Девочки учатся лучше чем мальчики\n",
    "* Жители города учатся лучше, чем ученики из пригорода\n",
    "* Если много проводить время с друзьями, то оценки ухудшаются\n",
    "* Важно желание самого ученика. Желаение получить высшее образование улучшает итоговую оцунку.\n",
    "* Поддержка школы (дополнительные занятия) также улучшают оценку. \n",
    "* В семье наиболее важным оказались высшее образование и работа матери ученика. \n",
    "* наличие внеучебных неудач плохо отражается на оценках. \n",
    "\n",
    "* Итоговые данные для оценки учеников: sex, age, address, Medu, Mjob, failures, schoolsup, higher, goout, score"
   ]
  },
  {
   "cell_type": "markdown",
   "metadata": {},
   "source": [
    "## 2. Оценка номинативных переменных"
   ]
  },
  {
   "cell_type": "code",
   "execution_count": null,
   "metadata": {},
   "outputs": [],
   "source": []
  },
  {
   "cell_type": "code",
   "execution_count": null,
   "metadata": {},
   "outputs": [],
   "source": [
    "for col in ['school', 'sex', 'address', 'reason']:\n",
    "    get_boxplot(col)"
   ]
  },
  {
   "cell_type": "code",
   "execution_count": null,
   "metadata": {},
   "outputs": [],
   "source": []
  },
  {
   "cell_type": "code",
   "execution_count": null,
   "metadata": {},
   "outputs": [],
   "source": [
    "for col in ['school', 'sex', 'address', 'reason']:\n",
    "    get_stat_dif(col)"
   ]
  },
  {
   "cell_type": "code",
   "execution_count": null,
   "metadata": {},
   "outputs": [],
   "source": [
    "for col in ['Medu', 'Fedu', 'Mjob', 'Fjob']:\n",
    "    get_boxplot(col)"
   ]
  },
  {
   "cell_type": "code",
   "execution_count": null,
   "metadata": {},
   "outputs": [],
   "source": [
    "for col in ['Medu', 'Fedu', 'Mjob', 'Fjob']:\n",
    "    get_stat_dif(col)"
   ]
  },
  {
   "cell_type": "code",
   "execution_count": null,
   "metadata": {},
   "outputs": [],
   "source": [
    "for col in ['guardian', 'studytime', 'traveltime', 'failures']:\n",
    "    get_boxplot(col)"
   ]
  },
  {
   "cell_type": "code",
   "execution_count": null,
   "metadata": {},
   "outputs": [],
   "source": [
    "for col in ['guardian', 'studytime', 'traveltime', 'failures']:\n",
    "    get_stat_dif(col)"
   ]
  },
  {
   "cell_type": "code",
   "execution_count": null,
   "metadata": {},
   "outputs": [],
   "source": [
    "for col in ['schoolsup', 'famsup', 'paid']:\n",
    "    get_boxplot(col)"
   ]
  },
  {
   "cell_type": "code",
   "execution_count": null,
   "metadata": {},
   "outputs": [],
   "source": [
    "for col in ['schoolsup', 'famsup', 'paid']:\n",
    "    get_stat_dif(col)"
   ]
  },
  {
   "cell_type": "code",
   "execution_count": null,
   "metadata": {},
   "outputs": [],
   "source": [
    "for col in ['activities', 'nursery', 'internet', 'higher', 'romantic']:\n",
    "    get_boxplot(col)"
   ]
  },
  {
   "cell_type": "code",
   "execution_count": null,
   "metadata": {},
   "outputs": [],
   "source": [
    "for col in ['activities', 'nursery', 'internet', 'higher', 'romantic']:\n",
    "    get_stat_dif(col)"
   ]
  }
 ],
 "metadata": {
  "kernelspec": {
   "display_name": "Python 3",
   "language": "python",
   "name": "python3"
  },
  "language_info": {
   "codemirror_mode": {
    "name": "ipython",
    "version": 3
   },
   "file_extension": ".py",
   "mimetype": "text/x-python",
   "name": "python",
   "nbconvert_exporter": "python",
   "pygments_lexer": "ipython3",
   "version": "3.7.7"
  }
 },
 "nbformat": 4,
 "nbformat_minor": 4
}
